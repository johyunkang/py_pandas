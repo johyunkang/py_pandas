{
  "nbformat": 4,
  "nbformat_minor": 0,
  "metadata": {
    "colab": {
      "name": "python_ml_perfect_guide_07_Clustering.ipynb",
      "provenance": [],
      "collapsed_sections": [],
      "toc_visible": true,
      "authorship_tag": "ABX9TyOBIyCRb4QLCx0uwMMRh/vN",
      "include_colab_link": true
    },
    "kernelspec": {
      "name": "python3",
      "display_name": "Python 3"
    },
    "language_info": {
      "name": "python"
    }
  },
  "cells": [
    {
      "cell_type": "markdown",
      "metadata": {
        "id": "view-in-github",
        "colab_type": "text"
      },
      "source": [
        "<a href=\"https://colab.research.google.com/github/johyunkang/py_pandas/blob/main/python_ml_perfect_guide_07_Clustering.ipynb\" target=\"_parent\"><img src=\"https://colab.research.google.com/assets/colab-badge.svg\" alt=\"Open In Colab\"/></a>"
      ]
    },
    {
      "cell_type": "markdown",
      "metadata": {
        "id": "dkipCUL8TTc6"
      },
      "source": [
        "## 07 군집화\n"
      ]
    },
    {
      "cell_type": "markdown",
      "metadata": {
        "id": "pZCd16PiTdJt"
      },
      "source": [
        "### 01 K-평균 알고리즘 이해\n",
        "K-평균 군집 중심점(Centroid)이라는 특정한 임의의 지점을 선택해 해당 중심에 가장 가까운 포인트들을 선택하는 군집화 기법"
      ]
    },
    {
      "cell_type": "markdown",
      "metadata": {
        "id": "50e46IeSUL_C"
      },
      "source": [
        "![k-mean-clustering](https://user-images.githubusercontent.com/291782/142011995-c697fbde-af31-4f40-8c27-994fc3addb18.png)"
      ]
    },
    {
      "cell_type": "markdown",
      "metadata": {
        "id": "92j6wqULUNYK"
      },
      "source": [
        "K-평균의 장점\n",
        "- 일반적인 군집화에서 가장 많이 활용되는 알고리즘\n",
        "- 알고리즘이 쉽고 간결  \n",
        "\n",
        "&nbsp;  \n",
        "K-평균의 단점\n",
        "- 거리기반 알고리즘으로 속성의 개수가 매무 많을 경우 군집화 정확도가 떨어짐. (이를 위해 PCA로 차원감소 필요 할 수도 있음)\n",
        "- 반복을 수행하는데, 반복 횟수가 많을 경우 수행 시간이 매우 느려짐\n",
        "- 몇 개의 군집(cluster)을 선택해야 할지 가이드하기가 어려움"
      ]
    },
    {
      "cell_type": "markdown",
      "metadata": {
        "id": "a3dBLF3bBzXo"
      },
      "source": [
        "##### 사이킷런 Kmeans 클래스 소개"
      ]
    },
    {
      "cell_type": "code",
      "metadata": {
        "id": "SaLI1cmITOru"
      },
      "source": [
        "class sklearn.cluster.KMeans(n_cluster=8, init='k-means++', n_init=10, max_iter=300, tol=0.0001,\n",
        "                             precompute_distances='auto', verbose=0, random_state=None,\n",
        "                             copy_x=True, n_jobs=1, algorithm='auto')"
      ],
      "execution_count": null,
      "outputs": []
    },
    {
      "cell_type": "markdown",
      "metadata": {
        "id": "CB5bgUwpCKdA"
      },
      "source": [
        "이 중 중요한 파라미터는 아래와 같음.  \n",
        "- KMeans 초기화 파라미터 중 가장 중요한 파라미터는 n_clusters이며, 이는 군집화할 개수, 즉 군집 중심점의 개수를 의미함.\n",
        "- init는 초기에 군집 중심점의 좌표를 설정할 방식을 말하며 보통은 임의로 중심을 설정하지 않고 일반적으로 k-means++ 방식으로 최초 설정함.\n",
        "- max_iter는 최대 반복 횟수이며, 이 횟수 이전에 모든 데이터의 중심점 이동이 없으면 종료합니다.\n",
        "\n",
        "&nbsp;  \n",
        "\n",
        "KMeans 는 fit(데이터세트) 또는 fit_transform(데이터세트) 메서드를 이용해 수행하면 됨.  \n",
        "다음은 주요 속성 정보\n",
        "- labels_ : 각 데이터 포인트가 속한 군집 중심점 레이블\n",
        "- cluster_centers_ : 각 군집 중심점 좌표 (shape는 [군집 개수, 피처 개수]). 이를 이용하면 군집 중심점 좌표가 어디인지 시각화 할 수 있음.\n"
      ]
    },
    {
      "cell_type": "markdown",
      "metadata": {
        "id": "6QQLDeunDPDD"
      },
      "source": [
        "##### K-평균을 이용한 붓꽃 데이터 세트 군집화"
      ]
    },
    {
      "cell_type": "code",
      "metadata": {
        "colab": {
          "base_uri": "https://localhost:8080/",
          "height": 408
        },
        "id": "aK5XhsFTDW8v",
        "outputId": "0a529698-0e12-4fdf-8c07-f38faae95630"
      },
      "source": [
        "from sklearn.preprocessing import scale\n",
        "from sklearn.datasets import load_iris\n",
        "from sklearn.cluster import KMeans\n",
        "from matplotlib import pyplot as plt\n",
        "import numpy as np\n",
        "import pandas as pd\n",
        "%matplotlib inline\n",
        "\n",
        "iris = load_iris()\n",
        "print(type(iris))\n",
        "print(iris.data[:10])\n",
        "# 더 편리한 데이터 핸들링을 위해 DF로 변환\n",
        "irisdf = pd.DataFrame(data=iris.data, columns=['sepal_length', 'sepal_width', 'petal_length', 'petal_width'])\n",
        "irisdf.head()"
      ],
      "execution_count": 8,
      "outputs": [
        {
          "output_type": "stream",
          "name": "stdout",
          "text": [
            "<class 'sklearn.utils.Bunch'>\n",
            "[[5.1 3.5 1.4 0.2]\n",
            " [4.9 3.  1.4 0.2]\n",
            " [4.7 3.2 1.3 0.2]\n",
            " [4.6 3.1 1.5 0.2]\n",
            " [5.  3.6 1.4 0.2]\n",
            " [5.4 3.9 1.7 0.4]\n",
            " [4.6 3.4 1.4 0.3]\n",
            " [5.  3.4 1.5 0.2]\n",
            " [4.4 2.9 1.4 0.2]\n",
            " [4.9 3.1 1.5 0.1]]\n"
          ]
        },
        {
          "output_type": "execute_result",
          "data": {
            "text/html": [
              "<div>\n",
              "<style scoped>\n",
              "    .dataframe tbody tr th:only-of-type {\n",
              "        vertical-align: middle;\n",
              "    }\n",
              "\n",
              "    .dataframe tbody tr th {\n",
              "        vertical-align: top;\n",
              "    }\n",
              "\n",
              "    .dataframe thead th {\n",
              "        text-align: right;\n",
              "    }\n",
              "</style>\n",
              "<table border=\"1\" class=\"dataframe\">\n",
              "  <thead>\n",
              "    <tr style=\"text-align: right;\">\n",
              "      <th></th>\n",
              "      <th>sepal_length</th>\n",
              "      <th>sepal_width</th>\n",
              "      <th>petal_length</th>\n",
              "      <th>petal_width</th>\n",
              "    </tr>\n",
              "  </thead>\n",
              "  <tbody>\n",
              "    <tr>\n",
              "      <th>0</th>\n",
              "      <td>5.1</td>\n",
              "      <td>3.5</td>\n",
              "      <td>1.4</td>\n",
              "      <td>0.2</td>\n",
              "    </tr>\n",
              "    <tr>\n",
              "      <th>1</th>\n",
              "      <td>4.9</td>\n",
              "      <td>3.0</td>\n",
              "      <td>1.4</td>\n",
              "      <td>0.2</td>\n",
              "    </tr>\n",
              "    <tr>\n",
              "      <th>2</th>\n",
              "      <td>4.7</td>\n",
              "      <td>3.2</td>\n",
              "      <td>1.3</td>\n",
              "      <td>0.2</td>\n",
              "    </tr>\n",
              "    <tr>\n",
              "      <th>3</th>\n",
              "      <td>4.6</td>\n",
              "      <td>3.1</td>\n",
              "      <td>1.5</td>\n",
              "      <td>0.2</td>\n",
              "    </tr>\n",
              "    <tr>\n",
              "      <th>4</th>\n",
              "      <td>5.0</td>\n",
              "      <td>3.6</td>\n",
              "      <td>1.4</td>\n",
              "      <td>0.2</td>\n",
              "    </tr>\n",
              "  </tbody>\n",
              "</table>\n",
              "</div>"
            ],
            "text/plain": [
              "   sepal_length  sepal_width  petal_length  petal_width\n",
              "0           5.1          3.5           1.4          0.2\n",
              "1           4.9          3.0           1.4          0.2\n",
              "2           4.7          3.2           1.3          0.2\n",
              "3           4.6          3.1           1.5          0.2\n",
              "4           5.0          3.6           1.4          0.2"
            ]
          },
          "metadata": {},
          "execution_count": 8
        }
      ]
    },
    {
      "cell_type": "code",
      "metadata": {
        "colab": {
          "base_uri": "https://localhost:8080/"
        },
        "id": "nmOgF4wEEXnR",
        "outputId": "a0c3787b-6922-40df-e0f9-2ef8358ce154"
      },
      "source": [
        "# 붓꽃 데이터 세트를 3 그룹(n_cluster=3)으로 군집화\n",
        "kmeans = KMeans(n_clusters=3, init='k-means++', max_iter=300, random_state=0)\n",
        "kmeans.fit(irisdf)\n",
        "print(kmeans.labels_)"
      ],
      "execution_count": 9,
      "outputs": [
        {
          "output_type": "stream",
          "name": "stdout",
          "text": [
            "[1 1 1 1 1 1 1 1 1 1 1 1 1 1 1 1 1 1 1 1 1 1 1 1 1 1 1 1 1 1 1 1 1 1 1 1 1\n",
            " 1 1 1 1 1 1 1 1 1 1 1 1 1 0 0 2 0 0 0 0 0 0 0 0 0 0 0 0 0 0 0 0 0 0 0 0 0\n",
            " 0 0 0 2 0 0 0 0 0 0 0 0 0 0 0 0 0 0 0 0 0 0 0 0 0 0 2 0 2 2 2 2 0 2 2 2 2\n",
            " 2 2 0 0 2 2 2 2 0 2 0 2 0 2 2 0 0 2 2 2 2 2 0 2 2 2 2 0 2 2 2 0 2 2 2 0 2\n",
            " 2 0]\n"
          ]
        }
      ]
    },
    {
      "cell_type": "markdown",
      "metadata": {
        "id": "d4KQgLIsEvsJ"
      },
      "source": [
        "labels_ 의 값이 0,1, 2로 되어 있으며 이는 각 레코드가 첫 번째 군집, 두번째 군집, 세번째 군집에 속함을 의미"
      ]
    },
    {
      "cell_type": "code",
      "metadata": {
        "colab": {
          "base_uri": "https://localhost:8080/"
        },
        "id": "uwOZ8f2fFDNt",
        "outputId": "93f0d99f-e71a-4950-822d-47519c176905"
      },
      "source": [
        "# 실제 붓꽃 품종 분류 값과 얼마나 차이가 나는지로 군집화가 효과적으로 됐는지 확인하겠음\n",
        "irisdf['target'] = iris.target\n",
        "irisdf['cluster'] = kmeans.labels_\n",
        "iris_result = irisdf.groupby(['target', 'cluster'])['sepal_length'].count()\n",
        "print(iris_result)"
      ],
      "execution_count": 10,
      "outputs": [
        {
          "output_type": "stream",
          "name": "stdout",
          "text": [
            "target  cluster\n",
            "0       1          50\n",
            "1       0          48\n",
            "        2           2\n",
            "2       0          14\n",
            "        2          36\n",
            "Name: sepal_length, dtype: int64\n"
          ]
        }
      ]
    },
    {
      "cell_type": "markdown",
      "metadata": {
        "id": "ZtuE-3VQFcuQ"
      },
      "source": [
        "- 분류 타겟 0 값인 데이터는 1번 군집으로 모두 잘 그룹핑 됨\n",
        "- 분류 타겟 1 값인 데이터는 2개만 2번 군집, 나머지 48개는 모두 0번 군집으로 그룹핑 되었음.\n",
        "- 하지만 분류 타겟이 2 값인 데이터는 0번 군집으로 14개, 2번 군집으로 36개가 분산되어 그룹핑 됨."
      ]
    },
    {
      "cell_type": "code",
      "metadata": {
        "colab": {
          "base_uri": "https://localhost:8080/",
          "height": 206
        },
        "id": "XSy16DgNF5Cm",
        "outputId": "cc8610ab-2352-4e4b-bd0e-0ccd435a48f7"
      },
      "source": [
        "# 군집화 시각화\n",
        "from sklearn.decomposition import PCA\n",
        "\n",
        "pca = PCA(n_components=2)\n",
        "pca_transformed = pca.fit_transform(iris.data)\n",
        "\n",
        "irisdf['pca_x'] = pca_transformed[:, 0]\n",
        "irisdf['pca_y'] = pca_transformed[:, 1]\n",
        "irisdf.head()"
      ],
      "execution_count": 11,
      "outputs": [
        {
          "output_type": "execute_result",
          "data": {
            "text/html": [
              "<div>\n",
              "<style scoped>\n",
              "    .dataframe tbody tr th:only-of-type {\n",
              "        vertical-align: middle;\n",
              "    }\n",
              "\n",
              "    .dataframe tbody tr th {\n",
              "        vertical-align: top;\n",
              "    }\n",
              "\n",
              "    .dataframe thead th {\n",
              "        text-align: right;\n",
              "    }\n",
              "</style>\n",
              "<table border=\"1\" class=\"dataframe\">\n",
              "  <thead>\n",
              "    <tr style=\"text-align: right;\">\n",
              "      <th></th>\n",
              "      <th>sepal_length</th>\n",
              "      <th>sepal_width</th>\n",
              "      <th>petal_length</th>\n",
              "      <th>petal_width</th>\n",
              "      <th>target</th>\n",
              "      <th>cluster</th>\n",
              "      <th>pca_x</th>\n",
              "      <th>pca_y</th>\n",
              "    </tr>\n",
              "  </thead>\n",
              "  <tbody>\n",
              "    <tr>\n",
              "      <th>0</th>\n",
              "      <td>5.1</td>\n",
              "      <td>3.5</td>\n",
              "      <td>1.4</td>\n",
              "      <td>0.2</td>\n",
              "      <td>0</td>\n",
              "      <td>1</td>\n",
              "      <td>-2.684126</td>\n",
              "      <td>0.319397</td>\n",
              "    </tr>\n",
              "    <tr>\n",
              "      <th>1</th>\n",
              "      <td>4.9</td>\n",
              "      <td>3.0</td>\n",
              "      <td>1.4</td>\n",
              "      <td>0.2</td>\n",
              "      <td>0</td>\n",
              "      <td>1</td>\n",
              "      <td>-2.714142</td>\n",
              "      <td>-0.177001</td>\n",
              "    </tr>\n",
              "    <tr>\n",
              "      <th>2</th>\n",
              "      <td>4.7</td>\n",
              "      <td>3.2</td>\n",
              "      <td>1.3</td>\n",
              "      <td>0.2</td>\n",
              "      <td>0</td>\n",
              "      <td>1</td>\n",
              "      <td>-2.888991</td>\n",
              "      <td>-0.144949</td>\n",
              "    </tr>\n",
              "    <tr>\n",
              "      <th>3</th>\n",
              "      <td>4.6</td>\n",
              "      <td>3.1</td>\n",
              "      <td>1.5</td>\n",
              "      <td>0.2</td>\n",
              "      <td>0</td>\n",
              "      <td>1</td>\n",
              "      <td>-2.745343</td>\n",
              "      <td>-0.318299</td>\n",
              "    </tr>\n",
              "    <tr>\n",
              "      <th>4</th>\n",
              "      <td>5.0</td>\n",
              "      <td>3.6</td>\n",
              "      <td>1.4</td>\n",
              "      <td>0.2</td>\n",
              "      <td>0</td>\n",
              "      <td>1</td>\n",
              "      <td>-2.728717</td>\n",
              "      <td>0.326755</td>\n",
              "    </tr>\n",
              "  </tbody>\n",
              "</table>\n",
              "</div>"
            ],
            "text/plain": [
              "   sepal_length  sepal_width  petal_length  ...  cluster     pca_x     pca_y\n",
              "0           5.1          3.5           1.4  ...        1 -2.684126  0.319397\n",
              "1           4.9          3.0           1.4  ...        1 -2.714142 -0.177001\n",
              "2           4.7          3.2           1.3  ...        1 -2.888991 -0.144949\n",
              "3           4.6          3.1           1.5  ...        1 -2.745343 -0.318299\n",
              "4           5.0          3.6           1.4  ...        1 -2.728717  0.326755\n",
              "\n",
              "[5 rows x 8 columns]"
            ]
          },
          "metadata": {},
          "execution_count": 11
        }
      ]
    },
    {
      "cell_type": "code",
      "metadata": {
        "colab": {
          "base_uri": "https://localhost:8080/",
          "height": 295
        },
        "id": "GpMBrn8uGWYk",
        "outputId": "e5233439-64eb-4a33-bba7-9f10678668d2"
      },
      "source": [
        "# 군집 값이 0, 1, 2인 경우마다 별도의 인덱스로 추출\n",
        "marker0_ind = irisdf[irisdf['cluster'] == 0].index\n",
        "marker1_ind = irisdf[irisdf['cluster'] == 1].index\n",
        "marker2_ind = irisdf[irisdf['cluster'] == 2].index\n",
        "\n",
        "# 군집 값이 0, 1, 2에 해당하는 인덱스로 각 군집 레벨의 pca_x, pca_y 값 추출. o, s, ^로 마커표시\n",
        "plt.scatter(x=irisdf.loc[marker0_ind, 'pca_x'], y=irisdf.loc[marker0_ind, 'pca_y'], marker='o')\n",
        "plt.scatter(x=irisdf.loc[marker1_ind, 'pca_x'], y=irisdf.loc[marker1_ind, 'pca_y'], marker='s')\n",
        "plt.scatter(x=irisdf.loc[marker2_ind, 'pca_x'], y=irisdf.loc[marker2_ind, 'pca_y'], marker='^')\n",
        "\n",
        "plt.xlabel('PCA 1')\n",
        "plt.ylabel('PCA 2')\n",
        "plt.title('3 Cluster Visualization by 2 PCA Components')\n",
        "plt.show()"
      ],
      "execution_count": 12,
      "outputs": [
        {
          "output_type": "display_data",
          "data": {
            "image/png": "[encoded data removed]",
            "text/plain": [
              "<Figure size 432x288 with 1 Axes>"
            ]
          },
          "metadata": {
            "needs_background": "light"
          }
        }
      ]
    },
    {
      "cell_type": "markdown",
      "metadata": {
        "id": "Ej6JLbvsHKaK"
      },
      "source": [
        "- Cluster 1을 나타내는 네모(square, s)는 명확히 다른 군집과 잘 분리돼 있음\n",
        "- Cluster 0을 나타내는 동그라미('o')와 Cluster 2를 나타내는 세모('^')는 상당수준 분리되어 있지만, 네모만큼 명확하지는 않음."
      ]
    },
    {
      "cell_type": "markdown",
      "metadata": {
        "id": "in-na7X4gn0A"
      },
      "source": [
        "##### 군집화 알고리즘 테스트를 위한 데이터 생성"
      ]
    },
    {
      "cell_type": "code",
      "metadata": {
        "id": "O1Vdv_NagrF5"
      },
      "source": [
        "#p.415 7"
      ],
      "execution_count": null,
      "outputs": []
    }
  ]
}