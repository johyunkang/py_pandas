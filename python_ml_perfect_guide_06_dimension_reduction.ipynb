{
  "nbformat": 4,
  "nbformat_minor": 0,
  "metadata": {
    "colab": {
      "name": "python_ml_perfect_guide_06_dimension-reduction.ipynb",
      "provenance": [],
      "collapsed_sections": [],
      "authorship_tag": "ABX9TyNmIgXoSMoXAzm2ebZsnSkB",
      "include_colab_link": true
    },
    "kernelspec": {
      "name": "python3",
      "display_name": "Python 3"
    },
    "language_info": {
      "name": "python"
    }
  },
  "cells": [
    {
      "cell_type": "markdown",
      "metadata": {
        "id": "view-in-github",
        "colab_type": "text"
      },
      "source": [
        "<a href=\"https://colab.research.google.com/github/johyunkang/py_pandas/blob/main/python_ml_perfect_guide_06_dimension_reduction.ipynb\" target=\"_parent\"><img src=\"https://colab.research.google.com/assets/colab-badge.svg\" alt=\"Open In Colab\"/></a>"
      ]
    },
    {
      "cell_type": "markdown",
      "metadata": {
        "id": "oJnEVeAMe6IE"
      },
      "source": [
        "## 차원 축소\n",
        "### 01 차원 축소(Dimension Reduction) 개요\n",
        "\n",
        "\n",
        "차원 축소 대표적인 알고리즘인 PCA, LDA, SVD, NMF에 대해 알아보겠음.  \n",
        "\n",
        "차원 축소는 매우 많은 피처로 구성된 다차원 데이터 세트의 차원을 축소해 새로운 차원의 데이터 세트를 생성하는 것."
      ]
    },
    {
      "cell_type": "markdown",
      "metadata": {
        "id": "829mKYkjchAj"
      },
      "source": [
        "### 주성분분석 PCA (Principal Component Analysis)\n",
        "여러 변수간에 존재하는 상관관계를 이용해 이를 대표하는 주성분(Principal Component)을 추출해 차원을 축소하는 기법"
      ]
    },
    {
      "cell_type": "code",
      "metadata": {
        "id": "uPydmlOKewJE",
        "colab": {
          "base_uri": "https://localhost:8080/",
          "height": 204
        },
        "outputId": "199eb5df-5ec4-46d7-b459-5d24eee7da57"
      },
      "source": [
        "# 붓꽃(Iris) 데이터 세트는 sepal length, sepal width, petal length, petal width 4개의 속성으로 되어 있음\n",
        "# 이 4개 속성을 2개의 PCA 차원으로 압축해 원래 데이터 세트와 압축된 데이터 세트가 어떻게 달라졌는지 확인해 보겠음\n",
        "from sklearn.datasets import load_iris\n",
        "import pandas as pd\n",
        "from matplotlib import pyplot as plt\n",
        "%matplotlib inline\n",
        "\n",
        "iris = load_iris()\n",
        "# numpy 데이터 세트를 판다스 DF로 변환\n",
        "# columns = iris.feature_names   # 이것과 아래 columns 는 같다.\n",
        "columns = ['sepal_length', 'sepal_width', 'petal_length', 'petal_width']\n",
        "\n",
        "\n",
        "irisdf = pd.DataFrame(iris.data, columns=iris.feature_names)\n",
        "irisdf['target'] = iris.target\n",
        "irisdf.head()\n"
      ],
      "execution_count": 18,
      "outputs": [
        {
          "output_type": "execute_result",
          "data": {
            "text/html": [
              "<div>\n",
              "<style scoped>\n",
              "    .dataframe tbody tr th:only-of-type {\n",
              "        vertical-align: middle;\n",
              "    }\n",
              "\n",
              "    .dataframe tbody tr th {\n",
              "        vertical-align: top;\n",
              "    }\n",
              "\n",
              "    .dataframe thead th {\n",
              "        text-align: right;\n",
              "    }\n",
              "</style>\n",
              "<table border=\"1\" class=\"dataframe\">\n",
              "  <thead>\n",
              "    <tr style=\"text-align: right;\">\n",
              "      <th></th>\n",
              "      <th>sepal length (cm)</th>\n",
              "      <th>sepal width (cm)</th>\n",
              "      <th>petal length (cm)</th>\n",
              "      <th>petal width (cm)</th>\n",
              "      <th>target</th>\n",
              "    </tr>\n",
              "  </thead>\n",
              "  <tbody>\n",
              "    <tr>\n",
              "      <th>0</th>\n",
              "      <td>5.1</td>\n",
              "      <td>3.5</td>\n",
              "      <td>1.4</td>\n",
              "      <td>0.2</td>\n",
              "      <td>0</td>\n",
              "    </tr>\n",
              "    <tr>\n",
              "      <th>1</th>\n",
              "      <td>4.9</td>\n",
              "      <td>3.0</td>\n",
              "      <td>1.4</td>\n",
              "      <td>0.2</td>\n",
              "      <td>0</td>\n",
              "    </tr>\n",
              "    <tr>\n",
              "      <th>2</th>\n",
              "      <td>4.7</td>\n",
              "      <td>3.2</td>\n",
              "      <td>1.3</td>\n",
              "      <td>0.2</td>\n",
              "      <td>0</td>\n",
              "    </tr>\n",
              "    <tr>\n",
              "      <th>3</th>\n",
              "      <td>4.6</td>\n",
              "      <td>3.1</td>\n",
              "      <td>1.5</td>\n",
              "      <td>0.2</td>\n",
              "      <td>0</td>\n",
              "    </tr>\n",
              "    <tr>\n",
              "      <th>4</th>\n",
              "      <td>5.0</td>\n",
              "      <td>3.6</td>\n",
              "      <td>1.4</td>\n",
              "      <td>0.2</td>\n",
              "      <td>0</td>\n",
              "    </tr>\n",
              "  </tbody>\n",
              "</table>\n",
              "</div>"
            ],
            "text/plain": [
              "   sepal length (cm)  sepal width (cm)  ...  petal width (cm)  target\n",
              "0                5.1               3.5  ...               0.2       0\n",
              "1                4.9               3.0  ...               0.2       0\n",
              "2                4.7               3.2  ...               0.2       0\n",
              "3                4.6               3.1  ...               0.2       0\n",
              "4                5.0               3.6  ...               0.2       0\n",
              "\n",
              "[5 rows x 5 columns]"
            ]
          },
          "metadata": {},
          "execution_count": 18
        }
      ]
    },
    {
      "cell_type": "code",
      "metadata": {
        "colab": {
          "base_uri": "https://localhost:8080/",
          "height": 282
        },
        "id": "QY0roDn0hdOm",
        "outputId": "15ca1b96-2162-48a2-9260-976639fb2efb"
      },
      "source": [
        "# 각 붓꽃 데이터 세트가 어떻게 분포되어 있는지 2차원으로 시각화\n",
        "# setosa=세모, versicolor=네모 , virginica=동그라미\n",
        "markers = ['^', 's', 'o']\n",
        "\n",
        "# setosa 의 target 값은 0, versicolor은 1, virginica는 2, 각 타겟별로 다른 모양으로 산점도 표시\n",
        "for i, marker in enumerate(markers) :\n",
        "    x_axis_data = irisdf[irisdf['target']==i][iris.feature_names[0]]\n",
        "    y_axis_data = irisdf[irisdf['target']==i][iris.feature_names[1]]\n",
        "    plt.scatter(x_axis_data, y_axis_data, marker=marker, label=iris.target_names[i])\n",
        "\n",
        "plt.legend()\n",
        "plt.xlabel(iris.feature_names[0])\n",
        "plt.ylabel(iris.feature_names[1])\n",
        "plt.show()"
      ],
      "execution_count": 19,
      "outputs": [
        {
          "output_type": "display_data",
          "data": {
            "image/png": "[encoded data removed]",
            "text/plain": [
              "<Figure size 432x288 with 1 Axes>"
            ]
          },
          "metadata": {
            "needs_background": "light"
          }
        }
      ]
    },
    {
      "cell_type": "code",
      "metadata": {
        "id": "aiCmYOccjZZQ"
      },
      "source": [
        "# p.384, 96"
      ],
      "execution_count": null,
      "outputs": []
    }
  ]
}