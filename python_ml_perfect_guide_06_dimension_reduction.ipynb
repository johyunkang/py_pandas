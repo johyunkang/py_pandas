{
  "nbformat": 4,
  "nbformat_minor": 0,
  "metadata": {
    "colab": {
      "name": "python_ml_perfect_guide_06_dimension-reduction.ipynb",
      "provenance": [],
      "collapsed_sections": [],
      "authorship_tag": "ABX9TyOxGRQNHCMW9p9cO3EWgnjP",
      "include_colab_link": true
    },
    "kernelspec": {
      "name": "python3",
      "display_name": "Python 3"
    },
    "language_info": {
      "name": "python"
    }
  },
  "cells": [
    {
      "cell_type": "markdown",
      "metadata": {
        "id": "view-in-github",
        "colab_type": "text"
      },
      "source": [
        "<a href=\"https://colab.research.google.com/github/johyunkang/py_pandas/blob/main/python_ml_perfect_guide_06_dimension_reduction.ipynb\" target=\"_parent\"><img src=\"https://colab.research.google.com/assets/colab-badge.svg\" alt=\"Open In Colab\"/></a>"
      ]
    },
    {
      "cell_type": "markdown",
      "metadata": {
        "id": "oJnEVeAMe6IE"
      },
      "source": [
        "## 차원 축소\n",
        "### 01 차원 축소(Dimension Reduction) 개요\n",
        "\n",
        "\n",
        "차원 축소 대표적인 알고리즘인 PCA, LDA, SVD, NMF에 대해 알아보겠음.  \n",
        "\n",
        "차원 축소는 매우 많은 피처로 구성된 다차원 데이터 세트의 차원을 축소해 새로운 차원의 데이터 세트를 생성하는 것."
      ]
    },
    {
      "cell_type": "code",
      "metadata": {
        "id": "uPydmlOKewJE"
      },
      "source": [
        "# p.377, 89p"
      ],
      "execution_count": null,
      "outputs": []
    }
  ]
}