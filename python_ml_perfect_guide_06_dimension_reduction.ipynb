{
  "nbformat": 4,
  "nbformat_minor": 0,
  "metadata": {
    "colab": {
      "name": "python_ml_perfect_guide_06_dimension-reduction.ipynb",
      "provenance": [],
      "collapsed_sections": [],
      "authorship_tag": "ABX9TyOBSlAxZiauY5Zp2KyrgOYy",
      "include_colab_link": true
    },
    "kernelspec": {
      "name": "python3",
      "display_name": "Python 3"
    },
    "language_info": {
      "name": "python"
    }
  },
  "cells": [
    {
      "cell_type": "markdown",
      "metadata": {
        "id": "view-in-github",
        "colab_type": "text"
      },
      "source": [
        "<a href=\"https://colab.research.google.com/github/johyunkang/py_pandas/blob/main/python_ml_perfect_guide_06_dimension_reduction.ipynb\" target=\"_parent\"><img src=\"https://colab.research.google.com/assets/colab-badge.svg\" alt=\"Open In Colab\"/></a>"
      ]
    },
    {
      "cell_type": "markdown",
      "metadata": {
        "id": "oJnEVeAMe6IE"
      },
      "source": [
        "## 차원 축소\n",
        "### 01 차원 축소(Dimension Reduction) 개요\n",
        "\n",
        "\n",
        "차원 축소 대표적인 알고리즘인 PCA, LDA, SVD, NMF에 대해 알아보겠음.  \n",
        "\n",
        "차원 축소는 매우 많은 피처로 구성된 다차원 데이터 세트의 차원을 축소해 새로운 차원의 데이터 세트를 생성하는 것."
      ]
    },
    {
      "cell_type": "markdown",
      "metadata": {
        "id": "829mKYkjchAj"
      },
      "source": [
        "### 주성분분석 PCA (Principal Component Analysis)\n",
        "여러 변수간에 존재하는 상관관계를 이용해 이를 대표하는 주성분(Principal Component)을 추출해 차원을 축소하는 기법"
      ]
    },
    {
      "cell_type": "code",
      "metadata": {
        "id": "uPydmlOKewJE",
        "colab": {
          "base_uri": "https://localhost:8080/",
          "height": 204
        },
        "outputId": "64ef9b51-d472-4d94-ac72-ec5fac756692"
      },
      "source": [
        "# 붓꽃(Iris) 데이터 세트는 sepal length, sepal width, petal length, petal width 4개의 속성으로 되어 있음\n",
        "# 이 4개 속성을 2개의 PCA 차원으로 압축해 원래 데이터 세트와 압축된 데이터 세트가 어떻게 달라졌는지 확인해 보겠음\n",
        "from sklearn.datasets import load_iris\n",
        "import pandas as pd\n",
        "from matplotlib import pyplot as plt\n",
        "%matplotlib inline\n",
        "\n",
        "iris = load_iris()\n",
        "# numpy 데이터 세트를 판다스 DF로 변환\n",
        "# columns = iris.feature_names   # 이것과 아래 columns 는 같다.\n",
        "columns = ['sepal_length', 'sepal_width', 'petal_length', 'petal_width']\n",
        "\n",
        "\n",
        "irisdf = pd.DataFrame(iris.data, columns=iris.feature_names)\n",
        "irisdf['target'] = iris.target\n",
        "irisdf.head()\n"
      ],
      "execution_count": 1,
      "outputs": [
        {
          "output_type": "execute_result",
          "data": {
            "text/html": [
              "<div>\n",
              "<style scoped>\n",
              "    .dataframe tbody tr th:only-of-type {\n",
              "        vertical-align: middle;\n",
              "    }\n",
              "\n",
              "    .dataframe tbody tr th {\n",
              "        vertical-align: top;\n",
              "    }\n",
              "\n",
              "    .dataframe thead th {\n",
              "        text-align: right;\n",
              "    }\n",
              "</style>\n",
              "<table border=\"1\" class=\"dataframe\">\n",
              "  <thead>\n",
              "    <tr style=\"text-align: right;\">\n",
              "      <th></th>\n",
              "      <th>sepal length (cm)</th>\n",
              "      <th>sepal width (cm)</th>\n",
              "      <th>petal length (cm)</th>\n",
              "      <th>petal width (cm)</th>\n",
              "      <th>target</th>\n",
              "    </tr>\n",
              "  </thead>\n",
              "  <tbody>\n",
              "    <tr>\n",
              "      <th>0</th>\n",
              "      <td>5.1</td>\n",
              "      <td>3.5</td>\n",
              "      <td>1.4</td>\n",
              "      <td>0.2</td>\n",
              "      <td>0</td>\n",
              "    </tr>\n",
              "    <tr>\n",
              "      <th>1</th>\n",
              "      <td>4.9</td>\n",
              "      <td>3.0</td>\n",
              "      <td>1.4</td>\n",
              "      <td>0.2</td>\n",
              "      <td>0</td>\n",
              "    </tr>\n",
              "    <tr>\n",
              "      <th>2</th>\n",
              "      <td>4.7</td>\n",
              "      <td>3.2</td>\n",
              "      <td>1.3</td>\n",
              "      <td>0.2</td>\n",
              "      <td>0</td>\n",
              "    </tr>\n",
              "    <tr>\n",
              "      <th>3</th>\n",
              "      <td>4.6</td>\n",
              "      <td>3.1</td>\n",
              "      <td>1.5</td>\n",
              "      <td>0.2</td>\n",
              "      <td>0</td>\n",
              "    </tr>\n",
              "    <tr>\n",
              "      <th>4</th>\n",
              "      <td>5.0</td>\n",
              "      <td>3.6</td>\n",
              "      <td>1.4</td>\n",
              "      <td>0.2</td>\n",
              "      <td>0</td>\n",
              "    </tr>\n",
              "  </tbody>\n",
              "</table>\n",
              "</div>"
            ],
            "text/plain": [
              "   sepal length (cm)  sepal width (cm)  ...  petal width (cm)  target\n",
              "0                5.1               3.5  ...               0.2       0\n",
              "1                4.9               3.0  ...               0.2       0\n",
              "2                4.7               3.2  ...               0.2       0\n",
              "3                4.6               3.1  ...               0.2       0\n",
              "4                5.0               3.6  ...               0.2       0\n",
              "\n",
              "[5 rows x 5 columns]"
            ]
          },
          "metadata": {},
          "execution_count": 1
        }
      ]
    },
    {
      "cell_type": "code",
      "metadata": {
        "colab": {
          "base_uri": "https://localhost:8080/",
          "height": 282
        },
        "id": "QY0roDn0hdOm",
        "outputId": "bd2896af-eaf9-4e27-d521-46b253f9ba34"
      },
      "source": [
        "# 각 붓꽃 데이터 세트가 어떻게 분포되어 있는지 2차원으로 시각화\n",
        "# setosa=세모, versicolor=네모 , virginica=동그라미\n",
        "markers = ['^', 's', 'o']\n",
        "\n",
        "# setosa 의 target 값은 0, versicolor은 1, virginica는 2, 각 타겟별로 다른 모양으로 산점도 표시\n",
        "for i, marker in enumerate(markers) :\n",
        "    x_axis_data = irisdf[irisdf['target']==i][iris.feature_names[0]]\n",
        "    y_axis_data = irisdf[irisdf['target']==i][iris.feature_names[1]]\n",
        "    plt.scatter(x_axis_data, y_axis_data, marker=marker, label=iris.target_names[i])\n",
        "\n",
        "plt.legend()\n",
        "plt.xlabel(iris.feature_names[0])\n",
        "plt.ylabel(iris.feature_names[1])\n",
        "plt.show()"
      ],
      "execution_count": 2,
      "outputs": [
        {
          "output_type": "display_data",
          "data": {
            "image/png": "[encoded data removed]",
            "text/plain": [
              "<Figure size 432x288 with 1 Axes>"
            ]
          },
          "metadata": {
            "needs_background": "light"
          }
        }
      ]
    },
    {
      "cell_type": "markdown",
      "metadata": {
        "id": "hchS8NhnTkGV"
      },
      "source": [
        "Setosa 품종의 경우 sepal width 가 3.0 보다 크고, sepal length가 6.0 이하인 곳에 일정하게 분포되어 있음.  \n",
        "Versicolor 와 virginica의 경우는 sepal width와 sepal length 조건만으로는 분류가 어려운 복잡한 조건임을 알 수 있음.  \n",
        "\n",
        "이제 PCA로 4개 속성을 2개로 압축한 뒤 앞의 예제와 비슷하게 2개의 PCA 속성으로 붓꽃 데이터의 품종 분포를 2차원으로 시각화 해 보겠음\n",
        "\n",
        "&nbsp;  \n",
        "여러 속성을 PCA로 압축하기 전에 각 속성값을 동일한 스케일로 변화하는 작업 필요.  \n",
        "sklearn 의 StandardScaler를 이용해 평균이 0, 분산이 1인 표준 정규 분포로 iris 데이터 세트의 속성값들을 변환하겠음.\n"
      ]
    },
    {
      "cell_type": "code",
      "metadata": {
        "id": "aiCmYOccjZZQ"
      },
      "source": [
        "from sklearn.preprocessing import StandardScaler\n",
        "\n",
        "# target 값을 제외한 모든 속성값을 StandardScaler를 이용해 표준 정규 분포를 가지는 값들로 변환\n",
        "iris_scaled = StandardScaler().fit_transform(irisdf.iloc[:, :-1])"
      ],
      "execution_count": 7,
      "outputs": []
    },
    {
      "cell_type": "markdown",
      "metadata": {
        "id": "ZcWfCj1HVLMW"
      },
      "source": [
        "스케일링이 적용된 데이터 세트에 PCA를 적용해 4차원(4개 속성)의 붓꽃 데이터를 2차원(2개의 PCA속성) PCA 데이터로 변환해 보겠음  \n",
        "**n_components**는 PCA로 변환할 차원의 수를 의미"
      ]
    },
    {
      "cell_type": "code",
      "metadata": {
        "colab": {
          "base_uri": "https://localhost:8080/"
        },
        "id": "-OCLzw1vVfLe",
        "outputId": "2da4e90b-d3d4-48c8-ea38-89a32f4d1549"
      },
      "source": [
        "from sklearn.decomposition import PCA\n",
        "\n",
        "pca = PCA(n_components=2)\n",
        "\n",
        "print('Shape before PCA:', iris_scaled.shape)\n",
        "# fit() 과 transform()을 호출해 PCA 변환 데이터 반환\n",
        "pca.fit(iris_scaled)\n",
        "iris_pca = pca.transform(iris_scaled)\n",
        "print('Shape after PCA:', iris_pca.shape)"
      ],
      "execution_count": 8,
      "outputs": [
        {
          "output_type": "stream",
          "name": "stdout",
          "text": [
            "Shape before PCA: (150, 4)\n",
            "Shape after PCA: (150, 2)\n"
          ]
        }
      ]
    },
    {
      "cell_type": "code",
      "metadata": {
        "colab": {
          "base_uri": "https://localhost:8080/",
          "height": 204
        },
        "id": "iw2-T4abWBR5",
        "outputId": "34c77593-1acb-4afb-9571-633813f78626"
      },
      "source": [
        "# iris_pca 데이터는 150 * 2 넘파이 행렬로 가지고 있음. 이를 DF 로 변환\n",
        "# PCA 변환된 데이터는 칼럼 명을 각각 pca_component_1, pca_component_2 로 명명\n",
        "pca_columns=['pca_component_1', 'pca_component_2']\n",
        "irisdf_pca = pd.DataFrame(iris_pca, columns=pca_columns)\n",
        "irisdf_pca['target'] = iris.target\n",
        "irisdf_pca.head()"
      ],
      "execution_count": 10,
      "outputs": [
        {
          "output_type": "execute_result",
          "data": {
            "text/html": [
              "<div>\n",
              "<style scoped>\n",
              "    .dataframe tbody tr th:only-of-type {\n",
              "        vertical-align: middle;\n",
              "    }\n",
              "\n",
              "    .dataframe tbody tr th {\n",
              "        vertical-align: top;\n",
              "    }\n",
              "\n",
              "    .dataframe thead th {\n",
              "        text-align: right;\n",
              "    }\n",
              "</style>\n",
              "<table border=\"1\" class=\"dataframe\">\n",
              "  <thead>\n",
              "    <tr style=\"text-align: right;\">\n",
              "      <th></th>\n",
              "      <th>pca_component_1</th>\n",
              "      <th>pca_component_2</th>\n",
              "      <th>target</th>\n",
              "    </tr>\n",
              "  </thead>\n",
              "  <tbody>\n",
              "    <tr>\n",
              "      <th>0</th>\n",
              "      <td>-2.264703</td>\n",
              "      <td>0.480027</td>\n",
              "      <td>0</td>\n",
              "    </tr>\n",
              "    <tr>\n",
              "      <th>1</th>\n",
              "      <td>-2.080961</td>\n",
              "      <td>-0.674134</td>\n",
              "      <td>0</td>\n",
              "    </tr>\n",
              "    <tr>\n",
              "      <th>2</th>\n",
              "      <td>-2.364229</td>\n",
              "      <td>-0.341908</td>\n",
              "      <td>0</td>\n",
              "    </tr>\n",
              "    <tr>\n",
              "      <th>3</th>\n",
              "      <td>-2.299384</td>\n",
              "      <td>-0.597395</td>\n",
              "      <td>0</td>\n",
              "    </tr>\n",
              "    <tr>\n",
              "      <th>4</th>\n",
              "      <td>-2.389842</td>\n",
              "      <td>0.646835</td>\n",
              "      <td>0</td>\n",
              "    </tr>\n",
              "  </tbody>\n",
              "</table>\n",
              "</div>"
            ],
            "text/plain": [
              "   pca_component_1  pca_component_2  target\n",
              "0        -2.264703         0.480027       0\n",
              "1        -2.080961        -0.674134       0\n",
              "2        -2.364229        -0.341908       0\n",
              "3        -2.299384        -0.597395       0\n",
              "4        -2.389842         0.646835       0"
            ]
          },
          "metadata": {},
          "execution_count": 10
        }
      ]
    },
    {
      "cell_type": "code",
      "metadata": {
        "colab": {
          "base_uri": "https://localhost:8080/",
          "height": 280
        },
        "id": "ey6qD2RaWtBu",
        "outputId": "e95841cb-bc7e-463b-c13a-1aac4bf495d4"
      },
      "source": [
        "# 2개의 속성으로 PCA 변환된 데이터를 2차원 상에서 시각화 하겠음\n",
        "\n",
        "# setosa=세모, versicolor=네모, virginica=동그라미\n",
        "markers=['^', 's', 'o']\n",
        "\n",
        "# pca_component_1 속성을 x축, pca_component_2 속성을 y 축\n",
        "for i, marker in enumerate(markers) :\n",
        "    x_axis_data = irisdf_pca[irisdf_pca['target'] == i]['pca_component_1']\n",
        "    y_axis_data = irisdf_pca[irisdf_pca['target'] == i]['pca_component_2']\n",
        "    plt.scatter(x_axis_data, y_axis_data, marker=marker, label=iris.target_names[i])\n",
        "\n",
        "plt.legend()\n",
        "plt.xlabel('pca_component_1')\n",
        "plt.ylabel('pca_component_2')\n",
        "plt.show()"
      ],
      "execution_count": 11,
      "outputs": [
        {
          "output_type": "display_data",
          "data": {
            "image/png": "[encoded data removed]",
            "text/plain": [
              "<Figure size 432x288 with 1 Axes>"
            ]
          },
          "metadata": {
            "needs_background": "light"
          }
        }
      ]
    },
    {
      "cell_type": "markdown",
      "metadata": {
        "id": "H27EO0EXX0eK"
      },
      "source": [
        "PCA component 별로 원본 데이터의 변동성을 얼마나 반영하고 있는지 알아보겠음.  \n",
        "PCA 변환을 수행한 PCA 객체의 explained_variance_ratio_ 속성은 전체 변동성에서  \n",
        "개별 PCA 컴포넌트별로 차지하는 변동성 비율을 제공하고 있음"
      ]
    },
    {
      "cell_type": "code",
      "metadata": {
        "colab": {
          "base_uri": "https://localhost:8080/"
        },
        "id": "mqE_10j-XzRS",
        "outputId": "4b009715-fdb0-4306-fa20-1e239ccc648e"
      },
      "source": [
        "print(pca.explained_variance_ratio_)"
      ],
      "execution_count": 12,
      "outputs": [
        {
          "output_type": "stream",
          "name": "stdout",
          "text": [
            "[0.72962445 0.22850762]\n"
          ]
        }
      ]
    },
    {
      "cell_type": "markdown",
      "metadata": {
        "id": "3HeRJDkoYWVV"
      },
      "source": [
        "**pca_component_1**이 전체 변동성의 72.9%, \n"
      ]
    }
  ]
}