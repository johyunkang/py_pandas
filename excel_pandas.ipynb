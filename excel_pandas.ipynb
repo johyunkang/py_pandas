{
  "nbformat": 4,
  "nbformat_minor": 0,
  "metadata": {
    "colab": {
      "name": "excel_pandas.ipynb",
      "provenance": [],
      "collapsed_sections": [],
      "toc_visible": true,
      "mount_file_id": "1K9-k9rKQzmW9dkZ6U_WeAvSAgBVBtAqH",
      "authorship_tag": "ABX9TyM33/iGyazkYvkrcSZ42QHw",
      "include_colab_link": true
    },
    "kernelspec": {
      "name": "python3",
      "display_name": "Python 3"
    },
    "language_info": {
      "name": "python"
    }
  },
  "cells": [
    {
      "cell_type": "markdown",
      "metadata": {
        "id": "view-in-github",
        "colab_type": "text"
      },
      "source": [
        "<a href=\"https://colab.research.google.com/github/johyunkang/py_pandas/blob/main/excel_pandas.ipynb\" target=\"_parent\"><img src=\"https://colab.research.google.com/assets/colab-badge.svg\" alt=\"Open In Colab\"/></a>"
      ]
    },
    {
      "cell_type": "markdown",
      "metadata": {
        "id": "pyT7WMgPGfpY"
      },
      "source": [
        "# Pandas 를 이용한 엑셀 문서 편집 방법"
      ]
    },
    {
      "cell_type": "markdown",
      "metadata": {
        "id": "9g1ZWuygGq_O"
      },
      "source": [
        "### 1. 엑셀 문서를 불러오기 위한 구글 드라이브 마운트"
      ]
    },
    {
      "cell_type": "code",
      "metadata": {
        "id": "g8ExbYXNHBO4",
        "colab": {
          "base_uri": "https://localhost:8080/"
        },
        "outputId": "d82921ba-bb6c-4a9e-9485-900446318d4a"
      },
      "source": [
        "from google.colab import drive\n",
        "drive.mount('/content/drive')"
      ],
      "execution_count": 14,
      "outputs": [
        {
          "output_type": "stream",
          "text": [
            "Drive already mounted at /content/drive; to attempt to forcibly remount, call drive.mount(\"/content/drive\", force_remount=True).\n"
          ],
          "name": "stdout"
        }
      ]
    },
    {
      "cell_type": "markdown",
      "metadata": {
        "id": "qLBzk6iJGfBI"
      },
      "source": [
        "### 2. 엑셀 파일 경로 설정"
      ]
    },
    {
      "cell_type": "code",
      "metadata": {
        "colab": {
          "base_uri": "https://localhost:8080/",
          "height": 204
        },
        "id": "pnfMOp0rHSHS",
        "outputId": "e0ff0b37-a098-4af9-cc50-46ca63a332cd"
      },
      "source": [
        "import pandas as pd\n",
        "PATH = '/content/drive/MyDrive/colab/'\n",
        "\n",
        "df = pd.read_excel(PATH + 'raw_file.xlsx')\n",
        "df.head()"
      ],
      "execution_count": 15,
      "outputs": [
        {
          "output_type": "execute_result",
          "data": {
            "text/html": [
              "<div>\n",
              "<style scoped>\n",
              "    .dataframe tbody tr th:only-of-type {\n",
              "        vertical-align: middle;\n",
              "    }\n",
              "\n",
              "    .dataframe tbody tr th {\n",
              "        vertical-align: top;\n",
              "    }\n",
              "\n",
              "    .dataframe thead th {\n",
              "        text-align: right;\n",
              "    }\n",
              "</style>\n",
              "<table border=\"1\" class=\"dataframe\">\n",
              "  <thead>\n",
              "    <tr style=\"text-align: right;\">\n",
              "      <th></th>\n",
              "      <th>name</th>\n",
              "      <th>bs_ymd</th>\n",
              "      <th>site_nm</th>\n",
              "      <th>site_nm1</th>\n",
              "      <th>site_nm2</th>\n",
              "      <th>cnt</th>\n",
              "    </tr>\n",
              "  </thead>\n",
              "  <tbody>\n",
              "    <tr>\n",
              "      <th>0</th>\n",
              "      <td>손나은</td>\n",
              "      <td>20210222</td>\n",
              "      <td>samsung</td>\n",
              "      <td>samsung</td>\n",
              "      <td>NaN</td>\n",
              "      <td>1.0</td>\n",
              "    </tr>\n",
              "    <tr>\n",
              "      <th>1</th>\n",
              "      <td>성유리</td>\n",
              "      <td>20210222</td>\n",
              "      <td>hld</td>\n",
              "      <td>hld</td>\n",
              "      <td>NaN</td>\n",
              "      <td>1.0</td>\n",
              "    </tr>\n",
              "    <tr>\n",
              "      <th>2</th>\n",
              "      <td>현아</td>\n",
              "      <td>20210222</td>\n",
              "      <td>ksp</td>\n",
              "      <td>ksp</td>\n",
              "      <td>NaN</td>\n",
              "      <td>1.0</td>\n",
              "    </tr>\n",
              "    <tr>\n",
              "      <th>3</th>\n",
              "      <td>나연</td>\n",
              "      <td>20210222</td>\n",
              "      <td>bnk</td>\n",
              "      <td>bnk</td>\n",
              "      <td>NaN</td>\n",
              "      <td>1.0</td>\n",
              "    </tr>\n",
              "    <tr>\n",
              "      <th>4</th>\n",
              "      <td>다연</td>\n",
              "      <td>20210222</td>\n",
              "      <td>mg</td>\n",
              "      <td>mg</td>\n",
              "      <td>NaN</td>\n",
              "      <td>1.0</td>\n",
              "    </tr>\n",
              "  </tbody>\n",
              "</table>\n",
              "</div>"
            ],
            "text/plain": [
              "  name    bs_ymd  site_nm site_nm1 site_nm2  cnt\n",
              "0  손나은  20210222  samsung  samsung      NaN  1.0\n",
              "1  성유리  20210222      hld      hld      NaN  1.0\n",
              "2   현아  20210222      ksp      ksp      NaN  1.0\n",
              "3   나연  20210222      bnk      bnk      NaN  1.0\n",
              "4   다연  20210222       mg       mg      NaN  1.0"
            ]
          },
          "metadata": {
            "tags": []
          },
          "execution_count": 15
        }
      ]
    },
    {
      "cell_type": "markdown",
      "metadata": {
        "id": "GN8p9al1KNRV"
      },
      "source": [
        "### 3. 문서 확인 및 편집"
      ]
    },
    {
      "cell_type": "code",
      "metadata": {
        "colab": {
          "base_uri": "https://localhost:8080/",
          "height": 518
        },
        "id": "Z-Em7190KXtD",
        "outputId": "8c4e72bd-744e-4656-80a7-658f2de8af39"
      },
      "source": [
        "df.info()\n",
        "df.describe()"
      ],
      "execution_count": 16,
      "outputs": [
        {
          "output_type": "stream",
          "text": [
            "<class 'pandas.core.frame.DataFrame'>\n",
            "RangeIndex: 25 entries, 0 to 24\n",
            "Data columns (total 6 columns):\n",
            " #   Column    Non-Null Count  Dtype  \n",
            "---  ------    --------------  -----  \n",
            " 0   name      25 non-null     object \n",
            " 1   bs_ymd    25 non-null     int64  \n",
            " 2   site_nm   25 non-null     object \n",
            " 3   site_nm1  25 non-null     object \n",
            " 4   site_nm2  4 non-null      object \n",
            " 5   cnt       25 non-null     float64\n",
            "dtypes: float64(1), int64(1), object(4)\n",
            "memory usage: 1.3+ KB\n"
          ],
          "name": "stdout"
        },
        {
          "output_type": "execute_result",
          "data": {
            "text/html": [
              "<div>\n",
              "<style scoped>\n",
              "    .dataframe tbody tr th:only-of-type {\n",
              "        vertical-align: middle;\n",
              "    }\n",
              "\n",
              "    .dataframe tbody tr th {\n",
              "        vertical-align: top;\n",
              "    }\n",
              "\n",
              "    .dataframe thead th {\n",
              "        text-align: right;\n",
              "    }\n",
              "</style>\n",
              "<table border=\"1\" class=\"dataframe\">\n",
              "  <thead>\n",
              "    <tr style=\"text-align: right;\">\n",
              "      <th></th>\n",
              "      <th>bs_ymd</th>\n",
              "      <th>cnt</th>\n",
              "    </tr>\n",
              "  </thead>\n",
              "  <tbody>\n",
              "    <tr>\n",
              "      <th>count</th>\n",
              "      <td>2.500000e+01</td>\n",
              "      <td>25.000000</td>\n",
              "    </tr>\n",
              "    <tr>\n",
              "      <th>mean</th>\n",
              "      <td>2.021022e+07</td>\n",
              "      <td>0.960000</td>\n",
              "    </tr>\n",
              "    <tr>\n",
              "      <th>std</th>\n",
              "      <td>8.164966e-01</td>\n",
              "      <td>0.138444</td>\n",
              "    </tr>\n",
              "    <tr>\n",
              "      <th>min</th>\n",
              "      <td>2.021022e+07</td>\n",
              "      <td>0.500000</td>\n",
              "    </tr>\n",
              "    <tr>\n",
              "      <th>25%</th>\n",
              "      <td>2.021022e+07</td>\n",
              "      <td>1.000000</td>\n",
              "    </tr>\n",
              "    <tr>\n",
              "      <th>50%</th>\n",
              "      <td>2.021022e+07</td>\n",
              "      <td>1.000000</td>\n",
              "    </tr>\n",
              "    <tr>\n",
              "      <th>75%</th>\n",
              "      <td>2.021022e+07</td>\n",
              "      <td>1.000000</td>\n",
              "    </tr>\n",
              "    <tr>\n",
              "      <th>max</th>\n",
              "      <td>2.021022e+07</td>\n",
              "      <td>1.000000</td>\n",
              "    </tr>\n",
              "  </tbody>\n",
              "</table>\n",
              "</div>"
            ],
            "text/plain": [
              "             bs_ymd        cnt\n",
              "count  2.500000e+01  25.000000\n",
              "mean   2.021022e+07   0.960000\n",
              "std    8.164966e-01   0.138444\n",
              "min    2.021022e+07   0.500000\n",
              "25%    2.021022e+07   1.000000\n",
              "50%    2.021022e+07   1.000000\n",
              "75%    2.021022e+07   1.000000\n",
              "max    2.021022e+07   1.000000"
            ]
          },
          "metadata": {
            "tags": []
          },
          "execution_count": 16
        }
      ]
    },
    {
      "cell_type": "markdown",
      "metadata": {
        "id": "bTVjCmqwK7q8"
      },
      "source": [
        "### 3.1 데이터프레임의 컬럼 타입 변경"
      ]
    },
    {
      "cell_type": "code",
      "metadata": {
        "colab": {
          "base_uri": "https://localhost:8080/",
          "height": 359
        },
        "id": "lvbtwXhBLFIC",
        "outputId": "b42bd98c-533f-435d-d946-25441f8ee06a"
      },
      "source": [
        "df = df.astype({'bs_ymd':'object'})  # bs_ymd 컬럼 타입을 int > object 로 변경\n",
        "#df.info()\n",
        "\n",
        "df.head(5)\n",
        "\n",
        "df_grp = df.groupby(by=['bs_ymd', 'name']).count()  # bs_ymd, name 컬럼 기준으로 group by\n",
        "# df_grp.head(20)\n",
        "df_grp = df_grp.reset_index(level=['bs_ymd', 'name']) # index 를 column 으로 변경\n",
        "df.head(10)"
      ],
      "execution_count": 17,
      "outputs": [
        {
          "output_type": "execute_result",
          "data": {
            "text/html": [
              "<div>\n",
              "<style scoped>\n",
              "    .dataframe tbody tr th:only-of-type {\n",
              "        vertical-align: middle;\n",
              "    }\n",
              "\n",
              "    .dataframe tbody tr th {\n",
              "        vertical-align: top;\n",
              "    }\n",
              "\n",
              "    .dataframe thead th {\n",
              "        text-align: right;\n",
              "    }\n",
              "</style>\n",
              "<table border=\"1\" class=\"dataframe\">\n",
              "  <thead>\n",
              "    <tr style=\"text-align: right;\">\n",
              "      <th></th>\n",
              "      <th>name</th>\n",
              "      <th>bs_ymd</th>\n",
              "      <th>site_nm</th>\n",
              "      <th>site_nm1</th>\n",
              "      <th>site_nm2</th>\n",
              "      <th>cnt</th>\n",
              "    </tr>\n",
              "  </thead>\n",
              "  <tbody>\n",
              "    <tr>\n",
              "      <th>0</th>\n",
              "      <td>손나은</td>\n",
              "      <td>20210222</td>\n",
              "      <td>samsung</td>\n",
              "      <td>samsung</td>\n",
              "      <td>NaN</td>\n",
              "      <td>1.0</td>\n",
              "    </tr>\n",
              "    <tr>\n",
              "      <th>1</th>\n",
              "      <td>성유리</td>\n",
              "      <td>20210222</td>\n",
              "      <td>hld</td>\n",
              "      <td>hld</td>\n",
              "      <td>NaN</td>\n",
              "      <td>1.0</td>\n",
              "    </tr>\n",
              "    <tr>\n",
              "      <th>2</th>\n",
              "      <td>현아</td>\n",
              "      <td>20210222</td>\n",
              "      <td>ksp</td>\n",
              "      <td>ksp</td>\n",
              "      <td>NaN</td>\n",
              "      <td>1.0</td>\n",
              "    </tr>\n",
              "    <tr>\n",
              "      <th>3</th>\n",
              "      <td>나연</td>\n",
              "      <td>20210222</td>\n",
              "      <td>bnk</td>\n",
              "      <td>bnk</td>\n",
              "      <td>NaN</td>\n",
              "      <td>1.0</td>\n",
              "    </tr>\n",
              "    <tr>\n",
              "      <th>4</th>\n",
              "      <td>다연</td>\n",
              "      <td>20210222</td>\n",
              "      <td>mg</td>\n",
              "      <td>mg</td>\n",
              "      <td>NaN</td>\n",
              "      <td>1.0</td>\n",
              "    </tr>\n",
              "    <tr>\n",
              "      <th>5</th>\n",
              "      <td>아린</td>\n",
              "      <td>20210222</td>\n",
              "      <td>nps</td>\n",
              "      <td>nps</td>\n",
              "      <td>NaN</td>\n",
              "      <td>1.0</td>\n",
              "    </tr>\n",
              "    <tr>\n",
              "      <th>6</th>\n",
              "      <td>효리</td>\n",
              "      <td>20210222</td>\n",
              "      <td>lg</td>\n",
              "      <td>ksp</td>\n",
              "      <td>lg</td>\n",
              "      <td>1.0</td>\n",
              "    </tr>\n",
              "    <tr>\n",
              "      <th>7</th>\n",
              "      <td>아이유</td>\n",
              "      <td>20210222</td>\n",
              "      <td>nps</td>\n",
              "      <td>nps</td>\n",
              "      <td>NaN</td>\n",
              "      <td>1.0</td>\n",
              "    </tr>\n",
              "    <tr>\n",
              "      <th>8</th>\n",
              "      <td>손나은</td>\n",
              "      <td>20210223</td>\n",
              "      <td>samsung</td>\n",
              "      <td>samsung</td>\n",
              "      <td>NaN</td>\n",
              "      <td>1.0</td>\n",
              "    </tr>\n",
              "    <tr>\n",
              "      <th>9</th>\n",
              "      <td>성유리</td>\n",
              "      <td>20210223</td>\n",
              "      <td>kb</td>\n",
              "      <td>kb</td>\n",
              "      <td>NaN</td>\n",
              "      <td>1.0</td>\n",
              "    </tr>\n",
              "  </tbody>\n",
              "</table>\n",
              "</div>"
            ],
            "text/plain": [
              "  name    bs_ymd  site_nm site_nm1 site_nm2  cnt\n",
              "0  손나은  20210222  samsung  samsung      NaN  1.0\n",
              "1  성유리  20210222      hld      hld      NaN  1.0\n",
              "2   현아  20210222      ksp      ksp      NaN  1.0\n",
              "3   나연  20210222      bnk      bnk      NaN  1.0\n",
              "4   다연  20210222       mg       mg      NaN  1.0\n",
              "5   아린  20210222      nps      nps      NaN  1.0\n",
              "6   효리  20210222       lg      ksp       lg  1.0\n",
              "7  아이유  20210222      nps      nps      NaN  1.0\n",
              "8  손나은  20210223  samsung  samsung      NaN  1.0\n",
              "9  성유리  20210223       kb       kb      NaN  1.0"
            ]
          },
          "metadata": {
            "tags": []
          },
          "execution_count": 17
        }
      ]
    },
    {
      "cell_type": "markdown",
      "metadata": {
        "id": "0877wBZIeC0M"
      },
      "source": [
        "## 3.2 DataFrame 현재 row 와 다음 row 비교\n",
        "### DataFrame 및 Series shift"
      ]
    },
    {
      "cell_type": "code",
      "metadata": {
        "colab": {
          "base_uri": "https://localhost:8080/",
          "height": 669
        },
        "id": "AVxVv2ODeNAP",
        "outputId": "dafd77cc-2012-413b-8e15-7ac7b562b735"
      },
      "source": [
        "\n",
        "df_grp.head(20)\n",
        "\n",
        "df_merge = pd.merge(df, df_grp, on=['bs_ymd', 'name']).copy()\n",
        "\n",
        "# dataframe loc. 사용할 컬럼(필드)만 뽑아내는 옵션\n",
        "df_merged = df_merge.loc[:,['bs_ymd', 'name', 'site_nm_x', 'site_nm_y']]\n",
        "df_merge.head(20)\n",
        "df_merged.head(20)"
      ],
      "execution_count": 18,
      "outputs": [
        {
          "output_type": "execute_result",
          "data": {
            "text/html": [
              "<div>\n",
              "<style scoped>\n",
              "    .dataframe tbody tr th:only-of-type {\n",
              "        vertical-align: middle;\n",
              "    }\n",
              "\n",
              "    .dataframe tbody tr th {\n",
              "        vertical-align: top;\n",
              "    }\n",
              "\n",
              "    .dataframe thead th {\n",
              "        text-align: right;\n",
              "    }\n",
              "</style>\n",
              "<table border=\"1\" class=\"dataframe\">\n",
              "  <thead>\n",
              "    <tr style=\"text-align: right;\">\n",
              "      <th></th>\n",
              "      <th>bs_ymd</th>\n",
              "      <th>name</th>\n",
              "      <th>site_nm_x</th>\n",
              "      <th>site_nm_y</th>\n",
              "    </tr>\n",
              "  </thead>\n",
              "  <tbody>\n",
              "    <tr>\n",
              "      <th>0</th>\n",
              "      <td>20210222</td>\n",
              "      <td>손나은</td>\n",
              "      <td>samsung</td>\n",
              "      <td>1</td>\n",
              "    </tr>\n",
              "    <tr>\n",
              "      <th>1</th>\n",
              "      <td>20210222</td>\n",
              "      <td>성유리</td>\n",
              "      <td>hld</td>\n",
              "      <td>1</td>\n",
              "    </tr>\n",
              "    <tr>\n",
              "      <th>2</th>\n",
              "      <td>20210222</td>\n",
              "      <td>현아</td>\n",
              "      <td>ksp</td>\n",
              "      <td>1</td>\n",
              "    </tr>\n",
              "    <tr>\n",
              "      <th>3</th>\n",
              "      <td>20210222</td>\n",
              "      <td>나연</td>\n",
              "      <td>bnk</td>\n",
              "      <td>1</td>\n",
              "    </tr>\n",
              "    <tr>\n",
              "      <th>4</th>\n",
              "      <td>20210222</td>\n",
              "      <td>다연</td>\n",
              "      <td>mg</td>\n",
              "      <td>1</td>\n",
              "    </tr>\n",
              "    <tr>\n",
              "      <th>5</th>\n",
              "      <td>20210222</td>\n",
              "      <td>아린</td>\n",
              "      <td>nps</td>\n",
              "      <td>1</td>\n",
              "    </tr>\n",
              "    <tr>\n",
              "      <th>6</th>\n",
              "      <td>20210222</td>\n",
              "      <td>효리</td>\n",
              "      <td>lg</td>\n",
              "      <td>1</td>\n",
              "    </tr>\n",
              "    <tr>\n",
              "      <th>7</th>\n",
              "      <td>20210222</td>\n",
              "      <td>아이유</td>\n",
              "      <td>nps</td>\n",
              "      <td>1</td>\n",
              "    </tr>\n",
              "    <tr>\n",
              "      <th>8</th>\n",
              "      <td>20210223</td>\n",
              "      <td>손나은</td>\n",
              "      <td>samsung</td>\n",
              "      <td>1</td>\n",
              "    </tr>\n",
              "    <tr>\n",
              "      <th>9</th>\n",
              "      <td>20210223</td>\n",
              "      <td>성유리</td>\n",
              "      <td>kb</td>\n",
              "      <td>1</td>\n",
              "    </tr>\n",
              "    <tr>\n",
              "      <th>10</th>\n",
              "      <td>20210223</td>\n",
              "      <td>현아</td>\n",
              "      <td>ksp</td>\n",
              "      <td>1</td>\n",
              "    </tr>\n",
              "    <tr>\n",
              "      <th>11</th>\n",
              "      <td>20210223</td>\n",
              "      <td>나연</td>\n",
              "      <td>kw</td>\n",
              "      <td>1</td>\n",
              "    </tr>\n",
              "    <tr>\n",
              "      <th>12</th>\n",
              "      <td>20210223</td>\n",
              "      <td>다연</td>\n",
              "      <td>hj</td>\n",
              "      <td>1</td>\n",
              "    </tr>\n",
              "    <tr>\n",
              "      <th>13</th>\n",
              "      <td>20210223</td>\n",
              "      <td>아린</td>\n",
              "      <td>nps</td>\n",
              "      <td>1</td>\n",
              "    </tr>\n",
              "    <tr>\n",
              "      <th>14</th>\n",
              "      <td>20210223</td>\n",
              "      <td>효리</td>\n",
              "      <td>hj</td>\n",
              "      <td>2</td>\n",
              "    </tr>\n",
              "    <tr>\n",
              "      <th>15</th>\n",
              "      <td>20210223</td>\n",
              "      <td>효리</td>\n",
              "      <td>ks</td>\n",
              "      <td>2</td>\n",
              "    </tr>\n",
              "    <tr>\n",
              "      <th>16</th>\n",
              "      <td>20210223</td>\n",
              "      <td>아이유</td>\n",
              "      <td>kw</td>\n",
              "      <td>1</td>\n",
              "    </tr>\n",
              "    <tr>\n",
              "      <th>17</th>\n",
              "      <td>20210224</td>\n",
              "      <td>손나은</td>\n",
              "      <td>samsung</td>\n",
              "      <td>1</td>\n",
              "    </tr>\n",
              "    <tr>\n",
              "      <th>18</th>\n",
              "      <td>20210224</td>\n",
              "      <td>성유리</td>\n",
              "      <td>kb</td>\n",
              "      <td>1</td>\n",
              "    </tr>\n",
              "    <tr>\n",
              "      <th>19</th>\n",
              "      <td>20210224</td>\n",
              "      <td>현아</td>\n",
              "      <td>ksp</td>\n",
              "      <td>1</td>\n",
              "    </tr>\n",
              "  </tbody>\n",
              "</table>\n",
              "</div>"
            ],
            "text/plain": [
              "      bs_ymd name site_nm_x  site_nm_y\n",
              "0   20210222  손나은   samsung          1\n",
              "1   20210222  성유리       hld          1\n",
              "2   20210222   현아       ksp          1\n",
              "3   20210222   나연       bnk          1\n",
              "4   20210222   다연        mg          1\n",
              "5   20210222   아린       nps          1\n",
              "6   20210222   효리        lg          1\n",
              "7   20210222  아이유       nps          1\n",
              "8   20210223  손나은   samsung          1\n",
              "9   20210223  성유리        kb          1\n",
              "10  20210223   현아       ksp          1\n",
              "11  20210223   나연        kw          1\n",
              "12  20210223   다연        hj          1\n",
              "13  20210223   아린       nps          1\n",
              "14  20210223   효리        hj          2\n",
              "15  20210223   효리        ks          2\n",
              "16  20210223  아이유        kw          1\n",
              "17  20210224  손나은   samsung          1\n",
              "18  20210224  성유리        kb          1\n",
              "19  20210224   현아       ksp          1"
            ]
          },
          "metadata": {
            "tags": []
          },
          "execution_count": 18
        }
      ]
    },
    {
      "cell_type": "code",
      "metadata": {
        "colab": {
          "base_uri": "https://localhost:8080/",
          "height": 669
        },
        "id": "FzfeyelWkuqK",
        "outputId": "a9660871-eaa2-4d47-b7ed-c2bb0b1e721b"
      },
      "source": [
        "# df_grp_shift = df_grp[['bs_ymd', 'name']].shift(8) # 아래 row 와 비교하기 위한 8행 shift\n",
        "# df_grp_shift.head(10)\n",
        "\n",
        "# 기존 컬럼을 이용하여 신규 컬럼에 들어갈 값 계산 ( 1 / 기존컬럼(site_nm_y))\n",
        "df_merged = df_merged.assign(VISIT=lambda x : (1/x['site_nm_y']))\n",
        "df_merged.head(20)"
      ],
      "execution_count": 19,
      "outputs": [
        {
          "output_type": "execute_result",
          "data": {
            "text/html": [
              "<div>\n",
              "<style scoped>\n",
              "    .dataframe tbody tr th:only-of-type {\n",
              "        vertical-align: middle;\n",
              "    }\n",
              "\n",
              "    .dataframe tbody tr th {\n",
              "        vertical-align: top;\n",
              "    }\n",
              "\n",
              "    .dataframe thead th {\n",
              "        text-align: right;\n",
              "    }\n",
              "</style>\n",
              "<table border=\"1\" class=\"dataframe\">\n",
              "  <thead>\n",
              "    <tr style=\"text-align: right;\">\n",
              "      <th></th>\n",
              "      <th>bs_ymd</th>\n",
              "      <th>name</th>\n",
              "      <th>site_nm_x</th>\n",
              "      <th>site_nm_y</th>\n",
              "      <th>VISIT</th>\n",
              "    </tr>\n",
              "  </thead>\n",
              "  <tbody>\n",
              "    <tr>\n",
              "      <th>0</th>\n",
              "      <td>20210222</td>\n",
              "      <td>손나은</td>\n",
              "      <td>samsung</td>\n",
              "      <td>1</td>\n",
              "      <td>1.0</td>\n",
              "    </tr>\n",
              "    <tr>\n",
              "      <th>1</th>\n",
              "      <td>20210222</td>\n",
              "      <td>성유리</td>\n",
              "      <td>hld</td>\n",
              "      <td>1</td>\n",
              "      <td>1.0</td>\n",
              "    </tr>\n",
              "    <tr>\n",
              "      <th>2</th>\n",
              "      <td>20210222</td>\n",
              "      <td>현아</td>\n",
              "      <td>ksp</td>\n",
              "      <td>1</td>\n",
              "      <td>1.0</td>\n",
              "    </tr>\n",
              "    <tr>\n",
              "      <th>3</th>\n",
              "      <td>20210222</td>\n",
              "      <td>나연</td>\n",
              "      <td>bnk</td>\n",
              "      <td>1</td>\n",
              "      <td>1.0</td>\n",
              "    </tr>\n",
              "    <tr>\n",
              "      <th>4</th>\n",
              "      <td>20210222</td>\n",
              "      <td>다연</td>\n",
              "      <td>mg</td>\n",
              "      <td>1</td>\n",
              "      <td>1.0</td>\n",
              "    </tr>\n",
              "    <tr>\n",
              "      <th>5</th>\n",
              "      <td>20210222</td>\n",
              "      <td>아린</td>\n",
              "      <td>nps</td>\n",
              "      <td>1</td>\n",
              "      <td>1.0</td>\n",
              "    </tr>\n",
              "    <tr>\n",
              "      <th>6</th>\n",
              "      <td>20210222</td>\n",
              "      <td>효리</td>\n",
              "      <td>lg</td>\n",
              "      <td>1</td>\n",
              "      <td>1.0</td>\n",
              "    </tr>\n",
              "    <tr>\n",
              "      <th>7</th>\n",
              "      <td>20210222</td>\n",
              "      <td>아이유</td>\n",
              "      <td>nps</td>\n",
              "      <td>1</td>\n",
              "      <td>1.0</td>\n",
              "    </tr>\n",
              "    <tr>\n",
              "      <th>8</th>\n",
              "      <td>20210223</td>\n",
              "      <td>손나은</td>\n",
              "      <td>samsung</td>\n",
              "      <td>1</td>\n",
              "      <td>1.0</td>\n",
              "    </tr>\n",
              "    <tr>\n",
              "      <th>9</th>\n",
              "      <td>20210223</td>\n",
              "      <td>성유리</td>\n",
              "      <td>kb</td>\n",
              "      <td>1</td>\n",
              "      <td>1.0</td>\n",
              "    </tr>\n",
              "    <tr>\n",
              "      <th>10</th>\n",
              "      <td>20210223</td>\n",
              "      <td>현아</td>\n",
              "      <td>ksp</td>\n",
              "      <td>1</td>\n",
              "      <td>1.0</td>\n",
              "    </tr>\n",
              "    <tr>\n",
              "      <th>11</th>\n",
              "      <td>20210223</td>\n",
              "      <td>나연</td>\n",
              "      <td>kw</td>\n",
              "      <td>1</td>\n",
              "      <td>1.0</td>\n",
              "    </tr>\n",
              "    <tr>\n",
              "      <th>12</th>\n",
              "      <td>20210223</td>\n",
              "      <td>다연</td>\n",
              "      <td>hj</td>\n",
              "      <td>1</td>\n",
              "      <td>1.0</td>\n",
              "    </tr>\n",
              "    <tr>\n",
              "      <th>13</th>\n",
              "      <td>20210223</td>\n",
              "      <td>아린</td>\n",
              "      <td>nps</td>\n",
              "      <td>1</td>\n",
              "      <td>1.0</td>\n",
              "    </tr>\n",
              "    <tr>\n",
              "      <th>14</th>\n",
              "      <td>20210223</td>\n",
              "      <td>효리</td>\n",
              "      <td>hj</td>\n",
              "      <td>2</td>\n",
              "      <td>0.5</td>\n",
              "    </tr>\n",
              "    <tr>\n",
              "      <th>15</th>\n",
              "      <td>20210223</td>\n",
              "      <td>효리</td>\n",
              "      <td>ks</td>\n",
              "      <td>2</td>\n",
              "      <td>0.5</td>\n",
              "    </tr>\n",
              "    <tr>\n",
              "      <th>16</th>\n",
              "      <td>20210223</td>\n",
              "      <td>아이유</td>\n",
              "      <td>kw</td>\n",
              "      <td>1</td>\n",
              "      <td>1.0</td>\n",
              "    </tr>\n",
              "    <tr>\n",
              "      <th>17</th>\n",
              "      <td>20210224</td>\n",
              "      <td>손나은</td>\n",
              "      <td>samsung</td>\n",
              "      <td>1</td>\n",
              "      <td>1.0</td>\n",
              "    </tr>\n",
              "    <tr>\n",
              "      <th>18</th>\n",
              "      <td>20210224</td>\n",
              "      <td>성유리</td>\n",
              "      <td>kb</td>\n",
              "      <td>1</td>\n",
              "      <td>1.0</td>\n",
              "    </tr>\n",
              "    <tr>\n",
              "      <th>19</th>\n",
              "      <td>20210224</td>\n",
              "      <td>현아</td>\n",
              "      <td>ksp</td>\n",
              "      <td>1</td>\n",
              "      <td>1.0</td>\n",
              "    </tr>\n",
              "  </tbody>\n",
              "</table>\n",
              "</div>"
            ],
            "text/plain": [
              "      bs_ymd name site_nm_x  site_nm_y  VISIT\n",
              "0   20210222  손나은   samsung          1    1.0\n",
              "1   20210222  성유리       hld          1    1.0\n",
              "2   20210222   현아       ksp          1    1.0\n",
              "3   20210222   나연       bnk          1    1.0\n",
              "4   20210222   다연        mg          1    1.0\n",
              "5   20210222   아린       nps          1    1.0\n",
              "6   20210222   효리        lg          1    1.0\n",
              "7   20210222  아이유       nps          1    1.0\n",
              "8   20210223  손나은   samsung          1    1.0\n",
              "9   20210223  성유리        kb          1    1.0\n",
              "10  20210223   현아       ksp          1    1.0\n",
              "11  20210223   나연        kw          1    1.0\n",
              "12  20210223   다연        hj          1    1.0\n",
              "13  20210223   아린       nps          1    1.0\n",
              "14  20210223   효리        hj          2    0.5\n",
              "15  20210223   효리        ks          2    0.5\n",
              "16  20210223  아이유        kw          1    1.0\n",
              "17  20210224  손나은   samsung          1    1.0\n",
              "18  20210224  성유리        kb          1    1.0\n",
              "19  20210224   현아       ksp          1    1.0"
            ]
          },
          "metadata": {
            "tags": []
          },
          "execution_count": 19
        }
      ]
    },
    {
      "cell_type": "code",
      "metadata": {
        "colab": {
          "base_uri": "https://localhost:8080/",
          "height": 700
        },
        "id": "dMJUvxKfLL7H",
        "outputId": "0d6b204f-36bf-4593-d1f8-38fea420b1ef"
      },
      "source": [
        "df_series = df_merged.groupby(by=['bs_ymd', 'name'])['VISIT'].sum()\n",
        "df_series.head(20)\n",
        "df_group = df_series.to_frame()\n",
        "df_group.head(20)"
      ],
      "execution_count": 20,
      "outputs": [
        {
          "output_type": "execute_result",
          "data": {
            "text/html": [
              "<div>\n",
              "<style scoped>\n",
              "    .dataframe tbody tr th:only-of-type {\n",
              "        vertical-align: middle;\n",
              "    }\n",
              "\n",
              "    .dataframe tbody tr th {\n",
              "        vertical-align: top;\n",
              "    }\n",
              "\n",
              "    .dataframe thead th {\n",
              "        text-align: right;\n",
              "    }\n",
              "</style>\n",
              "<table border=\"1\" class=\"dataframe\">\n",
              "  <thead>\n",
              "    <tr style=\"text-align: right;\">\n",
              "      <th></th>\n",
              "      <th></th>\n",
              "      <th>VISIT</th>\n",
              "    </tr>\n",
              "    <tr>\n",
              "      <th>bs_ymd</th>\n",
              "      <th>name</th>\n",
              "      <th></th>\n",
              "    </tr>\n",
              "  </thead>\n",
              "  <tbody>\n",
              "    <tr>\n",
              "      <th rowspan=\"8\" valign=\"top\">20210222</th>\n",
              "      <th>나연</th>\n",
              "      <td>1.0</td>\n",
              "    </tr>\n",
              "    <tr>\n",
              "      <th>다연</th>\n",
              "      <td>1.0</td>\n",
              "    </tr>\n",
              "    <tr>\n",
              "      <th>성유리</th>\n",
              "      <td>1.0</td>\n",
              "    </tr>\n",
              "    <tr>\n",
              "      <th>손나은</th>\n",
              "      <td>1.0</td>\n",
              "    </tr>\n",
              "    <tr>\n",
              "      <th>아린</th>\n",
              "      <td>1.0</td>\n",
              "    </tr>\n",
              "    <tr>\n",
              "      <th>아이유</th>\n",
              "      <td>1.0</td>\n",
              "    </tr>\n",
              "    <tr>\n",
              "      <th>현아</th>\n",
              "      <td>1.0</td>\n",
              "    </tr>\n",
              "    <tr>\n",
              "      <th>효리</th>\n",
              "      <td>1.0</td>\n",
              "    </tr>\n",
              "    <tr>\n",
              "      <th rowspan=\"8\" valign=\"top\">20210223</th>\n",
              "      <th>나연</th>\n",
              "      <td>1.0</td>\n",
              "    </tr>\n",
              "    <tr>\n",
              "      <th>다연</th>\n",
              "      <td>1.0</td>\n",
              "    </tr>\n",
              "    <tr>\n",
              "      <th>성유리</th>\n",
              "      <td>1.0</td>\n",
              "    </tr>\n",
              "    <tr>\n",
              "      <th>손나은</th>\n",
              "      <td>1.0</td>\n",
              "    </tr>\n",
              "    <tr>\n",
              "      <th>아린</th>\n",
              "      <td>1.0</td>\n",
              "    </tr>\n",
              "    <tr>\n",
              "      <th>아이유</th>\n",
              "      <td>1.0</td>\n",
              "    </tr>\n",
              "    <tr>\n",
              "      <th>현아</th>\n",
              "      <td>1.0</td>\n",
              "    </tr>\n",
              "    <tr>\n",
              "      <th>효리</th>\n",
              "      <td>1.0</td>\n",
              "    </tr>\n",
              "    <tr>\n",
              "      <th rowspan=\"4\" valign=\"top\">20210224</th>\n",
              "      <th>나연</th>\n",
              "      <td>1.0</td>\n",
              "    </tr>\n",
              "    <tr>\n",
              "      <th>다연</th>\n",
              "      <td>1.0</td>\n",
              "    </tr>\n",
              "    <tr>\n",
              "      <th>성유리</th>\n",
              "      <td>1.0</td>\n",
              "    </tr>\n",
              "    <tr>\n",
              "      <th>손나은</th>\n",
              "      <td>1.0</td>\n",
              "    </tr>\n",
              "  </tbody>\n",
              "</table>\n",
              "</div>"
            ],
            "text/plain": [
              "               VISIT\n",
              "bs_ymd   name       \n",
              "20210222 나연      1.0\n",
              "         다연      1.0\n",
              "         성유리     1.0\n",
              "         손나은     1.0\n",
              "         아린      1.0\n",
              "         아이유     1.0\n",
              "         현아      1.0\n",
              "         효리      1.0\n",
              "20210223 나연      1.0\n",
              "         다연      1.0\n",
              "         성유리     1.0\n",
              "         손나은     1.0\n",
              "         아린      1.0\n",
              "         아이유     1.0\n",
              "         현아      1.0\n",
              "         효리      1.0\n",
              "20210224 나연      1.0\n",
              "         다연      1.0\n",
              "         성유리     1.0\n",
              "         손나은     1.0"
            ]
          },
          "metadata": {
            "tags": []
          },
          "execution_count": 20
        }
      ]
    },
    {
      "cell_type": "markdown",
      "metadata": {
        "id": "xVeqRDEJOdYi"
      },
      "source": [
        "## 3.3 reset index \n",
        "### series 를 dataframe 으로 변경 시 index가 유지되기에 pivot 작업전 index를 column 으로 변경"
      ]
    },
    {
      "cell_type": "code",
      "metadata": {
        "id": "ZnjXK0TCNYGG"
      },
      "source": [
        "# index reset (index 로 설정된 bs_ymd, name 을 컬럼으로 변경)\n",
        "df_group = df_group.reset_index(level=['bs_ymd', 'name'])"
      ],
      "execution_count": 21,
      "outputs": []
    },
    {
      "cell_type": "markdown",
      "metadata": {
        "id": "9Xf3j6LkI9PE"
      },
      "source": [
        "## 3.4 PIVOT 기능\n",
        "### PIVOT 을 이용하여 행(날짜), 열(이름) 의 피벗 데이터를 생성한다.\n"
      ]
    },
    {
      "cell_type": "code",
      "metadata": {
        "id": "EcJRETrIJk8O",
        "colab": {
          "base_uri": "https://localhost:8080/",
          "height": 173
        },
        "outputId": "7927b63d-6450-4170-9f68-7848662d3a4e"
      },
      "source": [
        "# 피벗 (행(index), 열(columns), 값(values))\n",
        "df_pivot = df_group.pivot(index='bs_ymd', columns='name', values='VISIT')\n",
        "df_pivot.head(20)"
      ],
      "execution_count": 22,
      "outputs": [
        {
          "output_type": "execute_result",
          "data": {
            "text/html": [
              "<div>\n",
              "<style scoped>\n",
              "    .dataframe tbody tr th:only-of-type {\n",
              "        vertical-align: middle;\n",
              "    }\n",
              "\n",
              "    .dataframe tbody tr th {\n",
              "        vertical-align: top;\n",
              "    }\n",
              "\n",
              "    .dataframe thead th {\n",
              "        text-align: right;\n",
              "    }\n",
              "</style>\n",
              "<table border=\"1\" class=\"dataframe\">\n",
              "  <thead>\n",
              "    <tr style=\"text-align: right;\">\n",
              "      <th>name</th>\n",
              "      <th>나연</th>\n",
              "      <th>다연</th>\n",
              "      <th>성유리</th>\n",
              "      <th>손나은</th>\n",
              "      <th>아린</th>\n",
              "      <th>아이유</th>\n",
              "      <th>현아</th>\n",
              "      <th>효리</th>\n",
              "    </tr>\n",
              "    <tr>\n",
              "      <th>bs_ymd</th>\n",
              "      <th></th>\n",
              "      <th></th>\n",
              "      <th></th>\n",
              "      <th></th>\n",
              "      <th></th>\n",
              "      <th></th>\n",
              "      <th></th>\n",
              "      <th></th>\n",
              "    </tr>\n",
              "  </thead>\n",
              "  <tbody>\n",
              "    <tr>\n",
              "      <th>20210222</th>\n",
              "      <td>1.0</td>\n",
              "      <td>1.0</td>\n",
              "      <td>1.0</td>\n",
              "      <td>1.0</td>\n",
              "      <td>1.0</td>\n",
              "      <td>1.0</td>\n",
              "      <td>1.0</td>\n",
              "      <td>1.0</td>\n",
              "    </tr>\n",
              "    <tr>\n",
              "      <th>20210223</th>\n",
              "      <td>1.0</td>\n",
              "      <td>1.0</td>\n",
              "      <td>1.0</td>\n",
              "      <td>1.0</td>\n",
              "      <td>1.0</td>\n",
              "      <td>1.0</td>\n",
              "      <td>1.0</td>\n",
              "      <td>1.0</td>\n",
              "    </tr>\n",
              "    <tr>\n",
              "      <th>20210224</th>\n",
              "      <td>1.0</td>\n",
              "      <td>1.0</td>\n",
              "      <td>1.0</td>\n",
              "      <td>1.0</td>\n",
              "      <td>1.0</td>\n",
              "      <td>1.0</td>\n",
              "      <td>1.0</td>\n",
              "      <td>1.0</td>\n",
              "    </tr>\n",
              "  </tbody>\n",
              "</table>\n",
              "</div>"
            ],
            "text/plain": [
              "name       나연   다연  성유리  손나은   아린  아이유   현아   효리\n",
              "bs_ymd                                          \n",
              "20210222  1.0  1.0  1.0  1.0  1.0  1.0  1.0  1.0\n",
              "20210223  1.0  1.0  1.0  1.0  1.0  1.0  1.0  1.0\n",
              "20210224  1.0  1.0  1.0  1.0  1.0  1.0  1.0  1.0"
            ]
          },
          "metadata": {
            "tags": []
          },
          "execution_count": 22
        }
      ]
    },
    {
      "cell_type": "markdown",
      "metadata": {
        "id": "KKhozOM8JIx-"
      },
      "source": [
        "\n",
        "\n",
        "---\n",
        "\n"
      ]
    },
    {
      "cell_type": "markdown",
      "metadata": {
        "id": "Vfm1xJX0icOb"
      },
      "source": [
        "## 3.5 SITE 별 PIVOT\n",
        "### 기존 dataframe 에서 site 별 방문횟수를 추출"
      ]
    },
    {
      "cell_type": "code",
      "metadata": {
        "colab": {
          "base_uri": "https://localhost:8080/"
        },
        "id": "3nYkJvKsh25-",
        "outputId": "bf72330b-f409-4a37-fb9e-32aededca634"
      },
      "source": [
        "# df_merged.head(20)\n",
        "df_grp_site = df_merged.groupby(by=['site_nm_x'])['VISIT'].sum()\n",
        "df_grp_site.head(20)"
      ],
      "execution_count": 23,
      "outputs": [
        {
          "output_type": "execute_result",
          "data": {
            "text/plain": [
              "site_nm_x\n",
              "bnk        1.0\n",
              "hj         3.5\n",
              "hld        1.0\n",
              "kb         2.0\n",
              "kbs        1.0\n",
              "ks         0.5\n",
              "ksp        3.0\n",
              "kw         3.0\n",
              "lg         1.0\n",
              "mg         1.0\n",
              "nps        4.0\n",
              "samsung    3.0\n",
              "Name: VISIT, dtype: float64"
            ]
          },
          "metadata": {
            "tags": []
          },
          "execution_count": 23
        }
      ]
    },
    {
      "cell_type": "markdown",
      "metadata": {
        "id": "kXNrjwDbisf-"
      },
      "source": [
        "### 시리즈 df_grp_site 를 dataframe 으로 변경"
      ]
    },
    {
      "cell_type": "code",
      "metadata": {
        "colab": {
          "base_uri": "https://localhost:8080/"
        },
        "id": "SZy_cN-Gixeu",
        "outputId": "94f3aa3f-f221-4bb7-960f-b759253bd34e"
      },
      "source": [
        "# df_grp_site = df_grp_site.to_frame()\n",
        "df_grp_site.head(20)\n"
      ],
      "execution_count": 24,
      "outputs": [
        {
          "output_type": "execute_result",
          "data": {
            "text/plain": [
              "site_nm_x\n",
              "bnk        1.0\n",
              "hj         3.5\n",
              "hld        1.0\n",
              "kb         2.0\n",
              "kbs        1.0\n",
              "ks         0.5\n",
              "ksp        3.0\n",
              "kw         3.0\n",
              "lg         1.0\n",
              "mg         1.0\n",
              "nps        4.0\n",
              "samsung    3.0\n",
              "Name: VISIT, dtype: float64"
            ]
          },
          "metadata": {
            "tags": []
          },
          "execution_count": 24
        }
      ]
    },
    {
      "cell_type": "markdown",
      "metadata": {
        "id": "QIs-GHceolof"
      },
      "source": [
        "## 4. 그래프\n",
        "### plotly 를 이용하여 데이터를 시각화 할 수 있음\n",
        "### 참조 사이트: https://plotly.com/python/\n",
        "\n"
      ]
    },
    {
      "cell_type": "markdown",
      "metadata": {
        "id": "zYDO0NwVo5G7"
      },
      "source": [
        "### 4.1 plotly 라이브러리 설치\n",
        "### chart_studio : plotly로 작성한 그래프를 웹상에 보여주기 위한 라이브러리\n",
        "### cufflinks : pandas의 그래프 기능을 plotly와 연결하기 위한 라이브러리 \n",
        "(https://nbviewer.jupyter.org/gist/santosjorge/f3b07b2be8094deea8c6)"
      ]
    },
    {
      "cell_type": "code",
      "metadata": {
        "colab": {
          "base_uri": "https://localhost:8080/"
        },
        "id": "SfAuVcdgo_zD",
        "outputId": "fa9f8050-06f4-4090-c945-f51809502947"
      },
      "source": [
        "#  chart_studio 설치\n",
        "# !pip install plotly chart_studio --upgrade\n",
        "\n",
        "# cufflinks 설치\n",
        "# !pip install cufflinks --upgrade"
      ],
      "execution_count": 25,
      "outputs": [
        {
          "output_type": "stream",
          "text": [
            "Requirement already up-to-date: cufflinks in /usr/local/lib/python3.7/dist-packages (0.17.3)\n",
            "Requirement already satisfied, skipping upgrade: numpy>=1.9.2 in /usr/local/lib/python3.7/dist-packages (from cufflinks) (1.19.5)\n",
            "Requirement already satisfied, skipping upgrade: pandas>=0.19.2 in /usr/local/lib/python3.7/dist-packages (from cufflinks) (1.1.5)\n",
            "Requirement already satisfied, skipping upgrade: ipywidgets>=7.0.0 in /usr/local/lib/python3.7/dist-packages (from cufflinks) (7.6.3)\n",
            "Requirement already satisfied, skipping upgrade: setuptools>=34.4.1 in /usr/local/lib/python3.7/dist-packages (from cufflinks) (56.0.0)\n",
            "Requirement already satisfied, skipping upgrade: ipython>=5.3.0 in /usr/local/lib/python3.7/dist-packages (from cufflinks) (5.5.0)\n",
            "Requirement already satisfied, skipping upgrade: colorlover>=0.2.1 in /usr/local/lib/python3.7/dist-packages (from cufflinks) (0.3.0)\n",
            "Requirement already satisfied, skipping upgrade: six>=1.9.0 in /usr/local/lib/python3.7/dist-packages (from cufflinks) (1.15.0)\n",
            "Requirement already satisfied, skipping upgrade: plotly>=4.1.1 in /usr/local/lib/python3.7/dist-packages (from cufflinks) (4.14.3)\n",
            "Requirement already satisfied, skipping upgrade: python-dateutil>=2.7.3 in /usr/local/lib/python3.7/dist-packages (from pandas>=0.19.2->cufflinks) (2.8.1)\n",
            "Requirement already satisfied, skipping upgrade: pytz>=2017.2 in /usr/local/lib/python3.7/dist-packages (from pandas>=0.19.2->cufflinks) (2018.9)\n",
            "Requirement already satisfied, skipping upgrade: widgetsnbextension~=3.5.0 in /usr/local/lib/python3.7/dist-packages (from ipywidgets>=7.0.0->cufflinks) (3.5.1)\n",
            "Requirement already satisfied, skipping upgrade: nbformat>=4.2.0 in /usr/local/lib/python3.7/dist-packages (from ipywidgets>=7.0.0->cufflinks) (5.1.3)\n",
            "Requirement already satisfied, skipping upgrade: traitlets>=4.3.1 in /usr/local/lib/python3.7/dist-packages (from ipywidgets>=7.0.0->cufflinks) (5.0.5)\n",
            "Requirement already satisfied, skipping upgrade: jupyterlab-widgets>=1.0.0; python_version >= \"3.6\" in /usr/local/lib/python3.7/dist-packages (from ipywidgets>=7.0.0->cufflinks) (1.0.0)\n",
            "Requirement already satisfied, skipping upgrade: ipykernel>=4.5.1 in /usr/local/lib/python3.7/dist-packages (from ipywidgets>=7.0.0->cufflinks) (4.10.1)\n",
            "Requirement already satisfied, skipping upgrade: simplegeneric>0.8 in /usr/local/lib/python3.7/dist-packages (from ipython>=5.3.0->cufflinks) (0.8.1)\n",
            "Requirement already satisfied, skipping upgrade: pexpect; sys_platform != \"win32\" in /usr/local/lib/python3.7/dist-packages (from ipython>=5.3.0->cufflinks) (4.8.0)\n",
            "Requirement already satisfied, skipping upgrade: prompt-toolkit<2.0.0,>=1.0.4 in /usr/local/lib/python3.7/dist-packages (from ipython>=5.3.0->cufflinks) (1.0.18)\n",
            "Requirement already satisfied, skipping upgrade: pickleshare in /usr/local/lib/python3.7/dist-packages (from ipython>=5.3.0->cufflinks) (0.7.5)\n",
            "Requirement already satisfied, skipping upgrade: decorator in /usr/local/lib/python3.7/dist-packages (from ipython>=5.3.0->cufflinks) (4.4.2)\n",
            "Requirement already satisfied, skipping upgrade: pygments in /usr/local/lib/python3.7/dist-packages (from ipython>=5.3.0->cufflinks) (2.6.1)\n",
            "Requirement already satisfied, skipping upgrade: retrying>=1.3.3 in /usr/local/lib/python3.7/dist-packages (from plotly>=4.1.1->cufflinks) (1.3.3)\n",
            "Requirement already satisfied, skipping upgrade: notebook>=4.4.1 in /usr/local/lib/python3.7/dist-packages (from widgetsnbextension~=3.5.0->ipywidgets>=7.0.0->cufflinks) (5.3.1)\n",
            "Requirement already satisfied, skipping upgrade: ipython-genutils in /usr/local/lib/python3.7/dist-packages (from nbformat>=4.2.0->ipywidgets>=7.0.0->cufflinks) (0.2.0)\n",
            "Requirement already satisfied, skipping upgrade: jsonschema!=2.5.0,>=2.4 in /usr/local/lib/python3.7/dist-packages (from nbformat>=4.2.0->ipywidgets>=7.0.0->cufflinks) (2.6.0)\n",
            "Requirement already satisfied, skipping upgrade: jupyter-core in /usr/local/lib/python3.7/dist-packages (from nbformat>=4.2.0->ipywidgets>=7.0.0->cufflinks) (4.7.1)\n",
            "Requirement already satisfied, skipping upgrade: jupyter-client in /usr/local/lib/python3.7/dist-packages (from ipykernel>=4.5.1->ipywidgets>=7.0.0->cufflinks) (5.3.5)\n",
            "Requirement already satisfied, skipping upgrade: tornado>=4.0 in /usr/local/lib/python3.7/dist-packages (from ipykernel>=4.5.1->ipywidgets>=7.0.0->cufflinks) (5.1.1)\n",
            "Requirement already satisfied, skipping upgrade: ptyprocess>=0.5 in /usr/local/lib/python3.7/dist-packages (from pexpect; sys_platform != \"win32\"->ipython>=5.3.0->cufflinks) (0.7.0)\n",
            "Requirement already satisfied, skipping upgrade: wcwidth in /usr/local/lib/python3.7/dist-packages (from prompt-toolkit<2.0.0,>=1.0.4->ipython>=5.3.0->cufflinks) (0.2.5)\n",
            "Requirement already satisfied, skipping upgrade: nbconvert in /usr/local/lib/python3.7/dist-packages (from notebook>=4.4.1->widgetsnbextension~=3.5.0->ipywidgets>=7.0.0->cufflinks) (5.6.1)\n",
            "Requirement already satisfied, skipping upgrade: jinja2 in /usr/local/lib/python3.7/dist-packages (from notebook>=4.4.1->widgetsnbextension~=3.5.0->ipywidgets>=7.0.0->cufflinks) (2.11.3)\n",
            "Requirement already satisfied, skipping upgrade: Send2Trash in /usr/local/lib/python3.7/dist-packages (from notebook>=4.4.1->widgetsnbextension~=3.5.0->ipywidgets>=7.0.0->cufflinks) (1.5.0)\n",
            "Requirement already satisfied, skipping upgrade: terminado>=0.8.1 in /usr/local/lib/python3.7/dist-packages (from notebook>=4.4.1->widgetsnbextension~=3.5.0->ipywidgets>=7.0.0->cufflinks) (0.9.4)\n",
            "Requirement already satisfied, skipping upgrade: pyzmq>=13 in /usr/local/lib/python3.7/dist-packages (from jupyter-client->ipykernel>=4.5.1->ipywidgets>=7.0.0->cufflinks) (22.0.3)\n",
            "Requirement already satisfied, skipping upgrade: testpath in /usr/local/lib/python3.7/dist-packages (from nbconvert->notebook>=4.4.1->widgetsnbextension~=3.5.0->ipywidgets>=7.0.0->cufflinks) (0.4.4)\n",
            "Requirement already satisfied, skipping upgrade: bleach in /usr/local/lib/python3.7/dist-packages (from nbconvert->notebook>=4.4.1->widgetsnbextension~=3.5.0->ipywidgets>=7.0.0->cufflinks) (3.3.0)\n",
            "Requirement already satisfied, skipping upgrade: defusedxml in /usr/local/lib/python3.7/dist-packages (from nbconvert->notebook>=4.4.1->widgetsnbextension~=3.5.0->ipywidgets>=7.0.0->cufflinks) (0.7.1)\n",
            "Requirement already satisfied, skipping upgrade: entrypoints>=0.2.2 in /usr/local/lib/python3.7/dist-packages (from nbconvert->notebook>=4.4.1->widgetsnbextension~=3.5.0->ipywidgets>=7.0.0->cufflinks) (0.3)\n",
            "Requirement already satisfied, skipping upgrade: pandocfilters>=1.4.1 in /usr/local/lib/python3.7/dist-packages (from nbconvert->notebook>=4.4.1->widgetsnbextension~=3.5.0->ipywidgets>=7.0.0->cufflinks) (1.4.3)\n",
            "Requirement already satisfied, skipping upgrade: mistune<2,>=0.8.1 in /usr/local/lib/python3.7/dist-packages (from nbconvert->notebook>=4.4.1->widgetsnbextension~=3.5.0->ipywidgets>=7.0.0->cufflinks) (0.8.4)\n",
            "Requirement already satisfied, skipping upgrade: MarkupSafe>=0.23 in /usr/local/lib/python3.7/dist-packages (from jinja2->notebook>=4.4.1->widgetsnbextension~=3.5.0->ipywidgets>=7.0.0->cufflinks) (1.1.1)\n",
            "Requirement already satisfied, skipping upgrade: webencodings in /usr/local/lib/python3.7/dist-packages (from bleach->nbconvert->notebook>=4.4.1->widgetsnbextension~=3.5.0->ipywidgets>=7.0.0->cufflinks) (0.5.1)\n",
            "Requirement already satisfied, skipping upgrade: packaging in /usr/local/lib/python3.7/dist-packages (from bleach->nbconvert->notebook>=4.4.1->widgetsnbextension~=3.5.0->ipywidgets>=7.0.0->cufflinks) (20.9)\n",
            "Requirement already satisfied, skipping upgrade: pyparsing>=2.0.2 in /usr/local/lib/python3.7/dist-packages (from packaging->bleach->nbconvert->notebook>=4.4.1->widgetsnbextension~=3.5.0->ipywidgets>=7.0.0->cufflinks) (2.4.7)\n"
          ],
          "name": "stdout"
        }
      ]
    },
    {
      "cell_type": "markdown",
      "metadata": {
        "id": "EO-rV1CRq4V7"
      },
      "source": [
        "## 4.2 chart_studio , cufflinks import"
      ]
    },
    {
      "cell_type": "code",
      "metadata": {
        "colab": {
          "base_uri": "https://localhost:8080/",
          "height": 17
        },
        "id": "hzWiSTegq-0X",
        "outputId": "be22c455-bafa-4dce-d4b6-ee29611a35c0"
      },
      "source": [
        "import chart_studio.plotly as pt\n",
        "import cufflinks as cf\n",
        "cf.go_offline(connected=True)"
      ],
      "execution_count": 27,
      "outputs": [
        {
          "output_type": "display_data",
          "data": {
            "text/html": [
              "        <script type=\"text/javascript\">\n",
              "        window.PlotlyConfig = {MathJaxConfig: 'local'};\n",
              "        if (window.MathJax) {MathJax.Hub.Config({SVG: {font: \"STIX-Web\"}});}\n",
              "        if (typeof require !== 'undefined') {\n",
              "        require.undef(\"plotly\");\n",
              "        requirejs.config({\n",
              "            paths: {\n",
              "                'plotly': ['https://cdn.plot.ly/plotly-latest.min']\n",
              "            }\n",
              "        });\n",
              "        require(['plotly'], function(Plotly) {\n",
              "            window._Plotly = Plotly;\n",
              "        });\n",
              "        }\n",
              "        </script>\n",
              "        "
            ]
          },
          "metadata": {
            "tags": []
          }
        }
      ]
    },
    {
      "cell_type": "code",
      "metadata": {
        "colab": {
          "base_uri": "https://localhost:8080/",
          "height": 333
        },
        "id": "7ALALpI9raoG",
        "outputId": "6d4c074b-22de-4b96-9f76-8526ab099298"
      },
      "source": [
        "\n",
        "df_grp_site.plot(kind='bar') # graph kind bar | hist | scatter"
      ],
      "execution_count": 33,
      "outputs": [
        {
          "output_type": "execute_result",
          "data": {
            "text/plain": [
              "<matplotlib.axes._subplots.AxesSubplot at 0x7f63ca257e90>"
            ]
          },
          "metadata": {
            "tags": []
          },
          "execution_count": 33
        },
        {
          "output_type": "display_data",
          "data": {
            "image/png": "[encoded data removed]",
            "text/plain": [
              "<Figure size 432x288 with 1 Axes>"
            ]
          },
          "metadata": {
            "tags": [],
            "needs_background": "light"
          }
        }
      ]
    }
  ]
}