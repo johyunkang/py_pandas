{
  "nbformat": 4,
  "nbformat_minor": 0,
  "metadata": {
    "colab": {
      "name": "excel_pandas.ipynb",
      "provenance": [],
      "toc_visible": true,
      "mount_file_id": "1K9-k9rKQzmW9dkZ6U_WeAvSAgBVBtAqH",
      "authorship_tag": "ABX9TyPftWAIDFHuOHoj3eitoOcT",
      "include_colab_link": true
    },
    "kernelspec": {
      "name": "python3",
      "display_name": "Python 3"
    },
    "language_info": {
      "name": "python"
    }
  },
  "cells": [
    {
      "cell_type": "markdown",
      "metadata": {
        "id": "view-in-github",
        "colab_type": "text"
      },
      "source": [
        "<a href=\"https://colab.research.google.com/github/johyunkang/py_pandas/blob/main/excel_pandas.ipynb\" target=\"_parent\"><img src=\"https://colab.research.google.com/assets/colab-badge.svg\" alt=\"Open In Colab\"/></a>"
      ]
    },
    {
      "cell_type": "markdown",
      "metadata": {
        "id": "pyT7WMgPGfpY"
      },
      "source": [
        "# Pandas 를 이용한 엑셀 문서 편집 방법"
      ]
    },
    {
      "cell_type": "markdown",
      "metadata": {
        "id": "9g1ZWuygGq_O"
      },
      "source": [
        "### 1. 엑셀 문서를 불러오기 위한 드라이브 마운트"
      ]
    },
    {
      "cell_type": "code",
      "metadata": {
        "colab": {
          "base_uri": "https://localhost:8080/"
        },
        "id": "g8ExbYXNHBO4",
        "outputId": "0d28b06d-4921-4b60-90d3-0235a8254d26"
      },
      "source": [
        "from google.colab import drive\n",
        "drive.mount('/content/drive')"
      ],
      "execution_count": 1,
      "outputs": [
        {
          "output_type": "stream",
          "text": [
            "Drive already mounted at /content/drive; to attempt to forcibly remount, call drive.mount(\"/content/drive\", force_remount=True).\n"
          ],
          "name": "stdout"
        }
      ]
    },
    {
      "cell_type": "markdown",
      "metadata": {
        "id": "qLBzk6iJGfBI"
      },
      "source": [
        "### 2. 엑셀 파일 경로 설정"
      ]
    },
    {
      "cell_type": "code",
      "metadata": {
        "colab": {
          "base_uri": "https://localhost:8080/",
          "height": 204
        },
        "id": "pnfMOp0rHSHS",
        "outputId": "01f499b1-dfae-43f8-b670-5e4f548c02ee"
      },
      "source": [
        "import pandas as pd\n",
        "PATH = '/content/drive/MyDrive/colab/'\n",
        "\n",
        "df = pd.read_excel(PATH + 'raw_file.xlsx')\n",
        "df.head()"
      ],
      "execution_count": 3,
      "outputs": [
        {
          "output_type": "execute_result",
          "data": {
            "text/html": [
              "<div>\n",
              "<style scoped>\n",
              "    .dataframe tbody tr th:only-of-type {\n",
              "        vertical-align: middle;\n",
              "    }\n",
              "\n",
              "    .dataframe tbody tr th {\n",
              "        vertical-align: top;\n",
              "    }\n",
              "\n",
              "    .dataframe thead th {\n",
              "        text-align: right;\n",
              "    }\n",
              "</style>\n",
              "<table border=\"1\" class=\"dataframe\">\n",
              "  <thead>\n",
              "    <tr style=\"text-align: right;\">\n",
              "      <th></th>\n",
              "      <th>name</th>\n",
              "      <th>bs_ymd</th>\n",
              "      <th>site_nm</th>\n",
              "      <th>site_nm1</th>\n",
              "      <th>site_nm2</th>\n",
              "      <th>cnt</th>\n",
              "    </tr>\n",
              "  </thead>\n",
              "  <tbody>\n",
              "    <tr>\n",
              "      <th>0</th>\n",
              "      <td>손나은</td>\n",
              "      <td>20210222</td>\n",
              "      <td>samsung</td>\n",
              "      <td>samsung</td>\n",
              "      <td>NaN</td>\n",
              "      <td>1.0</td>\n",
              "    </tr>\n",
              "    <tr>\n",
              "      <th>1</th>\n",
              "      <td>성유리</td>\n",
              "      <td>20210222</td>\n",
              "      <td>hld</td>\n",
              "      <td>hld</td>\n",
              "      <td>NaN</td>\n",
              "      <td>1.0</td>\n",
              "    </tr>\n",
              "    <tr>\n",
              "      <th>2</th>\n",
              "      <td>현아</td>\n",
              "      <td>20210222</td>\n",
              "      <td>ksp</td>\n",
              "      <td>ksp</td>\n",
              "      <td>NaN</td>\n",
              "      <td>1.0</td>\n",
              "    </tr>\n",
              "    <tr>\n",
              "      <th>3</th>\n",
              "      <td>나연</td>\n",
              "      <td>20210222</td>\n",
              "      <td>bnk</td>\n",
              "      <td>bnk</td>\n",
              "      <td>NaN</td>\n",
              "      <td>1.0</td>\n",
              "    </tr>\n",
              "    <tr>\n",
              "      <th>4</th>\n",
              "      <td>다연</td>\n",
              "      <td>20210222</td>\n",
              "      <td>mg</td>\n",
              "      <td>mg</td>\n",
              "      <td>NaN</td>\n",
              "      <td>1.0</td>\n",
              "    </tr>\n",
              "  </tbody>\n",
              "</table>\n",
              "</div>"
            ],
            "text/plain": [
              "  name    bs_ymd  site_nm site_nm1 site_nm2  cnt\n",
              "0  손나은  20210222  samsung  samsung      NaN  1.0\n",
              "1  성유리  20210222      hld      hld      NaN  1.0\n",
              "2   현아  20210222      ksp      ksp      NaN  1.0\n",
              "3   나연  20210222      bnk      bnk      NaN  1.0\n",
              "4   다연  20210222       mg       mg      NaN  1.0"
            ]
          },
          "metadata": {
            "tags": []
          },
          "execution_count": 3
        }
      ]
    },
    {
      "cell_type": "markdown",
      "metadata": {
        "id": "ARjiTNKNGZ9P"
      },
      "source": [
        ""
      ]
    },
    {
      "cell_type": "markdown",
      "metadata": {
        "id": "T9PErVonGXwZ"
      },
      "source": [
        ""
      ]
    }
  ]
}