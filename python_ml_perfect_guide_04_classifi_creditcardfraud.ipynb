{
  "nbformat": 4,
  "nbformat_minor": 0,
  "metadata": {
    "colab": {
      "name": "python_ml_perfect_guide_04_classifi_creditcardfraud.ipynb",
      "provenance": [],
      "collapsed_sections": [],
      "mount_file_id": "1FWb1E2OaFgddkWDsp6dTaDPJ2Ni-VKUM",
      "authorship_tag": "ABX9TyPzB1kbpo7UYOhMjtdXLf2O",
      "include_colab_link": true
    },
    "kernelspec": {
      "name": "python3",
      "display_name": "Python 3"
    },
    "language_info": {
      "name": "python"
    }
  },
  "cells": [
    {
      "cell_type": "markdown",
      "metadata": {
        "id": "view-in-github",
        "colab_type": "text"
      },
      "source": [
        "<a href=\"https://colab.research.google.com/github/johyunkang/py_pandas/blob/main/python_ml_perfect_guide_04_classifi_creditcardfraud.ipynb\" target=\"_parent\"><img src=\"https://colab.research.google.com/assets/colab-badge.svg\" alt=\"Open In Colab\"/></a>"
      ]
    },
    {
      "cell_type": "markdown",
      "metadata": {
        "id": "kRSZ5cROouqg"
      },
      "source": [
        "## Credit Card Fraud Detection\n",
        "### Under sampling and Over sampling\n",
        "해당 데이터 세트의 레이블인 Class 속성은 매우 불균형한 분포를 가지고 있음.\n",
        "Class는 0과 1로 분류 되는데, 0은 정상, 1은 신용카드 사기 트랜잭션을 의미.\n",
        "전체 데이터의 약 0.172%만이 사기 트랜잭션.\n",
        "\n",
        "지도학습에서 극도로 불균형한 레이블 값 분포로 인한 문제점을 해결하기 위해서는 적절한 학습 데이터를 확보하는 방안이 필요한데,\n",
        "대표적으로 언더 샘플링과 오버 샘플링이 있음.\n",
        "오버 샘플링 방식이 예측 성능상 더 유리한 경우가 많아 주로 사용됨."
      ]
    },
    {
      "cell_type": "code",
      "metadata": {
        "colab": {
          "base_uri": "https://localhost:8080/",
          "height": 224
        },
        "id": "YHu5za-Ih1Fc",
        "outputId": "8af6ac45-3168-4640-c688-ddbd097cec29"
      },
      "source": [
        "import pandas as pd\n",
        "import numpy as np\n",
        "import matplotlib.pyplot as plt\n",
        "import warnings\n",
        "warnings.filterwarnings('ignore')\n",
        "%matplotlib inline\n",
        "\n",
        "df = pd.read_csv('/content/drive/MyDrive/Colab Notebooks/data/credit_crad_fraud_detection/creditcard.csv')\n",
        "df.head()"
      ],
      "execution_count": null,
      "outputs": [
        {
          "output_type": "execute_result",
          "data": {
            "text/html": [
              "<div>\n",
              "<style scoped>\n",
              "    .dataframe tbody tr th:only-of-type {\n",
              "        vertical-align: middle;\n",
              "    }\n",
              "\n",
              "    .dataframe tbody tr th {\n",
              "        vertical-align: top;\n",
              "    }\n",
              "\n",
              "    .dataframe thead th {\n",
              "        text-align: right;\n",
              "    }\n",
              "</style>\n",
              "<table border=\"1\" class=\"dataframe\">\n",
              "  <thead>\n",
              "    <tr style=\"text-align: right;\">\n",
              "      <th></th>\n",
              "      <th>Time</th>\n",
              "      <th>V1</th>\n",
              "      <th>V2</th>\n",
              "      <th>V3</th>\n",
              "      <th>V4</th>\n",
              "      <th>V5</th>\n",
              "      <th>V6</th>\n",
              "      <th>V7</th>\n",
              "      <th>V8</th>\n",
              "      <th>V9</th>\n",
              "      <th>V10</th>\n",
              "      <th>V11</th>\n",
              "      <th>V12</th>\n",
              "      <th>V13</th>\n",
              "      <th>V14</th>\n",
              "      <th>V15</th>\n",
              "      <th>V16</th>\n",
              "      <th>V17</th>\n",
              "      <th>V18</th>\n",
              "      <th>V19</th>\n",
              "      <th>V20</th>\n",
              "      <th>V21</th>\n",
              "      <th>V22</th>\n",
              "      <th>V23</th>\n",
              "      <th>V24</th>\n",
              "      <th>V25</th>\n",
              "      <th>V26</th>\n",
              "      <th>V27</th>\n",
              "      <th>V28</th>\n",
              "      <th>Amount</th>\n",
              "      <th>Class</th>\n",
              "    </tr>\n",
              "  </thead>\n",
              "  <tbody>\n",
              "    <tr>\n",
              "      <th>0</th>\n",
              "      <td>0.0</td>\n",
              "      <td>-1.359807</td>\n",
              "      <td>-0.072781</td>\n",
              "      <td>2.536347</td>\n",
              "      <td>1.378155</td>\n",
              "      <td>-0.338321</td>\n",
              "      <td>0.462388</td>\n",
              "      <td>0.239599</td>\n",
              "      <td>0.098698</td>\n",
              "      <td>0.363787</td>\n",
              "      <td>0.090794</td>\n",
              "      <td>-0.551600</td>\n",
              "      <td>-0.617801</td>\n",
              "      <td>-0.991390</td>\n",
              "      <td>-0.311169</td>\n",
              "      <td>1.468177</td>\n",
              "      <td>-0.470401</td>\n",
              "      <td>0.207971</td>\n",
              "      <td>0.025791</td>\n",
              "      <td>0.403993</td>\n",
              "      <td>0.251412</td>\n",
              "      <td>-0.018307</td>\n",
              "      <td>0.277838</td>\n",
              "      <td>-0.110474</td>\n",
              "      <td>0.066928</td>\n",
              "      <td>0.128539</td>\n",
              "      <td>-0.189115</td>\n",
              "      <td>0.133558</td>\n",
              "      <td>-0.021053</td>\n",
              "      <td>149.62</td>\n",
              "      <td>0</td>\n",
              "    </tr>\n",
              "    <tr>\n",
              "      <th>1</th>\n",
              "      <td>0.0</td>\n",
              "      <td>1.191857</td>\n",
              "      <td>0.266151</td>\n",
              "      <td>0.166480</td>\n",
              "      <td>0.448154</td>\n",
              "      <td>0.060018</td>\n",
              "      <td>-0.082361</td>\n",
              "      <td>-0.078803</td>\n",
              "      <td>0.085102</td>\n",
              "      <td>-0.255425</td>\n",
              "      <td>-0.166974</td>\n",
              "      <td>1.612727</td>\n",
              "      <td>1.065235</td>\n",
              "      <td>0.489095</td>\n",
              "      <td>-0.143772</td>\n",
              "      <td>0.635558</td>\n",
              "      <td>0.463917</td>\n",
              "      <td>-0.114805</td>\n",
              "      <td>-0.183361</td>\n",
              "      <td>-0.145783</td>\n",
              "      <td>-0.069083</td>\n",
              "      <td>-0.225775</td>\n",
              "      <td>-0.638672</td>\n",
              "      <td>0.101288</td>\n",
              "      <td>-0.339846</td>\n",
              "      <td>0.167170</td>\n",
              "      <td>0.125895</td>\n",
              "      <td>-0.008983</td>\n",
              "      <td>0.014724</td>\n",
              "      <td>2.69</td>\n",
              "      <td>0</td>\n",
              "    </tr>\n",
              "    <tr>\n",
              "      <th>2</th>\n",
              "      <td>1.0</td>\n",
              "      <td>-1.358354</td>\n",
              "      <td>-1.340163</td>\n",
              "      <td>1.773209</td>\n",
              "      <td>0.379780</td>\n",
              "      <td>-0.503198</td>\n",
              "      <td>1.800499</td>\n",
              "      <td>0.791461</td>\n",
              "      <td>0.247676</td>\n",
              "      <td>-1.514654</td>\n",
              "      <td>0.207643</td>\n",
              "      <td>0.624501</td>\n",
              "      <td>0.066084</td>\n",
              "      <td>0.717293</td>\n",
              "      <td>-0.165946</td>\n",
              "      <td>2.345865</td>\n",
              "      <td>-2.890083</td>\n",
              "      <td>1.109969</td>\n",
              "      <td>-0.121359</td>\n",
              "      <td>-2.261857</td>\n",
              "      <td>0.524980</td>\n",
              "      <td>0.247998</td>\n",
              "      <td>0.771679</td>\n",
              "      <td>0.909412</td>\n",
              "      <td>-0.689281</td>\n",
              "      <td>-0.327642</td>\n",
              "      <td>-0.139097</td>\n",
              "      <td>-0.055353</td>\n",
              "      <td>-0.059752</td>\n",
              "      <td>378.66</td>\n",
              "      <td>0</td>\n",
              "    </tr>\n",
              "    <tr>\n",
              "      <th>3</th>\n",
              "      <td>1.0</td>\n",
              "      <td>-0.966272</td>\n",
              "      <td>-0.185226</td>\n",
              "      <td>1.792993</td>\n",
              "      <td>-0.863291</td>\n",
              "      <td>-0.010309</td>\n",
              "      <td>1.247203</td>\n",
              "      <td>0.237609</td>\n",
              "      <td>0.377436</td>\n",
              "      <td>-1.387024</td>\n",
              "      <td>-0.054952</td>\n",
              "      <td>-0.226487</td>\n",
              "      <td>0.178228</td>\n",
              "      <td>0.507757</td>\n",
              "      <td>-0.287924</td>\n",
              "      <td>-0.631418</td>\n",
              "      <td>-1.059647</td>\n",
              "      <td>-0.684093</td>\n",
              "      <td>1.965775</td>\n",
              "      <td>-1.232622</td>\n",
              "      <td>-0.208038</td>\n",
              "      <td>-0.108300</td>\n",
              "      <td>0.005274</td>\n",
              "      <td>-0.190321</td>\n",
              "      <td>-1.175575</td>\n",
              "      <td>0.647376</td>\n",
              "      <td>-0.221929</td>\n",
              "      <td>0.062723</td>\n",
              "      <td>0.061458</td>\n",
              "      <td>123.50</td>\n",
              "      <td>0</td>\n",
              "    </tr>\n",
              "    <tr>\n",
              "      <th>4</th>\n",
              "      <td>2.0</td>\n",
              "      <td>-1.158233</td>\n",
              "      <td>0.877737</td>\n",
              "      <td>1.548718</td>\n",
              "      <td>0.403034</td>\n",
              "      <td>-0.407193</td>\n",
              "      <td>0.095921</td>\n",
              "      <td>0.592941</td>\n",
              "      <td>-0.270533</td>\n",
              "      <td>0.817739</td>\n",
              "      <td>0.753074</td>\n",
              "      <td>-0.822843</td>\n",
              "      <td>0.538196</td>\n",
              "      <td>1.345852</td>\n",
              "      <td>-1.119670</td>\n",
              "      <td>0.175121</td>\n",
              "      <td>-0.451449</td>\n",
              "      <td>-0.237033</td>\n",
              "      <td>-0.038195</td>\n",
              "      <td>0.803487</td>\n",
              "      <td>0.408542</td>\n",
              "      <td>-0.009431</td>\n",
              "      <td>0.798278</td>\n",
              "      <td>-0.137458</td>\n",
              "      <td>0.141267</td>\n",
              "      <td>-0.206010</td>\n",
              "      <td>0.502292</td>\n",
              "      <td>0.219422</td>\n",
              "      <td>0.215153</td>\n",
              "      <td>69.99</td>\n",
              "      <td>0</td>\n",
              "    </tr>\n",
              "  </tbody>\n",
              "</table>\n",
              "</div>"
            ],
            "text/plain": [
              "   Time        V1        V2        V3  ...       V27       V28  Amount  Class\n",
              "0   0.0 -1.359807 -0.072781  2.536347  ...  0.133558 -0.021053  149.62      0\n",
              "1   0.0  1.191857  0.266151  0.166480  ... -0.008983  0.014724    2.69      0\n",
              "2   1.0 -1.358354 -1.340163  1.773209  ... -0.055353 -0.059752  378.66      0\n",
              "3   1.0 -0.966272 -0.185226  1.792993  ...  0.062723  0.061458  123.50      0\n",
              "4   2.0 -1.158233  0.877737  1.548718  ...  0.219422  0.215153   69.99      0\n",
              "\n",
              "[5 rows x 31 columns]"
            ]
          },
          "metadata": {},
          "execution_count": 1
        }
      ]
    },
    {
      "cell_type": "code",
      "metadata": {
        "id": "h_q59SrUo-ID"
      },
      "source": [
        "from sklearn.model_selection import train_test_split\n",
        "\n",
        "# 인자로 입력받은 DF를 복사한 뒤 Time 컬럼만 삭제하고 복사된 DF를 반환\n",
        "def get_preprocessed_df(df=None) :\n",
        "    df_copy = df.copy()\n",
        "    df_copy.drop('Time', axis=1, inplace=True)\n",
        "    return df_copy"
      ],
      "execution_count": null,
      "outputs": []
    },
    {
      "cell_type": "code",
      "metadata": {
        "id": "qL98CHAwo_6q"
      },
      "source": [
        "# 사전 데이터 가공 후 학습과 데이터 세트를 반환하는 함수\n",
        "def get_train_test_dataset(df=None) :\n",
        "    # 인자로 입력된 DF의 사전 데이터 가공이 완료된 복사 DF 반환\n",
        "    df_copy = get_preprocessed_df(df)\n",
        "    \n",
        "    # DF의 맨마지막 컬럼이 레이블, 나머지는 피처들\n",
        "    x_features = df_copy.iloc[:, :-1]\n",
        "    y_target = df_copy.iloc[:, -1]\n",
        "    \n",
        "    # train_test_split() 으로 학습과 테스트 데이터 분할\n",
        "    # stratify = y_target으로 Stratified 기반 분할\n",
        "    x_train, x_test, y_train, y_test = train_test_split(x_features, y_target, test_size=0.3, \\\n",
        "                                                        random_state=0, stratify = y_target)\n",
        "    \n",
        "    # 학습과 테스트 데이터 세트 반환\n",
        "    return x_train, x_test, y_train, y_test"
      ],
      "execution_count": null,
      "outputs": []
    },
    {
      "cell_type": "code",
      "metadata": {
        "colab": {
          "base_uri": "https://localhost:8080/"
        },
        "id": "B0Sev6fGpCVT",
        "outputId": "dfaaa807-bda1-452c-af78-ddd2d4ff3a51"
      },
      "source": [
        "x_train, x_test, y_train, y_test = get_train_test_dataset(df)\n",
        "print('학습 데이터 레이블 값 비율')\n",
        "print(y_train.value_counts() / y_train.shape[0] * 100)\n",
        "print('\\n테스트 데이터 레이블 값 비율')\n",
        "print(y_test.value_counts() / y_test.shape[0] * 100)\n",
        "print('y_train.shape:', y_train.shape)"
      ],
      "execution_count": null,
      "outputs": [
        {
          "output_type": "stream",
          "name": "stdout",
          "text": [
            "학습 데이터 레이블 값 비율\n",
            "0    99.827451\n",
            "1     0.172549\n",
            "Name: Class, dtype: float64\n",
            "\n",
            "테스트 데이터 레이블 값 비율\n",
            "0    99.826785\n",
            "1     0.173215\n",
            "Name: Class, dtype: float64\n",
            "y_train.shape: (199364,)\n"
          ]
        }
      ]
    },
    {
      "cell_type": "code",
      "metadata": {
        "id": "FJek4Z0cpFCQ"
      },
      "source": [
        "from sklearn.metrics import accuracy_score, precision_score, recall_score, roc_auc_score\n",
        "from sklearn.metrics import f1_score, confusion_matrix, precision_recall_curve, roc_curve\n",
        "\n",
        "def get_clf_eval(y_test, pred=None, pred_proba=None) :\n",
        "    confusion = confusion_matrix(y_test, pred)\n",
        "    accuracy = accuracy_score(y_test, pred)\n",
        "    precision = precision_score(y_test, pred)\n",
        "    recall = recall_score(y_test, pred)\n",
        "    f1 = f1_score(y_test, pred)\n",
        "    roc_auc = roc_auc_score(y_test, pred_proba)\n",
        "\n",
        "    print('오차행렬')\n",
        "    print(confusion)\n",
        "    print('\\n 정확도:{0:.4f}, 정밀도:{1:.4f}, 재현율:{2:.4f},\\\n",
        "            F1:{3:.4f}, AUC:{4:.4f}'.format(accuracy, precision, recall, f1, roc_auc))"
      ],
      "execution_count": null,
      "outputs": []
    },
    {
      "cell_type": "code",
      "metadata": {
        "colab": {
          "base_uri": "https://localhost:8080/"
        },
        "id": "oIIxTgNtpG4f",
        "outputId": "42773766-88cb-4dec-f8ce-d0105fef1165"
      },
      "source": [
        "from sklearn.linear_model import LogisticRegression\n",
        "\n",
        "lr = LogisticRegression()\n",
        "# print(x_train.info())\n",
        "# print('n y_train \\n')\n",
        "# print(y_train)\n",
        "lr.fit(x_train, y_train)\n",
        "lr_pred = lr.predict(x_test)\n",
        "lr_pred_proba = lr.predict_proba(x_test)[:, 1]\n",
        "\n",
        "get_clf_eval(y_test, lr_pred, lr_pred_proba)"
      ],
      "execution_count": null,
      "outputs": [
        {
          "output_type": "stream",
          "name": "stdout",
          "text": [
            "오차행렬\n",
            "[[85280    15]\n",
            " [   55    93]]\n",
            "\n",
            " 정확도:0.9992, 정밀도:0.8611, 재현율:0.6284,            F1:0.7266, AUC:0.9568\n"
          ]
        }
      ]
    },
    {
      "cell_type": "code",
      "metadata": {
        "id": "cZfADBY-swbP"
      },
      "source": [
        "# 인자로 사이킷런의 Estimator 객체와 학습 / 테스트 데이터 세트를 입력 받아서 학습 / 예측 / 평가 수행\n",
        "def get_model_train_eval(model, ftr_train=None, ftr_test=None, tgt_train=None, tgt_test=None) :\n",
        "    model.fit(ftr_train, tgt_train)\n",
        "    pred = model.predict(ftr_test)\n",
        "    pred_proba = model.predict_proba(ftr_test)[:, 1]\n",
        "    get_clf_eval(tgt_test, pred, pred_proba)"
      ],
      "execution_count": null,
      "outputs": []
    },
    {
      "cell_type": "markdown",
      "metadata": {
        "id": "sA76J4d6sxs4"
      },
      "source": [
        "**주의**  \n",
        "LightGBM 이 버전업 되면서 ```boost_from_average``` 파라미터의 디폴트 값이 False 에서 True 로 변경되었습니다. 본 예제와 같이 레이블 값이 극도로 불균형한 분포를 이루는 경우 ```boost_from_average=True``` 설정은 재현율(Recall) 및 ROC-AUC 성능을 매우 크게 저하시킵니다.\n",
        "\n",
        "LightGBM 2.1.0 이상의 버전이 설치되어 있거나 불균형한 데이터 세트에서 예측 성능이 매우 저조할 경우 LGBMClassifier 객체 생성 시 ```boost_from_average=False``` 로 파라미터를 설정해야 합니다.\n",
        "\n",
        "\n",
        "[LightGBM Issue 참조](https://github.com/Microsoft/LightGBM/issues/1487)"
      ]
    },
    {
      "cell_type": "code",
      "metadata": {
        "colab": {
          "base_uri": "https://localhost:8080/"
        },
        "id": "Bl0WDoSZs4yk",
        "outputId": "e3bc2d88-61d1-4f1f-a586-6d9ccb5cd4dd"
      },
      "source": [
        "from lightgbm import LGBMClassifier\n",
        "\n",
        "lgbm = LGBMClassifier(n_estimators=1000, num_leaves=64, n_jobs=-1, boost_from_average=True)\n",
        "\n",
        "get_model_train_eval(lgbm, ftr_train=x_train, ftr_test=x_test, tgt_train=y_train, tgt_test=y_test)\n",
        "\n",
        "# boost_from_average=False 로 입력 시 결과값\n",
        "# 오차행렬\n",
        "# [[85289     6]\n",
        "#  [   36   112]]\n",
        "#  정확도:0.9995, 정밀도:0.9492, 재현율:0.7568,            F1:0.8421, AUC:0.9797\n",
        "\n",
        "\n",
        "# boost_from_average=True 로 입력 시 결과값\n",
        "# 오차행렬\n",
        "# [[85261    34]\n",
        "#  [   74    74]]\n",
        "#  정확도:0.9987, 정밀도:0.6852, 재현율:0.5000,            F1:0.5781, AUC:0.7531"
      ],
      "execution_count": null,
      "outputs": [
        {
          "output_type": "stream",
          "name": "stdout",
          "text": [
            "오차행렬\n",
            "[[85261    34]\n",
            " [   74    74]]\n",
            "\n",
            " 정확도:0.9987, 정밀도:0.6852, 재현율:0.5000,            F1:0.5781, AUC:0.7531\n"
          ]
        }
      ]
    },
    {
      "cell_type": "markdown",
      "metadata": {
        "id": "gMtsIYRsuANT"
      },
      "source": [
        "#### 데이터 분포도 변환 후 모델 학습/예측/평가"
      ]
    },
    {
      "cell_type": "code",
      "metadata": {
        "colab": {
          "base_uri": "https://localhost:8080/",
          "height": 320
        },
        "id": "0tdAUJ4ruAzb",
        "outputId": "f15bfc20-718e-4366-c868-b39977f3502a"
      },
      "source": [
        "# Amount 피처의 분포도 확인\n",
        "import seaborn as sns\n",
        "\n",
        "plt.figure(figsize=(8,4))\n",
        "plt.xticks(range(0, 30000, 1000), rotation=60)\n",
        "sns.distplot(df['Amount'])"
      ],
      "execution_count": null,
      "outputs": [
        {
          "output_type": "execute_result",
          "data": {
            "text/plain": [
              "<matplotlib.axes._subplots.AxesSubplot at 0x7fa1aa26ed50>"
            ]
          },
          "metadata": {},
          "execution_count": 9
        },
        {
          "output_type": "display_data",
          "data": {
            "image/png": "[encoded data removed]",
            "text/plain": [
              "<Figure size 576x288 with 1 Axes>"
            ]
          },
          "metadata": {
            "needs_background": "light"
          }
        }
      ]
    },
    {
      "cell_type": "markdown",
      "metadata": {
        "id": "oZ6sh1XY-RSa"
      },
      "source": [
        "위 그래프 확인 시 1000불 이하인 데이터가 대부분이며, 27,000불까지 드물지만 많은 금액을 사용한 경우가 발생하면서 꼬리가 긴 분포 곡선을 가지고 있음."
      ]
    },
    {
      "cell_type": "code",
      "metadata": {
        "id": "5KjkuVqX-R_K"
      },
      "source": [
        "from sklearn.preprocessing import StandardScaler\n",
        "\n",
        "# 사이킷런의 StandardScaler를 이용해 정규 분포 형태로 Amount 피처값 변환하는 로직으로 수정\n",
        "def get_preprocessed_df(df=None) :\n",
        "    df_copy = df.copy()\n",
        "    scaler = StandardScaler()\n",
        "    amount_n = scaler.fit_transform(df_copy['Amount'].values.reshape(-1, 1))\n",
        "    \n",
        "    # 변환된 Amount를 Amount_scaled로 피처명 변경 후 DF 맨 앞 컬럼으로 입력\n",
        "    df_copy.insert(0, 'Amount_scaled', amount_n)\n",
        "    \n",
        "    # 기존 Time, Amount 피처 삭제\n",
        "    df_copy.drop(['Time', 'Amount'], axis=1, inplace=True)\n",
        "    return df_copy"
      ],
      "execution_count": null,
      "outputs": []
    },
    {
      "cell_type": "code",
      "metadata": {
        "colab": {
          "base_uri": "https://localhost:8080/"
        },
        "id": "svT8yUSd-Sw7",
        "outputId": "9d8fd19e-6ce5-4554-fcd0-69c8364dc62a"
      },
      "source": [
        "# Amount를 정규 분포 형태로 변환 후 로지스틱 회귀 및 LightGBM 수행\n",
        "x_train, x_test, y_train, y_test = get_train_test_dataset(df)\n",
        "\n",
        "# print(x_train)\n",
        "print('### 로지스틱 회귀 예측 성능 ###')\n",
        "# kaggle 에서 아래 LR의 인자 (solver='liblinear')  안 넣으면 아래의 오류남\n",
        "# AttributeError: 'str' object has no attribute 'decode'\n",
        "lr = LogisticRegression(solver='liblinear')\n",
        "get_model_train_eval(lr, ftr_train=x_train, ftr_test=x_test, tgt_train=y_train, tgt_test=y_test)\n",
        "\n",
        "print('### LightGBM 예측 성능 ####')\n",
        "lgbm = LGBMClassifier(n_estimators=1000, num_leaves=64, n_jobs=-1, boost_from_average=False)\n",
        "get_model_train_eval(lgbm, ftr_train=x_train, ftr_test=x_test, tgt_train=y_train, tgt_test=y_test)"
      ],
      "execution_count": null,
      "outputs": [
        {
          "output_type": "stream",
          "name": "stdout",
          "text": [
            "### 로지스틱 회귀 예측 성능 ###\n",
            "오차행렬\n",
            "[[85281    14]\n",
            " [   58    90]]\n",
            "\n",
            " 정확도:0.9992, 정밀도:0.8654, 재현율:0.6081,            F1:0.7143, AUC:0.9707\n",
            "### LightGBM 예측 성능 ####\n",
            "오차행렬\n",
            "[[85289     6]\n",
            " [   36   112]]\n",
            "\n",
            " 정확도:0.9995, 정밀도:0.9492, 재현율:0.7568,            F1:0.8421, AUC:0.9773\n"
          ]
        }
      ]
    },
    {
      "cell_type": "code",
      "metadata": {
        "id": "8-gBK_jE-SlS"
      },
      "source": [
        "# Amount 피처를 Log 변환하여 분포의 왜곡을 개선\n",
        "def get_preprocessed_df(df=None) :\n",
        "    df_copy = df.copy()\n",
        "    \n",
        "    # numpy의 log1p()를 이용해 Amount를 로그 변환\n",
        "    amount_n = np.log1p(df_copy['Amount'])\n",
        "    df_copy.insert(0, 'Amount_scaled', amount_n)\n",
        "    df_copy.drop(['Time', 'Amount'], axis=1, inplace=True)\n",
        "    return df_copy"
      ],
      "execution_count": null,
      "outputs": []
    },
    {
      "cell_type": "code",
      "metadata": {
        "colab": {
          "base_uri": "https://localhost:8080/"
        },
        "id": "00WABhSL-SSa",
        "outputId": "7f328ebf-221d-468c-89bd-ac305be446ab"
      },
      "source": [
        "x_train, x_test, y_train, y_test = get_train_test_dataset(df)\n",
        "\n",
        "print('### 로지스틱 회귀 예측 성능 ###')\n",
        "get_model_train_eval(lr, ftr_train=x_train, ftr_test=x_test, tgt_train=y_train, tgt_test=y_test)\n",
        "\n",
        "print('\\n### LightGBM 예측 성능 ###')\n",
        "get_model_train_eval(lgbm, ftr_train=x_train, ftr_test=x_test, tgt_train=y_train, tgt_test=y_test)"
      ],
      "execution_count": null,
      "outputs": [
        {
          "output_type": "stream",
          "name": "stdout",
          "text": [
            "### 로지스틱 회귀 예측 성능 ###\n",
            "오차행렬\n",
            "[[85283    12]\n",
            " [   58    90]]\n",
            "\n",
            " 정확도:0.9992, 정밀도:0.8824, 재현율:0.6081,            F1:0.7200, AUC:0.9721\n",
            "\n",
            "### LightGBM 예측 성능 ###\n",
            "오차행렬\n",
            "[[85290     5]\n",
            " [   35   113]]\n",
            "\n",
            " 정확도:0.9995, 정밀도:0.9576, 재현율:0.7635,            F1:0.8496, AUC:0.9786\n"
          ]
        }
      ]
    },
    {
      "cell_type": "markdown",
      "metadata": {
        "id": "8NmGd-hdAz3l"
      },
      "source": [
        "#### 이상치 데이터 제거 후 모델 학습/예측/평가\n",
        "**IQR**을 이용한 이상치 제거\n",
        "\n",
        "![iqr-desc](https://user-images.githubusercontent.com/291782/139607045-133fdcb6-2b82-4b76-ad7d-c1f968059a8b.png)\n",
        "> 출처 : 파이썬 머신러닝 완벽 가이드 p.272"
      ]
    },
    {
      "cell_type": "code",
      "metadata": {
        "colab": {
          "base_uri": "https://localhost:8080/",
          "height": 588
        },
        "id": "2tSGocYoFbOS",
        "outputId": "b5f5c10b-291b-4b93-a9bd-a389057502a1"
      },
      "source": [
        "import seaborn as sns\n",
        "\n",
        "plt.figure(figsize=(9,9))\n",
        "corr = df.corr()\n",
        "\n",
        "# cmap='RdBu' 양의 상관관계가 높을수록 짙은 파란색, 음의 상관관계가 높을수록 짙은 붉은색\n",
        "sns.heatmap(corr, cmap='RdBu')"
      ],
      "execution_count": null,
      "outputs": [
        {
          "output_type": "execute_result",
          "data": {
            "text/plain": [
              "<matplotlib.axes._subplots.AxesSubplot at 0x7fa1a695d490>"
            ]
          },
          "metadata": {},
          "execution_count": 16
        },
        {
          "output_type": "display_data",
          "data": {
            "image/png": "[encoded data removed]",
            "text/plain": [
              "<Figure size 648x648 with 2 Axes>"
            ]
          },
          "metadata": {
            "needs_background": "light"
          }
        }
      ]
    },
    {
      "cell_type": "markdown",
      "metadata": {
        "id": "1q1HtAnWFhHD"
      },
      "source": [
        "위 이미지에서 Class 피처와 음의 상관관계가 높은 피처는 V14, V17.\n",
        "\n",
        "이 중에서 V14에 대해서만 이상치를 찾아서 제거해 보겠음"
      ]
    },
    {
      "cell_type": "code",
      "metadata": {
        "id": "Ls6AefuUFcGo"
      },
      "source": [
        "import numpy as np\n",
        "\n",
        "def get_outlier(df=None, column=None, weight=1.5) :\n",
        "    # fraud에 해당하는 column 데이터만 추출, 1/4 분위와 3/4분위 지점을 np.percentile로 구함\n",
        "    fraud = df[df['Class'] == 1][column]\n",
        "    print('## fraud data start ##')\n",
        "    print(fraud)\n",
        "    print('## fraud data end ##')\n",
        "    quantile_25 = np.percentile(fraud.values, 25)\n",
        "    quantile_75 = np.percentile(fraud.values, 75)\n",
        "    \n",
        "    # IQR을 구하고, IQR에 1.5를 곱해 최댓값과 최솟값 지점 구함\n",
        "    iqr = quantile_75 - quantile_25\n",
        "    iqr_weight = iqr * weight\n",
        "    lowest_val = quantile_25 - iqr_weight\n",
        "    highest_val = quantile_75 + iqr_weight\n",
        "    \n",
        "    # 최댓값보다 크거나, 최솟값 보다 작은 값을 이상치 데이터로 설정하고 DF index 반환\n",
        "    outlier_index = fraud[(fraud < lowest_val) | (fraud > highest_val)].index\n",
        "    return outlier_index"
      ],
      "execution_count": null,
      "outputs": []
    },
    {
      "cell_type": "code",
      "metadata": {
        "colab": {
          "base_uri": "https://localhost:8080/"
        },
        "id": "XhcUUMziFcD7",
        "outputId": "a0fae9ac-a8d1-420f-86d5-630764626b33"
      },
      "source": [
        "outlier_index = get_outlier(df=df, column='V14', weight=1.5)\n",
        "print('이상치 데이터 인덱스:', outlier_index)"
      ],
      "execution_count": null,
      "outputs": [
        {
          "output_type": "stream",
          "name": "stdout",
          "text": [
            "## fraud data start ##\n",
            "541      -4.289254\n",
            "623      -1.692029\n",
            "4920     -1.470102\n",
            "6108     -6.771097\n",
            "6329     -6.079337\n",
            "            ...   \n",
            "279863   -6.665177\n",
            "280143   -5.210141\n",
            "280149   -4.057162\n",
            "281144   -6.416628\n",
            "281674   -1.948883\n",
            "Name: V14, Length: 492, dtype: float64\n",
            "## fraud data end ##\n",
            "이상치 데이터 인덱스: Int64Index([8296, 8615, 9035, 9252], dtype='int64')\n"
          ]
        }
      ]
    },
    {
      "cell_type": "code",
      "metadata": {
        "id": "NE-ap7eiFcBL"
      },
      "source": [
        "# get_processed_df()를 로그 변환 후 V14 피처의 이상치 데이터를 삭제하는 로직으로 변경\n",
        "def get_preprocessed_df(df=None) :\n",
        "    df_copy = df.copy()\n",
        "    amount_n = np.log1p(df_copy['Amount'])\n",
        "    df_copy.insert(0, 'Amount_scaled', amount_n)\n",
        "    df_copy.drop(['Time', 'Amount'], axis=1, inplace=True)\n",
        "    \n",
        "    # 이상치 데이터 삭제하는 로직 추가\n",
        "    outlier_index = get_outlier(df=df_copy, column='V14', weight=1.5)\n",
        "    print('이상치 데이터 인덱스:', outlier_index)\n",
        "    df_copy.drop(outlier_index, axis=0, inplace=True)\n",
        "    return df_copy"
      ],
      "execution_count": null,
      "outputs": []
    },
    {
      "cell_type": "code",
      "metadata": {
        "colab": {
          "base_uri": "https://localhost:8080/"
        },
        "id": "3C7_cet0Fb9y",
        "outputId": "487098f6-5aa8-4e4d-c2da-3a7865278251"
      },
      "source": [
        "x_train, x_test, y_train, y_test = get_train_test_dataset(df)\n",
        "print('### 로지스틱 회귀 예측 성능 ###')\n",
        "get_model_train_eval(lr, ftr_train=x_train, ftr_test=x_test, tgt_train=y_train, tgt_test=y_test)\n",
        "\n",
        "print('\\n### LightGBM 예측 성능 ###')\n",
        "get_model_train_eval(lgbm, ftr_train=x_train, ftr_test=x_test, tgt_train=y_train, tgt_test=y_test)"
      ],
      "execution_count": null,
      "outputs": [
        {
          "output_type": "stream",
          "name": "stdout",
          "text": [
            "## fraud data start ##\n",
            "541      -4.289254\n",
            "623      -1.692029\n",
            "4920     -1.470102\n",
            "6108     -6.771097\n",
            "6329     -6.079337\n",
            "            ...   \n",
            "279863   -6.665177\n",
            "280143   -5.210141\n",
            "280149   -4.057162\n",
            "281144   -6.416628\n",
            "281674   -1.948883\n",
            "Name: V14, Length: 492, dtype: float64\n",
            "## fraud data end ##\n",
            "이상치 데이터 인덱스: Int64Index([8296, 8615, 9035, 9252], dtype='int64')\n",
            "### 로지스틱 회귀 예측 성능 ###\n",
            "오차행렬\n",
            "[[85282    13]\n",
            " [   48    98]]\n",
            "\n",
            " 정확도:0.9993, 정밀도:0.8829, 재현율:0.6712,            F1:0.7626, AUC:0.9747\n",
            "\n",
            "### LightGBM 예측 성능 ###\n",
            "오차행렬\n",
            "[[85291     4]\n",
            " [   25   121]]\n",
            "\n",
            " 정확도:0.9997, 정밀도:0.9680, 재현율:0.8288,            F1:0.8930, AUC:0.9831\n"
          ]
        }
      ]
    },
    {
      "cell_type": "markdown",
      "metadata": {
        "id": "4lH6TXY_FsEp"
      },
      "source": [
        "#### SMOTE 오버 샘플링 적용 후 모델 학습 / 예측 / 평가\n",
        "\n",
        "SMOTE를 적용할 때는 반드시 학습 데이터 세트만 오버 샘플링을 해야함.  \n",
        "검증 데이터 세트나 테스트 데이터 세트를 오버 샘플링할 경우 결국은 원본 데이터 세트가 아닌 데이터 세트에서 검증 또는 테스트를 수행하기 때문에 올바른 검증 / 테스트가 될 수 없음."
      ]
    },
    {
      "cell_type": "code",
      "metadata": {
        "colab": {
          "base_uri": "https://localhost:8080/"
        },
        "id": "kd8gsB2QFb26",
        "outputId": "6b16a11b-ce95-4c03-cbe1-4d4cecfa17f6"
      },
      "source": [
        "from imblearn.over_sampling import SMOTE\n",
        "\n",
        "smote = SMOTE(random_state=2)\n",
        "\n",
        "# kaggle 에서는 아래 smote.fit_sample(x_train, y_train) 실행 시 아래 오류 발생\n",
        "# AttributeError: 'SMOTE' object has no attribute 'fit_resample'\n",
        "# 관련 링크 URL : https://github.com/scikit-learn-contrib/imbalanced-learn/issues/528\n",
        "x_train_over, y_train_over = smote.fit_sample(x_train, y_train)\n",
        "print('SMOTE 적용 전 학습용 피처/레이블 데이터 세트\\n x_train:', x_train.shape, '\\n y_train:', y_train.shape)\n",
        "print('SMOTE 적용 후 학습용 피처/레이블 데이터 세트:', x_train_over.shape, y_train_over.shape)\n",
        "print('SMOTE 적용 후 레이블 값 분포:\\n', pd.Series(y_train_over).value_counts())"
      ],
      "execution_count": null,
      "outputs": [
        {
          "output_type": "stream",
          "name": "stdout",
          "text": [
            "SMOTE 적용 전 학습용 피처/레이블 데이터 세트\n",
            " x_train: (199362, 29) \n",
            " y_train: (199362,)\n",
            "SMOTE 적용 후 학습용 피처/레이블 데이터 세트: (398040, 29) (398040,)\n",
            "SMOTE 적용 후 레이블 값 분포:\n",
            " 1    199020\n",
            "0    199020\n",
            "dtype: int64\n"
          ]
        }
      ]
    },
    {
      "cell_type": "code",
      "metadata": {
        "colab": {
          "base_uri": "https://localhost:8080/"
        },
        "id": "-oHPWJeUFbsr",
        "outputId": "bd669f59-ba55-4827-bf18-446b374d868e"
      },
      "source": [
        "lr = LogisticRegression()\n",
        "\n",
        "# ftr_train 과 tgt_train 인자값이 SMOTE 증식된 x_train_over, y_train_over 로 변경됨에 유의\n",
        "get_model_train_eval(lr, ftr_train=x_train_over, ftr_test=x_test, tgt_train=y_train_over, tgt_test=y_test)\n",
        "\n",
        "# 위 실행 시 재현율은 높아지지만, 정밀도가 5%로 급격하게 낮아짐\n",
        "# 오차행렬\n",
        "# [[82942  2353]\n",
        "#  [   11   135]]\n",
        "#  정확도:0.9723, 정밀도:0.0543, 재현율:0.9247,            F1:0.1025, AUC:0.9736"
      ],
      "execution_count": null,
      "outputs": [
        {
          "output_type": "stream",
          "name": "stdout",
          "text": [
            "오차행렬\n",
            "[[82942  2353]\n",
            " [   11   135]]\n",
            "\n",
            " 정확도:0.9723, 정밀도:0.0543, 재현율:0.9247,            F1:0.1025, AUC:0.9736\n"
          ]
        }
      ]
    },
    {
      "cell_type": "code",
      "metadata": {
        "id": "JrINcgIYIEwI"
      },
      "source": [
        "# 정밀도와 재현율의 상관관계 형태를 시각화\n",
        "import matplotlib.pyplot as plt\n",
        "import matplotlib.ticker as ticker\n",
        "%matplotlib inline\n",
        "\n",
        "def precision_recall_curve_plot(y_test, pred_proba_c1) :\n",
        "    # threshold ndarray와 이 threshold에 따른 정밀도, 재현율 ndarray 추출.\n",
        "    precisions, recalls, thresholds = precision_recall_curve(y_test, pred_proba_c1)\n",
        "\n",
        "    # x 축을 threshold 값으로, y 축은 정밀도, 재현율 값으로 각각 plot 수행. 정밀도는 점선 표시\n",
        "    plt.figure(figsize=(8,6))\n",
        "    threshold_boundary = thresholds.shape[0]\n",
        "    plt.plot(thresholds, precisions[0:threshold_boundary], linestyle='--', label='precision')\n",
        "    plt.plot(thresholds, recalls[0:threshold_boundary], label='recall')\n",
        "    \n",
        "    # threshold 값 x 축의 scale을 0.1 단위로 변경\n",
        "    start, end = plt.xlim()\n",
        "    plt.xticks(np.round(np.arange(start, end, 0.1), 2))\n",
        "\n",
        "    # x 축, y 축 label 과 legend, 그리고 grid 설정\n",
        "    plt.xlabel('Threshold value')\n",
        "    plt.ylabel('Precision and Recall value')\n",
        "    plt.legend()\n",
        "    plt.grid()\n",
        "    plt.show()"
      ],
      "execution_count": null,
      "outputs": []
    },
    {
      "cell_type": "code",
      "metadata": {
        "colab": {
          "base_uri": "https://localhost:8080/",
          "height": 388
        },
        "id": "v9d7iYeeIG4I",
        "outputId": "9af865d1-9a3c-4f01-e82e-72f28398bcb9"
      },
      "source": [
        "# 재현율과 정밀도의 관계를 파악하기 위해 시각화\n",
        "precision_recall_curve_plot(y_test, lr.predict_proba(x_test)[:, 1])"
      ],
      "execution_count": null,
      "outputs": [
        {
          "output_type": "display_data",
          "data": {
            "image/png": "[encoded data removed]",
            "text/plain": [
              "<Figure size 576x432 with 1 Axes>"
            ]
          },
          "metadata": {
            "needs_background": "light"
          }
        }
      ]
    },
    {
      "cell_type": "code",
      "metadata": {
        "colab": {
          "base_uri": "https://localhost:8080/"
        },
        "id": "SwCzYvdAI56Z",
        "outputId": "d8c85c13-8d10-414c-93cd-7b3fa00d41dd"
      },
      "source": [
        "lgbm = LGBMClassifier(n_estimators=1000, num_leaves=64, n_jobs=-1, boost_from_average=False)\n",
        "\n",
        "get_model_train_eval(lgbm, ftr_train=x_train_over, ftr_test=x_test, tgt_train=y_train_over, tgt_test=y_test)"
      ],
      "execution_count": null,
      "outputs": [
        {
          "output_type": "stream",
          "name": "stdout",
          "text": [
            "오차행렬\n",
            "[[85291     4]\n",
            " [   26   120]]\n",
            "\n",
            " 정확도:0.9996, 정밀도:0.9677, 재현율:0.8219,            F1:0.8889, AUC:0.9794\n"
          ]
        }
      ]
    },
    {
      "cell_type": "code",
      "metadata": {
        "colab": {
          "base_uri": "https://localhost:8080/"
        },
        "id": "2mirqKizD4t_",
        "outputId": "d873ab83-28df-4cb7-c1e9-991f0f87f830"
      },
      "source": [
        "# SMOTE 의 fit_sample() 함수 오류로 인해 시스템 파악을 위해 작성\n",
        "import platform; print(platform.platform())\n",
        "import sys; print(\"Python\", sys.version)\n",
        "import numpy; print(\"NumPy\", numpy.__version__)\n",
        "import scipy; print(\"SciPy\", scipy.__version__)\n",
        "import sklearn; print(\"Scikit-Learn\", sklearn.__version__)"
      ],
      "execution_count": null,
      "outputs": [
        {
          "output_type": "stream",
          "name": "stdout",
          "text": [
            "Linux-5.4.104+-x86_64-with-Ubuntu-18.04-bionic\n",
            "Python 3.7.12 (default, Sep 10 2021, 00:21:48) \n",
            "[GCC 7.5.0]\n",
            "NumPy 1.19.5\n",
            "SciPy 1.4.1\n",
            "Scikit-Learn 0.22.2.post1\n"
          ]
        }
      ]
    },
    {
      "cell_type": "code",
      "metadata": {
        "id": "_yjnZ4HlD_ie"
      },
      "source": [
        "# 10 스태킹 앙상블 부분은 건너뜀. (P.278)\n",
        "# 다음에 자세히 봐라"
      ],
      "execution_count": null,
      "outputs": []
    }
  ]
}