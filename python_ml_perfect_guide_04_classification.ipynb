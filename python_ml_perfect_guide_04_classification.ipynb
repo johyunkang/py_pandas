{
  "nbformat": 4,
  "nbformat_minor": 0,
  "metadata": {
    "colab": {
      "name": "python_ml_perfect_guide_04_classification.ipynb",
      "provenance": [],
      "collapsed_sections": [],
      "mount_file_id": "1JLF173V-UzMgggOPgtfTUnobmLdyUolv",
      "authorship_tag": "ABX9TyMz6dGhxLjJu9/e6rcWuL7F",
      "include_colab_link": true
    },
    "kernelspec": {
      "name": "python3",
      "display_name": "Python 3"
    },
    "language_info": {
      "name": "python"
    }
  },
  "cells": [
    {
      "cell_type": "markdown",
      "metadata": {
        "id": "view-in-github",
        "colab_type": "text"
      },
      "source": [
        "<a href=\"https://colab.research.google.com/github/johyunkang/py_pandas/blob/main/python_ml_perfect_guide_04_classification.ipynb\" target=\"_parent\"><img src=\"https://colab.research.google.com/assets/colab-badge.svg\" alt=\"Open In Colab\"/></a>"
      ]
    },
    {
      "cell_type": "markdown",
      "metadata": {
        "id": "PZZxo4Wd9BMI"
      },
      "source": [
        "## Chapter 04 분류\n",
        "### 01 분류(Classification)의 개요\n",
        "\n",
        "앙상블 기법(Ensemble Method)\n",
        "- 배깅(Bagging)\n",
        " - 랜덤 포레스트(Random Forest) : 뛰어난 예측 성능, 상대적으로 빠른 수행 시간, 유연성\n",
        "- 부스팅(Boosting)\n",
        " - 그래디언트 부스팅(Gradient Boosting) : 뛰어난 예측성능, 수행 시간이 너무 오래 걸림\n",
        " - XgBoost(eXtra Gradient Boost), LightGBM\n",
        "- 스태킹(Stacking) : 앙상블의 앙상블 기법"
      ]
    },
    {
      "cell_type": "markdown",
      "metadata": {
        "id": "_DLJF4-595Vr"
      },
      "source": [
        "### 02 결정 트리 (Decision Tree)\n",
        "![decision-tree](https://user-images.githubusercontent.com/291782/139259554-404aa34c-c7bb-48e8-8446-2d928a4672ad.png)\n",
        "\n",
        "- 규칙노드(Decision Node) : 규칙조건이 있는 노드\n",
        "- 리프노드(Leaf Node) : 결정된 클래스 값\n",
        "- 새로운 규칙조건 마다 서브트리가 생성됨\n",
        "- 트리의 깊이가 깊어질수록 결정 트리의 예측 성능이 저하될 가능성이 높다. (과적합(Overfitting))\n",
        "\n",
        "\n",
        "결정 트리 장점\n",
        "- 쉽다. 직관적\n",
        "- 피처의 스케일링이나 정규화 등의 사전 가공 영향도가 크지 않음\n",
        "\n",
        "\n",
        "결정 트리 단점\n",
        "- 과적합으로 알고리즘 성능이 떨어진다. 이를 극복하기 위해 트리의 크기를 사전에 제한하는 튜닝 필요\n",
        "\n",
        "\n",
        "\n",
        "DecisionTreeClassifier 와 DecisionTreeRegressor 파라미터 설명\n",
        "- min_samples_split\n",
        " - 노드를 분할하기 위한 최소한의 샘플 데이터 수로 과적합을 제어하는데 사용됨\n",
        " - 디폴트는 2이고, 작게 설정할수록 분할되는 노드가 많아져서 과적합 가능성 증가\n",
        " - 과적합을 제어. 1로 설정할 경우 분할되는 노드가 많아져서 과적합 가능성 증가\n",
        "- min_samples_leaf\n",
        " - 말단 노드(Leaf)가 되기 위한 최소한의 샘플 데이터 수\n",
        " - Min_samples_split와 유사하게 과적합 제어 용도. 그러나 비대칭적(imbalanced) 데이터의 경우 특정 클래스의 데이터가 극도로 작을 수 있으므로 이 경우는 작게 설정 필요\n",
        "- max_feature\n",
        " - 최적의 분할을 위해 고려할 최대 피처 개수. 디폴트는 None으로 데이터 세트의 모든 피처를 사용해 분할 수행\n",
        " - int형으로 지정하면 대상 피처의 개수, float형으로 지정하면 전체 피처 중 대상 피처의 퍼센트임\n",
        " - 'sqrt'는 전체 피처 중 sqrt(전체 피처 개수). 즉 $sqrt{전체피처개수}$ 만큼 선정\n",
        " - 'auto'로 지정하면 'sqrt'와 동일\n",
        " - 'log'는 전체 피정 중 log2(전체 피처 개수) 선정\n",
        " - 'None'은 전체 피처 선정\n",
        "- max_depth\n",
        " - 트리의 최대 깊이를 규정\n",
        " - 디폴트는 None. None으로 설정하면 완벽하게 클래스 결정 값이 될 때까지 깊이를 계속 키우며 분할하거나 노드가 가지는 데이터 개수가 min_samples_split 보다 작아질 때까지 계속 깊이를 증가시킴.\n",
        " - 깊이가 깊어지면 min_samples_split 설정대로 최대 분할하여 과적합할 수 있으므로 적절한 값으로 제어 필요\n",
        "- max_leaf_nodes\n",
        " - 말단 노드(Leaf)의 최대 개수"
      ]
    },
    {
      "cell_type": "markdown",
      "metadata": {
        "id": "T3PwJXq_B4QS"
      },
      "source": [
        "#### 결정 트리 모델의 시각화\n",
        "**Graphviz**를 윈도우에 설치 필요  \n",
        "Graphviz는 파이썬으로 개발된 패키지가 아님\n",
        "\n",
        "설정방법\n",
        "1. https://graphviz.gitlab.io/_pages/Download/Download_windows.html 경로에서 시스템에 맞게 내려받은 뒤 설치\n",
        "2. 1의 경로 파일을 설치 했으면 Graphviz의 파이썬 래퍼 모듈을 PIP를 이용해 설치 (cmd를 관리자 권한으로 실행 후 아래 명령어 실행)\n",
        "```python\n",
        "pip install graphviz\n",
        "```\n",
        "\n",
        "자세한 설명은 p.191 참조"
      ]
    },
    {
      "cell_type": "code",
      "metadata": {
        "colab": {
          "base_uri": "https://localhost:8080/"
        },
        "id": "5N8IlkzfDVPC",
        "outputId": "37883c40-4503-4991-8f43-7cd0ba800f33"
      },
      "source": [
        "pip install graphviz"
      ],
      "execution_count": 1,
      "outputs": [
        {
          "output_type": "stream",
          "name": "stdout",
          "text": [
            "Requirement already satisfied: graphviz in /usr/local/lib/python3.7/dist-packages (0.10.1)\n"
          ]
        }
      ]
    },
    {
      "cell_type": "code",
      "metadata": {
        "colab": {
          "base_uri": "https://localhost:8080/"
        },
        "id": "6o-XPv6xDerf",
        "outputId": "b9848e58-ef57-447d-f86f-696e80cba201"
      },
      "source": [
        "from sklearn.tree import DecisionTreeClassifier\n",
        "from sklearn.datasets import load_iris\n",
        "from sklearn.model_selection import train_test_split\n",
        "import warnings\n",
        "warnings.filterwarnings('ignore')\n",
        "\n",
        "# DecisionTreeClassifier 생성\n",
        "dt = DecisionTreeClassifier(random_state=111)\n",
        "\n",
        "# 붓꽃 데이터 로딩 후 학습 과 테스트 데이터 세트로 분리\n",
        "iris_data = load_iris()\n",
        "x_train, x_test, y_train, y_test = train_test_split(iris_data.data, iris_data.target, test_size=0.2, random_state=111)\n",
        "\n",
        "# DT 학습\n",
        "dt.fit(x_train, y_train)"
      ],
      "execution_count": 2,
      "outputs": [
        {
          "output_type": "execute_result",
          "data": {
            "text/plain": [
              "DecisionTreeClassifier(ccp_alpha=0.0, class_weight=None, criterion='gini',\n",
              "                       max_depth=None, max_features=None, max_leaf_nodes=None,\n",
              "                       min_impurity_decrease=0.0, min_impurity_split=None,\n",
              "                       min_samples_leaf=1, min_samples_split=2,\n",
              "                       min_weight_fraction_leaf=0.0, presort='deprecated',\n",
              "                       random_state=111, splitter='best')"
            ]
          },
          "metadata": {},
          "execution_count": 2
        }
      ]
    },
    {
      "cell_type": "code",
      "metadata": {
        "colab": {
          "base_uri": "https://localhost:8080/",
          "height": 756
        },
        "id": "zm2HP7jREUL0",
        "outputId": "00e70f5b-a356-4ff8-9619-aa6eb19b8246"
      },
      "source": [
        "from sklearn.tree import export_graphviz\n",
        "\n",
        "# !! Google Colab 방법과 주피터 노트북 방법은 다름\n",
        "\n",
        "# 주피터 노트북 방법 1/2\n",
        "# export_graphviz() 의 호출결과로 out_file로 지정된 tree.dot 파일을 생성함\n",
        "#export_graphviz(dt, out_file=\"tree.dot\", class_name=iris_data.target_names, feature_names = iris_data.feature_names, impurity=True, filled=True)\n",
        "\n",
        "\n",
        "import graphviz\n",
        "# # 위에서 생성된 tree.dot 파일을 graphviz가 읽어서 주피터 노트북상에서 시각화\n",
        "# 주피터 노트북 방법 2/2\n",
        "# with open(\"tree.dot\") as f:\n",
        "#     dot_graph = f.read()\n",
        "# graphviz.Source(dot_graph)\n",
        "\n",
        "\n",
        "# 구글 코랩 방법 1/1\n",
        "dot_data = export_graphviz(dt\n",
        "                        #   , max_depth=3\n",
        "                          , feature_names=iris_data.feature_names\n",
        "                          , class_names=iris_data.target_names\n",
        "                          , filled=True\n",
        "                          , impurity=True\n",
        "                        #  , proportion=True\n",
        "                          )\n",
        "display(graphviz.Source(dot_data))"
      ],
      "execution_count": 3,
      "outputs": [
        {
          "output_type": "display_data",
          "data": {
            "text/plain": [
              "<graphviz.files.Source at 0x7f6e132dbdd0>"
            ],
            "image/svg+xml": "<?xml version=\"1.0\" encoding=\"UTF-8\" standalone=\"no\"?>\n<!DOCTYPE svg PUBLIC \"-//W3C//DTD SVG 1.1//EN\"\n \"http://www.w3.org/Graphics/SVG/1.1/DTD/svg11.dtd\">\n<!-- Generated by graphviz version 2.40.1 (20161225.0304)\n -->\n<!-- Title: Tree Pages: 1 -->\n<svg width=\"360pt\" height=\"552pt\"\n viewBox=\"0.00 0.00 360.00 552.00\" xmlns=\"http://www.w3.org/2000/svg\" xmlns:xlink=\"http://www.w3.org/1999/xlink\">\n<g id=\"graph0\" class=\"graph\" transform=\"scale(1 1) rotate(0) translate(4 548)\">\n<title>Tree</title>\n<polygon fill=\"#ffffff\" stroke=\"transparent\" points=\"-4,4 -4,-548 356,-548 356,4 -4,4\"/>\n<!-- 0 -->\n<g id=\"node1\" class=\"node\">\n<title>0</title>\n<polygon fill=\"#f8fefa\" stroke=\"#000000\" points=\"218.5,-544 54.5,-544 54.5,-461 218.5,-461 218.5,-544\"/>\n<text text-anchor=\"middle\" x=\"136.5\" y=\"-528.8\" font-family=\"Times,serif\" font-size=\"14.00\" fill=\"#000000\">petal length (cm) &lt;= 2.45</text>\n<text text-anchor=\"middle\" x=\"136.5\" y=\"-513.8\" font-family=\"Times,serif\" font-size=\"14.00\" fill=\"#000000\">gini = 0.665</text>\n<text text-anchor=\"middle\" x=\"136.5\" y=\"-498.8\" font-family=\"Times,serif\" font-size=\"14.00\" fill=\"#000000\">samples = 120</text>\n<text text-anchor=\"middle\" x=\"136.5\" y=\"-483.8\" font-family=\"Times,serif\" font-size=\"14.00\" fill=\"#000000\">value = [40, 43, 37]</text>\n<text text-anchor=\"middle\" x=\"136.5\" y=\"-468.8\" font-family=\"Times,serif\" font-size=\"14.00\" fill=\"#000000\">class = versicolor</text>\n</g>\n<!-- 1 -->\n<g id=\"node2\" class=\"node\">\n<title>1</title>\n<polygon fill=\"#e58139\" stroke=\"#000000\" points=\"117,-417.5 0,-417.5 0,-349.5 117,-349.5 117,-417.5\"/>\n<text text-anchor=\"middle\" x=\"58.5\" y=\"-402.3\" font-family=\"Times,serif\" font-size=\"14.00\" fill=\"#000000\">gini = 0.0</text>\n<text text-anchor=\"middle\" x=\"58.5\" y=\"-387.3\" font-family=\"Times,serif\" font-size=\"14.00\" fill=\"#000000\">samples = 40</text>\n<text text-anchor=\"middle\" x=\"58.5\" y=\"-372.3\" font-family=\"Times,serif\" font-size=\"14.00\" fill=\"#000000\">value = [40, 0, 0]</text>\n<text text-anchor=\"middle\" x=\"58.5\" y=\"-357.3\" font-family=\"Times,serif\" font-size=\"14.00\" fill=\"#000000\">class = setosa</text>\n</g>\n<!-- 0&#45;&gt;1 -->\n<g id=\"edge1\" class=\"edge\">\n<title>0&#45;&gt;1</title>\n<path fill=\"none\" stroke=\"#000000\" d=\"M109.2194,-460.8796C101.8677,-449.6636 93.9036,-437.5131 86.5126,-426.2372\"/>\n<polygon fill=\"#000000\" stroke=\"#000000\" points=\"89.4014,-424.2598 80.9921,-417.8149 83.5469,-428.0972 89.4014,-424.2598\"/>\n<text text-anchor=\"middle\" x=\"75.8982\" y=\"-438.5905\" font-family=\"Times,serif\" font-size=\"14.00\" fill=\"#000000\">True</text>\n</g>\n<!-- 2 -->\n<g id=\"node3\" class=\"node\">\n<title>2</title>\n<polygon fill=\"#e3fbed\" stroke=\"#000000\" points=\"296,-425 135,-425 135,-342 296,-342 296,-425\"/>\n<text text-anchor=\"middle\" x=\"215.5\" y=\"-409.8\" font-family=\"Times,serif\" font-size=\"14.00\" fill=\"#000000\">petal width (cm) &lt;= 1.65</text>\n<text text-anchor=\"middle\" x=\"215.5\" y=\"-394.8\" font-family=\"Times,serif\" font-size=\"14.00\" fill=\"#000000\">gini = 0.497</text>\n<text text-anchor=\"middle\" x=\"215.5\" y=\"-379.8\" font-family=\"Times,serif\" font-size=\"14.00\" fill=\"#000000\">samples = 80</text>\n<text text-anchor=\"middle\" x=\"215.5\" y=\"-364.8\" font-family=\"Times,serif\" font-size=\"14.00\" fill=\"#000000\">value = [0, 43, 37]</text>\n<text text-anchor=\"middle\" x=\"215.5\" y=\"-349.8\" font-family=\"Times,serif\" font-size=\"14.00\" fill=\"#000000\">class = versicolor</text>\n</g>\n<!-- 0&#45;&gt;2 -->\n<g id=\"edge2\" class=\"edge\">\n<title>0&#45;&gt;2</title>\n<path fill=\"none\" stroke=\"#000000\" d=\"M164.1304,-460.8796C169.93,-452.1434 176.1059,-442.8404 182.0908,-433.8253\"/>\n<polygon fill=\"#000000\" stroke=\"#000000\" points=\"185.1368,-435.5652 187.7517,-425.2981 179.3049,-431.6935 185.1368,-435.5652\"/>\n<text text-anchor=\"middle\" x=\"192.7022\" y=\"-446.103\" font-family=\"Times,serif\" font-size=\"14.00\" fill=\"#000000\">False</text>\n</g>\n<!-- 3 -->\n<g id=\"node4\" class=\"node\">\n<title>3</title>\n<polygon fill=\"#47e78a\" stroke=\"#000000\" points=\"216.5,-306 60.5,-306 60.5,-223 216.5,-223 216.5,-306\"/>\n<text text-anchor=\"middle\" x=\"138.5\" y=\"-290.8\" font-family=\"Times,serif\" font-size=\"14.00\" fill=\"#000000\">petal length (cm) &lt;= 5.0</text>\n<text text-anchor=\"middle\" x=\"138.5\" y=\"-275.8\" font-family=\"Times,serif\" font-size=\"14.00\" fill=\"#000000\">gini = 0.122</text>\n<text text-anchor=\"middle\" x=\"138.5\" y=\"-260.8\" font-family=\"Times,serif\" font-size=\"14.00\" fill=\"#000000\">samples = 46</text>\n<text text-anchor=\"middle\" x=\"138.5\" y=\"-245.8\" font-family=\"Times,serif\" font-size=\"14.00\" fill=\"#000000\">value = [0, 43, 3]</text>\n<text text-anchor=\"middle\" x=\"138.5\" y=\"-230.8\" font-family=\"Times,serif\" font-size=\"14.00\" fill=\"#000000\">class = versicolor</text>\n</g>\n<!-- 2&#45;&gt;3 -->\n<g id=\"edge3\" class=\"edge\">\n<title>2&#45;&gt;3</title>\n<path fill=\"none\" stroke=\"#000000\" d=\"M188.5691,-341.8796C182.9163,-333.1434 176.8967,-323.8404 171.0634,-314.8253\"/>\n<polygon fill=\"#000000\" stroke=\"#000000\" points=\"173.9169,-312.7924 165.5458,-306.2981 168.0399,-316.5952 173.9169,-312.7924\"/>\n</g>\n<!-- 8 -->\n<g id=\"node9\" class=\"node\">\n<title>8</title>\n<polygon fill=\"#8139e5\" stroke=\"#000000\" points=\"352,-298.5 235,-298.5 235,-230.5 352,-230.5 352,-298.5\"/>\n<text text-anchor=\"middle\" x=\"293.5\" y=\"-283.3\" font-family=\"Times,serif\" font-size=\"14.00\" fill=\"#000000\">gini = 0.0</text>\n<text text-anchor=\"middle\" x=\"293.5\" y=\"-268.3\" font-family=\"Times,serif\" font-size=\"14.00\" fill=\"#000000\">samples = 34</text>\n<text text-anchor=\"middle\" x=\"293.5\" y=\"-253.3\" font-family=\"Times,serif\" font-size=\"14.00\" fill=\"#000000\">value = [0, 0, 34]</text>\n<text text-anchor=\"middle\" x=\"293.5\" y=\"-238.3\" font-family=\"Times,serif\" font-size=\"14.00\" fill=\"#000000\">class = virginica</text>\n</g>\n<!-- 2&#45;&gt;8 -->\n<g id=\"edge8\" class=\"edge\">\n<title>2&#45;&gt;8</title>\n<path fill=\"none\" stroke=\"#000000\" d=\"M242.7806,-341.8796C250.1323,-330.6636 258.0964,-318.5131 265.4874,-307.2372\"/>\n<polygon fill=\"#000000\" stroke=\"#000000\" points=\"268.4531,-309.0972 271.0079,-298.8149 262.5986,-305.2598 268.4531,-309.0972\"/>\n</g>\n<!-- 4 -->\n<g id=\"node5\" class=\"node\">\n<title>4</title>\n<polygon fill=\"#39e581\" stroke=\"#000000\" points=\"118,-179.5 1,-179.5 1,-111.5 118,-111.5 118,-179.5\"/>\n<text text-anchor=\"middle\" x=\"59.5\" y=\"-164.3\" font-family=\"Times,serif\" font-size=\"14.00\" fill=\"#000000\">gini = 0.0</text>\n<text text-anchor=\"middle\" x=\"59.5\" y=\"-149.3\" font-family=\"Times,serif\" font-size=\"14.00\" fill=\"#000000\">samples = 42</text>\n<text text-anchor=\"middle\" x=\"59.5\" y=\"-134.3\" font-family=\"Times,serif\" font-size=\"14.00\" fill=\"#000000\">value = [0, 42, 0]</text>\n<text text-anchor=\"middle\" x=\"59.5\" y=\"-119.3\" font-family=\"Times,serif\" font-size=\"14.00\" fill=\"#000000\">class = versicolor</text>\n</g>\n<!-- 3&#45;&gt;4 -->\n<g id=\"edge4\" class=\"edge\">\n<title>3&#45;&gt;4</title>\n<path fill=\"none\" stroke=\"#000000\" d=\"M110.8696,-222.8796C103.4237,-211.6636 95.3575,-199.5131 87.8718,-188.2372\"/>\n<polygon fill=\"#000000\" stroke=\"#000000\" points=\"90.7273,-186.2104 82.2805,-179.8149 84.8954,-190.082 90.7273,-186.2104\"/>\n</g>\n<!-- 5 -->\n<g id=\"node6\" class=\"node\">\n<title>5</title>\n<polygon fill=\"#ab7bee\" stroke=\"#000000\" points=\"301,-187 136,-187 136,-104 301,-104 301,-187\"/>\n<text text-anchor=\"middle\" x=\"218.5\" y=\"-171.8\" font-family=\"Times,serif\" font-size=\"14.00\" fill=\"#000000\">sepal length (cm) &lt;= 6.05</text>\n<text text-anchor=\"middle\" x=\"218.5\" y=\"-156.8\" font-family=\"Times,serif\" font-size=\"14.00\" fill=\"#000000\">gini = 0.375</text>\n<text text-anchor=\"middle\" x=\"218.5\" y=\"-141.8\" font-family=\"Times,serif\" font-size=\"14.00\" fill=\"#000000\">samples = 4</text>\n<text text-anchor=\"middle\" x=\"218.5\" y=\"-126.8\" font-family=\"Times,serif\" font-size=\"14.00\" fill=\"#000000\">value = [0, 1, 3]</text>\n<text text-anchor=\"middle\" x=\"218.5\" y=\"-111.8\" font-family=\"Times,serif\" font-size=\"14.00\" fill=\"#000000\">class = virginica</text>\n</g>\n<!-- 3&#45;&gt;5 -->\n<g id=\"edge5\" class=\"edge\">\n<title>3&#45;&gt;5</title>\n<path fill=\"none\" stroke=\"#000000\" d=\"M166.4801,-222.8796C172.3531,-214.1434 178.6073,-204.8404 184.6679,-195.8253\"/>\n<polygon fill=\"#000000\" stroke=\"#000000\" points=\"187.7259,-197.5498 190.4005,-187.2981 181.9166,-193.6444 187.7259,-197.5498\"/>\n</g>\n<!-- 6 -->\n<g id=\"node7\" class=\"node\">\n<title>6</title>\n<polygon fill=\"#39e581\" stroke=\"#000000\" points=\"210,-68 95,-68 95,0 210,0 210,-68\"/>\n<text text-anchor=\"middle\" x=\"152.5\" y=\"-52.8\" font-family=\"Times,serif\" font-size=\"14.00\" fill=\"#000000\">gini = 0.0</text>\n<text text-anchor=\"middle\" x=\"152.5\" y=\"-37.8\" font-family=\"Times,serif\" font-size=\"14.00\" fill=\"#000000\">samples = 1</text>\n<text text-anchor=\"middle\" x=\"152.5\" y=\"-22.8\" font-family=\"Times,serif\" font-size=\"14.00\" fill=\"#000000\">value = [0, 1, 0]</text>\n<text text-anchor=\"middle\" x=\"152.5\" y=\"-7.8\" font-family=\"Times,serif\" font-size=\"14.00\" fill=\"#000000\">class = versicolor</text>\n</g>\n<!-- 5&#45;&gt;6 -->\n<g id=\"edge6\" class=\"edge\">\n<title>5&#45;&gt;6</title>\n<path fill=\"none\" stroke=\"#000000\" d=\"M193.924,-103.9815C188.7014,-95.1585 183.1771,-85.8258 177.9237,-76.9506\"/>\n<polygon fill=\"#000000\" stroke=\"#000000\" points=\"180.8874,-75.0863 172.7816,-68.2637 174.8636,-78.652 180.8874,-75.0863\"/>\n</g>\n<!-- 7 -->\n<g id=\"node8\" class=\"node\">\n<title>7</title>\n<polygon fill=\"#8139e5\" stroke=\"#000000\" points=\"338.5,-68 228.5,-68 228.5,0 338.5,0 338.5,-68\"/>\n<text text-anchor=\"middle\" x=\"283.5\" y=\"-52.8\" font-family=\"Times,serif\" font-size=\"14.00\" fill=\"#000000\">gini = 0.0</text>\n<text text-anchor=\"middle\" x=\"283.5\" y=\"-37.8\" font-family=\"Times,serif\" font-size=\"14.00\" fill=\"#000000\">samples = 3</text>\n<text text-anchor=\"middle\" x=\"283.5\" y=\"-22.8\" font-family=\"Times,serif\" font-size=\"14.00\" fill=\"#000000\">value = [0, 0, 3]</text>\n<text text-anchor=\"middle\" x=\"283.5\" y=\"-7.8\" font-family=\"Times,serif\" font-size=\"14.00\" fill=\"#000000\">class = virginica</text>\n</g>\n<!-- 5&#45;&gt;7 -->\n<g id=\"edge7\" class=\"edge\">\n<title>5&#45;&gt;7</title>\n<path fill=\"none\" stroke=\"#000000\" d=\"M242.7036,-103.9815C247.8471,-95.1585 253.2877,-85.8258 258.4616,-76.9506\"/>\n<polygon fill=\"#000000\" stroke=\"#000000\" points=\"261.513,-78.6656 263.5257,-68.2637 255.4656,-75.1402 261.513,-78.6656\"/>\n</g>\n</g>\n</svg>\n"
          },
          "metadata": {}
        }
      ]
    },
    {
      "cell_type": "markdown",
      "metadata": {
        "id": "dX4x8QYqVado"
      },
      "source": [
        "### 결정 트리 과적합(Overfitting)\n",
        "\n",
        "결정 트리가 어떻게 학습 데이터를 분할해 예측을 수행하는 지와 이로 인한 과적합 문제를 시각화해 알아보겠음\n",
        "\n",
        "2개의 피처가 3가지 유형의 클래스 값을 가지는 데이터 세트를 만들고 이를 그래프 형태로 시각화하겠음."
      ]
    },
    {
      "cell_type": "code",
      "metadata": {
        "colab": {
          "base_uri": "https://localhost:8080/",
          "height": 299
        },
        "id": "4yy-juELVyGo",
        "outputId": "b2d31e97-37f5-44e2-ad3e-4d5d9b7102c9"
      },
      "source": [
        "from sklearn.datasets import make_classification\n",
        "import matplotlib.pyplot as plt\n",
        "%matplotlib inline\n",
        "\n",
        "plt.title('3 class values with 2 features Sample data creation')\n",
        "\n",
        "# 2차원 시각화를 위해서 피처는 2개, 클래스는 3가지 유형의 분류 샘플 데이터 생성.\n",
        "x_features, y_labels = make_classification(n_features=2, n_redundant=0, n_informative=2,\n",
        "                                           n_classes=3, n_clusters_per_class=1, random_state=0)\n",
        "\n",
        "# print(x_features) # ndarray data\n",
        "# print(y_labels) # 0 1 2 숫자들\n",
        "\n",
        "# 그래프 형태로 2개의 피처로 2차원 좌표 시각화, 각 클래스 값은 다른 색깔로 표시됨\n",
        "plt.scatter(x_features[:, 0], x_features[:, 1], marker='o', c=y_labels, s=25, edgecolor='k')\n"
      ],
      "execution_count": 4,
      "outputs": [
        {
          "output_type": "execute_result",
          "data": {
            "text/plain": [
              "<matplotlib.collections.PathCollection at 0x7f6e002f1190>"
            ]
          },
          "metadata": {},
          "execution_count": 4
        },
        {
          "output_type": "display_data",
          "data": {
            "image/png": "[encoded data removed]",
            "text/plain": [
              "<Figure size 432x288 with 1 Axes>"
            ]
          },
          "metadata": {
            "needs_background": "light"
          }
        }
      ]
    },
    {
      "cell_type": "markdown",
      "metadata": {
        "id": "U32GqVXCY5rr"
      },
      "source": [
        "### 결정트리 실습 - 사용자 행동 인식 데이터 세트\n"
      ]
    },
    {
      "cell_type": "code",
      "metadata": {
        "colab": {
          "base_uri": "https://localhost:8080/"
        },
        "id": "Gbp8KU5nZ10v",
        "outputId": "1faaced3-9121-4688-9744-d3c0e6b25700"
      },
      "source": [
        "import pandas as pd\n",
        "import matplotlib.pyplot as plt\n",
        "%matplotlib inline\n",
        "\n",
        "# features.txt 파일에는 피처 이름 index와 피처명이 공백으로 분리되어 있음. 이를 DF로 로드\n",
        "feature_name_df = pd.read_csv('/content/drive/MyDrive/Colab Notebooks/data/human_activity/features.txt', sep='\\s+', header=None, names=['column_index', 'column_name'])\n",
        "print(\"feature_name_df:\\n\", feature_name_df.head())\n",
        "\n",
        "# 피처명 index를 제거하고, 피처명만 리스트 객체로 생성한 뒤 샘플로 10개만 추출\n",
        "feature_name = feature_name_df.iloc[:, 1].values.tolist()\n",
        "print('\\n 전체 피처명 중 10개만 추출:', feature_name[:10])\n",
        "\n",
        "# 중복된 피처명 확인\n",
        "feature_dup_df = feature_name_df.groupby('column_name').count()\n",
        "print('feature_dup_df count:\\n', feature_dup_df[feature_dup_df['column_index'] > 1].count())    # 총 42개 피처가 중복됨\n",
        "print('feature_dup_df:\\n', feature_dup_df[feature_dup_df['column_index'] > 1].head(10))\n"
      ],
      "execution_count": 5,
      "outputs": [
        {
          "output_type": "stream",
          "name": "stdout",
          "text": [
            "feature_name_df:\n",
            "    column_index        column_name\n",
            "0             1  tBodyAcc-mean()-X\n",
            "1             2  tBodyAcc-mean()-Y\n",
            "2             3  tBodyAcc-mean()-Z\n",
            "3             4   tBodyAcc-std()-X\n",
            "4             5   tBodyAcc-std()-Y\n",
            "\n",
            " 전체 피처명 중 10개만 추출: ['tBodyAcc-mean()-X', 'tBodyAcc-mean()-Y', 'tBodyAcc-mean()-Z', 'tBodyAcc-std()-X', 'tBodyAcc-std()-Y', 'tBodyAcc-std()-Z', 'tBodyAcc-mad()-X', 'tBodyAcc-mad()-Y', 'tBodyAcc-mad()-Z', 'tBodyAcc-max()-X']\n",
            "feature_dup_df count:\n",
            " column_index    42\n",
            "dtype: int64\n",
            "feature_dup_df:\n",
            "                               column_index\n",
            "column_name                               \n",
            "fBodyAcc-bandsEnergy()-1,16              3\n",
            "fBodyAcc-bandsEnergy()-1,24              3\n",
            "fBodyAcc-bandsEnergy()-1,8               3\n",
            "fBodyAcc-bandsEnergy()-17,24             3\n",
            "fBodyAcc-bandsEnergy()-17,32             3\n",
            "fBodyAcc-bandsEnergy()-25,32             3\n",
            "fBodyAcc-bandsEnergy()-25,48             3\n",
            "fBodyAcc-bandsEnergy()-33,40             3\n",
            "fBodyAcc-bandsEnergy()-33,48             3\n",
            "fBodyAcc-bandsEnergy()-41,48             3\n"
          ]
        }
      ]
    },
    {
      "cell_type": "code",
      "metadata": {
        "id": "8SXENzz83cXw"
      },
      "source": [
        "# 중복된 피처명에 대해 _1 또는 _2를 추가로 부여해 새로운 피처명을 가지는 DF 반환 함수 생성\n",
        "def get_new_feature_name_df(old_feature_name_df) :\n",
        "    feature_dup_df = pd.DataFrame(data=old_feature_name_df.groupby('column_name').cumcount(),\n",
        "                                    columns=['dup_cnt'])\n",
        "    print('feature_dup_df:\\n', feature_dup_df.head())\n",
        "    feature_dup_df = feature_dup_df.reset_index()\n",
        "    new_feature_name_df = pd.merge(old_feature_name_df.reset_index(), feature_dup_df, how='outer')\n",
        "    print('new_feature_name_df:\\n', new_feature_name_df)\n",
        "\n",
        "    new_feature_name_df['column_name'] = new_feature_name_df[['column_name', 'dup_cnt']].apply(lambda x : x[0] + '_' + str(x[1]) if x[1] > 0 else x[0], axis=1)\n",
        "    print('new_feature_name_df:\\n', new_feature_name_df);\n",
        "\n",
        "    new_feature_name_df = new_feature_name_df.drop(['index'], axis=1)\n",
        "    return new_feature_name_df\n"
      ],
      "execution_count": 6,
      "outputs": []
    },
    {
      "cell_type": "code",
      "metadata": {
        "colab": {
          "base_uri": "https://localhost:8080/"
        },
        "id": "XaoObA5m3foR",
        "outputId": "2ae1855d-e2c2-4f0a-c2e1-a410b4380ce0"
      },
      "source": [
        "import pandas as pd\n",
        "\n",
        "# get_human_dataset() 함수는 앞으로 자주 사용할 예정\n",
        "def get_human_dataset() :\n",
        "    # 각 데이터 파일은 공백으로 분리. 공백문자를 sep 으로 할당.\n",
        "    df = pd.read_csv('/content/drive/MyDrive/Colab Notebooks/data/human_activity/features.txt', sep='\\s+', header=None, names=['column_index', 'column_name'])\n",
        "\n",
        "    # 중복된 피처명을 수정하는 get_new_feature_name_df()를 이용, 신규 피처명을 DF로 생성\n",
        "    new_df = get_new_feature_name_df(df)\n",
        "\n",
        "    # DF에 피처명을 컬럼으로 부여하기 위해 리스트 객체로 다시 변환\n",
        "    feature_name = new_df.iloc[:, 1].values.tolist()\n",
        "\n",
        "    # 학습 피처 데이터세트와 테스트 피처 데이터를 DF로 로딩. 컬럼명은 feature_name 적용\n",
        "    x_train = pd.read_csv('/content/drive/MyDrive/Colab Notebooks/data/human_activity/train/X_train.txt', sep='\\s+', names=feature_name)\n",
        "    x_test = pd.read_csv('/content/drive/MyDrive/Colab Notebooks/data/human_activity/test/X_test.txt', sep='\\s+', names=feature_name)\n",
        "    \n",
        "    # 학습 레이블과 테스트 레이블 데이터를 DF로 로딩하고 컬러명은 action으로 부여\n",
        "    y_train = pd.read_csv('/content/drive/MyDrive/Colab Notebooks/data/human_activity/train/y_train.txt', sep='\\s+', header=None, names=['action'])\n",
        "    y_test = pd.read_csv('/content/drive/MyDrive/Colab Notebooks/data/human_activity/test/y_test.txt', sep='\\s+', header=None, names=['action'])\n",
        "\n",
        "    # 로드된 학습/테스트 DF를 모두 반환\n",
        "    return x_train, x_test, y_train, y_test\n",
        "\n",
        "x_train, x_test, y_train, y_test = get_human_dataset()\n",
        "\n",
        "print('## 학습 데이터 셋 info()')\n",
        "print(x_train.info())\n",
        "\n",
        "print('## 레이블 값 value_counts() ')\n",
        "print(y_train['action'].value_counts())\n",
        "print('y_train:\\n', y_train)"
      ],
      "execution_count": 9,
      "outputs": [
        {
          "output_type": "stream",
          "name": "stdout",
          "text": [
            "feature_dup_df:\n",
            "    dup_cnt\n",
            "0        0\n",
            "1        0\n",
            "2        0\n",
            "3        0\n",
            "4        0\n",
            "new_feature_name_df:\n",
            "      index  column_index                           column_name  dup_cnt\n",
            "0        0             1                     tBodyAcc-mean()-X        0\n",
            "1        1             2                     tBodyAcc-mean()-Y        0\n",
            "2        2             3                     tBodyAcc-mean()-Z        0\n",
            "3        3             4                      tBodyAcc-std()-X        0\n",
            "4        4             5                      tBodyAcc-std()-Y        0\n",
            "..     ...           ...                                   ...      ...\n",
            "556    556           557      angle(tBodyGyroMean,gravityMean)        0\n",
            "557    557           558  angle(tBodyGyroJerkMean,gravityMean)        0\n",
            "558    558           559                  angle(X,gravityMean)        0\n",
            "559    559           560                  angle(Y,gravityMean)        0\n",
            "560    560           561                  angle(Z,gravityMean)        0\n",
            "\n",
            "[561 rows x 4 columns]\n",
            "new_feature_name_df:\n",
            "      index  column_index                           column_name  dup_cnt\n",
            "0        0             1                     tBodyAcc-mean()-X        0\n",
            "1        1             2                     tBodyAcc-mean()-Y        0\n",
            "2        2             3                     tBodyAcc-mean()-Z        0\n",
            "3        3             4                      tBodyAcc-std()-X        0\n",
            "4        4             5                      tBodyAcc-std()-Y        0\n",
            "..     ...           ...                                   ...      ...\n",
            "556    556           557      angle(tBodyGyroMean,gravityMean)        0\n",
            "557    557           558  angle(tBodyGyroJerkMean,gravityMean)        0\n",
            "558    558           559                  angle(X,gravityMean)        0\n",
            "559    559           560                  angle(Y,gravityMean)        0\n",
            "560    560           561                  angle(Z,gravityMean)        0\n",
            "\n",
            "[561 rows x 4 columns]\n",
            "## 학습 데이터 셋 info()\n",
            "<class 'pandas.core.frame.DataFrame'>\n",
            "RangeIndex: 7352 entries, 0 to 7351\n",
            "Columns: 561 entries, tBodyAcc-mean()-X to angle(Z,gravityMean)\n",
            "dtypes: float64(561)\n",
            "memory usage: 31.5 MB\n",
            "None\n",
            "## 레이블 값 value_counts() \n",
            "6    1407\n",
            "5    1374\n",
            "4    1286\n",
            "1    1226\n",
            "2    1073\n",
            "3     986\n",
            "Name: action, dtype: int64\n",
            "y_train:\n",
            "       action\n",
            "0          5\n",
            "1          5\n",
            "2          5\n",
            "3          5\n",
            "4          5\n",
            "...      ...\n",
            "7347       2\n",
            "7348       2\n",
            "7349       2\n",
            "7350       2\n",
            "7351       2\n",
            "\n",
            "[7352 rows x 1 columns]\n"
          ]
        }
      ]
    },
    {
      "cell_type": "markdown",
      "metadata": {
        "id": "XS2xinDLJzT9"
      },
      "source": [
        "### DecisionTreeClassifier 를 이용해 동작 예측 분류 수행"
      ]
    },
    {
      "cell_type": "code",
      "metadata": {
        "id": "1ZMiM5AL8XsV",
        "colab": {
          "base_uri": "https://localhost:8080/"
        },
        "outputId": "3ce45037-5115-4f10-f274-5c1b473132ae"
      },
      "source": [
        "from sklearn.tree import DecisionTreeClassifier\n",
        "from sklearn.metrics import accuracy_score\n",
        "\n",
        "# 예제 반복 시 마다 동일한 예측 결과 도축을 위해 random_state 설정\n",
        "dt = DecisionTreeClassifier(random_state = 156)\n",
        "dt.fit(x_train, y_train)\n",
        "pred = dt.predict(x_test)\n",
        "accuracy = accuracy_score(y_test, pred)\n",
        "print('결정 트리 예측 정확도:{0:.4f}'.format(accuracy))\n",
        "\n",
        "# 결정트리의 하이퍼 파라미터 추출\n",
        "print('DecisionTreeClassifier 기본 하이퍼 파라미터:\\n', dt.get_params())"
      ],
      "execution_count": 12,
      "outputs": [
        {
          "output_type": "stream",
          "name": "stdout",
          "text": [
            "결정 트리 예측 정확도:0.8548\n",
            "DecisionTreeClassifier 기본 하이퍼 파라미터:\n",
            " {'ccp_alpha': 0.0, 'class_weight': None, 'criterion': 'gini', 'max_depth': None, 'max_features': None, 'max_leaf_nodes': None, 'min_impurity_decrease': 0.0, 'min_impurity_split': None, 'min_samples_leaf': 1, 'min_samples_split': 2, 'min_weight_fraction_leaf': 0.0, 'presort': 'deprecated', 'random_state': 156, 'splitter': 'best'}\n"
          ]
        }
      ]
    },
    {
      "cell_type": "code",
      "metadata": {
        "colab": {
          "base_uri": "https://localhost:8080/"
        },
        "id": "LvkzobhGOixw",
        "outputId": "861d94e3-fc77-4daf-bf47-20268dad2857"
      },
      "source": [
        "# 결정트리의 깊이(Tree Depth)가 예측 정확도에 영향을 주는지 테스트 (약 2분의 시간이 걸림)\n",
        "from sklearn.model_selection import GridSearchCV\n",
        "\n",
        "params = {'max_depth': [6, 8, 10, 12, 16, 20, 24]}\n",
        "\n",
        "grid_cv = GridSearchCV(dt, param_grid=params, scoring='accuracy', cv=5, verbose=1)\n",
        "grid_cv.fit(x_train, y_train)\n",
        "print('GridSearchCV 최고 평균 정확도 수치:{0:.4f}'.format(grid_cv.best_score_))\n",
        "print('GridSearchCV 최적 하이퍼 파라미터:', grid_cv.best_params_)\n",
        "# colab 에서 최고 평균 정확도: 0.8513, 최적 하이퍼 파라미터 max_depth: 16, 실행시간 : 1분 58초"
      ],
      "execution_count": 13,
      "outputs": [
        {
          "output_type": "stream",
          "name": "stdout",
          "text": [
            "Fitting 5 folds for each of 7 candidates, totalling 35 fits\n"
          ]
        },
        {
          "output_type": "stream",
          "name": "stderr",
          "text": [
            "[Parallel(n_jobs=1)]: Using backend SequentialBackend with 1 concurrent workers.\n",
            "[Parallel(n_jobs=1)]: Done  35 out of  35 | elapsed:  1.9min finished\n"
          ]
        },
        {
          "output_type": "stream",
          "name": "stdout",
          "text": [
            "GridSearchCV 최고 평균 정확도 수치:0.8513\n",
            "GridSearchCV 최적 하이퍼 파라미터: {'max_depth': 16}\n"
          ]
        }
      ]
    },
    {
      "cell_type": "code",
      "metadata": {
        "colab": {
          "base_uri": "https://localhost:8080/",
          "height": 266
        },
        "id": "W3RFfMeDQA27",
        "outputId": "64824d5b-c050-49c5-a35b-125a46064712"
      },
      "source": [
        "# GridSearchCV 의 cv_result_ 속성은 CV 세트에 하이퍼 파라미터를 순차적으로 입력했을 때의 성능 수치를 가지고 있음\n",
        "# max_depth에 따른 평가 데이터 세트의 평균 정확도 수치(cv_result_ 의 'mean_test_score'값)를 cv_results_ 에서 추출해 보겠음\n",
        "\n",
        "# GridSearchCV 객체의 cv_results_ 속성을 DF로 생성\n",
        "cv_results_df = pd.DataFrame(grid_cv.cv_results_)\n",
        "\n",
        "# max_depth 파라미터 값과 그때의 테스트 세트, 학습 데이터 세트의 정확도 수치 추출\n",
        "cv_results_df[['param_max_depth', 'mean_test_score']]   # max_depth 가 16일때 mean_test_score 는 0.851344 로 가장 높다."
      ],
      "execution_count": 14,
      "outputs": [
        {
          "output_type": "execute_result",
          "data": {
            "text/html": [
              "<div>\n",
              "<style scoped>\n",
              "    .dataframe tbody tr th:only-of-type {\n",
              "        vertical-align: middle;\n",
              "    }\n",
              "\n",
              "    .dataframe tbody tr th {\n",
              "        vertical-align: top;\n",
              "    }\n",
              "\n",
              "    .dataframe thead th {\n",
              "        text-align: right;\n",
              "    }\n",
              "</style>\n",
              "<table border=\"1\" class=\"dataframe\">\n",
              "  <thead>\n",
              "    <tr style=\"text-align: right;\">\n",
              "      <th></th>\n",
              "      <th>param_max_depth</th>\n",
              "      <th>mean_test_score</th>\n",
              "    </tr>\n",
              "  </thead>\n",
              "  <tbody>\n",
              "    <tr>\n",
              "      <th>0</th>\n",
              "      <td>6</td>\n",
              "      <td>0.850791</td>\n",
              "    </tr>\n",
              "    <tr>\n",
              "      <th>1</th>\n",
              "      <td>8</td>\n",
              "      <td>0.851069</td>\n",
              "    </tr>\n",
              "    <tr>\n",
              "      <th>2</th>\n",
              "      <td>10</td>\n",
              "      <td>0.851209</td>\n",
              "    </tr>\n",
              "    <tr>\n",
              "      <th>3</th>\n",
              "      <td>12</td>\n",
              "      <td>0.844135</td>\n",
              "    </tr>\n",
              "    <tr>\n",
              "      <th>4</th>\n",
              "      <td>16</td>\n",
              "      <td>0.851344</td>\n",
              "    </tr>\n",
              "    <tr>\n",
              "      <th>5</th>\n",
              "      <td>20</td>\n",
              "      <td>0.850800</td>\n",
              "    </tr>\n",
              "    <tr>\n",
              "      <th>6</th>\n",
              "      <td>24</td>\n",
              "      <td>0.849440</td>\n",
              "    </tr>\n",
              "  </tbody>\n",
              "</table>\n",
              "</div>"
            ],
            "text/plain": [
              "  param_max_depth  mean_test_score\n",
              "0               6         0.850791\n",
              "1               8         0.851069\n",
              "2              10         0.851209\n",
              "3              12         0.844135\n",
              "4              16         0.851344\n",
              "5              20         0.850800\n",
              "6              24         0.849440"
            ]
          },
          "metadata": {},
          "execution_count": 14
        }
      ]
    },
    {
      "cell_type": "code",
      "metadata": {
        "colab": {
          "base_uri": "https://localhost:8080/"
        },
        "id": "Zogz1acrQ-BH",
        "outputId": "ec12bc07-9b55-4c08-9fe6-d189f705b9f0"
      },
      "source": [
        "# max_depth 의 변환에 따른 값을 측정\n",
        "max_depths = [6, 8, 10, 12, 16, 20, 24]\n",
        "\n",
        "# max_depth 값을 변화 시키면서 그때마다 학습과 테스트 세트에서의 예측 성능 측정\n",
        "for depth in max_depths :\n",
        "    dt = DecisionTreeClassifier(random_state=156, max_depth=depth)\n",
        "    dt.fit(x_train, y_train)\n",
        "    pred = dt.predict(x_test)\n",
        "    accuracy = accuracy_score(y_test, pred)\n",
        "    print('max_depth:', depth, ' 정확도:{0:.4f}'.format(accuracy))\n",
        "\n",
        "# max_depth 가 8일 때, 정확도가 0.8707로 가장 높았고, 이후 depth 가 깊어질수록 정확도는 점점 더 떨어짐"
      ],
      "execution_count": 16,
      "outputs": [
        {
          "output_type": "stream",
          "name": "stdout",
          "text": [
            "max_depth: 6  정확도:0.8558\n",
            "max_depth: 8  정확도:0.8707\n",
            "max_depth: 10  정확도:0.8673\n",
            "max_depth: 12  정확도:0.8646\n",
            "max_depth: 16  정확도:0.8575\n",
            "max_depth: 20  정확도:0.8548\n",
            "max_depth: 24  정확도:0.8548\n"
          ]
        }
      ]
    },
    {
      "cell_type": "code",
      "metadata": {
        "colab": {
          "base_uri": "https://localhost:8080/"
        },
        "id": "iU1VW-YPR-t3",
        "outputId": "89d22dff-52c5-4637-d2e4-6ef1756735e4"
      },
      "source": [
        "# max_depth 와 min_samples_split을 같이 변경하면서 정확도 성능 튜닝\n",
        "params = {'max_depth':[8, 12, 16, 20], 'min_samples_split':[16, 24]}\n",
        "\n",
        "grid_cv = GridSearchCV(dt, param_grid=params, scoring='accuracy', cv=5, verbose=1)\n",
        "grid_cv.fit(x_train, y_train)\n",
        "print('GridSearchCV 최고 평균 정확도 수치:{0:.4f}'.format(grid_cv.best_score_))\n",
        "print('GridSearchCV 최적 하이퍼 파라미터:', grid_cv.best_params_)\n",
        "# 수행시간: 2분 19초, 정확도:0.8549, 최적 하이퍼 파라미터 : {'max_depth': 8, 'min_samples_split': 16}"
      ],
      "execution_count": 17,
      "outputs": [
        {
          "output_type": "stream",
          "name": "stdout",
          "text": [
            "Fitting 5 folds for each of 8 candidates, totalling 40 fits\n"
          ]
        },
        {
          "output_type": "stream",
          "name": "stderr",
          "text": [
            "[Parallel(n_jobs=1)]: Using backend SequentialBackend with 1 concurrent workers.\n",
            "[Parallel(n_jobs=1)]: Done  40 out of  40 | elapsed:  2.3min finished\n"
          ]
        },
        {
          "output_type": "stream",
          "name": "stdout",
          "text": [
            "GridSearchCV 최고 평균 정확도 수치:0.8549\n",
            "GridSearchCV 최적 하이퍼 파라미터: {'max_depth': 8, 'min_samples_split': 16}\n"
          ]
        }
      ]
    },
    {
      "cell_type": "code",
      "metadata": {
        "colab": {
          "base_uri": "https://localhost:8080/"
        },
        "id": "iqsEnfLsTUpo",
        "outputId": "0a1f0cc7-24f7-469b-96a9-1a89edcb1917"
      },
      "source": [
        "# best_estimator_ 는 최적 하이퍼 파라미터인 'max_depth': 8, 'min_samples_split': 16 으로 학습이 완료된 Estimator 객체\n",
        "best_df_clf = grid_cv.best_estimator_\n",
        "pred1 = best_df_clf.predict(x_test)\n",
        "accuracy = accuracy_score(y_test, pred1)\n",
        "print('결정 트리 예측 정확도:', accuracy)"
      ],
      "execution_count": 18,
      "outputs": [
        {
          "output_type": "stream",
          "name": "stdout",
          "text": [
            "결정 트리 예측 정확도: 0.8717339667458432\n"
          ]
        }
      ]
    },
    {
      "cell_type": "code",
      "metadata": {
        "colab": {
          "base_uri": "https://localhost:8080/",
          "height": 390
        },
        "id": "gSz8SJgTTyKH",
        "outputId": "84f2baaf-8746-42f0-f011-c0374a27c9c2"
      },
      "source": [
        "# 결정 트리에서 각 피처의 중요도를 feature_importances_ 속성을 이용해 알아보겠음\n",
        "import seaborn as sns\n",
        "\n",
        "ftr_importances_values = best_df_clf.feature_importances_\n",
        "\n",
        "# TOP 중요도로 정렬을 쉽게 하고, 시본(seaborn)의 막대그래프로 쉽게 표현하기 위해 Series 변환\n",
        "ftr_importances = pd.Series(ftr_importances_values, index=x_train.columns)\n",
        "\n",
        "# 중요도값 순으로 Series 정렬\n",
        "ftr_top_20 = ftr_importances.sort_values(ascending=False)[:20]\n",
        "plt.figure(figsize=(8,6))\n",
        "plt.title('Feature importances Top 20')\n",
        "sns.barplot(x=ftr_top_20, y=ftr_top_20.index)\n",
        "plt.show()"
      ],
      "execution_count": 19,
      "outputs": [
        {
          "output_type": "display_data",
          "data": {
            "image/png": "[encoded data removed]",
            "text/plain": [
              "<Figure size 576x432 with 1 Axes>"
            ]
          },
          "metadata": {
            "needs_background": "light"
          }
        }
      ]
    }
  ]
}