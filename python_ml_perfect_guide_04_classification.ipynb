{
  "nbformat": 4,
  "nbformat_minor": 0,
  "metadata": {
    "colab": {
      "name": "python_ml_perfect_guide_04_classification.ipynb",
      "provenance": [],
      "collapsed_sections": [],
      "authorship_tag": "ABX9TyM+9ndv4K4XH3dZ3z+r6mTT",
      "include_colab_link": true
    },
    "kernelspec": {
      "name": "python3",
      "display_name": "Python 3"
    },
    "language_info": {
      "name": "python"
    }
  },
  "cells": [
    {
      "cell_type": "markdown",
      "metadata": {
        "id": "view-in-github",
        "colab_type": "text"
      },
      "source": [
        "<a href=\"https://colab.research.google.com/github/johyunkang/py_pandas/blob/main/python_ml_perfect_guide_04_classification.ipynb\" target=\"_parent\"><img src=\"https://colab.research.google.com/assets/colab-badge.svg\" alt=\"Open In Colab\"/></a>"
      ]
    },
    {
      "cell_type": "markdown",
      "metadata": {
        "id": "PZZxo4Wd9BMI"
      },
      "source": [
        "## Chapter 04 분류\n",
        "### 01 분류(Classification)의 개요\n",
        "\n",
        "앙상블 기법(Ensemble Method)\n",
        "- 배깅(Bagging)\n",
        " - 랜덤 포레스트(Random Forest) : 뛰어난 예측 성능, 상대적으로 빠른 수행 시간, 유연성\n",
        "- 부스팅(Boosting)\n",
        " - 그래디언트 부스팅(Gradient Boosting) : 뛰어난 예측성능, 수행 시간이 너무 오래 걸림\n",
        " - XgBoost(eXtra Gradient Boost), LightGBM\n",
        "- 스태킹(Stacking) : 앙상블의 앙상블 기법"
      ]
    },
    {
      "cell_type": "markdown",
      "metadata": {
        "id": "_DLJF4-595Vr"
      },
      "source": [
        "### 02 결정 트리 (Decision Tree)\n",
        "![decision-tree](https://user-images.githubusercontent.com/291782/139259554-404aa34c-c7bb-48e8-8446-2d928a4672ad.png)\n",
        "\n",
        "- 규칙노드(Decision Node) : 규칙조건이 있는 노드\n",
        "- 리프노드(Leaf Node) : 결정된 클래스 값\n",
        "- 새로운 규칙조건 마다 서브트리가 생성됨\n",
        "- 트리의 깊이가 깊어질수록 결정 트리의 예측 성능이 저하될 가능성이 높다. (과적합(Overfitting))\n",
        "\n",
        "\n",
        "결정 트리 장점\n",
        "- 쉽다. 직관적\n",
        "- 피처의 스케일링이나 정규화 등의 사전 가공 영향도가 크지 않음\n",
        "\n",
        "\n",
        "결정 트리 단점\n",
        "- 과적합으로 알고리즘 성능이 떨어진다. 이를 극복하기 위해 트리의 크기를 사전에 제한하는 튜닝 필요\n",
        "\n",
        "\n",
        "\n",
        "DecisionTreeClassifier 와 DecisionTreeRegressor 파라미터 설명\n",
        "- min_samples_split\n",
        " - 노드를 분할하기 위한 최소한의 샘플 데이터 수로 과적합을 제어하는데 사용됨\n",
        " - 디폴트는 2이고, 작게 설정할수록 분할되는 노드가 많아져서 과적합 가능성 증가\n",
        " - 과적합을 제어. 1로 설정할 경우 분할되는 노드가 많아져서 과적합 가능성 증가\n",
        "- min_samples_leaf\n",
        " - 말단 노드(Leaf)가 되기 위한 최소한의 샘플 데이터 수\n",
        " - Min_samples_split와 유사하게 과적합 제어 용도. 그러나 비대칭적(imbalanced) 데이터의 경우 특정 클래스의 데이터가 극도로 작을 수 있으므로 이 경우는 작게 설정 필요\n",
        "- max_feature\n",
        " - 최적의 분할을 위해 고려할 최대 피처 개수. 디폴트는 None으로 데이터 세트의 모든 피처를 사용해 분할 수행\n",
        " - int형으로 지정하면 대상 피처의 개수, float형으로 지정하면 전체 피처 중 대상 피처의 퍼센트임\n",
        " - 'sqrt'는 전체 피처 중 sqrt(전체 피처 개수). 즉 $sqrt{전체피처개수}$ 만큼 선정\n",
        " - 'auto'로 지정하면 'sqrt'와 동일\n",
        " - 'log'는 전체 피정 중 log2(전체 피처 개수) 선정\n",
        " - 'None'은 전체 피처 선정\n",
        "- max_depth\n",
        " - 트리의 최대 깊이를 규정\n",
        " - 디폴트는 None. None으로 설정하면 완벽하게 클래스 결정 값이 될 때까지 깊이를 계속 키우며 분할하거나 노드가 가지는 데이터 개수가 min_samples_split 보다 작아질 때까지 계속 깊이를 증가시킴.\n",
        " - 깊이가 깊어지면 min_samples_split 설정대로 최대 분할하여 과적합할 수 있으므로 적절한 값으로 제어 필요\n",
        "- max_leaf_nodes\n",
        " - 말단 노드(Leaf)의 최대 개수"
      ]
    },
    {
      "cell_type": "markdown",
      "metadata": {
        "id": "T3PwJXq_B4QS"
      },
      "source": [
        "#### 결정 트리 모델의 시각화\n",
        "**Graphviz**를 윈도우에 설치 필요  \n",
        "Graphviz는 파이썬으로 개발된 패키지가 아님\n",
        "\n",
        "설정방법\n",
        "1. https://graphviz.gitlab.io/_pages/Download/Download_windows.html 경로에서 시스템에 맞게 내려받은 뒤 설치\n",
        "2. 1의 경로 파일을 설치 했으면 Graphviz의 파이썬 래퍼 모듈을 PIP를 이용해 설치 (cmd를 관리자 권한으로 실행 후 아래 명령어 실행)\n",
        "```python\n",
        "pip install graphviz\n",
        "```\n",
        "\n",
        "자세한 설명은 p.191 참조"
      ]
    },
    {
      "cell_type": "code",
      "metadata": {
        "colab": {
          "base_uri": "https://localhost:8080/"
        },
        "id": "5N8IlkzfDVPC",
        "outputId": "9c09293c-a29b-4687-ecf2-fca0c7a89f10"
      },
      "source": [
        "pip install graphviz"
      ],
      "execution_count": 1,
      "outputs": [
        {
          "output_type": "stream",
          "name": "stdout",
          "text": [
            "Requirement already satisfied: graphviz in /usr/local/lib/python3.7/dist-packages (0.10.1)\n"
          ]
        }
      ]
    },
    {
      "cell_type": "code",
      "metadata": {
        "colab": {
          "base_uri": "https://localhost:8080/"
        },
        "id": "6o-XPv6xDerf",
        "outputId": "e9bfc3c3-365e-4bcf-8276-69440fd31f7e"
      },
      "source": [
        "from sklearn.tree import DecisionTreeClassifier\n",
        "from sklearn.datasets import load_iris\n",
        "from sklearn.model_selection import train_test_split\n",
        "import warnings\n",
        "warnings.filterwarnings('ignore')\n",
        "\n",
        "# DecisionTreeClassifier 생성\n",
        "dt = DecisionTreeClassifier(random_state=111)\n",
        "\n",
        "# 붓꽃 데이터 로딩 후 학습 과 테스트 데이터 세트로 분리\n",
        "iris_data = load_iris()\n",
        "x_train, x_test, y_train, y_test = train_test_split(iris_data.data, iris_data.target, test_size=0.2, random_state=111)\n",
        "\n",
        "# DT 학습\n",
        "dt.fit(x_train, y_train)"
      ],
      "execution_count": 2,
      "outputs": [
        {
          "output_type": "execute_result",
          "data": {
            "text/plain": [
              "DecisionTreeClassifier(ccp_alpha=0.0, class_weight=None, criterion='gini',\n",
              "                       max_depth=None, max_features=None, max_leaf_nodes=None,\n",
              "                       min_impurity_decrease=0.0, min_impurity_split=None,\n",
              "                       min_samples_leaf=1, min_samples_split=2,\n",
              "                       min_weight_fraction_leaf=0.0, presort='deprecated',\n",
              "                       random_state=111, splitter='best')"
            ]
          },
          "metadata": {},
          "execution_count": 2
        }
      ]
    },
    {
      "cell_type": "code",
      "metadata": {
        "colab": {
          "base_uri": "https://localhost:8080/",
          "height": 756
        },
        "id": "zm2HP7jREUL0",
        "outputId": "f026e0b1-86b6-42b0-c3eb-048173fdf0a7"
      },
      "source": [
        "from sklearn.tree import export_graphviz\n",
        "\n",
        "# !! Google Colab 방법과 주피터 노트북 방법은 다름\n",
        "\n",
        "# 주피터 노트북 방법 1/2\n",
        "# export_graphviz() 의 호출결과로 out_file로 지정된 tree.dot 파일을 생성함\n",
        "#export_graphviz(dt, out_file=\"tree.dot\", class_name=iris_data.target_names, feature_names = iris_data.feature_names, impurity=True, filled=True)\n",
        "\n",
        "\n",
        "import graphviz\n",
        "# # 위에서 생성된 tree.dot 파일을 graphviz가 읽어서 주피터 노트북상에서 시각화\n",
        "# 주피터 노트북 방법 2/2\n",
        "# with open(\"tree.dot\") as f:\n",
        "#     dot_graph = f.read()\n",
        "# graphviz.Source(dot_graph)\n",
        "\n",
        "\n",
        "# 구글 코랩 방법 1/1\n",
        "dot_data = export_graphviz(dt\n",
        "                        #   , max_depth=3\n",
        "                          , feature_names=iris_data.feature_names\n",
        "                          , class_names=iris_data.target_names\n",
        "                          , filled=True\n",
        "                          , impurity=True\n",
        "                        #  , proportion=True\n",
        "                          )\n",
        "display(graphviz.Source(dot_data))"
      ],
      "execution_count": 14,
      "outputs": [
        {
          "output_type": "display_data",
          "data": {
            "text/plain": [
              "<graphviz.files.Source at 0x7f2ebcdebf50>"
            ],
            "image/svg+xml": "<?xml version=\"1.0\" encoding=\"UTF-8\" standalone=\"no\"?>\n<!DOCTYPE svg PUBLIC \"-//W3C//DTD SVG 1.1//EN\"\n \"http://www.w3.org/Graphics/SVG/1.1/DTD/svg11.dtd\">\n<!-- Generated by graphviz version 2.40.1 (20161225.0304)\n -->\n<!-- Title: Tree Pages: 1 -->\n<svg width=\"360pt\" height=\"552pt\"\n viewBox=\"0.00 0.00 360.00 552.00\" xmlns=\"http://www.w3.org/2000/svg\" xmlns:xlink=\"http://www.w3.org/1999/xlink\">\n<g id=\"graph0\" class=\"graph\" transform=\"scale(1 1) rotate(0) translate(4 548)\">\n<title>Tree</title>\n<polygon fill=\"#ffffff\" stroke=\"transparent\" points=\"-4,4 -4,-548 356,-548 356,4 -4,4\"/>\n<!-- 0 -->\n<g id=\"node1\" class=\"node\">\n<title>0</title>\n<polygon fill=\"#f8fefa\" stroke=\"#000000\" points=\"218.5,-544 54.5,-544 54.5,-461 218.5,-461 218.5,-544\"/>\n<text text-anchor=\"middle\" x=\"136.5\" y=\"-528.8\" font-family=\"Times,serif\" font-size=\"14.00\" fill=\"#000000\">petal length (cm) &lt;= 2.45</text>\n<text text-anchor=\"middle\" x=\"136.5\" y=\"-513.8\" font-family=\"Times,serif\" font-size=\"14.00\" fill=\"#000000\">gini = 0.665</text>\n<text text-anchor=\"middle\" x=\"136.5\" y=\"-498.8\" font-family=\"Times,serif\" font-size=\"14.00\" fill=\"#000000\">samples = 120</text>\n<text text-anchor=\"middle\" x=\"136.5\" y=\"-483.8\" font-family=\"Times,serif\" font-size=\"14.00\" fill=\"#000000\">value = [40, 43, 37]</text>\n<text text-anchor=\"middle\" x=\"136.5\" y=\"-468.8\" font-family=\"Times,serif\" font-size=\"14.00\" fill=\"#000000\">class = versicolor</text>\n</g>\n<!-- 1 -->\n<g id=\"node2\" class=\"node\">\n<title>1</title>\n<polygon fill=\"#e58139\" stroke=\"#000000\" points=\"117,-417.5 0,-417.5 0,-349.5 117,-349.5 117,-417.5\"/>\n<text text-anchor=\"middle\" x=\"58.5\" y=\"-402.3\" font-family=\"Times,serif\" font-size=\"14.00\" fill=\"#000000\">gini = 0.0</text>\n<text text-anchor=\"middle\" x=\"58.5\" y=\"-387.3\" font-family=\"Times,serif\" font-size=\"14.00\" fill=\"#000000\">samples = 40</text>\n<text text-anchor=\"middle\" x=\"58.5\" y=\"-372.3\" font-family=\"Times,serif\" font-size=\"14.00\" fill=\"#000000\">value = [40, 0, 0]</text>\n<text text-anchor=\"middle\" x=\"58.5\" y=\"-357.3\" font-family=\"Times,serif\" font-size=\"14.00\" fill=\"#000000\">class = setosa</text>\n</g>\n<!-- 0&#45;&gt;1 -->\n<g id=\"edge1\" class=\"edge\">\n<title>0&#45;&gt;1</title>\n<path fill=\"none\" stroke=\"#000000\" d=\"M109.2194,-460.8796C101.8677,-449.6636 93.9036,-437.5131 86.5126,-426.2372\"/>\n<polygon fill=\"#000000\" stroke=\"#000000\" points=\"89.4014,-424.2598 80.9921,-417.8149 83.5469,-428.0972 89.4014,-424.2598\"/>\n<text text-anchor=\"middle\" x=\"75.8982\" y=\"-438.5905\" font-family=\"Times,serif\" font-size=\"14.00\" fill=\"#000000\">True</text>\n</g>\n<!-- 2 -->\n<g id=\"node3\" class=\"node\">\n<title>2</title>\n<polygon fill=\"#e3fbed\" stroke=\"#000000\" points=\"296,-425 135,-425 135,-342 296,-342 296,-425\"/>\n<text text-anchor=\"middle\" x=\"215.5\" y=\"-409.8\" font-family=\"Times,serif\" font-size=\"14.00\" fill=\"#000000\">petal width (cm) &lt;= 1.65</text>\n<text text-anchor=\"middle\" x=\"215.5\" y=\"-394.8\" font-family=\"Times,serif\" font-size=\"14.00\" fill=\"#000000\">gini = 0.497</text>\n<text text-anchor=\"middle\" x=\"215.5\" y=\"-379.8\" font-family=\"Times,serif\" font-size=\"14.00\" fill=\"#000000\">samples = 80</text>\n<text text-anchor=\"middle\" x=\"215.5\" y=\"-364.8\" font-family=\"Times,serif\" font-size=\"14.00\" fill=\"#000000\">value = [0, 43, 37]</text>\n<text text-anchor=\"middle\" x=\"215.5\" y=\"-349.8\" font-family=\"Times,serif\" font-size=\"14.00\" fill=\"#000000\">class = versicolor</text>\n</g>\n<!-- 0&#45;&gt;2 -->\n<g id=\"edge2\" class=\"edge\">\n<title>0&#45;&gt;2</title>\n<path fill=\"none\" stroke=\"#000000\" d=\"M164.1304,-460.8796C169.93,-452.1434 176.1059,-442.8404 182.0908,-433.8253\"/>\n<polygon fill=\"#000000\" stroke=\"#000000\" points=\"185.1368,-435.5652 187.7517,-425.2981 179.3049,-431.6935 185.1368,-435.5652\"/>\n<text text-anchor=\"middle\" x=\"192.7022\" y=\"-446.103\" font-family=\"Times,serif\" font-size=\"14.00\" fill=\"#000000\">False</text>\n</g>\n<!-- 3 -->\n<g id=\"node4\" class=\"node\">\n<title>3</title>\n<polygon fill=\"#47e78a\" stroke=\"#000000\" points=\"216.5,-306 60.5,-306 60.5,-223 216.5,-223 216.5,-306\"/>\n<text text-anchor=\"middle\" x=\"138.5\" y=\"-290.8\" font-family=\"Times,serif\" font-size=\"14.00\" fill=\"#000000\">petal length (cm) &lt;= 5.0</text>\n<text text-anchor=\"middle\" x=\"138.5\" y=\"-275.8\" font-family=\"Times,serif\" font-size=\"14.00\" fill=\"#000000\">gini = 0.122</text>\n<text text-anchor=\"middle\" x=\"138.5\" y=\"-260.8\" font-family=\"Times,serif\" font-size=\"14.00\" fill=\"#000000\">samples = 46</text>\n<text text-anchor=\"middle\" x=\"138.5\" y=\"-245.8\" font-family=\"Times,serif\" font-size=\"14.00\" fill=\"#000000\">value = [0, 43, 3]</text>\n<text text-anchor=\"middle\" x=\"138.5\" y=\"-230.8\" font-family=\"Times,serif\" font-size=\"14.00\" fill=\"#000000\">class = versicolor</text>\n</g>\n<!-- 2&#45;&gt;3 -->\n<g id=\"edge3\" class=\"edge\">\n<title>2&#45;&gt;3</title>\n<path fill=\"none\" stroke=\"#000000\" d=\"M188.5691,-341.8796C182.9163,-333.1434 176.8967,-323.8404 171.0634,-314.8253\"/>\n<polygon fill=\"#000000\" stroke=\"#000000\" points=\"173.9169,-312.7924 165.5458,-306.2981 168.0399,-316.5952 173.9169,-312.7924\"/>\n</g>\n<!-- 8 -->\n<g id=\"node9\" class=\"node\">\n<title>8</title>\n<polygon fill=\"#8139e5\" stroke=\"#000000\" points=\"352,-298.5 235,-298.5 235,-230.5 352,-230.5 352,-298.5\"/>\n<text text-anchor=\"middle\" x=\"293.5\" y=\"-283.3\" font-family=\"Times,serif\" font-size=\"14.00\" fill=\"#000000\">gini = 0.0</text>\n<text text-anchor=\"middle\" x=\"293.5\" y=\"-268.3\" font-family=\"Times,serif\" font-size=\"14.00\" fill=\"#000000\">samples = 34</text>\n<text text-anchor=\"middle\" x=\"293.5\" y=\"-253.3\" font-family=\"Times,serif\" font-size=\"14.00\" fill=\"#000000\">value = [0, 0, 34]</text>\n<text text-anchor=\"middle\" x=\"293.5\" y=\"-238.3\" font-family=\"Times,serif\" font-size=\"14.00\" fill=\"#000000\">class = virginica</text>\n</g>\n<!-- 2&#45;&gt;8 -->\n<g id=\"edge8\" class=\"edge\">\n<title>2&#45;&gt;8</title>\n<path fill=\"none\" stroke=\"#000000\" d=\"M242.7806,-341.8796C250.1323,-330.6636 258.0964,-318.5131 265.4874,-307.2372\"/>\n<polygon fill=\"#000000\" stroke=\"#000000\" points=\"268.4531,-309.0972 271.0079,-298.8149 262.5986,-305.2598 268.4531,-309.0972\"/>\n</g>\n<!-- 4 -->\n<g id=\"node5\" class=\"node\">\n<title>4</title>\n<polygon fill=\"#39e581\" stroke=\"#000000\" points=\"118,-179.5 1,-179.5 1,-111.5 118,-111.5 118,-179.5\"/>\n<text text-anchor=\"middle\" x=\"59.5\" y=\"-164.3\" font-family=\"Times,serif\" font-size=\"14.00\" fill=\"#000000\">gini = 0.0</text>\n<text text-anchor=\"middle\" x=\"59.5\" y=\"-149.3\" font-family=\"Times,serif\" font-size=\"14.00\" fill=\"#000000\">samples = 42</text>\n<text text-anchor=\"middle\" x=\"59.5\" y=\"-134.3\" font-family=\"Times,serif\" font-size=\"14.00\" fill=\"#000000\">value = [0, 42, 0]</text>\n<text text-anchor=\"middle\" x=\"59.5\" y=\"-119.3\" font-family=\"Times,serif\" font-size=\"14.00\" fill=\"#000000\">class = versicolor</text>\n</g>\n<!-- 3&#45;&gt;4 -->\n<g id=\"edge4\" class=\"edge\">\n<title>3&#45;&gt;4</title>\n<path fill=\"none\" stroke=\"#000000\" d=\"M110.8696,-222.8796C103.4237,-211.6636 95.3575,-199.5131 87.8718,-188.2372\"/>\n<polygon fill=\"#000000\" stroke=\"#000000\" points=\"90.7273,-186.2104 82.2805,-179.8149 84.8954,-190.082 90.7273,-186.2104\"/>\n</g>\n<!-- 5 -->\n<g id=\"node6\" class=\"node\">\n<title>5</title>\n<polygon fill=\"#ab7bee\" stroke=\"#000000\" points=\"301,-187 136,-187 136,-104 301,-104 301,-187\"/>\n<text text-anchor=\"middle\" x=\"218.5\" y=\"-171.8\" font-family=\"Times,serif\" font-size=\"14.00\" fill=\"#000000\">sepal length (cm) &lt;= 6.05</text>\n<text text-anchor=\"middle\" x=\"218.5\" y=\"-156.8\" font-family=\"Times,serif\" font-size=\"14.00\" fill=\"#000000\">gini = 0.375</text>\n<text text-anchor=\"middle\" x=\"218.5\" y=\"-141.8\" font-family=\"Times,serif\" font-size=\"14.00\" fill=\"#000000\">samples = 4</text>\n<text text-anchor=\"middle\" x=\"218.5\" y=\"-126.8\" font-family=\"Times,serif\" font-size=\"14.00\" fill=\"#000000\">value = [0, 1, 3]</text>\n<text text-anchor=\"middle\" x=\"218.5\" y=\"-111.8\" font-family=\"Times,serif\" font-size=\"14.00\" fill=\"#000000\">class = virginica</text>\n</g>\n<!-- 3&#45;&gt;5 -->\n<g id=\"edge5\" class=\"edge\">\n<title>3&#45;&gt;5</title>\n<path fill=\"none\" stroke=\"#000000\" d=\"M166.4801,-222.8796C172.3531,-214.1434 178.6073,-204.8404 184.6679,-195.8253\"/>\n<polygon fill=\"#000000\" stroke=\"#000000\" points=\"187.7259,-197.5498 190.4005,-187.2981 181.9166,-193.6444 187.7259,-197.5498\"/>\n</g>\n<!-- 6 -->\n<g id=\"node7\" class=\"node\">\n<title>6</title>\n<polygon fill=\"#39e581\" stroke=\"#000000\" points=\"210,-68 95,-68 95,0 210,0 210,-68\"/>\n<text text-anchor=\"middle\" x=\"152.5\" y=\"-52.8\" font-family=\"Times,serif\" font-size=\"14.00\" fill=\"#000000\">gini = 0.0</text>\n<text text-anchor=\"middle\" x=\"152.5\" y=\"-37.8\" font-family=\"Times,serif\" font-size=\"14.00\" fill=\"#000000\">samples = 1</text>\n<text text-anchor=\"middle\" x=\"152.5\" y=\"-22.8\" font-family=\"Times,serif\" font-size=\"14.00\" fill=\"#000000\">value = [0, 1, 0]</text>\n<text text-anchor=\"middle\" x=\"152.5\" y=\"-7.8\" font-family=\"Times,serif\" font-size=\"14.00\" fill=\"#000000\">class = versicolor</text>\n</g>\n<!-- 5&#45;&gt;6 -->\n<g id=\"edge6\" class=\"edge\">\n<title>5&#45;&gt;6</title>\n<path fill=\"none\" stroke=\"#000000\" d=\"M193.924,-103.9815C188.7014,-95.1585 183.1771,-85.8258 177.9237,-76.9506\"/>\n<polygon fill=\"#000000\" stroke=\"#000000\" points=\"180.8874,-75.0863 172.7816,-68.2637 174.8636,-78.652 180.8874,-75.0863\"/>\n</g>\n<!-- 7 -->\n<g id=\"node8\" class=\"node\">\n<title>7</title>\n<polygon fill=\"#8139e5\" stroke=\"#000000\" points=\"338.5,-68 228.5,-68 228.5,0 338.5,0 338.5,-68\"/>\n<text text-anchor=\"middle\" x=\"283.5\" y=\"-52.8\" font-family=\"Times,serif\" font-size=\"14.00\" fill=\"#000000\">gini = 0.0</text>\n<text text-anchor=\"middle\" x=\"283.5\" y=\"-37.8\" font-family=\"Times,serif\" font-size=\"14.00\" fill=\"#000000\">samples = 3</text>\n<text text-anchor=\"middle\" x=\"283.5\" y=\"-22.8\" font-family=\"Times,serif\" font-size=\"14.00\" fill=\"#000000\">value = [0, 0, 3]</text>\n<text text-anchor=\"middle\" x=\"283.5\" y=\"-7.8\" font-family=\"Times,serif\" font-size=\"14.00\" fill=\"#000000\">class = virginica</text>\n</g>\n<!-- 5&#45;&gt;7 -->\n<g id=\"edge7\" class=\"edge\">\n<title>5&#45;&gt;7</title>\n<path fill=\"none\" stroke=\"#000000\" d=\"M242.7036,-103.9815C247.8471,-95.1585 253.2877,-85.8258 258.4616,-76.9506\"/>\n<polygon fill=\"#000000\" stroke=\"#000000\" points=\"261.513,-78.6656 263.5257,-68.2637 255.4656,-75.1402 261.513,-78.6656\"/>\n</g>\n</g>\n</svg>\n"
          },
          "metadata": {}
        }
      ]
    },
    {
      "cell_type": "markdown",
      "metadata": {
        "id": "dX4x8QYqVado"
      },
      "source": [
        "### 결정 트리 과적합(Overfitting)\n",
        "\n",
        "결정 트리가 어떻게 학습 데이터를 분할해 예측을 수행하는 지와 이로 인한 과적합 문제를 시각화해 알아보겠음\n",
        "\n",
        "2개의 피처가 3가지 유형의 클래스 값을 가지는 데이터 세트를 만들고 이를 그래프 형태로 시각화하겠음."
      ]
    },
    {
      "cell_type": "code",
      "metadata": {
        "colab": {
          "base_uri": "https://localhost:8080/",
          "height": 353
        },
        "id": "4yy-juELVyGo",
        "outputId": "cce7cb24-5da8-42f0-a488-e07798d65acd"
      },
      "source": [
        "from sklearn.datasets import make_classification\n",
        "import matplotlib.pyplot as plt\n",
        "#%matplotlib inline\n",
        "\n",
        "plt.title('3 class values with 2 features Sample data creation')\n",
        "\n",
        "# 2차원 시각화를 위해서 피처는 2개, 클래스는 3가지 유형의 분류 샘플 데이터 생성.\n",
        "x_features, y_labels = make_classification(n_features=2, n_redundant=0, n_informative=2,\n",
        "                                           n_classes=3, n_clusters_per_class=1, random_state=0)\n",
        "\n",
        "# print(x_features) # ndarray data\n",
        "# print(y_labels) # 0 1 2 숫자들\n",
        "\n",
        "# 그래프 형태로 2개의 피처로 2차원 좌표 시각화, 각 클래스 값은 다른 색깔로 표시됨\n",
        "plt.scatter(x_features[:, 0], x_features[:, 1], marker='o', c=y_labels, s=25, edgecolor='k')\n"
      ],
      "execution_count": 19,
      "outputs": [
        {
          "output_type": "stream",
          "name": "stdout",
          "text": [
            "[0 1 1 1 2 2 1 0 2 2 0 1 2 1 2 0 0 1 2 1 2 0 1 2 1 0 2 2 2 0 2 1 1 0 1 0 0\n",
            " 2 1 0 0 1 0 2 0 2 1 0 2 0 2 2 2 1 0 1 1 0 2 0 2 0 0 2 1 1 0 1 1 2 1 0 2 2\n",
            " 2 0 0 1 1 0 2 1 2 1 0 2 1 1 1 1 0 0 1 0 2 2 0 2 0 0]\n"
          ]
        },
        {
          "output_type": "execute_result",
          "data": {
            "text/plain": [
              "<matplotlib.collections.PathCollection at 0x7f2eb880ca90>"
            ]
          },
          "metadata": {},
          "execution_count": 19
        },
        {
          "output_type": "display_data",
          "data": {
            "image/png": "[encoded data removed]",
            "text/plain": [
              "<Figure size 432x288 with 1 Axes>"
            ]
          },
          "metadata": {
            "needs_background": "light"
          }
        }
      ]
    }
  ]
}