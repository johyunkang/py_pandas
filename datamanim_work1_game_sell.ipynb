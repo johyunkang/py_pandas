{
  "nbformat": 4,
  "nbformat_minor": 0,
  "metadata": {
    "colab": {
      "name": "datamanim_work1_game_sell.ipynb",
      "provenance": [],
      "collapsed_sections": [],
      "authorship_tag": "ABX9TyPbWKzZytzsoJUXvG9kz9rY",
      "include_colab_link": true
    },
    "kernelspec": {
      "name": "python3",
      "display_name": "Python 3"
    },
    "language_info": {
      "name": "python"
    }
  },
  "cells": [
    {
      "cell_type": "markdown",
      "metadata": {
        "id": "view-in-github",
        "colab_type": "text"
      },
      "source": [
        "<a href=\"https://colab.research.google.com/github/johyunkang/py_pandas/blob/main/datamanim_work1_game_sell.ipynb\" target=\"_parent\"><img src=\"https://colab.research.google.com/assets/colab-badge.svg\" alt=\"Open In Colab\"/></a>"
      ]
    },
    {
      "cell_type": "markdown",
      "metadata": {
        "id": "ZyFFyrOxew7X"
      },
      "source": [
        "## 비디오게임 판매량 및 등급\n",
        "\n",
        "링크 : [DataManim_비디오게임 판매량 문제](https://www.datamanim.com/dataset/03_dataq/q1/video/main.html)\n",
        "\n",
        "### 데이터셋 설명\n",
        "여러 플랫폼의 년도별 출시된 게임 데이터셋 출처 : https://mlcourse.ai/  \n",
        "Name : 게임명  \n",
        "Platform : 출시 플랫폼  \n",
        "Year_of_Release : 출시년도  \n",
        "Genre : 장르  \n",
        "Publisher : 출시 업체  \n",
        "{지역별}_Sales : 판매량  \n",
        "User_Score : 유저스코어 (tbd : 측정 안됨)  \n",
        "Developer : 개발 업체  \n",
        "Rating : 이동등급()  \n",
        "\n",
        "dataUrl =’https://raw.githubusercontent.com/Datamanim/video/master/video_games_sale.csv’"
      ]
    },
    {
      "cell_type": "markdown",
      "metadata": {
        "id": "YB9RFvuhgG1I"
      },
      "source": [
        "### Question 1\n",
        "\n",
        "데이터 Url을 이용하여 df변수에 데이터를 로드하라"
      ]
    },
    {
      "cell_type": "code",
      "metadata": {
        "colab": {
          "base_uri": "https://localhost:8080/",
          "height": 204
        },
        "id": "qGZnQynJekIB",
        "outputId": "70f12c6c-fc77-4d4c-c7fc-3477d9ecfcf6"
      },
      "source": [
        "import pandas as pd\n",
        "\n",
        "url = 'https://raw.githubusercontent.com/Datamanim/video/master/video_games_sale.csv'\n",
        "df = pd.read_csv(url, index_col=0)\n",
        "df.head()"
      ],
      "execution_count": 1,
      "outputs": [
        {
          "output_type": "execute_result",
          "data": {
            "text/html": [
              "<div>\n",
              "<style scoped>\n",
              "    .dataframe tbody tr th:only-of-type {\n",
              "        vertical-align: middle;\n",
              "    }\n",
              "\n",
              "    .dataframe tbody tr th {\n",
              "        vertical-align: top;\n",
              "    }\n",
              "\n",
              "    .dataframe thead th {\n",
              "        text-align: right;\n",
              "    }\n",
              "</style>\n",
              "<table border=\"1\" class=\"dataframe\">\n",
              "  <thead>\n",
              "    <tr style=\"text-align: right;\">\n",
              "      <th></th>\n",
              "      <th>Name</th>\n",
              "      <th>Platform</th>\n",
              "      <th>Year_of_Release</th>\n",
              "      <th>Genre</th>\n",
              "      <th>Publisher</th>\n",
              "      <th>NA_Sales</th>\n",
              "      <th>EU_Sales</th>\n",
              "      <th>JP_Sales</th>\n",
              "      <th>Other_Sales</th>\n",
              "      <th>Global_Sales</th>\n",
              "      <th>Critic_Score</th>\n",
              "      <th>Critic_Count</th>\n",
              "      <th>User_Score</th>\n",
              "      <th>User_Count</th>\n",
              "      <th>Developer</th>\n",
              "      <th>Rating</th>\n",
              "      <th>Year_of_ten</th>\n",
              "    </tr>\n",
              "  </thead>\n",
              "  <tbody>\n",
              "    <tr>\n",
              "      <th>0</th>\n",
              "      <td>Wii Sports</td>\n",
              "      <td>Wii</td>\n",
              "      <td>2006.0</td>\n",
              "      <td>Sports</td>\n",
              "      <td>Nintendo</td>\n",
              "      <td>41.36</td>\n",
              "      <td>28.96</td>\n",
              "      <td>3.77</td>\n",
              "      <td>8.45</td>\n",
              "      <td>82.53</td>\n",
              "      <td>76.0</td>\n",
              "      <td>51.0</td>\n",
              "      <td>8.0</td>\n",
              "      <td>322.0</td>\n",
              "      <td>Nintendo</td>\n",
              "      <td>E</td>\n",
              "      <td>2000.0</td>\n",
              "    </tr>\n",
              "    <tr>\n",
              "      <th>1</th>\n",
              "      <td>Mario Kart Wii</td>\n",
              "      <td>Wii</td>\n",
              "      <td>2008.0</td>\n",
              "      <td>Racing</td>\n",
              "      <td>Nintendo</td>\n",
              "      <td>15.68</td>\n",
              "      <td>12.76</td>\n",
              "      <td>3.79</td>\n",
              "      <td>3.29</td>\n",
              "      <td>35.52</td>\n",
              "      <td>82.0</td>\n",
              "      <td>73.0</td>\n",
              "      <td>8.3</td>\n",
              "      <td>709.0</td>\n",
              "      <td>Nintendo</td>\n",
              "      <td>E</td>\n",
              "      <td>2000.0</td>\n",
              "    </tr>\n",
              "    <tr>\n",
              "      <th>2</th>\n",
              "      <td>Wii Sports Resort</td>\n",
              "      <td>Wii</td>\n",
              "      <td>2009.0</td>\n",
              "      <td>Sports</td>\n",
              "      <td>Nintendo</td>\n",
              "      <td>15.61</td>\n",
              "      <td>10.93</td>\n",
              "      <td>3.28</td>\n",
              "      <td>2.95</td>\n",
              "      <td>32.77</td>\n",
              "      <td>80.0</td>\n",
              "      <td>73.0</td>\n",
              "      <td>8.0</td>\n",
              "      <td>192.0</td>\n",
              "      <td>Nintendo</td>\n",
              "      <td>E</td>\n",
              "      <td>2000.0</td>\n",
              "    </tr>\n",
              "    <tr>\n",
              "      <th>3</th>\n",
              "      <td>New Super Mario Bros.</td>\n",
              "      <td>DS</td>\n",
              "      <td>2006.0</td>\n",
              "      <td>Platform</td>\n",
              "      <td>Nintendo</td>\n",
              "      <td>11.28</td>\n",
              "      <td>9.14</td>\n",
              "      <td>6.50</td>\n",
              "      <td>2.88</td>\n",
              "      <td>29.80</td>\n",
              "      <td>89.0</td>\n",
              "      <td>65.0</td>\n",
              "      <td>8.5</td>\n",
              "      <td>431.0</td>\n",
              "      <td>Nintendo</td>\n",
              "      <td>E</td>\n",
              "      <td>2000.0</td>\n",
              "    </tr>\n",
              "    <tr>\n",
              "      <th>4</th>\n",
              "      <td>Wii Play</td>\n",
              "      <td>Wii</td>\n",
              "      <td>2006.0</td>\n",
              "      <td>Misc</td>\n",
              "      <td>Nintendo</td>\n",
              "      <td>13.96</td>\n",
              "      <td>9.18</td>\n",
              "      <td>2.93</td>\n",
              "      <td>2.84</td>\n",
              "      <td>28.92</td>\n",
              "      <td>58.0</td>\n",
              "      <td>41.0</td>\n",
              "      <td>6.6</td>\n",
              "      <td>129.0</td>\n",
              "      <td>Nintendo</td>\n",
              "      <td>E</td>\n",
              "      <td>2000.0</td>\n",
              "    </tr>\n",
              "  </tbody>\n",
              "</table>\n",
              "</div>"
            ],
            "text/plain": [
              "                    Name Platform  ...  Rating Year_of_ten\n",
              "0             Wii Sports      Wii  ...       E      2000.0\n",
              "1         Mario Kart Wii      Wii  ...       E      2000.0\n",
              "2      Wii Sports Resort      Wii  ...       E      2000.0\n",
              "3  New Super Mario Bros.       DS  ...       E      2000.0\n",
              "4               Wii Play      Wii  ...       E      2000.0\n",
              "\n",
              "[5 rows x 17 columns]"
            ]
          },
          "metadata": {},
          "execution_count": 1
        }
      ]
    },
    {
      "cell_type": "markdown",
      "metadata": {
        "id": "7T_LS1HugsCG"
      },
      "source": [
        "### Question 1\n",
        "\n",
        "video_games_sales 데이터셋(video_games_sales.csv)의 출시년도(Year_of_Release) 컬럼을 10년단위(ex 1990~1999 : 1990)로 변환하여 새로운 컬럼(year_of_ten)에 추가하고 게임이 가장 많이 출시된 년도(10년단위)와 가장 적게 출시된 년도(10년단위)를 각각 구하여라."
      ]
    },
    {
      "cell_type": "code",
      "metadata": {
        "colab": {
          "base_uri": "https://localhost:8080/"
        },
        "id": "oa4ADI-Xgw8V",
        "outputId": "f54ce835-fee8-4a94-fed0-3cc765123e42"
      },
      "source": [
        "#df.info()\n",
        "\n",
        "df['year_of_ten'] = df['Year_of_Release'] // 10 * 10    ## //(floor division:버림 나눗셈) 소수점 이하는 버림\n",
        "# df.head(10)\n",
        "print('year_of_ten values_counts:\\n', df.year_of_ten.value_counts())\n",
        "max = df.year_of_ten.value_counts().index[0]    # value_counts()는 descing 으로 정렬해서 결과값을 리턴한다.\n",
        "min = df.year_of_ten.value_counts().index[-1]\n",
        "print('min:', min, ', max:', max)"
      ],
      "execution_count": null,
      "outputs": [
        {
          "output_type": "stream",
          "name": "stdout",
          "text": [
            "year_of_ten values_counts:\n",
            " 2000.0    4609\n",
            "2010.0    2137\n",
            "1990.0      77\n",
            "1980.0       2\n",
            "Name: year_of_ten, dtype: int64\n",
            "min: 1980.0 , max: 2000.0\n"
          ]
        }
      ]
    },
    {
      "cell_type": "markdown",
      "metadata": {
        "id": "lV-iBCsQk5Jf"
      },
      "source": [
        "### Question 1\n",
        "\n",
        "플레이스테이션 플랫폼 시리즈(PS,PS2,PS3,PS4,PSV)중 장르가 Action로 발매된 게임의 총 수는?"
      ]
    },
    {
      "cell_type": "code",
      "metadata": {
        "colab": {
          "base_uri": "https://localhost:8080/"
        },
        "id": "9SJ_GduVk8u_",
        "outputId": "0307398a-188f-479e-f53f-ef74a104715b"
      },
      "source": [
        "# df.filter(items='Platform', like='PS', axis=1)\n",
        "ans = len(df[(df['Platform'].str.contains('PS')) & (df['Genre'] == 'Action')])\n",
        "print('총 수:', ans)\n",
        "print('총 수 가 다른 이유는 PSP 가 포함되어 있다.')\n",
        "\n",
        "# 다른 방법 (홈페이지 답변)\n",
        "ans = len(df.loc[(df.Platform.isin(['PS','PS2','PS3', 'PS4', 'PSV'])) & (df.Genre == 'Action') ])\n",
        "print('다른 답변 총 수:', ans)\n",
        "\n",
        "df[(df['Platform'].str.contains('PS')) & (df.Genre == 'Action')].value_counts()"
      ],
      "execution_count": null,
      "outputs": [
        {
          "output_type": "stream",
          "name": "stdout",
          "text": [
            "총 수: 690\n",
            "다른 답변 총 수: 616\n"
          ]
        },
        {
          "output_type": "execute_result",
          "data": {
            "text/plain": [
              "Name                              Platform  Year_of_Release  Genre   Publisher                    NA_Sales  EU_Sales  JP_Sales  Other_Sales  Global_Sales  Critic_Score  Critic_Count  User_Score  User_Count  Developer       Rating  Year_of_ten  year_of_ten\n",
              "inFAMOUS: Second Son              PS4       2014.0           Action  Sony Computer Entertainment  1.28      0.98      0.07      0.46         2.79          80.0          90.0          7.9         2944.0      Sucker Punch    T       2010.0       2010.0         1\n",
              "Godai: Elemental Force            PS2       2002.0           Action  3DO                          0.04      0.03      0.00      0.01         0.07          27.0          10.0          3.8         19.0        3DO             T       2000.0       2000.0         1\n",
              "Grand Theft Auto: Chinatown Wars  PSP       2009.0           Action  Take-Two Interactive         0.28      0.49      0.03      0.27         1.06          90.0          77.0          7.3         146.0       Rockstar Leeds  M       2000.0       2000.0         1\n",
              "Grand Theft Auto V                PS4       2014.0           Action  Take-Two Interactive         3.96      6.31      0.38      1.97         12.61         97.0          66.0          8.3         2899.0      Rockstar North  M       2010.0       2010.0         1\n",
              "                                  PS3       2013.0           Action  Take-Two Interactive         7.02      9.09      0.98      3.96         21.04         97.0          50.0          8.2         3994.0      Rockstar North  M       2010.0       2010.0         1\n",
              "                                                                                                                                                                                                                                                                  ..\n",
              "Resident Evil: Survivor           PS        2000.0           Action  Eidos Interactive            0.23      0.15      0.29      0.05         0.71          39.0          10.0          7.0         47.0        Capcom          M       2000.0       2000.0         1\n",
              "Resident Evil: Revelations 2      PSV       2015.0           Action  Capcom                       0.00      0.03      0.07      0.01         0.10          65.0          12.0          7.8         63.0        Frima Studio    M       2010.0       2010.0         1\n",
              "                                  PS4       2015.0           Action  Capcom                       0.13      0.24      0.10      0.07         0.55          75.0          30.0          7.7         284.0       Capcom          M       2010.0       2010.0         1\n",
              "Resident Evil: Revelations        PS3       2013.0           Action  Capcom                       0.14      0.29      0.22      0.09         0.74          74.0          30.0          7.2         204.0       Capcom          M       2010.0       2010.0         1\n",
              "007: Quantum of Solace            PS3       2008.0           Action  Activision                   0.43      0.51      0.02      0.19         1.14          65.0          42.0          6.6         47.0        Treyarch        T       2000.0       2000.0         1\n",
              "Length: 690, dtype: int64"
            ]
          },
          "metadata": {},
          "execution_count": 40
        }
      ]
    },
    {
      "cell_type": "markdown",
      "metadata": {
        "id": "aCiXkdjloVxe"
      },
      "source": [
        "### Question 2\n",
        "\n",
        "게임이 400개 이상 출시된 플랫폼들을 추출하여 각 플랫폼의 User_Score 평균값을 구하여 데이터프레임을 만들고 값을 내림차순으로 정리하여 출력하라"
      ]
    },
    {
      "cell_type": "code",
      "metadata": {
        "colab": {
          "base_uri": "https://localhost:8080/"
        },
        "id": "gaEEcHYboakv",
        "outputId": "0de596cf-baf6-4a90-db6b-c13210d90fba"
      },
      "source": [
        "df_over_400 = df.Platform.value_counts()[df.Platform.value_counts() >= 400].index\n",
        "print(df_over_400)\n",
        "\n",
        "ans = df.loc[df.Platform.isin(df_over_400)].groupby('Platform')['User_Score'].mean().sort_values(ascending=False).to_frame()\n",
        "print(ans)"
      ],
      "execution_count": 16,
      "outputs": [
        {
          "output_type": "stream",
          "name": "stdout",
          "text": [
            "Index(['PS2', 'X360', 'PS3', 'PC', 'XB', 'Wii', 'DS'], dtype='object')\n",
            "          User_Score\n",
            "Platform            \n",
            "PS2         7.664386\n",
            "XB          7.540708\n",
            "PC          7.060369\n",
            "DS          7.047198\n",
            "Wii         6.903758\n",
            "PS3         6.782705\n",
            "X360        6.780769\n"
          ]
        }
      ]
    },
    {
      "cell_type": "markdown",
      "metadata": {
        "id": "Fnq6MptAh__k"
      },
      "source": [
        "### Question 3\n",
        "\n",
        "게임 이름에 Mario가 들어가는 게임을 3회 개발한 개발자(Developer컬럼)을 구하여라"
      ]
    },
    {
      "cell_type": "code",
      "metadata": {
        "colab": {
          "base_uri": "https://localhost:8080/"
        },
        "id": "5fo_yHTUiFd3",
        "outputId": "b0c27728-4335-4418-b850-b8f79fe7ad38"
      },
      "source": [
        "target = df[df.Name.str.contains('Mario')].Developer.value_counts()\n",
        "print(target)\n",
        "\n",
        "ans = list(target[target == 3].index)\n",
        "print('답:', ans)"
      ],
      "execution_count": 28,
      "outputs": [
        {
          "output_type": "stream",
          "name": "stdout",
          "text": [
            "Nintendo                                                        17\n",
            "Camelot Software Planning                                        6\n",
            "Hudson                                                           6\n",
            "Intelligent Systems                                              4\n",
            "Nintendo, Nd Cube                                                3\n",
            "Nintendo, Nintendo Software Technology                           3\n",
            "Next Level Games                                                 2\n",
            "Hudson Soft                                                      2\n",
            "Square Enix                                                      2\n",
            "Nintendo, Camelot Software Planning                              1\n",
            "Fuse Games Limited                                               1\n",
            "Nintendo EAD Tokyo                                               1\n",
            "Retro Studios, Entertainment Analysis & Development Division     1\n",
            "Nintendo, Intelligent Systems                                    1\n",
            "Namco Bandai Games                                               1\n",
            "Nd Cube                                                          1\n",
            "Namco                                                            1\n",
            "Name: Developer, dtype: int64\n",
            "답: ['Nintendo, Nd Cube', 'Nintendo, Nintendo Software Technology']\n"
          ]
        }
      ]
    },
    {
      "cell_type": "markdown",
      "metadata": {
        "id": "S-oomIDOjIfv"
      },
      "source": [
        "### Question 4\n",
        "\n",
        "PS2 플랫폼으로 출시된 게임들의 User_Score의 첨도를 구하여라"
      ]
    },
    {
      "cell_type": "code",
      "metadata": {
        "colab": {
          "base_uri": "https://localhost:8080/"
        },
        "id": "0rLGBRfsjMhx",
        "outputId": "b568e85c-916c-4e2b-d756-cc6cf2d35a5c"
      },
      "source": [
        "ans = df[df.Platform == 'PS2'].User_Score.kurtosis()\n",
        "print('답:', ans)"
      ],
      "execution_count": 32,
      "outputs": [
        {
          "output_type": "stream",
          "name": "stdout",
          "text": [
            "답: 2.4920035946875965\n"
          ]
        }
      ]
    },
    {
      "cell_type": "markdown",
      "metadata": {
        "id": "J3t1-6WujmT-"
      },
      "source": [
        "### Question 5\n",
        "\n",
        "각 게임별 NA_Sales,EU_Sales,JP_Sales,Other_Sales 값의 합은 Global_Sales와 동일해야한다. 소숫점 2자리 이하의 생략으로 둘의 값의 다른경우가 존재하는데, 이러한 케이스가 몇개 있는지 확인하라"
      ]
    },
    {
      "cell_type": "code",
      "metadata": {
        "colab": {
          "base_uri": "https://localhost:8080/"
        },
        "id": "GSJlxhDujo-Q",
        "outputId": "59aad19d-6f82-4025-fe2d-f77fe2e95937"
      },
      "source": [
        "# boolean 타입의  True 는 1로 인식하기에 둘의 값이 다른 경우의 합을 구해서 숫자를 구함\n",
        "ans = (df[['NA_Sales', 'EU_Sales', 'JP_Sales', 'Other_Sales']].sum(axis=1) != df['Global_Sales']).sum()\n",
        "print('ans:', ans)"
      ],
      "execution_count": 40,
      "outputs": [
        {
          "output_type": "stream",
          "name": "stdout",
          "text": [
            "ans: 3636\n"
          ]
        }
      ]
    },
    {
      "cell_type": "markdown",
      "metadata": {
        "id": "nmdaoB0sk7t6"
      },
      "source": [
        "### Question 6\n",
        "\n",
        "User_Count컬럼의 값이 120 이상인 게임들 중에서 User_Score의 값이 9.0이상인 게임의 수를 구하여라"
      ]
    },
    {
      "cell_type": "code",
      "metadata": {
        "colab": {
          "base_uri": "https://localhost:8080/"
        },
        "id": "mrjxkyJok-0D",
        "outputId": "3f075188-9db6-4a2f-a85f-5e4f6a388451"
      },
      "source": [
        "ans = ((df['User_Count'] >= 120) & (df['User_Score'] >= 9.0)).sum()\n",
        "print('ans:', ans)"
      ],
      "execution_count": 44,
      "outputs": [
        {
          "output_type": "stream",
          "name": "stdout",
          "text": [
            "ans: 86\n"
          ]
        }
      ]
    },
    {
      "cell_type": "markdown",
      "metadata": {
        "id": "54MC4nyylU4W"
      },
      "source": [
        "### Question 7\n",
        "\n",
        "Global_Sales컬럼의 값들을 robust스케일을 진행하고 40이상인 데이터 수를 구하여라"
      ]
    },
    {
      "cell_type": "code",
      "metadata": {
        "colab": {
          "base_uri": "https://localhost:8080/"
        },
        "id": "7JAeEu6clXkX",
        "outputId": "3bdc243a-812a-4c1e-a8ce-a12f3576b4ca"
      },
      "source": [
        "from sklearn.preprocessing import RobustScaler\n",
        "\n",
        "rb = RobustScaler()\n",
        "rb_fit = rb.fit_transform(df.Global_Sales.values.reshape(-1, 1))\n",
        "ans = len(rb_fit[rb_fit >= 40])\n",
        "print('ans:', ans)"
      ],
      "execution_count": 45,
      "outputs": [
        {
          "output_type": "stream",
          "name": "stdout",
          "text": [
            "ans: 6\n"
          ]
        }
      ]
    }
  ]
}