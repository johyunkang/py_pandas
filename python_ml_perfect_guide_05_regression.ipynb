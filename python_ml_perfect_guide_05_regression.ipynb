{
  "nbformat": 4,
  "nbformat_minor": 0,
  "metadata": {
    "colab": {
      "name": "python_ml_perfect_guide_05_regression.ipynb",
      "provenance": [],
      "collapsed_sections": [],
      "authorship_tag": "ABX9TyN2iMXDkxxbaLSHNqV4oiMD",
      "include_colab_link": true
    },
    "kernelspec": {
      "name": "python3",
      "display_name": "Python 3"
    },
    "language_info": {
      "name": "python"
    }
  },
  "cells": [
    {
      "cell_type": "markdown",
      "metadata": {
        "id": "view-in-github",
        "colab_type": "text"
      },
      "source": [
        "<a href=\"https://colab.research.google.com/github/johyunkang/py_pandas/blob/main/python_ml_perfect_guide_05_regression.ipynb\" target=\"_parent\"><img src=\"https://colab.research.google.com/assets/colab-badge.svg\" alt=\"Open In Colab\"/></a>"
      ]
    },
    {
      "cell_type": "markdown",
      "metadata": {
        "id": "lU7REG7X-58k"
      },
      "source": [
        "## 회귀 (Regression )\n",
        "### 03 비용 최소화 하기 - 경사 하강법 (Gradient Descent) 소개\n"
      ]
    },
    {
      "cell_type": "code",
      "metadata": {
        "colab": {
          "base_uri": "https://localhost:8080/",
          "height": 283
        },
        "id": "bKAb0Zy5-vro",
        "outputId": "1dc70197-02a7-4c25-f151-57860c22c2a7"
      },
      "source": [
        "import numpy as np\n",
        "import matplotlib.pyplot as plt\n",
        "%matplotlib inline\n",
        "\n",
        "np.random.seed(0)\n",
        "\n",
        "# y = 4X + 6 을 근사(w1=4, w0=6). 임의의 값은 노이즈를 위해 만듦\n",
        "x = 2 * np.random.rand(100, 1)\n",
        "y = 6 + 4 * x + np.random.randn(100, 1)\n",
        "\n",
        "# x, y 데이터 세트 산점도로 시각화\n",
        "plt.scatter(x, y)\n",
        "# 아래 시각화 데이터는 y = 4x + 6 을 중심으로 무작위로 퍼져 있음"
      ],
      "execution_count": 1,
      "outputs": [
        {
          "output_type": "execute_result",
          "data": {
            "text/plain": [
              "<matplotlib.collections.PathCollection at 0x7f7a70d9f6d0>"
            ]
          },
          "metadata": {},
          "execution_count": 1
        },
        {
          "output_type": "display_data",
          "data": {
            "image/png": "[encoded data removed]",
            "text/plain": [
              "<Figure size 432x288 with 1 Axes>"
            ]
          },
          "metadata": {
            "needs_background": "light"
          }
        }
      ]
    },
    {
      "cell_type": "markdown",
      "metadata": {
        "id": "F8ne2UVSAIAE"
      },
      "source": [
        "#### 비용함수 정의\n",
        "비용함수 get_cost()는 실제 y 값과 예측된 y 값을 인자로 받아서 아래 수식으로 계산해서 반환함.\n",
        "\n",
        "\n",
        "$\\dfrac{1}{N} \\displaystyle \\sum_{i=1}^N(실제값_i - 예측값_i)^2$"
      ]
    },
    {
      "cell_type": "code",
      "metadata": {
        "id": "wI9xvlL0AEa1"
      },
      "source": [
        "# 비용함수 정의\n",
        "def get_cost(y, y_pred) :\n",
        "    N = len(y)\n",
        "    cost = np.sum(np.square(y - y_pred)) / N\n",
        "    return cost"
      ],
      "execution_count": 2,
      "outputs": []
    },
    {
      "cell_type": "code",
      "metadata": {
        "id": "4KoOWfEgCHa9"
      },
      "source": [
        "# w1과 w0을 업데이트 할 w1_update, w0_update 를 반환\n",
        "def get_weight_updates(w1, w0, x, y, learning_rate=0.01) :\n",
        "    N = len(y)\n",
        "\n",
        "    # 먼저 w1_update, w0_update를 각각 w1, w0의 shape 와 동일한 크기를 가진 0 값으로 초기화\n",
        "    w1_update = np.zeros_like(w1)\n",
        "    w0_update = np.zeros_like(w0)\n",
        "\n",
        "    # 예측 배열 계산하고 예측과 실제 값의 차이 계산\n",
        "    y_pred = np.dot(x, w1.T) + w0\n",
        "    diff = y - y_pred\n",
        "\n",
        "    # w0_update를 dot 행렬 연산으로 구하기 위해 모두 1값을 가진 행렬 생성\n",
        "    w0_factors = np.ones((N, 1))\n",
        "\n",
        "    # w1과 w0을 업데이트할 w1_update 와 w0_update 계산\n",
        "    w1_update = -(2 / N) * learning_rate * (np.dot(x.T, diff))\n",
        "    w0_update = -(2 / N) * learning_rate * (np.dot(w0_factors.T, diff))\n",
        "\n",
        "    return w1_update, w0_update"
      ],
      "execution_count": 3,
      "outputs": []
    },
    {
      "cell_type": "code",
      "metadata": {
        "id": "bDuadIKyDLJU"
      },
      "source": [
        "# 입력인자 iters 로 주어진 횟수만큼 반복적으로 w1과 w0을 업데이트 적용함\n",
        "def gradient_descent_steps(x, y, iters=10000) :\n",
        "    # w0와 w1을 모두 0으로 초기화\n",
        "    w0 = np.zeros((1, 1))\n",
        "    w1 = np.zeros((1, 1))\n",
        "\n",
        "    # 인자로 주어진 iters 만큼 반복적으로 get_weight_updates() 호출해 w1, w0 업데이트 수행\n",
        "    for ind in range(iters) :\n",
        "        w1_update, w0_update = get_weight_updates(w1, w0, x, y, learning_rate=0.01)\n",
        "        w1 = w1 - w1_update\n",
        "        w0 = w0 - w0_update\n",
        "\n",
        "    return w1, w0"
      ],
      "execution_count": 4,
      "outputs": []
    },
    {
      "cell_type": "code",
      "metadata": {
        "colab": {
          "base_uri": "https://localhost:8080/"
        },
        "id": "h8B4ll9PDytf",
        "outputId": "975205d7-32e2-46bf-9c26-f4fd960c36f9"
      },
      "source": [
        "def get_cost(y, y_pred) :\n",
        "    N = len(y)\n",
        "    cost = np.sum(np.square(y - y_pred)) / N\n",
        "    return cost\n",
        "\n",
        "w1, w0 = gradient_descent_steps(x, y, iters=1000)\n",
        "print('w1:{0:.4f} , w0:{1:.4f}'.format(w1[0, 0], w0[0, 0]))\n",
        "\n",
        "y_pred = w1[0, 0] * x + w0\n",
        "print('Gradient Descent Total cost:{0:.4f}'.format(get_cost(y, y_pred)))"
      ],
      "execution_count": 5,
      "outputs": [
        {
          "output_type": "stream",
          "name": "stdout",
          "text": [
            "w1:4.0218 , w0:6.1620\n",
            "Gradient Descent Total cost:0.9935\n"
          ]
        }
      ]
    },
    {
      "cell_type": "markdown",
      "metadata": {
        "id": "PY49vM9NElR5"
      },
      "source": [
        "실제 선형식인 y = 4X + 6 과 유사하게 w1d은 4.022, w0는 6.162 가 도출되었음. \n",
        "\n",
        "예측 오류 비용은 0.9935 \n",
        "\n",
        "앞에서 구한 y_pred 에 기반해 회귀선을 그려 보겠음"
      ]
    },
    {
      "cell_type": "code",
      "metadata": {
        "colab": {
          "base_uri": "https://localhost:8080/",
          "height": 283
        },
        "id": "FH1989XeEj7R",
        "outputId": "313783d0-b060-409e-86a3-eb2e5b68ad11"
      },
      "source": [
        "plt.scatter(x, y)\n",
        "plt.plot(x, y_pred)"
      ],
      "execution_count": 6,
      "outputs": [
        {
          "output_type": "execute_result",
          "data": {
            "text/plain": [
              "[<matplotlib.lines.Line2D at 0x7f7a7089db50>]"
            ]
          },
          "metadata": {},
          "execution_count": 6
        },
        {
          "output_type": "display_data",
          "data": {
            "image/png": "[encoded data removed]",
            "text/plain": [
              "<Figure size 432x288 with 1 Axes>"
            ]
          },
          "metadata": {
            "needs_background": "light"
          }
        }
      ]
    },
    {
      "cell_type": "markdown",
      "metadata": {
        "id": "2B3xUys7CIcg"
      },
      "source": [
        "#### (미니 배치) 확률적 경사 하강법 (stochastic_gradient_descent_steps())"
      ]
    },
    {
      "cell_type": "code",
      "metadata": {
        "id": "zbWnt2EuFDmY"
      },
      "source": [
        "def stochastic_gradient_descent_stpes(x, y, batch_size=10, iters=1000) :\n",
        "    w0 = np.zeros((1, 1))\n",
        "    w1 = np.zeros((1, 1))\n",
        "    prev_cost = 100000\n",
        "    itr_index = 0\n",
        "\n",
        "    for ind in range(iters) :\n",
        "        np.random.seed(ind)\n",
        "\n",
        "        # 전체 x, y 데이터에서 랜덤하게 batch_size 만큼 데이터를 추출해 sample_x, sample_y 로 저장\n",
        "        # permutation(x) 는 x 로 받은 값을 shuffle (섞어서) 반환. 입력변수 자체는 섞지 않음. return 값만 섞음\n",
        "        stochastic_random_index = np.random.permutation(x.shape[0])\n",
        "        sample_x = x[stochastic_random_index[0:batch_size]]\n",
        "        sample_y = y[stochastic_random_index[0:batch_size]]\n",
        "\n",
        "        # 랜덤하게 batch_size 만큼 추출된 데이터 기반으로 w1_update, w0_update 계산 후 업데이트\n",
        "        w1_update, w0_update = get_weight_updates(w1, w0, sample_x, sample_y, learning_rate=0.01)\n",
        "        w1 = w1 - w1_update\n",
        "        w0 = w0 - w0_update\n",
        "\n",
        "    return w1, w0\n",
        "\n",
        "\n",
        "                                                  "
      ],
      "execution_count": 7,
      "outputs": []
    },
    {
      "cell_type": "code",
      "metadata": {
        "colab": {
          "base_uri": "https://localhost:8080/"
        },
        "id": "9VK35r9fENaU",
        "outputId": "122eced0-ad18-4c89-e613-ff1e68b3a958"
      },
      "source": [
        "w1, w0 = stochastic_gradient_descent_stpes(x, y, iters=1000)\n",
        "print('w1:', round(w1[0, 0], 3), ', w0:', round(w0[0, 0], 3))\n",
        "\n",
        "y_pred = w1[0, 0] * x + w0\n",
        "print('Stochastic Gradient Descent total cost:{0:.4f}'.format(get_cost(y, y_pred)))"
      ],
      "execution_count": 8,
      "outputs": [
        {
          "output_type": "stream",
          "name": "stdout",
          "text": [
            "w1: 4.028 , w0: 6.156\n",
            "Stochastic Gradient Descent total cost:0.9937\n"
          ]
        }
      ]
    },
    {
      "cell_type": "markdown",
      "metadata": {
        "id": "TE3QX3hycske"
      },
      "source": [
        "#### 사이킷런 LinearRegression을 이용한 보스턴 주택가격 예측\n",
        "\n",
        "회귀의 성능을 평가하는 지표\n",
        "- MAE : Mean Absolute Error (MAE)이며 실제 값과 예측값의 차이를 절대값으로 변환해 평균한 것  \n",
        "$MAE = \\dfrac{1}{n} \\displaystyle \\sum_{i=1}^n|Yi - \\hat{Y}i|$\n",
        "\n",
        "- MSE : Mean Squared Error (MSE)이며 실제 값과 예측값의 차이를 제곱해 평균한 것  \n",
        "$MSE = \\dfrac{1}{n}\\displaystyle \\sum_{i=1}^n{(Yi - \\hat{Y}i)^2}$\n",
        "\n",
        "- RMSE : MSE 값은 오류의 제곱을 구하므로 실제 오류 평균보다 더 커지는 특성이 있으므로 MSE에 루트를 씌운 것이 RMSE(Root Mean Squared Error)임  \n",
        "(아래 수식의 root는 모든 값에 해당)  \n",
        "$RMSE = \\displaystyle \\sqrt{\\dfrac{1}{n}}\\sum_{i=1}^n{(Yi - \\hat{Y}i)^2}$\n",
        "\n",
        "- $R^2$ : 분산 기반으로 예측 성능을 평가합니다. 실제 값으 ㅣ분산 대비 예측값의 분산 비율을 지표로 하며, 1에 가까울수록 예측 정확도가 높습니다.  \n",
        "$R^2 = \\dfrac{예측값Variance}{실제값Variance}$"
      ]
    },
    {
      "cell_type": "markdown",
      "metadata": {
        "id": "TNaFkv-lib03"
      },
      "source": [
        "**보스턴 주택가격 데이터 피처설명**\n",
        "- CRIM : 지역별 범죄 발생률\n",
        "- ZN : 25,000평방피트를 초과하는 거주 지역의 비율\n",
        "- INDUS : 비상업 지역 넓이 비율\n",
        "- CHAS : 찰스강에 대한 더미 변수(강의 경계에 위치한 경우는 1, 아니면 0)\n",
        "- NOX : 일산화 질소 농도\n",
        "- RM : 거주할 수 있는 방 개수\n",
        "- AGE : 1940년 이전에 건축된 소유 주택의 비율\n",
        "- DIS : 5개 주요 고용센터까지의 가중 거리\n",
        "- RAD : 고속도로 접근 용이도\n",
        "- TAX : 10,000달러당 재산세율\n",
        "- PTRATIO : 지역의 교사와 학생 수 비율\n",
        "- B : 지역의 흑인 거주 비율\n",
        "- LSTAT : 하위 계층의 비율\n",
        "- MEDV : 본인 소유의 주택 가격(중앙값)"
      ]
    },
    {
      "cell_type": "code",
      "metadata": {
        "colab": {
          "base_uri": "https://localhost:8080/",
          "height": 618
        },
        "id": "eiKMRqVMjSIz",
        "outputId": "cfbae718-f556-40f7-8d76-ea1bdcd94c52"
      },
      "source": [
        "import numpy as np\n",
        "import matplotlib.pyplot as plt\n",
        "import pandas as pd\n",
        "import seaborn as sns\n",
        "from scipy import stats\n",
        "from sklearn.datasets import load_boston\n",
        "%matplotlib inline\n",
        "\n",
        "# boston 데이터 세트 로드\n",
        "boston = load_boston()\n",
        "\n",
        "# boston 데이터 세트 DF 변환\n",
        "df = pd.DataFrame(boston.data, columns = boston.feature_names)\n",
        "# df.head()\n",
        "\n",
        "# boston 데이터 세트의 target 배열은 주택 가격임. 이를 PRICE 컬럼으로 DF에 추가함\n",
        "df['PRICE'] = boston.target\n",
        "print('Boston 데이터 세트 크기:', df.shape)\n",
        "print('info:', df.info())\n",
        "df.head()"
      ],
      "execution_count": 9,
      "outputs": [
        {
          "output_type": "stream",
          "name": "stdout",
          "text": [
            "Boston 데이터 세트 크기: (506, 14)\n",
            "<class 'pandas.core.frame.DataFrame'>\n",
            "RangeIndex: 506 entries, 0 to 505\n",
            "Data columns (total 14 columns):\n",
            " #   Column   Non-Null Count  Dtype  \n",
            "---  ------   --------------  -----  \n",
            " 0   CRIM     506 non-null    float64\n",
            " 1   ZN       506 non-null    float64\n",
            " 2   INDUS    506 non-null    float64\n",
            " 3   CHAS     506 non-null    float64\n",
            " 4   NOX      506 non-null    float64\n",
            " 5   RM       506 non-null    float64\n",
            " 6   AGE      506 non-null    float64\n",
            " 7   DIS      506 non-null    float64\n",
            " 8   RAD      506 non-null    float64\n",
            " 9   TAX      506 non-null    float64\n",
            " 10  PTRATIO  506 non-null    float64\n",
            " 11  B        506 non-null    float64\n",
            " 12  LSTAT    506 non-null    float64\n",
            " 13  PRICE    506 non-null    float64\n",
            "dtypes: float64(14)\n",
            "memory usage: 55.5 KB\n",
            "info: None\n"
          ]
        },
        {
          "output_type": "execute_result",
          "data": {
            "text/html": [
              "<div>\n",
              "<style scoped>\n",
              "    .dataframe tbody tr th:only-of-type {\n",
              "        vertical-align: middle;\n",
              "    }\n",
              "\n",
              "    .dataframe tbody tr th {\n",
              "        vertical-align: top;\n",
              "    }\n",
              "\n",
              "    .dataframe thead th {\n",
              "        text-align: right;\n",
              "    }\n",
              "</style>\n",
              "<table border=\"1\" class=\"dataframe\">\n",
              "  <thead>\n",
              "    <tr style=\"text-align: right;\">\n",
              "      <th></th>\n",
              "      <th>CRIM</th>\n",
              "      <th>ZN</th>\n",
              "      <th>INDUS</th>\n",
              "      <th>CHAS</th>\n",
              "      <th>NOX</th>\n",
              "      <th>RM</th>\n",
              "      <th>AGE</th>\n",
              "      <th>DIS</th>\n",
              "      <th>RAD</th>\n",
              "      <th>TAX</th>\n",
              "      <th>PTRATIO</th>\n",
              "      <th>B</th>\n",
              "      <th>LSTAT</th>\n",
              "      <th>PRICE</th>\n",
              "    </tr>\n",
              "  </thead>\n",
              "  <tbody>\n",
              "    <tr>\n",
              "      <th>0</th>\n",
              "      <td>0.00632</td>\n",
              "      <td>18.0</td>\n",
              "      <td>2.31</td>\n",
              "      <td>0.0</td>\n",
              "      <td>0.538</td>\n",
              "      <td>6.575</td>\n",
              "      <td>65.2</td>\n",
              "      <td>4.0900</td>\n",
              "      <td>1.0</td>\n",
              "      <td>296.0</td>\n",
              "      <td>15.3</td>\n",
              "      <td>396.90</td>\n",
              "      <td>4.98</td>\n",
              "      <td>24.0</td>\n",
              "    </tr>\n",
              "    <tr>\n",
              "      <th>1</th>\n",
              "      <td>0.02731</td>\n",
              "      <td>0.0</td>\n",
              "      <td>7.07</td>\n",
              "      <td>0.0</td>\n",
              "      <td>0.469</td>\n",
              "      <td>6.421</td>\n",
              "      <td>78.9</td>\n",
              "      <td>4.9671</td>\n",
              "      <td>2.0</td>\n",
              "      <td>242.0</td>\n",
              "      <td>17.8</td>\n",
              "      <td>396.90</td>\n",
              "      <td>9.14</td>\n",
              "      <td>21.6</td>\n",
              "    </tr>\n",
              "    <tr>\n",
              "      <th>2</th>\n",
              "      <td>0.02729</td>\n",
              "      <td>0.0</td>\n",
              "      <td>7.07</td>\n",
              "      <td>0.0</td>\n",
              "      <td>0.469</td>\n",
              "      <td>7.185</td>\n",
              "      <td>61.1</td>\n",
              "      <td>4.9671</td>\n",
              "      <td>2.0</td>\n",
              "      <td>242.0</td>\n",
              "      <td>17.8</td>\n",
              "      <td>392.83</td>\n",
              "      <td>4.03</td>\n",
              "      <td>34.7</td>\n",
              "    </tr>\n",
              "    <tr>\n",
              "      <th>3</th>\n",
              "      <td>0.03237</td>\n",
              "      <td>0.0</td>\n",
              "      <td>2.18</td>\n",
              "      <td>0.0</td>\n",
              "      <td>0.458</td>\n",
              "      <td>6.998</td>\n",
              "      <td>45.8</td>\n",
              "      <td>6.0622</td>\n",
              "      <td>3.0</td>\n",
              "      <td>222.0</td>\n",
              "      <td>18.7</td>\n",
              "      <td>394.63</td>\n",
              "      <td>2.94</td>\n",
              "      <td>33.4</td>\n",
              "    </tr>\n",
              "    <tr>\n",
              "      <th>4</th>\n",
              "      <td>0.06905</td>\n",
              "      <td>0.0</td>\n",
              "      <td>2.18</td>\n",
              "      <td>0.0</td>\n",
              "      <td>0.458</td>\n",
              "      <td>7.147</td>\n",
              "      <td>54.2</td>\n",
              "      <td>6.0622</td>\n",
              "      <td>3.0</td>\n",
              "      <td>222.0</td>\n",
              "      <td>18.7</td>\n",
              "      <td>396.90</td>\n",
              "      <td>5.33</td>\n",
              "      <td>36.2</td>\n",
              "    </tr>\n",
              "  </tbody>\n",
              "</table>\n",
              "</div>"
            ],
            "text/plain": [
              "      CRIM    ZN  INDUS  CHAS    NOX  ...    TAX  PTRATIO       B  LSTAT  PRICE\n",
              "0  0.00632  18.0   2.31   0.0  0.538  ...  296.0     15.3  396.90   4.98   24.0\n",
              "1  0.02731   0.0   7.07   0.0  0.469  ...  242.0     17.8  396.90   9.14   21.6\n",
              "2  0.02729   0.0   7.07   0.0  0.469  ...  242.0     17.8  392.83   4.03   34.7\n",
              "3  0.03237   0.0   2.18   0.0  0.458  ...  222.0     18.7  394.63   2.94   33.4\n",
              "4  0.06905   0.0   2.18   0.0  0.458  ...  222.0     18.7  396.90   5.33   36.2\n",
              "\n",
              "[5 rows x 14 columns]"
            ]
          },
          "metadata": {},
          "execution_count": 9
        }
      ]
    },
    {
      "cell_type": "code",
      "metadata": {
        "colab": {
          "base_uri": "https://localhost:8080/",
          "height": 497
        },
        "id": "8MpObp-VkanH",
        "outputId": "985d2570-0322-4797-e3d6-2ce45951e2c0"
      },
      "source": [
        "# 각 컬럼이 회귀 결과에 미치는 영향 파악\n",
        "# ZN, INDUS, NOX, AGE, PTRATIO, LSTAT, RAD 총 8개 컬럼이 증가할 수록 PRICE 값에 어떤 영향을 미치는지 확인\n",
        "# subplots() 는 여러개의 그래프를 한번에 표현\n",
        "# 2개의 행과 4개의 열을 가진 subplots를 이용. axs 는 4x2 개의 ax를 가짐\n",
        "fig, axs = plt.subplots(figsize=(16, 8), ncols=4, nrows=2)\n",
        "lm_features = ['RM', 'ZN', 'INDUS', 'NOX', 'AGE', 'PTRATIO', 'LSTAT', 'RAD']\n",
        "for i, feature in enumerate(lm_features) :\n",
        "    row = int(i/4)\n",
        "    col = i%4\n",
        "    # 시본의 regplot을 이용해 산점도와 선형 회귀 직선을 함께 표현\n",
        "    sns.regplot(x=feature, y='PRICE', data=df, ax=axs[row][col])"
      ],
      "execution_count": 10,
      "outputs": [
        {
          "output_type": "display_data",
          "data": {
            "image/png": "[encoded data removed]",
            "text/plain": [
              "<Figure size 1152x576 with 8 Axes>"
            ]
          },
          "metadata": {
            "needs_background": "light"
          }
        }
      ]
    },
    {
      "cell_type": "code",
      "metadata": {
        "colab": {
          "base_uri": "https://localhost:8080/"
        },
        "id": "xkMXKs3EnfZW",
        "outputId": "9fce23ee-63b8-4fa2-a2d9-3ef687a466fd"
      },
      "source": [
        "# LinearRegression 클래스를 이용해 보스턴 주택가격 회귀모델 만들기\n",
        "from sklearn.model_selection import train_test_split\n",
        "from sklearn.linear_model import LinearRegression\n",
        "from sklearn.metrics import mean_squared_error, r2_score\n",
        "\n",
        "y_target = df['PRICE']\n",
        "x_data = df.drop(['PRICE'], axis=1, inplace=False)\n",
        "\n",
        "x_train, x_test, y_train, y_test = train_test_split(x_data, y_target, test_size=0.3, random_state=156)\n",
        "\n",
        "# 선형 회귀 OLS(Ordinary Least Squares)로 학습 / 예측 / 평가 수행\n",
        "lr = LinearRegression()\n",
        "lr.fit(x_train, y_train)\n",
        "y_preds = lr.predict(x_test)\n",
        "mse = mean_squared_error(y_test, y_preds)\n",
        "rmse = np.sqrt(mse)\n",
        "\n",
        "print('MSE:{0:.4f}, RMSE:{1:.4f}'.format(mse, rmse))\n",
        "print('Variance score:{0:.4f}'.format(r2_score(y_test, y_preds)))\n",
        "print('절편 값:', lr.intercept_)\n",
        "print('회귀 계수값:', np.round(lr.coef_, 1))\n",
        "# 회귀 계수값(coef_)은 값만 가지고 있으므로 이를 피처별 회귀 계수 값으로 다시 맵핑 후, 높은 순으로 출력"
      ],
      "execution_count": 11,
      "outputs": [
        {
          "output_type": "stream",
          "name": "stdout",
          "text": [
            "MSE:17.2969, RMSE:4.1590\n",
            "Variance score:0.7572\n",
            "절편 값: 40.995595172164755\n",
            "회귀 계수값: [ -0.1   0.1   0.    3.  -19.8   3.4   0.   -1.7   0.4  -0.   -0.9   0.\n",
            "  -0.6]\n"
          ]
        }
      ]
    },
    {
      "cell_type": "code",
      "metadata": {
        "colab": {
          "base_uri": "https://localhost:8080/"
        },
        "id": "F0dTyQwUpeAN",
        "outputId": "af3980e0-4ded-4262-c3f6-9590d69a5f5f"
      },
      "source": [
        "# 회귀 계수를 큰 값 순으로 정렬하기 위해 Series로 생성. 인덱스 컬럼명에 유의\n",
        "coeff = pd.Series(data=np.round(lr.coef_, 1), index=x_data.columns)\n",
        "coeff.sort_values(ascending=False)\n",
        "# NOX의 -19.8은 마이너스(-) 값이 너무 크다. 최적화 수행 필요"
      ],
      "execution_count": 12,
      "outputs": [
        {
          "output_type": "execute_result",
          "data": {
            "text/plain": [
              "RM          3.4\n",
              "CHAS        3.0\n",
              "RAD         0.4\n",
              "ZN          0.1\n",
              "B           0.0\n",
              "TAX        -0.0\n",
              "AGE         0.0\n",
              "INDUS       0.0\n",
              "CRIM       -0.1\n",
              "LSTAT      -0.6\n",
              "PTRATIO    -0.9\n",
              "DIS        -1.7\n",
              "NOX       -19.8\n",
              "dtype: float64"
            ]
          },
          "metadata": {},
          "execution_count": 12
        }
      ]
    },
    {
      "cell_type": "code",
      "metadata": {
        "id": "yP5acC5orJ_h",
        "colab": {
          "base_uri": "https://localhost:8080/"
        },
        "outputId": "95c6bb24-06a2-43d7-840f-7ffc68cb346b"
      },
      "source": [
        "from sklearn.model_selection import cross_val_score\n",
        "\n",
        "y_target  = df['PRICE']\n",
        "x_data = df.drop(['PRICE'], axis=1, inplace=False)\n",
        "lr = LinearRegression()\n",
        "\n",
        "# cross_val_score()로 5 폴드 세트로 MSE를 구한 뒤 이를 기반으로 다시 RMSE 구함\n",
        "neg_mse_scores = cross_val_score(lr, x_data, y_target, scoring='neg_mean_squared_error', cv = 5)\n",
        "rmse_scores = np.sqrt(-1 * neg_mse_scores)\n",
        "avg_rmse = np.mean(rmse_scores)\n",
        "\n",
        "# cross_val_score(scoring='neg_mean_squared_error')로 반환된 값은 모든 음수\n",
        "print('5 folds 의 개별 Negative MSE Scores:', np.round(neg_mse_scores, 2))\n",
        "print('5 folds 의 개별 RMSE Scores:', np.round(rmse_scores, 2))\n",
        "print('5 folds 의 평균 RMSE:{0:.4f}'.format(avg_rmse))\n"
      ],
      "execution_count": 13,
      "outputs": [
        {
          "output_type": "stream",
          "name": "stdout",
          "text": [
            "5 folds 의 개별 Negative MSE Scores: [-12.46 -26.05 -33.07 -80.76 -33.31]\n",
            "5 folds 의 개별 RMSE Scores: [3.53 5.1  5.75 8.99 5.77]\n",
            "5 folds 의 평균 RMSE:5.8287\n"
          ]
        }
      ]
    },
    {
      "cell_type": "markdown",
      "metadata": {
        "id": "SGZY2RnUolDu"
      },
      "source": [
        "### 05 다항 회귀와 과(대)적합/과소적합 이해\n",
        "다항 회귀 이해\n",
        "\n",
        "회귀에서 선형 회귀/비선형 회귀를 나누는 기준은 **회귀 계수가 선형 / 비선형**인지에 따름.  \n",
        "(독립변수의 선형 / 비선형 여부와는 무관함)\n",
        "\n",
        "사이킷런은 다항 회귀를 위한 클래스를 명시적으로 제공하지 않음.  \n",
        "대신 다항 회귀 역시 선형 회귀이기 때문에 비선형 함수를 선형 모델에 적용시키는 방법을 사용해 구현.\n",
        "\n",
        "\n",
        "이를 위해 사이킷런은 PolynomialFeatures 클래스를 통해 피처를 Polynomial(다항식) 피처로 변환함."
      ]
    },
    {
      "cell_type": "code",
      "metadata": {
        "colab": {
          "base_uri": "https://localhost:8080/"
        },
        "id": "R9wnk678px8m",
        "outputId": "af7e4c93-d67e-4735-da33-c0d18e06323b"
      },
      "source": [
        "from sklearn.preprocessing import PolynomialFeatures\n",
        "import numpy as np\n",
        "\n",
        "# 다항식으로 변환한 단항식 생성, [[0, 1], [2, 3]]의 2X2 행렬 생성\n",
        "x = np.arange(4).reshape(2, 2)\n",
        "print('일차 단항식 계수 피처:\\n', x)\n",
        "\n",
        "# degree=2 인  2차 다항식으로 변환하기 위해 PolynomialFeatures를 이용해 변환\n",
        "poly = PolynomialFeatures(degree=2)\n",
        "poly.fit(x)\n",
        "poly_ftr = poly.transform(x)\n",
        "print('변환된 2차 다항식 계수 피처:\\n', poly_ftr)"
      ],
      "execution_count": 14,
      "outputs": [
        {
          "output_type": "stream",
          "name": "stdout",
          "text": [
            "일차 단항식 계수 피처:\n",
            " [[0 1]\n",
            " [2 3]]\n",
            "변환된 2차 다항식 계수 피처:\n",
            " [[1. 0. 1. 0. 0. 1.]\n",
            " [1. 2. 3. 4. 6. 9.]]\n"
          ]
        }
      ]
    },
    {
      "cell_type": "markdown",
      "metadata": {
        "id": "xfJG25dNqo1m"
      },
      "source": [
        "단항 계수 피처 [$x_1, x_2$]를 2차 다항 계수 [$1,  x_1,  x_2,  x_1^2,  x_1x_2,  x_2^2$]로 변경하므로   \n",
        "첫 번째 입력 단항 계수 피처 [$x_1 = 0, x_2 = 1$]은 [$1, x_1=0, x_2=1, x_1^2 = 0, x_1x_2 = 0, x_2^2=0$] 형태인 [1, 0, 1, 0, 0, 1]로 변환됨.\n",
        "\n",
        "------\n",
        "3차 다항 회귀의 결정 함수식은 다음과 같음.  \n",
        "$y = 1 + 2x_1 + 3x_1^2 + 4x_2^3$  로 설정하고  \n",
        "이를 위한 함수 polynomial_func()를 만듦."
      ]
    },
    {
      "cell_type": "code",
      "metadata": {
        "colab": {
          "base_uri": "https://localhost:8080/"
        },
        "id": "7D8AuTNbr-Ju",
        "outputId": "ef3a05ad-50f0-4d43-f0ba-b10ae25e56c8"
      },
      "source": [
        "def polynomial_func(x) :\n",
        "    y = 1 + 2*x[:, 0] + 3*x[:, 0]**2 + 4*x[:, 1]**3\n",
        "    return y\n",
        "\n",
        "x = np.arange(4).reshape(2, 2)\n",
        "print('일차 단항식 계수 features:\\n', x)\n",
        "y = polynomial_func(x)\n",
        "print('삼차 다항식 결정값:\\n', y)"
      ],
      "execution_count": 15,
      "outputs": [
        {
          "output_type": "stream",
          "name": "stdout",
          "text": [
            "일차 단항식 계수 features:\n",
            " [[0 1]\n",
            " [2 3]]\n",
            "삼차 다항식 결정값:\n",
            " [  5 125]\n"
          ]
        }
      ]
    },
    {
      "cell_type": "markdown",
      "metadata": {
        "id": "iHAtNt4Kuxyd"
      },
      "source": [
        "PolynomialFeatures(degree=3) 은 단항 계수 피처 [$x_1, x_2$] 를   \n",
        "3차 다항 계수 [$1, x_1, x_2, x_1^2, x_1x_2, x_2^2, x_1^3, x_1^2x_2, x_1x_2^2, x_2^3$] 과 같이 10개의 다항 계수로 변환함."
      ]
    },
    {
      "cell_type": "code",
      "metadata": {
        "colab": {
          "base_uri": "https://localhost:8080/"
        },
        "id": "VsPY_XERvbKr",
        "outputId": "357b4dfa-7298-4ee8-eefe-a5d1282d0ed8"
      },
      "source": [
        "# 3차 다항식 변환\n",
        "poly_ftr = PolynomialFeatures(degree=3).fit_transform(x)\n",
        "print('3차 다항 계수 features:\\n', poly_ftr)\n",
        "\n",
        "# LinearRegression 에 3차 다항식 계수 features와 3차 다항식 결정값으로 학습 후 회귀 계수 확인\n",
        "model = LinearRegression()\n",
        "model.fit(poly_ftr, y)\n",
        "print('Polynomial 회귀 계수:\\n', np.round(model.coef_, 2))\n",
        "print('\\nPolyNomial 회귀 shape:', model.coef_.shape)"
      ],
      "execution_count": 16,
      "outputs": [
        {
          "output_type": "stream",
          "name": "stdout",
          "text": [
            "3차 다항 계수 features:\n",
            " [[ 1.  0.  1.  0.  0.  1.  0.  0.  0.  1.]\n",
            " [ 1.  2.  3.  4.  6.  9.  8. 12. 18. 27.]]\n",
            "Polynomial 회귀 계수:\n",
            " [0.   0.18 0.18 0.36 0.54 0.72 0.72 1.08 1.62 2.34]\n",
            "\n",
            "PolyNomial 회귀 shape: (10,)\n"
          ]
        }
      ]
    },
    {
      "cell_type": "markdown",
      "metadata": {
        "id": "1LVXQmppwPjn"
      },
      "source": [
        "#### Pipeline 객체 이용해 한 번에 다항 회귀를 구현"
      ]
    },
    {
      "cell_type": "code",
      "metadata": {
        "colab": {
          "base_uri": "https://localhost:8080/"
        },
        "id": "RLBZkwejwVYh",
        "outputId": "df0dac38-9055-419a-c0b7-46ec34527b44"
      },
      "source": [
        "from sklearn.preprocessing import PolynomialFeatures\n",
        "from sklearn.linear_model import LinearRegression\n",
        "from sklearn.pipeline import Pipeline\n",
        "import numpy as np\n",
        "\n",
        "def polynomial_func(x) :\n",
        "    y = 1 + 2*x[:, 0] + 3*x[:, 0]**2 + 4*x[:, 1]**3\n",
        "    return y\n",
        "\n",
        "\n",
        "# pipeline 객체로 Streamline 하게 Polynomial Feature 변환과 LinearRegression 을 연결\n",
        "model = Pipeline([('poly', PolynomialFeatures(degree=3)),\n",
        "                  ('linear', LinearRegression())])\n",
        "x = np.arange(4).reshape(2, 2)\n",
        "y = polynomial_func(x)\n",
        "\n",
        "model = model.fit(x, y)\n",
        "\n",
        "print('Polynomial 회귀 계수:\\n', np.round(model.named_steps['linear'].coef_, 2))"
      ],
      "execution_count": 17,
      "outputs": [
        {
          "output_type": "stream",
          "name": "stdout",
          "text": [
            "Polynomial 회귀 계수:\n",
            " [0.   0.18 0.18 0.36 0.54 0.72 0.72 1.08 1.62 2.34]\n"
          ]
        }
      ]
    },
    {
      "cell_type": "markdown",
      "metadata": {
        "id": "8Bhf7niVxVvZ"
      },
      "source": [
        "##### 다항 회귀를 이용한 과소적합 및 과적합 이해\n",
        "\n",
        "[언더피팅-오버피팅-참조](https://scikit-learn.org/stable/auto_examples/model_selection/plot_underfitting_overfitting.html)  \n",
        "위 참조 링크 소스코드 설명(아래)\n",
        "\n",
        "소스 코드 간단히 설명하면, 원래 데이터 세트는 피처 X와 target y가 잡음(Noise)이 포함된 다항식의 코사인(Cosine) 그래프 관계를 가지도록 만들어 줍니다.  \n",
        "그리고 이에 기반해 다항 회귀와 차수를 변화시키면서 그에 따른 회귀 예측 곡선과 예측 정확도를 비교하는 예제임."
      ]
    },
    {
      "cell_type": "code",
      "metadata": {
        "colab": {
          "base_uri": "https://localhost:8080/",
          "height": 744
        },
        "id": "S25mHkZsylf_",
        "outputId": "21aada4d-6926-41e2-d32f-27804fdc4128"
      },
      "source": [
        "import numpy as np\n",
        "import matplotlib.pyplot as plt\n",
        "from sklearn.pipeline import Pipeline\n",
        "from sklearn.preprocessing import PolynomialFeatures\n",
        "from sklearn.linear_model import LinearRegression\n",
        "from sklearn.model_selection import cross_val_score\n",
        "%matplotlib inline\n",
        "\n",
        "# 임의의 값으로 구성된 X 값에 대해 코사인 변환 값을 반환\n",
        "def true_fun(x) :\n",
        "    return np.cos(1.5 * np.pi * x)\n",
        "\n",
        "# x 는 0부터 1까지 30개의 임의의 값을 순서대로 샘플링한 데이터입니다.\n",
        "np.random.seed(0)\n",
        "n_samples = 30\n",
        "x = np.sort(np.random.rand(n_samples))\n",
        "print('X:', x)\n",
        "\n",
        "# y 값은 코사인 기반의 true_fun()에서 약간의 노이즈 변동 값을 더한 값입니다.\n",
        "# np.random.randn(2, 2) : 가우시안 표준 정규분포에서 난수 matrix array 생성\n",
        "y = true_fun(x) + np.random.randn(n_samples) * 0.1\n",
        "print('Y:', y)\n",
        "\n",
        "# print('rand:', np.random.rand(10))\n",
        "# print('randn:', np.random.randn(10))\n",
        "\n",
        "plt.figure(figsize=(14, 5))\n",
        "degrees = [1, 4, 15]\n",
        "\n",
        "# 다항 회귀의 차수(degree)를 1, 4, 15로 각각 변화시키면서 비교함.\n",
        "for i in range(len(degrees)) :\n",
        "    ax = plt.subplot(1, len(degrees), i+1)\n",
        "    plt.setp(ax, xticks=(), yticks=())\n",
        "\n",
        "    # 개별 degree 별로 Polynomial 변환합니다.\n",
        "    poly = PolynomialFeatures(degree=degrees[i], include_bias=False)\n",
        "    lr = LinearRegression()\n",
        "    pipeline = Pipeline([('poly', poly),\n",
        "                         ('lr', lr)])\n",
        "    pipeline.fit(x.reshape(-1, 1), y)\n",
        "\n",
        "    # 교차 검증으로 다항 회귀를 평가합니다.\n",
        "    scores = cross_val_score(pipeline, x.reshape(-1, 1), y, scoring='neg_mean_squared_error', cv=10)\n",
        "\n",
        "    # pipeline을 구성하는 세부 객체를 접근하는 named_steps['객체명']을 이용해 회귀계수 추출\n",
        "    coeff = pipeline.named_steps['lr'].coef_\n",
        "    print('\\nDegree {0} 회귀 계수는 {1} 입니다.'.format(degrees[i], np.round(coeff, 2)))\n",
        "    print('Degree {0} MSE 는 {1} 입니다.'.format(degrees[i], -1*np.mean(scores)))\n",
        "\n",
        "    # 0부터 1까지 테스트 데이터 세트를 100개로 나눠 예측을 수행합니다.\n",
        "    # 테스트 데이터 세트에 회귀 예측을 수행하고 예측 곡선과 실제 곡선을 그려서 비교합니다.\n",
        "    x_test = np.linspace(0, 1, 100)\n",
        "\n",
        "    # 예측값 곡선\n",
        "    plt.plot(x_test, pipeline.predict(x_test[:, np.newaxis]), label='Model')\n",
        "\n",
        "    # 실제값 곡선\n",
        "    plt.plot(x_test, true_fun(x_test), '--', label='True Function')\n",
        "    plt.scatter(x, y, edgecolor='b', s=20, label='Samples')\n",
        "\n",
        "    plt.xlabel('x')\n",
        "    plt.ylabel('y')\n",
        "    plt.xlim((0, 1))\n",
        "    plt.ylim((-2, 2))\n",
        "    plt.legend(loc='best')\n",
        "    plt.title('Degree {} \\nMSE = {:.2e} (+/- {:.2e} )'.format(degrees[i], -scores.mean(), scores.std()))\n",
        "\n",
        "plt.show()\n",
        "    "
      ],
      "execution_count": 18,
      "outputs": [
        {
          "output_type": "stream",
          "name": "stdout",
          "text": [
            "X: [0.0202184  0.07103606 0.0871293  0.11827443 0.14335329 0.38344152\n",
            " 0.41466194 0.4236548  0.43758721 0.46147936 0.52184832 0.52889492\n",
            " 0.54488318 0.5488135  0.56804456 0.60276338 0.63992102 0.64589411\n",
            " 0.71518937 0.77815675 0.78052918 0.79172504 0.79915856 0.83261985\n",
            " 0.87001215 0.891773   0.92559664 0.94466892 0.96366276 0.97861834]\n",
            "Y: [ 1.0819082   0.87027612  1.14386208  0.70322051  0.78494746 -0.25265944\n",
            " -0.22066063 -0.26595867 -0.4562644  -0.53001927 -0.86481449 -0.99462675\n",
            " -0.87458603 -0.83407054 -0.77090649 -0.83476183 -1.03080067 -1.02544303\n",
            " -1.0788268  -1.00713288 -1.03009698 -0.63623922 -0.86230652 -0.75328767\n",
            " -0.70023795 -0.41043495 -0.50486767 -0.27907117 -0.25994628 -0.06189804]\n",
            "\n",
            "Degree 1 회귀 계수는 [-1.61] 입니다.\n",
            "Degree 1 MSE 는 0.4077289625098685 입니다.\n",
            "\n",
            "Degree 4 회귀 계수는 [  0.47 -17.79  23.59  -7.26] 입니다.\n",
            "Degree 4 MSE 는 0.04320874987232058 입니다.\n",
            "\n",
            "Degree 15 회귀 계수는 [-2.98291000e+03  1.03898770e+05 -1.87415056e+06  2.03715126e+07\n",
            " -1.44872551e+08  7.09311979e+08 -2.47064676e+09  6.24558367e+09\n",
            " -1.15676035e+10  1.56894317e+10 -1.54005437e+10  1.06456871e+10\n",
            " -4.91375763e+09  1.35919168e+09 -1.70380199e+08] 입니다.\n",
            "Degree 15 MSE 는 180526263.29386473 입니다.\n"
          ]
        },
        {
          "output_type": "display_data",
          "data": {
            "image/png": "[encoded data removed]",
            "text/plain": [
              "<Figure size 1008x360 with 3 Axes>"
            ]
          },
          "metadata": {}
        }
      ]
    },
    {
      "cell_type": "markdown",
      "metadata": {
        "id": "dslroa2J8EK1"
      },
      "source": [
        "**위 코드 실행 결과 그래프 설명**  \n",
        "![mse-cross-val](https://user-images.githubusercontent.com/291782/140276775-8be10e2e-415b-4cd9-adce-479252d27100.png)"
      ]
    },
    {
      "cell_type": "markdown",
      "metadata": {
        "id": "7Z8uB5RP8u66"
      },
      "source": [
        "##### 편향-분산 트레이드오프(Bias-Variance Trade off)\n",
        "\n",
        "![bias-variance](https://user-images.githubusercontent.com/291782/140438171-2c51b1b8-45bb-42a9-80a9-338638ee365e.png)  \n",
        "[이미지 참조 URL](http://scott.fortmann-roe.com/docs/BiasVariance.html)\n",
        "\n",
        "\n",
        "- 높은 편향(High Bias) 낮은 분산(Low Variance) : 과소적합 되기 쉬움\n",
        "- 낮은 편향(Low Bias) 높은 분산(High Variance) : 과대적합 되기 쉬움\n",
        "- 편향과 분산이 서로 트레이드 오프를 이루면서 오류 Cost 값이 최대로 낮아지는 모델을 구축하는 것이 가장 효율적인 머신러닝 예측 모델을 만드는 방법이다.\n"
      ]
    },
    {
      "cell_type": "markdown",
      "metadata": {
        "id": "qbpnpWritXSH"
      },
      "source": [
        "#### 06 규제 선형 모델 - 릿지(Ridge), 라쏘(Lasso), 엘라스틱넷\n",
        "\n",
        "- L2 규제를 적용한 릿지 회귀\n",
        "- L1 규제를 적용한 라쏘 회귀\n",
        "\n",
        "#### 릿지 회귀\n",
        "RIdge 클래스의 주요 생성 파라미터는 alpha 이며, 이는 릿지 회귀의 L2 규제 계수에 해당함.  \n",
        "앞 예제의 보스턴 주택 가격을 Ridge 클래스를 이용해 다시 예측하고, 예측 성능을 cross_val_score()로 평가해 보겠음\n",
        "\n"
      ]
    },
    {
      "cell_type": "code",
      "metadata": {
        "colab": {
          "base_uri": "https://localhost:8080/"
        },
        "id": "BbHWRdRTG-Au",
        "outputId": "41904cba-4c81-461e-ccad-4dcbb41068df"
      },
      "source": [
        "from sklearn.linear_model import Ridge\n",
        "from sklearn.model_selection import cross_val_score\n",
        "\n",
        "# alpha=10으로 설정해 릿지 회귀 수행\n",
        "ridge = Ridge(alpha=10)\n",
        "neg_mse_scores = cross_val_score(ridge, x_data, y_target, scoring='neg_mean_squared_error', cv=5)\n",
        "rmse_scores = np.sqrt(-1 * neg_mse_scores)\n",
        "avg_rmse = np.mean(rmse_scores)\n",
        "\n",
        "print('5 folds 의 개별 Negative MSE Scores:', np.round(neg_mse_scores, 3))\n",
        "print('5 folds 의 개별 RMSE Scores:', np.round(rmse_scores, 3))\n",
        "print('5 folds 의 평균 RMSE Scores:', np.round(avg_rmse, 3))\n",
        "# Ridge 의 RMSE 평균이 5.518 인데 앞의 LinearRegression 의 \n",
        "# RMSE 평균인 5.8287 더 뛰어난게 맞나? 물어봐라 통계과 애들에게\n",
        "# p.322 중간쯤에도 더 뛰어나다고 나옴\n",
        "# rmse 는 낮을수록 더 좋은거네...."
      ],
      "execution_count": 19,
      "outputs": [
        {
          "output_type": "stream",
          "name": "stdout",
          "text": [
            "5 folds 의 개별 Negative MSE Scores: [-11.422 -24.294 -28.144 -74.599 -28.517]\n",
            "5 folds 의 개별 RMSE Scores: [3.38  4.929 5.305 8.637 5.34 ]\n",
            "5 folds 의 평균 RMSE Scores: 5.518\n"
          ]
        }
      ]
    },
    {
      "cell_type": "code",
      "metadata": {
        "colab": {
          "base_uri": "https://localhost:8080/"
        },
        "id": "s_GfklDbI4LD",
        "outputId": "b6b2d6c2-0b22-47d1-b347-baa517067c63"
      },
      "source": [
        "# 릿지에 사용될 alpha 파라미터의 값을 정의\n",
        "alphas = [0, 0.1, 1, 10, 100]\n",
        "\n",
        "# alpha list 값을 반복하면서 alpha 에 따른 평균 rmse를 구함\n",
        "for alpha in alphas :\n",
        "    ridge = Ridge(alpha = alpha)\n",
        "\n",
        "    # cross_val_score 를 이용해 5 폴드의 평균 RMSE를 계산\n",
        "    neg_mse_scores = cross_val_score(ridge, x_data, y_target, scoring='neg_mean_squared_error', cv=5)\n",
        "    avg_rmse = np.mean(np.sqrt(-1 * neg_mse_scores))\n",
        "    print('alpha {} 일때 5 folds의 평균 RMSE : {:.3f}'.format(alpha, avg_rmse))\n",
        "\n",
        "# 위 실행 결과는 아래와 같고, alpha 가 100일 때 rmse 가 5.330으로 가장 좋다.\n",
        "# alpha 0 일때 5 folds의 평균 RMSE : 5.829\n",
        "# alpha 0.1 일때 5 folds의 평균 RMSE : 5.788\n",
        "# alpha 1 일때 5 folds의 평균 RMSE : 5.653\n",
        "# alpha 10 일때 5 folds의 평균 RMSE : 5.518\n",
        "# alpha 100 일때 5 folds의 평균 RMSE : 5.330"
      ],
      "execution_count": 20,
      "outputs": [
        {
          "output_type": "stream",
          "name": "stdout",
          "text": [
            "alpha 0 일때 5 folds의 평균 RMSE : 5.829\n",
            "alpha 0.1 일때 5 folds의 평균 RMSE : 5.788\n",
            "alpha 1 일때 5 folds의 평균 RMSE : 5.653\n",
            "alpha 10 일때 5 folds의 평균 RMSE : 5.518\n",
            "alpha 100 일때 5 folds의 평균 RMSE : 5.330\n"
          ]
        }
      ]
    },
    {
      "cell_type": "code",
      "metadata": {
        "colab": {
          "base_uri": "https://localhost:8080/",
          "height": 390
        },
        "id": "_S-dpxyKKBkp",
        "outputId": "3858370d-de0d-4dbc-e99b-60894f0e057d"
      },
      "source": [
        "# 각 alpha에 따른 회귀 계수 값을 시각화 하기 위해 5개의 열로 된 맷플롯립 축 생성\n",
        "fig, axs = plt.subplots(figsize=(18, 6), nrows=1, ncols=5)\n",
        "\n",
        "# 각 alpha에 따른 회귀 계수 값을 데이터로 저장하기 위한 DF 생성\n",
        "coeff_df = pd.DataFrame()\n",
        "\n",
        "# alphas 리스트 값을 차례로 입력해 회귀 계수 값 시각화 및 데이터 저장. pos는 axis의 위치 지정\n",
        "for pos, alpha in enumerate(alphas) :\n",
        "    ridge = Ridge(alpha = alpha)\n",
        "    ridge.fit(x_data, y_target)\n",
        "\n",
        "    # alpha 에 따른 피처별로 회귀 계수를 Series로 변환하고 이를 DF의 칼럼으로 추가\n",
        "    coeff = pd.Series(data=ridge.coef_, index=x_data.columns)\n",
        "    colname='alpha:'+str(alpha)\n",
        "    coeff_df[colname] = coeff\n",
        "\n",
        "    # 막대 그래프의 각 alpha 값에서의 회귀 계수를 시각화. 회귀 계수값이 높은 순으로 표현\n",
        "    coeff = coeff.sort_values(ascending=False)\n",
        "    axs[pos].set_title(colname)\n",
        "    axs[pos].set_xlim(-3, 6)\n",
        "    sns.barplot(x=coeff.values, y=coeff.index, ax=axs[pos])\n",
        "\n",
        "# for 문 바깥에서 맷플롯립의 show() 호출 및 alpha 에 따른 피처별 회귀 계수를 DF로 표시\n",
        "plt.show()"
      ],
      "execution_count": 21,
      "outputs": [
        {
          "output_type": "display_data",
          "data": {
            "image/png": "[encoded data removed]",
            "text/plain": [
              "<Figure size 1296x432 with 5 Axes>"
            ]
          },
          "metadata": {
            "needs_background": "light"
          }
        }
      ]
    },
    {
      "cell_type": "code",
      "metadata": {
        "colab": {
          "base_uri": "https://localhost:8080/",
          "height": 452
        },
        "id": "siL1E0quP8MH",
        "outputId": "d970614c-16a4-4b19-bea6-e3ed93946633"
      },
      "source": [
        "# DF에 저장된 alpha 값의 변화에 따른 릿지 회귀 계수 값을 구해보자\n",
        "ridge_alphas = [0, 0.1, 1, 10, 100]\n",
        "sort_column = 'alpha:'+str(ridge_alphas[0])\n",
        "coeff_df.sort_values(by=sort_column, ascending=False)"
      ],
      "execution_count": 22,
      "outputs": [
        {
          "output_type": "execute_result",
          "data": {
            "text/html": [
              "<div>\n",
              "<style scoped>\n",
              "    .dataframe tbody tr th:only-of-type {\n",
              "        vertical-align: middle;\n",
              "    }\n",
              "\n",
              "    .dataframe tbody tr th {\n",
              "        vertical-align: top;\n",
              "    }\n",
              "\n",
              "    .dataframe thead th {\n",
              "        text-align: right;\n",
              "    }\n",
              "</style>\n",
              "<table border=\"1\" class=\"dataframe\">\n",
              "  <thead>\n",
              "    <tr style=\"text-align: right;\">\n",
              "      <th></th>\n",
              "      <th>alpha:0</th>\n",
              "      <th>alpha:0.1</th>\n",
              "      <th>alpha:1</th>\n",
              "      <th>alpha:10</th>\n",
              "      <th>alpha:100</th>\n",
              "    </tr>\n",
              "  </thead>\n",
              "  <tbody>\n",
              "    <tr>\n",
              "      <th>RM</th>\n",
              "      <td>3.809865</td>\n",
              "      <td>3.818233</td>\n",
              "      <td>3.854000</td>\n",
              "      <td>3.702272</td>\n",
              "      <td>2.334536</td>\n",
              "    </tr>\n",
              "    <tr>\n",
              "      <th>CHAS</th>\n",
              "      <td>2.686734</td>\n",
              "      <td>2.670019</td>\n",
              "      <td>2.552393</td>\n",
              "      <td>1.952021</td>\n",
              "      <td>0.638335</td>\n",
              "    </tr>\n",
              "    <tr>\n",
              "      <th>RAD</th>\n",
              "      <td>0.306049</td>\n",
              "      <td>0.303515</td>\n",
              "      <td>0.290142</td>\n",
              "      <td>0.279596</td>\n",
              "      <td>0.315358</td>\n",
              "    </tr>\n",
              "    <tr>\n",
              "      <th>ZN</th>\n",
              "      <td>0.046420</td>\n",
              "      <td>0.046572</td>\n",
              "      <td>0.047443</td>\n",
              "      <td>0.049579</td>\n",
              "      <td>0.054496</td>\n",
              "    </tr>\n",
              "    <tr>\n",
              "      <th>INDUS</th>\n",
              "      <td>0.020559</td>\n",
              "      <td>0.015999</td>\n",
              "      <td>-0.008805</td>\n",
              "      <td>-0.042962</td>\n",
              "      <td>-0.052826</td>\n",
              "    </tr>\n",
              "    <tr>\n",
              "      <th>B</th>\n",
              "      <td>0.009312</td>\n",
              "      <td>0.009368</td>\n",
              "      <td>0.009673</td>\n",
              "      <td>0.010037</td>\n",
              "      <td>0.009393</td>\n",
              "    </tr>\n",
              "    <tr>\n",
              "      <th>AGE</th>\n",
              "      <td>0.000692</td>\n",
              "      <td>-0.000269</td>\n",
              "      <td>-0.005415</td>\n",
              "      <td>-0.010707</td>\n",
              "      <td>0.001212</td>\n",
              "    </tr>\n",
              "    <tr>\n",
              "      <th>TAX</th>\n",
              "      <td>-0.012335</td>\n",
              "      <td>-0.012421</td>\n",
              "      <td>-0.012912</td>\n",
              "      <td>-0.013993</td>\n",
              "      <td>-0.015856</td>\n",
              "    </tr>\n",
              "    <tr>\n",
              "      <th>CRIM</th>\n",
              "      <td>-0.108011</td>\n",
              "      <td>-0.107474</td>\n",
              "      <td>-0.104595</td>\n",
              "      <td>-0.101435</td>\n",
              "      <td>-0.102202</td>\n",
              "    </tr>\n",
              "    <tr>\n",
              "      <th>LSTAT</th>\n",
              "      <td>-0.524758</td>\n",
              "      <td>-0.525966</td>\n",
              "      <td>-0.533343</td>\n",
              "      <td>-0.559366</td>\n",
              "      <td>-0.660764</td>\n",
              "    </tr>\n",
              "    <tr>\n",
              "      <th>PTRATIO</th>\n",
              "      <td>-0.952747</td>\n",
              "      <td>-0.940759</td>\n",
              "      <td>-0.876074</td>\n",
              "      <td>-0.797945</td>\n",
              "      <td>-0.829218</td>\n",
              "    </tr>\n",
              "    <tr>\n",
              "      <th>DIS</th>\n",
              "      <td>-1.475567</td>\n",
              "      <td>-1.459626</td>\n",
              "      <td>-1.372654</td>\n",
              "      <td>-1.248808</td>\n",
              "      <td>-1.153390</td>\n",
              "    </tr>\n",
              "    <tr>\n",
              "      <th>NOX</th>\n",
              "      <td>-17.766611</td>\n",
              "      <td>-16.684645</td>\n",
              "      <td>-10.777015</td>\n",
              "      <td>-2.371619</td>\n",
              "      <td>-0.262847</td>\n",
              "    </tr>\n",
              "  </tbody>\n",
              "</table>\n",
              "</div>"
            ],
            "text/plain": [
              "           alpha:0  alpha:0.1    alpha:1  alpha:10  alpha:100\n",
              "RM        3.809865   3.818233   3.854000  3.702272   2.334536\n",
              "CHAS      2.686734   2.670019   2.552393  1.952021   0.638335\n",
              "RAD       0.306049   0.303515   0.290142  0.279596   0.315358\n",
              "ZN        0.046420   0.046572   0.047443  0.049579   0.054496\n",
              "INDUS     0.020559   0.015999  -0.008805 -0.042962  -0.052826\n",
              "B         0.009312   0.009368   0.009673  0.010037   0.009393\n",
              "AGE       0.000692  -0.000269  -0.005415 -0.010707   0.001212\n",
              "TAX      -0.012335  -0.012421  -0.012912 -0.013993  -0.015856\n",
              "CRIM     -0.108011  -0.107474  -0.104595 -0.101435  -0.102202\n",
              "LSTAT    -0.524758  -0.525966  -0.533343 -0.559366  -0.660764\n",
              "PTRATIO  -0.952747  -0.940759  -0.876074 -0.797945  -0.829218\n",
              "DIS      -1.475567  -1.459626  -1.372654 -1.248808  -1.153390\n",
              "NOX     -17.766611 -16.684645 -10.777015 -2.371619  -0.262847"
            ]
          },
          "metadata": {},
          "execution_count": 22
        }
      ]
    },
    {
      "cell_type": "markdown",
      "metadata": {
        "id": "65nVarzwQg4s"
      },
      "source": [
        "#### 라쏘 회귀\n",
        "W의 절대값에 패널티를 부여하는 L1 규제를 선형 회귀에 적용한 것이 라쏘(Lasso) 회귀임.\n",
        "\n",
        "- L1 규제 : alpha * | W | . 불필요한 회귀 계수를 급격하게 감소시켜 0으로 만들고 제거가 목표. 적절한 피처만 회귀에 포함시키는 피처 선택의 특성을 가지고 있음.\n",
        "- L2 규제 : 회귀 계수의 크기를 감소시키는게 목표"
      ]
    },
    {
      "cell_type": "code",
      "metadata": {
        "id": "qccFAGRiRPV3"
      },
      "source": [
        "from sklearn.linear_model import Lasso, ElasticNet\n",
        "\n",
        "# alpha 값에 따른 회귀 모델의 폴드 평균 RMSE를 출력하고 회귀 계수들을 DF로 변환\n",
        "def get_linear_reg_eval(model_name, params=None, x_data_n=None, y_target_n=None,\n",
        "                        verbose=True, return_coeff=True) :\n",
        "    coeff_df = pd.DataFrame()\n",
        "    if verbose : print('##### ', model_name, ' #####')\n",
        "\n",
        "    for param in params :\n",
        "        if model_name == 'Ridge' : model=Ridge(alpha = param)\n",
        "        elif model_name == 'Lasso' : model = Lasso(alpha = param)\n",
        "        elif model_name == 'ElasticNet' : model = ElasticNet(alpha = param, l1_ratio=0.7)\n",
        "\n",
        "        neg_mse_scores = cross_val_score(model, x_data_n, y_target_n, scoring='neg_mean_squared_error', cv=5)\n",
        "        avg_rmse = np.mean(np.sqrt(-1 * neg_mse_scores))\n",
        "        print('alpha {} 일 때 5 폴드 세트의 평균 RMSE:{:.4f}'.format(param, avg_rmse))\n",
        "        \n",
        "        # cross_val_scores는 evaluation metric만 반환하므로 모델을 다시 학습하여 회귀 계수 추출\n",
        "        model.fit(x_data_n, y_target_n)\n",
        "\n",
        "        if return_coeff :\n",
        "            # alpha에 따른 피처별 회귀 계수를 Series로 변환하고 이를 DF의 컬럼으로 추가\n",
        "            coeff = pd.Series(data=model.coef_, index=x_data_n.columns)\n",
        "            colname = 'alpha:'+str(param)\n",
        "            coeff_df[colname] = coeff\n",
        "        \n",
        "    return coeff_df\n",
        "# end of get_linear_reg_eval\n",
        "\n"
      ],
      "execution_count": 23,
      "outputs": []
    },
    {
      "cell_type": "code",
      "metadata": {
        "colab": {
          "base_uri": "https://localhost:8080/"
        },
        "id": "H7dsMZscS-7B",
        "outputId": "83141e1e-3340-4cb0-b53b-7ef3f4ac2d73"
      },
      "source": [
        "# 라쏘에 사용될 alpha 파라미터의 값을 정의하고 get_linear_reg_eval() 함수 호출\n",
        "lasso_alphas = [0.07, 0.1, 0.5, 1, 3]\n",
        "coeff_lasso_df = get_linear_reg_eval('Lasso', params=lasso_alphas, x_data_n=x_data, y_target_n=y_target)"
      ],
      "execution_count": 24,
      "outputs": [
        {
          "output_type": "stream",
          "name": "stdout",
          "text": [
            "#####  Lasso  #####\n",
            "alpha 0.07 일 때 5 폴드 세트의 평균 RMSE:5.6123\n",
            "alpha 0.1 일 때 5 폴드 세트의 평균 RMSE:5.6151\n",
            "alpha 0.5 일 때 5 폴드 세트의 평균 RMSE:5.6691\n",
            "alpha 1 일 때 5 폴드 세트의 평균 RMSE:5.7760\n",
            "alpha 3 일 때 5 폴드 세트의 평균 RMSE:6.1888\n"
          ]
        }
      ]
    },
    {
      "cell_type": "code",
      "metadata": {
        "colab": {
          "base_uri": "https://localhost:8080/",
          "height": 452
        },
        "id": "H4CSyuLCT7Pn",
        "outputId": "005d5ae5-9bed-42ac-8ab7-e75da048921c"
      },
      "source": [
        "# 반환된 coeff_lasso_df 를 첫번째 컬럼순으로 내림차순 정렬해 회귀 계수 DF 출력\n",
        "sort_column = 'alpha:'+str(lasso_alphas[0])\n",
        "coeff_lasso_df.sort_values(by=sort_column, ascending=False)\n",
        "# 출력된 DF를 보면 alpha 크기가 증가함에 따라 일부 피처의 회귀 계수는 아예 0으로 바뀌고 있음\n",
        "# NOX 속성은 alpha 가 0.07일때 부터 회귀 계수가 0이며, alpha 를 증가시키면서 INDUS, CHAS와 같은 속성의 회귀 계수가 0으로 바뀜"
      ],
      "execution_count": 25,
      "outputs": [
        {
          "output_type": "execute_result",
          "data": {
            "text/html": [
              "<div>\n",
              "<style scoped>\n",
              "    .dataframe tbody tr th:only-of-type {\n",
              "        vertical-align: middle;\n",
              "    }\n",
              "\n",
              "    .dataframe tbody tr th {\n",
              "        vertical-align: top;\n",
              "    }\n",
              "\n",
              "    .dataframe thead th {\n",
              "        text-align: right;\n",
              "    }\n",
              "</style>\n",
              "<table border=\"1\" class=\"dataframe\">\n",
              "  <thead>\n",
              "    <tr style=\"text-align: right;\">\n",
              "      <th></th>\n",
              "      <th>alpha:0.07</th>\n",
              "      <th>alpha:0.1</th>\n",
              "      <th>alpha:0.5</th>\n",
              "      <th>alpha:1</th>\n",
              "      <th>alpha:3</th>\n",
              "    </tr>\n",
              "  </thead>\n",
              "  <tbody>\n",
              "    <tr>\n",
              "      <th>RM</th>\n",
              "      <td>3.789725</td>\n",
              "      <td>3.703202</td>\n",
              "      <td>2.498212</td>\n",
              "      <td>0.949811</td>\n",
              "      <td>0.000000</td>\n",
              "    </tr>\n",
              "    <tr>\n",
              "      <th>CHAS</th>\n",
              "      <td>1.434343</td>\n",
              "      <td>0.955190</td>\n",
              "      <td>0.000000</td>\n",
              "      <td>0.000000</td>\n",
              "      <td>0.000000</td>\n",
              "    </tr>\n",
              "    <tr>\n",
              "      <th>RAD</th>\n",
              "      <td>0.270936</td>\n",
              "      <td>0.274707</td>\n",
              "      <td>0.277451</td>\n",
              "      <td>0.264206</td>\n",
              "      <td>0.061864</td>\n",
              "    </tr>\n",
              "    <tr>\n",
              "      <th>ZN</th>\n",
              "      <td>0.049059</td>\n",
              "      <td>0.049211</td>\n",
              "      <td>0.049544</td>\n",
              "      <td>0.049165</td>\n",
              "      <td>0.037231</td>\n",
              "    </tr>\n",
              "    <tr>\n",
              "      <th>B</th>\n",
              "      <td>0.010248</td>\n",
              "      <td>0.010249</td>\n",
              "      <td>0.009469</td>\n",
              "      <td>0.008247</td>\n",
              "      <td>0.006510</td>\n",
              "    </tr>\n",
              "    <tr>\n",
              "      <th>NOX</th>\n",
              "      <td>-0.000000</td>\n",
              "      <td>-0.000000</td>\n",
              "      <td>-0.000000</td>\n",
              "      <td>-0.000000</td>\n",
              "      <td>0.000000</td>\n",
              "    </tr>\n",
              "    <tr>\n",
              "      <th>AGE</th>\n",
              "      <td>-0.011706</td>\n",
              "      <td>-0.010037</td>\n",
              "      <td>0.003604</td>\n",
              "      <td>0.020910</td>\n",
              "      <td>0.042495</td>\n",
              "    </tr>\n",
              "    <tr>\n",
              "      <th>TAX</th>\n",
              "      <td>-0.014290</td>\n",
              "      <td>-0.014570</td>\n",
              "      <td>-0.015442</td>\n",
              "      <td>-0.015212</td>\n",
              "      <td>-0.008602</td>\n",
              "    </tr>\n",
              "    <tr>\n",
              "      <th>INDUS</th>\n",
              "      <td>-0.042120</td>\n",
              "      <td>-0.036619</td>\n",
              "      <td>-0.005253</td>\n",
              "      <td>-0.000000</td>\n",
              "      <td>-0.000000</td>\n",
              "    </tr>\n",
              "    <tr>\n",
              "      <th>CRIM</th>\n",
              "      <td>-0.098193</td>\n",
              "      <td>-0.097894</td>\n",
              "      <td>-0.083289</td>\n",
              "      <td>-0.063437</td>\n",
              "      <td>-0.000000</td>\n",
              "    </tr>\n",
              "    <tr>\n",
              "      <th>LSTAT</th>\n",
              "      <td>-0.560431</td>\n",
              "      <td>-0.568769</td>\n",
              "      <td>-0.656290</td>\n",
              "      <td>-0.761115</td>\n",
              "      <td>-0.807679</td>\n",
              "    </tr>\n",
              "    <tr>\n",
              "      <th>PTRATIO</th>\n",
              "      <td>-0.765107</td>\n",
              "      <td>-0.770654</td>\n",
              "      <td>-0.758752</td>\n",
              "      <td>-0.722966</td>\n",
              "      <td>-0.265072</td>\n",
              "    </tr>\n",
              "    <tr>\n",
              "      <th>DIS</th>\n",
              "      <td>-1.176583</td>\n",
              "      <td>-1.160538</td>\n",
              "      <td>-0.936605</td>\n",
              "      <td>-0.668790</td>\n",
              "      <td>-0.000000</td>\n",
              "    </tr>\n",
              "  </tbody>\n",
              "</table>\n",
              "</div>"
            ],
            "text/plain": [
              "         alpha:0.07  alpha:0.1  alpha:0.5   alpha:1   alpha:3\n",
              "RM         3.789725   3.703202   2.498212  0.949811  0.000000\n",
              "CHAS       1.434343   0.955190   0.000000  0.000000  0.000000\n",
              "RAD        0.270936   0.274707   0.277451  0.264206  0.061864\n",
              "ZN         0.049059   0.049211   0.049544  0.049165  0.037231\n",
              "B          0.010248   0.010249   0.009469  0.008247  0.006510\n",
              "NOX       -0.000000  -0.000000  -0.000000 -0.000000  0.000000\n",
              "AGE       -0.011706  -0.010037   0.003604  0.020910  0.042495\n",
              "TAX       -0.014290  -0.014570  -0.015442 -0.015212 -0.008602\n",
              "INDUS     -0.042120  -0.036619  -0.005253 -0.000000 -0.000000\n",
              "CRIM      -0.098193  -0.097894  -0.083289 -0.063437 -0.000000\n",
              "LSTAT     -0.560431  -0.568769  -0.656290 -0.761115 -0.807679\n",
              "PTRATIO   -0.765107  -0.770654  -0.758752 -0.722966 -0.265072\n",
              "DIS       -1.176583  -1.160538  -0.936605 -0.668790 -0.000000"
            ]
          },
          "metadata": {},
          "execution_count": 25
        }
      ]
    },
    {
      "cell_type": "markdown",
      "metadata": {
        "id": "B6GjlzIeUg_Z"
      },
      "source": [
        "#### 엘라스틱 회귀\n",
        "엘라스틱(Elastic Net) 회귀는 L2 규제와 L1 규제를 결합한 회귀임  \n",
        "\n",
        "따라서 엘라스틱 회귀 비용함수의 목표는 RSS(W) + alpha2 * | W | + alpha1 * | W | 식을 최소화하는 W를 찾는것\n",
        "\n",
        "\n",
        "엘라스틱 넷의 단점은 L1과 L2 규제가 결합된 규제로 인해 수행시간이 상대적으로 오래 걸린다는 것"
      ]
    },
    {
      "cell_type": "code",
      "metadata": {
        "colab": {
          "base_uri": "https://localhost:8080/"
        },
        "id": "hfGWCbeBVb4h",
        "outputId": "9d8b5c89-b6ec-4227-a38e-6abe6c14b0a9"
      },
      "source": [
        "# 엘라스틱넷에 사용될 alpha 파라미터의 값들을 정의하고 get_linear_reg_eval() 함수 호출\n",
        "# l1_ratio는 0.7로 고정\n",
        "elastic_alphas = [0.07, 0.1, 0.5, 1, 3]\n",
        "\n",
        "coeff_elastic_df = get_linear_reg_eval('ElasticNet', params=elastic_alphas, x_data_n=x_data, y_target_n=y_target)\n",
        "# alpha 가 0.5 일때 RMSE 가 5.4667 로 가장 좋은 예측 성능을 보이고 있음"
      ],
      "execution_count": 26,
      "outputs": [
        {
          "output_type": "stream",
          "name": "stdout",
          "text": [
            "#####  ElasticNet  #####\n",
            "alpha 0.07 일 때 5 폴드 세트의 평균 RMSE:5.5417\n",
            "alpha 0.1 일 때 5 폴드 세트의 평균 RMSE:5.5259\n",
            "alpha 0.5 일 때 5 폴드 세트의 평균 RMSE:5.4667\n",
            "alpha 1 일 때 5 폴드 세트의 평균 RMSE:5.5969\n",
            "alpha 3 일 때 5 폴드 세트의 평균 RMSE:6.0681\n"
          ]
        }
      ]
    },
    {
      "cell_type": "code",
      "metadata": {
        "colab": {
          "base_uri": "https://localhost:8080/",
          "height": 452
        },
        "id": "mK57O2JGV0Zm",
        "outputId": "7363199d-5487-454d-a149-469e040726ad"
      },
      "source": [
        "# 반환된  coeff_elastic_df를 첫번째 컬럼 순으로 내림차순 정렬해 회귀계수 DF 출력\n",
        "sort_column = 'alpha:'+str(elastic_alphas[0])\n",
        "coeff_elastic_df.sort_values(by=sort_column, ascending=False)\n",
        "# alpha 값에 따른 피처들의 회귀 계수들 값이 라쏘 보다는 상대적으로 0이 되는 값이 적음을 알수 있음"
      ],
      "execution_count": 27,
      "outputs": [
        {
          "output_type": "execute_result",
          "data": {
            "text/html": [
              "<div>\n",
              "<style scoped>\n",
              "    .dataframe tbody tr th:only-of-type {\n",
              "        vertical-align: middle;\n",
              "    }\n",
              "\n",
              "    .dataframe tbody tr th {\n",
              "        vertical-align: top;\n",
              "    }\n",
              "\n",
              "    .dataframe thead th {\n",
              "        text-align: right;\n",
              "    }\n",
              "</style>\n",
              "<table border=\"1\" class=\"dataframe\">\n",
              "  <thead>\n",
              "    <tr style=\"text-align: right;\">\n",
              "      <th></th>\n",
              "      <th>alpha:0.07</th>\n",
              "      <th>alpha:0.1</th>\n",
              "      <th>alpha:0.5</th>\n",
              "      <th>alpha:1</th>\n",
              "      <th>alpha:3</th>\n",
              "    </tr>\n",
              "  </thead>\n",
              "  <tbody>\n",
              "    <tr>\n",
              "      <th>RM</th>\n",
              "      <td>3.574162</td>\n",
              "      <td>3.414154</td>\n",
              "      <td>1.918419</td>\n",
              "      <td>0.938789</td>\n",
              "      <td>0.000000</td>\n",
              "    </tr>\n",
              "    <tr>\n",
              "      <th>CHAS</th>\n",
              "      <td>1.330724</td>\n",
              "      <td>0.979706</td>\n",
              "      <td>0.000000</td>\n",
              "      <td>0.000000</td>\n",
              "      <td>0.000000</td>\n",
              "    </tr>\n",
              "    <tr>\n",
              "      <th>RAD</th>\n",
              "      <td>0.278880</td>\n",
              "      <td>0.283443</td>\n",
              "      <td>0.300761</td>\n",
              "      <td>0.289299</td>\n",
              "      <td>0.146846</td>\n",
              "    </tr>\n",
              "    <tr>\n",
              "      <th>ZN</th>\n",
              "      <td>0.050107</td>\n",
              "      <td>0.050617</td>\n",
              "      <td>0.052878</td>\n",
              "      <td>0.052136</td>\n",
              "      <td>0.038268</td>\n",
              "    </tr>\n",
              "    <tr>\n",
              "      <th>B</th>\n",
              "      <td>0.010122</td>\n",
              "      <td>0.010067</td>\n",
              "      <td>0.009114</td>\n",
              "      <td>0.008320</td>\n",
              "      <td>0.007020</td>\n",
              "    </tr>\n",
              "    <tr>\n",
              "      <th>AGE</th>\n",
              "      <td>-0.010116</td>\n",
              "      <td>-0.008276</td>\n",
              "      <td>0.007760</td>\n",
              "      <td>0.020348</td>\n",
              "      <td>0.043446</td>\n",
              "    </tr>\n",
              "    <tr>\n",
              "      <th>TAX</th>\n",
              "      <td>-0.014522</td>\n",
              "      <td>-0.014814</td>\n",
              "      <td>-0.016046</td>\n",
              "      <td>-0.016218</td>\n",
              "      <td>-0.011417</td>\n",
              "    </tr>\n",
              "    <tr>\n",
              "      <th>INDUS</th>\n",
              "      <td>-0.044855</td>\n",
              "      <td>-0.042719</td>\n",
              "      <td>-0.023252</td>\n",
              "      <td>-0.000000</td>\n",
              "      <td>-0.000000</td>\n",
              "    </tr>\n",
              "    <tr>\n",
              "      <th>CRIM</th>\n",
              "      <td>-0.099468</td>\n",
              "      <td>-0.099213</td>\n",
              "      <td>-0.089070</td>\n",
              "      <td>-0.073577</td>\n",
              "      <td>-0.019058</td>\n",
              "    </tr>\n",
              "    <tr>\n",
              "      <th>NOX</th>\n",
              "      <td>-0.175072</td>\n",
              "      <td>-0.000000</td>\n",
              "      <td>-0.000000</td>\n",
              "      <td>-0.000000</td>\n",
              "      <td>-0.000000</td>\n",
              "    </tr>\n",
              "    <tr>\n",
              "      <th>LSTAT</th>\n",
              "      <td>-0.574822</td>\n",
              "      <td>-0.587702</td>\n",
              "      <td>-0.693861</td>\n",
              "      <td>-0.760457</td>\n",
              "      <td>-0.800368</td>\n",
              "    </tr>\n",
              "    <tr>\n",
              "      <th>PTRATIO</th>\n",
              "      <td>-0.779498</td>\n",
              "      <td>-0.784725</td>\n",
              "      <td>-0.790969</td>\n",
              "      <td>-0.738672</td>\n",
              "      <td>-0.423065</td>\n",
              "    </tr>\n",
              "    <tr>\n",
              "      <th>DIS</th>\n",
              "      <td>-1.189438</td>\n",
              "      <td>-1.173647</td>\n",
              "      <td>-0.975902</td>\n",
              "      <td>-0.725174</td>\n",
              "      <td>-0.031208</td>\n",
              "    </tr>\n",
              "  </tbody>\n",
              "</table>\n",
              "</div>"
            ],
            "text/plain": [
              "         alpha:0.07  alpha:0.1  alpha:0.5   alpha:1   alpha:3\n",
              "RM         3.574162   3.414154   1.918419  0.938789  0.000000\n",
              "CHAS       1.330724   0.979706   0.000000  0.000000  0.000000\n",
              "RAD        0.278880   0.283443   0.300761  0.289299  0.146846\n",
              "ZN         0.050107   0.050617   0.052878  0.052136  0.038268\n",
              "B          0.010122   0.010067   0.009114  0.008320  0.007020\n",
              "AGE       -0.010116  -0.008276   0.007760  0.020348  0.043446\n",
              "TAX       -0.014522  -0.014814  -0.016046 -0.016218 -0.011417\n",
              "INDUS     -0.044855  -0.042719  -0.023252 -0.000000 -0.000000\n",
              "CRIM      -0.099468  -0.099213  -0.089070 -0.073577 -0.019058\n",
              "NOX       -0.175072  -0.000000  -0.000000 -0.000000 -0.000000\n",
              "LSTAT     -0.574822  -0.587702  -0.693861 -0.760457 -0.800368\n",
              "PTRATIO   -0.779498  -0.784725  -0.790969 -0.738672 -0.423065\n",
              "DIS       -1.189438  -1.173647  -0.975902 -0.725174 -0.031208"
            ]
          },
          "metadata": {},
          "execution_count": 27
        }
      ]
    },
    {
      "cell_type": "markdown",
      "metadata": {
        "id": "t4ONOK_LW3Qj"
      },
      "source": [
        "#### 선형 회귀 모델을 위한 데이터 변환\n",
        "\n",
        "일반적으로 피처 데이터 세트와 타겟 데이터 세트에 스케일링 / 정규화 작업을 수행하는 방법이 조금 다름.  \n",
        "피처 데이터 세트에 적용하는 변환 작업은 다음과 같은 방법이 있을 수 있음  \n",
        "\n",
        "1. StandardScaler 클래스를 이용해 평균이 0, 분산이 1인 표준 정규 분포를 가진 데이터 세트로 변환하거나 MinMaxScaler 클래스를 이용해 최솟값이 0이고 최대값이 1인 값으로 정규화를 수행.\n",
        "2. 스케일링 / 정규화를 수행한 데이터 세트에 다시 다항 특성을 적용하여 변환하는 방법. 보통 1번 방법을 통해 예측 성능에 향상이 없을 경우 이와 같은 방법을 적용함.\n",
        "3. 원래 값에 log 함수를 적용하면 보다 정규 분포에 가까운 형태로 값이 분포됨. 이러한 변환을 로그 변환(Log Transformation)이라고 부름. 로그 변환은 매우 유용한 변환이며, 실제로 선형 회귀에서는 앞에서 소개한 1, 2 번 방법보다 로그 변환이 훨씬 많이 사용되는 변환 방법. 왜냐하면 1번 방법의 경우 예측 성능 향상을 크게 기대하기 어려운 경우가 많으며, 2번 방법의 경우 피처의 개수가 매우 많을 경우에는 다항 변환으로 생성되는 피처의 개수가 기하급수로 늘어나서 과적합의 이슈가 발생할 수 있기 때문임.\n",
        "\n",
        "\n",
        "타겟값의 경우는 일반적으로 로그 변환을 적용함. 결정 값을 정규 분포나 다른 정규 값으로 변화하면 변환된 값을 다시 원본 타겟값으로 원복하기 어려울 수 있음."
      ]
    },
    {
      "cell_type": "code",
      "metadata": {
        "id": "9f9g4UtpYplk"
      },
      "source": [
        "from sklearn.preprocessing import StandardScaler, MinMaxScaler\n",
        "# method는 표준 정규 분포 변환(Standard), 최대값/최소값 정규화(MinMax), 로그변환(Log) 결정\n",
        "# p_degree는 다항식 특성을 추가할 때 적용. p_degree는 2 이상 ㅂ여하지 않음.\n",
        "def get_scaled_data(method='None', p_degree=None, input_data=None) :\n",
        "    if method == 'Standard' :\n",
        "        scaled_data = StandardScaler().fit_transform(input_data)\n",
        "    elif method == 'MinMax' :\n",
        "        scaled_data = MinMaxScaler().fit_transform(input_data)\n",
        "    elif method == 'Log' :\n",
        "        scaled_data = np.log1p(input_data)\n",
        "    else :\n",
        "        scaled_data = input_data\n",
        "\n",
        "    if p_degree != None :\n",
        "        scaled_data = PolynomialFeatures(degree = p_degree, include_bias=False).fit_transform(scaled_data)\n",
        "\n",
        "    return scaled_data\n",
        " "
      ],
      "execution_count": 28,
      "outputs": []
    },
    {
      "cell_type": "code",
      "metadata": {
        "colab": {
          "base_uri": "https://localhost:8080/"
        },
        "id": "zrk0OaM5Zu8O",
        "outputId": "452f79df-5bf0-4e95-d699-b21f7097ab4c"
      },
      "source": [
        "\n",
        "# Ridge의 alpha 값을 다르게 적용하고 다양한 데이터 변환 방법에 따른 RMSE 추출\n",
        "alphas = [0.1, 1, 10, 100]\n",
        "\n",
        "# 5개 방식으로 변환. 먼저 원본 그대로, 표준정규분포, 표준정규분포 + 다항식 특성\n",
        "# 최대/최소 정규화, 최대/최소 정규화 + 다항식 특성, 로그 변환\n",
        "scale_methods = [(None, None), ('Standard', None), ('Standard', 2),\n",
        "                ('MinMax', None), ('MinMax', 2), ('Log', None)]\n",
        "\n",
        "for scale_method in scale_methods :\n",
        "    x_data_scaled = get_scaled_data(method=scale_method[0], p_degree=scale_method[1], input_data=x_data)\n",
        "    \n",
        "    print('\\n ## 변환 유형:{}, Polynomial Degree:{}'.format(scale_method[0], scale_method[1]))\n",
        "\n",
        "    get_linear_reg_eval('Ridge', params=alphas, x_data_n = x_data, y_target_n=y_target, verbose=False, return_coeff=False)"
      ],
      "execution_count": 29,
      "outputs": [
        {
          "output_type": "stream",
          "name": "stdout",
          "text": [
            "\n",
            " ## 변환 유형:None, Polynomial Degree:None\n",
            "alpha 0.1 일 때 5 폴드 세트의 평균 RMSE:5.7885\n",
            "alpha 1 일 때 5 폴드 세트의 평균 RMSE:5.6526\n",
            "alpha 10 일 때 5 폴드 세트의 평균 RMSE:5.5182\n",
            "alpha 100 일 때 5 폴드 세트의 평균 RMSE:5.3296\n",
            "\n",
            " ## 변환 유형:Standard, Polynomial Degree:None\n",
            "alpha 0.1 일 때 5 폴드 세트의 평균 RMSE:5.7885\n",
            "alpha 1 일 때 5 폴드 세트의 평균 RMSE:5.6526\n",
            "alpha 10 일 때 5 폴드 세트의 평균 RMSE:5.5182\n",
            "alpha 100 일 때 5 폴드 세트의 평균 RMSE:5.3296\n",
            "\n",
            " ## 변환 유형:Standard, Polynomial Degree:2\n",
            "alpha 0.1 일 때 5 폴드 세트의 평균 RMSE:5.7885\n",
            "alpha 1 일 때 5 폴드 세트의 평균 RMSE:5.6526\n",
            "alpha 10 일 때 5 폴드 세트의 평균 RMSE:5.5182\n",
            "alpha 100 일 때 5 폴드 세트의 평균 RMSE:5.3296\n",
            "\n",
            " ## 변환 유형:MinMax, Polynomial Degree:None\n",
            "alpha 0.1 일 때 5 폴드 세트의 평균 RMSE:5.7885\n",
            "alpha 1 일 때 5 폴드 세트의 평균 RMSE:5.6526\n",
            "alpha 10 일 때 5 폴드 세트의 평균 RMSE:5.5182\n",
            "alpha 100 일 때 5 폴드 세트의 평균 RMSE:5.3296\n",
            "\n",
            " ## 변환 유형:MinMax, Polynomial Degree:2\n",
            "alpha 0.1 일 때 5 폴드 세트의 평균 RMSE:5.7885\n",
            "alpha 1 일 때 5 폴드 세트의 평균 RMSE:5.6526\n",
            "alpha 10 일 때 5 폴드 세트의 평균 RMSE:5.5182\n",
            "alpha 100 일 때 5 폴드 세트의 평균 RMSE:5.3296\n",
            "\n",
            " ## 변환 유형:Log, Polynomial Degree:None\n",
            "alpha 0.1 일 때 5 폴드 세트의 평균 RMSE:5.7885\n",
            "alpha 1 일 때 5 폴드 세트의 평균 RMSE:5.6526\n",
            "alpha 10 일 때 5 폴드 세트의 평균 RMSE:5.5182\n",
            "alpha 100 일 때 5 폴드 세트의 평균 RMSE:5.3296\n"
          ]
        }
      ]
    },
    {
      "cell_type": "markdown",
      "metadata": {
        "id": "Sxa6udgPcaJR"
      },
      "source": [
        "#### 위 결과를 아래 이미지 표로 정리\n",
        "![scaler-alpha](https://user-images.githubusercontent.com/291782/140637411-b24567ec-5a7b-4119-90b9-a9acf4ebe3a8.png)\n",
        "\n",
        "\n",
        "결과를 보면 표준정규분포 나 최소최대 정규화로 피처 데이터 세트를 변경해도 성능상의 개선은 없음.  \n",
        "표준 졍규 분포로 일차 변환 후 2차 다항식 변환을 했을 때 alpha=100 에서 4.631로 성능이 개선되었으며,  \n",
        "최소최대값 정규화로 일차 변환 후 2차 다항식을 변환 했을 때 alpha=1에서 4.320으로 성능이 개선되었음.\n",
        "\n",
        "\n",
        "하지만, 다항식 변환은 피처의 개수가 많을 경우 적용하기 힘들며, 또한 데이터 건수가 많아지면 계산에 많은 시간이 소모되어 적용에 한계가 있음.\n",
        "\n",
        "\n",
        "반면에 로그 변환을 보면 alpha가 0.1, 1, 10인 경우에 모두 좋은 성능 향상이 있음을 알 수 있음.\n",
        "\n",
        "\n",
        "\n",
        "일반적으로 선형 회귀를 적용하려는데 데이터 세트에 데이터 값의 분포가 심하게 왜곡되어 있을 경우에 이처럼 **로그 변환**을 적용하는 것이 좋은 결과를 기대할 수 있음."
      ]
    },
    {
      "cell_type": "markdown",
      "metadata": {
        "id": "Y8c9GtZvdrMi"
      },
      "source": [
        "### 07 로지스틱 회귀\n",
        "\n",
        "로지스틱 회귀는 선형 회귀 방식을 분류에 적용한 알고리즘임.  \n",
        "즉 로지스틱 회귀는 분류에 사용됨.\n",
        "\n",
        "\n",
        "로지스틱 회귀가 선형 회귀와 다른 점은 학습을 통해 선형 함수의 회귀 최적선을 찾는 것이 아니라,  \n",
        "시그모이드(Sigmoid) 함수 최적선을 찾고 이 시그모이드 함수의 반환 값을 확률로 간주해 확률에 따라 분류를 결정한다는 것.  \n",
        "\n",
        "![logistic-sigmoid](https://user-images.githubusercontent.com/291782/140650555-6f2a1fcc-a246-4227-b36e-cc12af9484ef.png)\n"
      ]
    },
    {
      "cell_type": "code",
      "metadata": {
        "id": "ahqTief78QBC"
      },
      "source": [
        "# 위스콘신 유방암 데이터 세트를 이용해 로지스틱 회귀로 암 여부를 판단\n",
        "import pandas as pd\n",
        "import matplotlib.pyplot as plt\n",
        "%matplotlib inline\n",
        "\n",
        "from sklearn.datasets import load_breast_cancer\n",
        "from sklearn.linear_model import LogisticRegression\n",
        "\n",
        "cancer = load_breast_cancer()"
      ],
      "execution_count": 36,
      "outputs": []
    },
    {
      "cell_type": "code",
      "metadata": {
        "id": "6pv0ZWN0-sGi"
      },
      "source": [
        "# 선형 회귀 계열의 로지스틱 회귀는 데이터의 정규 분포도에 따라 예측 성능 영향을 받을 수 있으므로\n",
        "# 데이터에 먼저 정규 분포 표준 스케일링 작업을 적용한 뒤에 train_test_split() 을 이용해 분리\n",
        "from sklearn.preprocessing import StandardScaler\n",
        "from sklearn.model_selection import train_test_split\n",
        "\n",
        "# StandardScaler 로 평균이 0, 분산이 1로 데이터 분포도 변환\n",
        "scaler = StandardScaler()\n",
        "data_scaled = scaler.fit_transform(cancer.data)\n",
        "\n",
        "x_train, x_test, y_train, y_test = train_test_split(data_scaled, cancer.target, test_size=0.3, random_state=0)"
      ],
      "execution_count": 37,
      "outputs": []
    },
    {
      "cell_type": "code",
      "metadata": {
        "colab": {
          "base_uri": "https://localhost:8080/"
        },
        "id": "DLv3pZSP_mEJ",
        "outputId": "f3696f04-e616-4d96-e408-4f87c46e28d7"
      },
      "source": [
        "# 로지스틱 회귀를 이용해 학습 및 예측을 수행하고, 정확도와 ROC-AUC 값을 구함\n",
        "from sklearn.metrics import accuracy_score, roc_auc_score\n",
        "\n",
        "# 로지스틱 회귀를 이용해 학습 및 예측 수행\n",
        "lr = LogisticRegression()\n",
        "lr.fit(x_train, y_train)\n",
        "lr_preds = lr.predict(x_test)\n",
        "\n",
        "# 정확도와 roc_auc 측정\n",
        "print('accuracy:{:.3f}'.format(accuracy_score(y_test, lr_preds)))\n",
        "print('roc_auc:{:3f}'.format(roc_auc_score(y_test, lr_preds)))"
      ],
      "execution_count": 39,
      "outputs": [
        {
          "output_type": "stream",
          "name": "stdout",
          "text": [
            "accuracy:0.977\n",
            "roc_auc:0.971561\n"
          ]
        }
      ]
    },
    {
      "cell_type": "markdown",
      "metadata": {
        "id": "2ybRa-y-AftB"
      },
      "source": [
        "사이킷런 LogisticRegression 클래스의 주요 하이퍼 파라미터로 penalty 와 C 가 있음.\n",
        "- penalty : 규제(Regularization)의 유형을 설정하며, 'l2' 로 설정 시 L2 규제를, 'l1' 설정 시 L1 을 뜻함. default=l2\n",
        "- C : 규제 강도를 조절하는 alpha 값의 역수. 값이 작을수록 규제 강도가 큼.  \n",
        "$C = \\dfrac{1}{alpha}$  \n",
        "\n"
      ]
    },
    {
      "cell_type": "code",
      "metadata": {
        "colab": {
          "base_uri": "https://localhost:8080/"
        },
        "id": "hsCEJUtfBCiw",
        "outputId": "8a45352a-417c-47b8-8fa8-609b8518b8c8"
      },
      "source": [
        "from sklearn.model_selection import GridSearchCV\n",
        "\n",
        "# solver='liblinear' 파라미터 넣지 않으면 아래 경고 뜸\n",
        "# Solver lbfgs supports only 'l2' or 'none' penalties, got l1 penalty.\n",
        "params = { 'penalty': ['l2', 'l1'],\n",
        "          'C':[0.01, 0.1, 1, 5, 10],\n",
        "          'solver': ['liblinear']\n",
        "          }\n",
        "\n",
        "gscv = GridSearchCV(lr, param_grid=params, scoring='accuracy', cv=3)\n",
        "gscv.fit(data_scaled, cancer.target)\n",
        "\n",
        "print('최적 하이퍼 파라미터:{}, 최적 평균 정확도:{:.3f}'.format(gscv.best_params_, gscv.best_score_))"
      ],
      "execution_count": 41,
      "outputs": [
        {
          "output_type": "stream",
          "name": "stdout",
          "text": [
            "최적 하이퍼 파라미터:{'C': 0.1, 'penalty': 'l2', 'solver': 'liblinear'}, 최적 평균 정확도:0.979\n"
          ]
        }
      ]
    },
    {
      "cell_type": "markdown",
      "metadata": {
        "id": "cd9Yx_xmCmma"
      },
      "source": [
        "### 08 회귀 트리\n",
        "p.335"
      ]
    }
  ]
}