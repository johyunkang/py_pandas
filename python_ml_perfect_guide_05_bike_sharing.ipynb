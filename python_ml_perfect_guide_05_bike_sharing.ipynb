{
  "nbformat": 4,
  "nbformat_minor": 0,
  "metadata": {
    "colab": {
      "name": "python_ml_perfect_guide_05_bike-sharing.ipynb",
      "provenance": [],
      "collapsed_sections": [],
      "mount_file_id": "1ZPVv9r2fPzHzwC1ssSh5MiUb0VU7gUXH",
      "authorship_tag": "ABX9TyOwzpFJGEzLdXAUIRQqlzyP",
      "include_colab_link": true
    },
    "kernelspec": {
      "name": "python3",
      "display_name": "Python 3"
    },
    "language_info": {
      "name": "python"
    }
  },
  "cells": [
    {
      "cell_type": "markdown",
      "metadata": {
        "id": "view-in-github",
        "colab_type": "text"
      },
      "source": [
        "<a href=\"https://colab.research.google.com/github/johyunkang/py_pandas/blob/main/python_ml_perfect_guide_05_bike_sharing.ipynb\" target=\"_parent\"><img src=\"https://colab.research.google.com/assets/colab-badge.svg\" alt=\"Open In Colab\"/></a>"
      ]
    },
    {
      "cell_type": "markdown",
      "metadata": {
        "id": "4QA4FReDcjML"
      },
      "source": [
        "## 회귀 실습 - Bike Sharing Demand\n",
        "\n",
        "컬럼 정보\n",
        "- datetime : hourly date + timestamp\n",
        "- season : 1=봄, 2=여름, 3=가을, 4=겨울\n",
        "- holiday : 1=토,일요일의 주말을 제외한 국경일 등의 휴일, 0=휴일이 아닌 날\n",
        "- workingday : 1=토, 일요일의 주말 및 휴일이 아닌 주중, 0=주말 및 휴일\n",
        "- weather : 1=맑음, 약간 구름낀 흐림, 2=안개, 안개 + 흐림, 3=가벼운 눈, 가벼운비 + 천둥, 4=심한눈/비, 천둥/번개\n",
        "- temp : 온도(섭씨)\n",
        "- atemp: 체감온도(섭씨)\n",
        "- humidity : 상대습도\n",
        "- windspeed : 풍속\n",
        "- casual : 사전에 등록되지 않는 사용자가 대여한 횟수\n",
        "- registered : 사전에 등록된 사용자가 대여한 횟수\n",
        "- count : 대여 횟수\n"
      ]
    },
    {
      "cell_type": "markdown",
      "metadata": {
        "id": "rhJfncfMiNWE"
      },
      "source": [
        "#### 데이터 클렌징 및 가공"
      ]
    },
    {
      "cell_type": "code",
      "metadata": {
        "colab": {
          "base_uri": "https://localhost:8080/",
          "height": 995
        },
        "id": "ahO4yp9Lb1JH",
        "outputId": "8f36014e-4b18-4503-fa57-0c41d583190d"
      },
      "source": [
        "import numpy as np\n",
        "import pandas as pd\n",
        "import seaborn as sns\n",
        "import matplotlib.pyplot as plt\n",
        "%matplotlib inline\n",
        "\n",
        "df = pd.read_csv('/content/drive/MyDrive/Colab Notebooks/data/bike-sharing/train.csv')\n",
        "\n",
        "print(df.shape)\n",
        "print(df.info())\n",
        "print(df.describe())\n",
        "df"
      ],
      "execution_count": 6,
      "outputs": [
        {
          "output_type": "stream",
          "name": "stdout",
          "text": [
            "(10886, 12)\n",
            "<class 'pandas.core.frame.DataFrame'>\n",
            "RangeIndex: 10886 entries, 0 to 10885\n",
            "Data columns (total 12 columns):\n",
            " #   Column      Non-Null Count  Dtype  \n",
            "---  ------      --------------  -----  \n",
            " 0   datetime    10886 non-null  object \n",
            " 1   season      10886 non-null  int64  \n",
            " 2   holiday     10886 non-null  int64  \n",
            " 3   workingday  10886 non-null  int64  \n",
            " 4   weather     10886 non-null  int64  \n",
            " 5   temp        10886 non-null  float64\n",
            " 6   atemp       10886 non-null  float64\n",
            " 7   humidity    10886 non-null  int64  \n",
            " 8   windspeed   10886 non-null  float64\n",
            " 9   casual      10886 non-null  int64  \n",
            " 10  registered  10886 non-null  int64  \n",
            " 11  count       10886 non-null  int64  \n",
            "dtypes: float64(3), int64(8), object(1)\n",
            "memory usage: 1020.7+ KB\n",
            "None\n",
            "             season       holiday  ...    registered         count\n",
            "count  10886.000000  10886.000000  ...  10886.000000  10886.000000\n",
            "mean       2.506614      0.028569  ...    155.552177    191.574132\n",
            "std        1.116174      0.166599  ...    151.039033    181.144454\n",
            "min        1.000000      0.000000  ...      0.000000      1.000000\n",
            "25%        2.000000      0.000000  ...     36.000000     42.000000\n",
            "50%        3.000000      0.000000  ...    118.000000    145.000000\n",
            "75%        4.000000      0.000000  ...    222.000000    284.000000\n",
            "max        4.000000      1.000000  ...    886.000000    977.000000\n",
            "\n",
            "[8 rows x 11 columns]\n"
          ]
        },
        {
          "output_type": "execute_result",
          "data": {
            "text/html": [
              "<div>\n",
              "<style scoped>\n",
              "    .dataframe tbody tr th:only-of-type {\n",
              "        vertical-align: middle;\n",
              "    }\n",
              "\n",
              "    .dataframe tbody tr th {\n",
              "        vertical-align: top;\n",
              "    }\n",
              "\n",
              "    .dataframe thead th {\n",
              "        text-align: right;\n",
              "    }\n",
              "</style>\n",
              "<table border=\"1\" class=\"dataframe\">\n",
              "  <thead>\n",
              "    <tr style=\"text-align: right;\">\n",
              "      <th></th>\n",
              "      <th>datetime</th>\n",
              "      <th>season</th>\n",
              "      <th>holiday</th>\n",
              "      <th>workingday</th>\n",
              "      <th>weather</th>\n",
              "      <th>temp</th>\n",
              "      <th>atemp</th>\n",
              "      <th>humidity</th>\n",
              "      <th>windspeed</th>\n",
              "      <th>casual</th>\n",
              "      <th>registered</th>\n",
              "      <th>count</th>\n",
              "    </tr>\n",
              "  </thead>\n",
              "  <tbody>\n",
              "    <tr>\n",
              "      <th>0</th>\n",
              "      <td>2011-01-01 00:00:00</td>\n",
              "      <td>1</td>\n",
              "      <td>0</td>\n",
              "      <td>0</td>\n",
              "      <td>1</td>\n",
              "      <td>9.84</td>\n",
              "      <td>14.395</td>\n",
              "      <td>81</td>\n",
              "      <td>0.0000</td>\n",
              "      <td>3</td>\n",
              "      <td>13</td>\n",
              "      <td>16</td>\n",
              "    </tr>\n",
              "    <tr>\n",
              "      <th>1</th>\n",
              "      <td>2011-01-01 01:00:00</td>\n",
              "      <td>1</td>\n",
              "      <td>0</td>\n",
              "      <td>0</td>\n",
              "      <td>1</td>\n",
              "      <td>9.02</td>\n",
              "      <td>13.635</td>\n",
              "      <td>80</td>\n",
              "      <td>0.0000</td>\n",
              "      <td>8</td>\n",
              "      <td>32</td>\n",
              "      <td>40</td>\n",
              "    </tr>\n",
              "    <tr>\n",
              "      <th>2</th>\n",
              "      <td>2011-01-01 02:00:00</td>\n",
              "      <td>1</td>\n",
              "      <td>0</td>\n",
              "      <td>0</td>\n",
              "      <td>1</td>\n",
              "      <td>9.02</td>\n",
              "      <td>13.635</td>\n",
              "      <td>80</td>\n",
              "      <td>0.0000</td>\n",
              "      <td>5</td>\n",
              "      <td>27</td>\n",
              "      <td>32</td>\n",
              "    </tr>\n",
              "    <tr>\n",
              "      <th>3</th>\n",
              "      <td>2011-01-01 03:00:00</td>\n",
              "      <td>1</td>\n",
              "      <td>0</td>\n",
              "      <td>0</td>\n",
              "      <td>1</td>\n",
              "      <td>9.84</td>\n",
              "      <td>14.395</td>\n",
              "      <td>75</td>\n",
              "      <td>0.0000</td>\n",
              "      <td>3</td>\n",
              "      <td>10</td>\n",
              "      <td>13</td>\n",
              "    </tr>\n",
              "    <tr>\n",
              "      <th>4</th>\n",
              "      <td>2011-01-01 04:00:00</td>\n",
              "      <td>1</td>\n",
              "      <td>0</td>\n",
              "      <td>0</td>\n",
              "      <td>1</td>\n",
              "      <td>9.84</td>\n",
              "      <td>14.395</td>\n",
              "      <td>75</td>\n",
              "      <td>0.0000</td>\n",
              "      <td>0</td>\n",
              "      <td>1</td>\n",
              "      <td>1</td>\n",
              "    </tr>\n",
              "    <tr>\n",
              "      <th>...</th>\n",
              "      <td>...</td>\n",
              "      <td>...</td>\n",
              "      <td>...</td>\n",
              "      <td>...</td>\n",
              "      <td>...</td>\n",
              "      <td>...</td>\n",
              "      <td>...</td>\n",
              "      <td>...</td>\n",
              "      <td>...</td>\n",
              "      <td>...</td>\n",
              "      <td>...</td>\n",
              "      <td>...</td>\n",
              "    </tr>\n",
              "    <tr>\n",
              "      <th>10881</th>\n",
              "      <td>2012-12-19 19:00:00</td>\n",
              "      <td>4</td>\n",
              "      <td>0</td>\n",
              "      <td>1</td>\n",
              "      <td>1</td>\n",
              "      <td>15.58</td>\n",
              "      <td>19.695</td>\n",
              "      <td>50</td>\n",
              "      <td>26.0027</td>\n",
              "      <td>7</td>\n",
              "      <td>329</td>\n",
              "      <td>336</td>\n",
              "    </tr>\n",
              "    <tr>\n",
              "      <th>10882</th>\n",
              "      <td>2012-12-19 20:00:00</td>\n",
              "      <td>4</td>\n",
              "      <td>0</td>\n",
              "      <td>1</td>\n",
              "      <td>1</td>\n",
              "      <td>14.76</td>\n",
              "      <td>17.425</td>\n",
              "      <td>57</td>\n",
              "      <td>15.0013</td>\n",
              "      <td>10</td>\n",
              "      <td>231</td>\n",
              "      <td>241</td>\n",
              "    </tr>\n",
              "    <tr>\n",
              "      <th>10883</th>\n",
              "      <td>2012-12-19 21:00:00</td>\n",
              "      <td>4</td>\n",
              "      <td>0</td>\n",
              "      <td>1</td>\n",
              "      <td>1</td>\n",
              "      <td>13.94</td>\n",
              "      <td>15.910</td>\n",
              "      <td>61</td>\n",
              "      <td>15.0013</td>\n",
              "      <td>4</td>\n",
              "      <td>164</td>\n",
              "      <td>168</td>\n",
              "    </tr>\n",
              "    <tr>\n",
              "      <th>10884</th>\n",
              "      <td>2012-12-19 22:00:00</td>\n",
              "      <td>4</td>\n",
              "      <td>0</td>\n",
              "      <td>1</td>\n",
              "      <td>1</td>\n",
              "      <td>13.94</td>\n",
              "      <td>17.425</td>\n",
              "      <td>61</td>\n",
              "      <td>6.0032</td>\n",
              "      <td>12</td>\n",
              "      <td>117</td>\n",
              "      <td>129</td>\n",
              "    </tr>\n",
              "    <tr>\n",
              "      <th>10885</th>\n",
              "      <td>2012-12-19 23:00:00</td>\n",
              "      <td>4</td>\n",
              "      <td>0</td>\n",
              "      <td>1</td>\n",
              "      <td>1</td>\n",
              "      <td>13.12</td>\n",
              "      <td>16.665</td>\n",
              "      <td>66</td>\n",
              "      <td>8.9981</td>\n",
              "      <td>4</td>\n",
              "      <td>84</td>\n",
              "      <td>88</td>\n",
              "    </tr>\n",
              "  </tbody>\n",
              "</table>\n",
              "<p>10886 rows × 12 columns</p>\n",
              "</div>"
            ],
            "text/plain": [
              "                  datetime  season  holiday  ...  casual  registered  count\n",
              "0      2011-01-01 00:00:00       1        0  ...       3          13     16\n",
              "1      2011-01-01 01:00:00       1        0  ...       8          32     40\n",
              "2      2011-01-01 02:00:00       1        0  ...       5          27     32\n",
              "3      2011-01-01 03:00:00       1        0  ...       3          10     13\n",
              "4      2011-01-01 04:00:00       1        0  ...       0           1      1\n",
              "...                    ...     ...      ...  ...     ...         ...    ...\n",
              "10881  2012-12-19 19:00:00       4        0  ...       7         329    336\n",
              "10882  2012-12-19 20:00:00       4        0  ...      10         231    241\n",
              "10883  2012-12-19 21:00:00       4        0  ...       4         164    168\n",
              "10884  2012-12-19 22:00:00       4        0  ...      12         117    129\n",
              "10885  2012-12-19 23:00:00       4        0  ...       4          84     88\n",
              "\n",
              "[10886 rows x 12 columns]"
            ]
          },
          "metadata": {},
          "execution_count": 6
        }
      ]
    },
    {
      "cell_type": "markdown",
      "metadata": {
        "id": "9-ehKXJei9y_"
      },
      "source": [
        "DF 간단히 EDA 결과\n",
        "- NaN 컬럼 없음\n",
        "- datetime 컬럼 만 object 형이라 가공 필요\n",
        "- 나머지 컬럼은 전부 숫자인 int 또는 float 형\n"
      ]
    },
    {
      "cell_type": "code",
      "metadata": {
        "colab": {
          "base_uri": "https://localhost:8080/",
          "height": 419
        },
        "id": "dFey78SBjYXB",
        "outputId": "78154d31-127d-4a06-b065-d9aae1216260"
      },
      "source": [
        "# 문자열을 datetime 타입으로 변경\n",
        "df['datetime'] = df['datetime'].apply(pd.to_datetime)\n",
        "\n",
        "# datetime 타입에서 년, 월, 일, 시간 추출\n",
        "df['year'] = df.datetime.apply(lambda x : x.year)\n",
        "df['month'] = df.datetime.apply(lambda x : x.month)\n",
        "df['day'] = df.datetime.apply(lambda x : x.day)\n",
        "df['hour'] = df.datetime.apply(lambda x : x.hour)\n",
        "\n",
        "df"
      ],
      "execution_count": 8,
      "outputs": [
        {
          "output_type": "execute_result",
          "data": {
            "text/html": [
              "<div>\n",
              "<style scoped>\n",
              "    .dataframe tbody tr th:only-of-type {\n",
              "        vertical-align: middle;\n",
              "    }\n",
              "\n",
              "    .dataframe tbody tr th {\n",
              "        vertical-align: top;\n",
              "    }\n",
              "\n",
              "    .dataframe thead th {\n",
              "        text-align: right;\n",
              "    }\n",
              "</style>\n",
              "<table border=\"1\" class=\"dataframe\">\n",
              "  <thead>\n",
              "    <tr style=\"text-align: right;\">\n",
              "      <th></th>\n",
              "      <th>datetime</th>\n",
              "      <th>season</th>\n",
              "      <th>holiday</th>\n",
              "      <th>workingday</th>\n",
              "      <th>weather</th>\n",
              "      <th>temp</th>\n",
              "      <th>atemp</th>\n",
              "      <th>humidity</th>\n",
              "      <th>windspeed</th>\n",
              "      <th>casual</th>\n",
              "      <th>registered</th>\n",
              "      <th>count</th>\n",
              "      <th>year</th>\n",
              "      <th>month</th>\n",
              "      <th>day</th>\n",
              "      <th>hour</th>\n",
              "    </tr>\n",
              "  </thead>\n",
              "  <tbody>\n",
              "    <tr>\n",
              "      <th>0</th>\n",
              "      <td>2011-01-01 00:00:00</td>\n",
              "      <td>1</td>\n",
              "      <td>0</td>\n",
              "      <td>0</td>\n",
              "      <td>1</td>\n",
              "      <td>9.84</td>\n",
              "      <td>14.395</td>\n",
              "      <td>81</td>\n",
              "      <td>0.0000</td>\n",
              "      <td>3</td>\n",
              "      <td>13</td>\n",
              "      <td>16</td>\n",
              "      <td>2011</td>\n",
              "      <td>1</td>\n",
              "      <td>1</td>\n",
              "      <td>0</td>\n",
              "    </tr>\n",
              "    <tr>\n",
              "      <th>1</th>\n",
              "      <td>2011-01-01 01:00:00</td>\n",
              "      <td>1</td>\n",
              "      <td>0</td>\n",
              "      <td>0</td>\n",
              "      <td>1</td>\n",
              "      <td>9.02</td>\n",
              "      <td>13.635</td>\n",
              "      <td>80</td>\n",
              "      <td>0.0000</td>\n",
              "      <td>8</td>\n",
              "      <td>32</td>\n",
              "      <td>40</td>\n",
              "      <td>2011</td>\n",
              "      <td>1</td>\n",
              "      <td>1</td>\n",
              "      <td>1</td>\n",
              "    </tr>\n",
              "    <tr>\n",
              "      <th>2</th>\n",
              "      <td>2011-01-01 02:00:00</td>\n",
              "      <td>1</td>\n",
              "      <td>0</td>\n",
              "      <td>0</td>\n",
              "      <td>1</td>\n",
              "      <td>9.02</td>\n",
              "      <td>13.635</td>\n",
              "      <td>80</td>\n",
              "      <td>0.0000</td>\n",
              "      <td>5</td>\n",
              "      <td>27</td>\n",
              "      <td>32</td>\n",
              "      <td>2011</td>\n",
              "      <td>1</td>\n",
              "      <td>1</td>\n",
              "      <td>2</td>\n",
              "    </tr>\n",
              "    <tr>\n",
              "      <th>3</th>\n",
              "      <td>2011-01-01 03:00:00</td>\n",
              "      <td>1</td>\n",
              "      <td>0</td>\n",
              "      <td>0</td>\n",
              "      <td>1</td>\n",
              "      <td>9.84</td>\n",
              "      <td>14.395</td>\n",
              "      <td>75</td>\n",
              "      <td>0.0000</td>\n",
              "      <td>3</td>\n",
              "      <td>10</td>\n",
              "      <td>13</td>\n",
              "      <td>2011</td>\n",
              "      <td>1</td>\n",
              "      <td>1</td>\n",
              "      <td>3</td>\n",
              "    </tr>\n",
              "    <tr>\n",
              "      <th>4</th>\n",
              "      <td>2011-01-01 04:00:00</td>\n",
              "      <td>1</td>\n",
              "      <td>0</td>\n",
              "      <td>0</td>\n",
              "      <td>1</td>\n",
              "      <td>9.84</td>\n",
              "      <td>14.395</td>\n",
              "      <td>75</td>\n",
              "      <td>0.0000</td>\n",
              "      <td>0</td>\n",
              "      <td>1</td>\n",
              "      <td>1</td>\n",
              "      <td>2011</td>\n",
              "      <td>1</td>\n",
              "      <td>1</td>\n",
              "      <td>4</td>\n",
              "    </tr>\n",
              "    <tr>\n",
              "      <th>...</th>\n",
              "      <td>...</td>\n",
              "      <td>...</td>\n",
              "      <td>...</td>\n",
              "      <td>...</td>\n",
              "      <td>...</td>\n",
              "      <td>...</td>\n",
              "      <td>...</td>\n",
              "      <td>...</td>\n",
              "      <td>...</td>\n",
              "      <td>...</td>\n",
              "      <td>...</td>\n",
              "      <td>...</td>\n",
              "      <td>...</td>\n",
              "      <td>...</td>\n",
              "      <td>...</td>\n",
              "      <td>...</td>\n",
              "    </tr>\n",
              "    <tr>\n",
              "      <th>10881</th>\n",
              "      <td>2012-12-19 19:00:00</td>\n",
              "      <td>4</td>\n",
              "      <td>0</td>\n",
              "      <td>1</td>\n",
              "      <td>1</td>\n",
              "      <td>15.58</td>\n",
              "      <td>19.695</td>\n",
              "      <td>50</td>\n",
              "      <td>26.0027</td>\n",
              "      <td>7</td>\n",
              "      <td>329</td>\n",
              "      <td>336</td>\n",
              "      <td>2012</td>\n",
              "      <td>12</td>\n",
              "      <td>19</td>\n",
              "      <td>19</td>\n",
              "    </tr>\n",
              "    <tr>\n",
              "      <th>10882</th>\n",
              "      <td>2012-12-19 20:00:00</td>\n",
              "      <td>4</td>\n",
              "      <td>0</td>\n",
              "      <td>1</td>\n",
              "      <td>1</td>\n",
              "      <td>14.76</td>\n",
              "      <td>17.425</td>\n",
              "      <td>57</td>\n",
              "      <td>15.0013</td>\n",
              "      <td>10</td>\n",
              "      <td>231</td>\n",
              "      <td>241</td>\n",
              "      <td>2012</td>\n",
              "      <td>12</td>\n",
              "      <td>19</td>\n",
              "      <td>20</td>\n",
              "    </tr>\n",
              "    <tr>\n",
              "      <th>10883</th>\n",
              "      <td>2012-12-19 21:00:00</td>\n",
              "      <td>4</td>\n",
              "      <td>0</td>\n",
              "      <td>1</td>\n",
              "      <td>1</td>\n",
              "      <td>13.94</td>\n",
              "      <td>15.910</td>\n",
              "      <td>61</td>\n",
              "      <td>15.0013</td>\n",
              "      <td>4</td>\n",
              "      <td>164</td>\n",
              "      <td>168</td>\n",
              "      <td>2012</td>\n",
              "      <td>12</td>\n",
              "      <td>19</td>\n",
              "      <td>21</td>\n",
              "    </tr>\n",
              "    <tr>\n",
              "      <th>10884</th>\n",
              "      <td>2012-12-19 22:00:00</td>\n",
              "      <td>4</td>\n",
              "      <td>0</td>\n",
              "      <td>1</td>\n",
              "      <td>1</td>\n",
              "      <td>13.94</td>\n",
              "      <td>17.425</td>\n",
              "      <td>61</td>\n",
              "      <td>6.0032</td>\n",
              "      <td>12</td>\n",
              "      <td>117</td>\n",
              "      <td>129</td>\n",
              "      <td>2012</td>\n",
              "      <td>12</td>\n",
              "      <td>19</td>\n",
              "      <td>22</td>\n",
              "    </tr>\n",
              "    <tr>\n",
              "      <th>10885</th>\n",
              "      <td>2012-12-19 23:00:00</td>\n",
              "      <td>4</td>\n",
              "      <td>0</td>\n",
              "      <td>1</td>\n",
              "      <td>1</td>\n",
              "      <td>13.12</td>\n",
              "      <td>16.665</td>\n",
              "      <td>66</td>\n",
              "      <td>8.9981</td>\n",
              "      <td>4</td>\n",
              "      <td>84</td>\n",
              "      <td>88</td>\n",
              "      <td>2012</td>\n",
              "      <td>12</td>\n",
              "      <td>19</td>\n",
              "      <td>23</td>\n",
              "    </tr>\n",
              "  </tbody>\n",
              "</table>\n",
              "<p>10886 rows × 16 columns</p>\n",
              "</div>"
            ],
            "text/plain": [
              "                 datetime  season  holiday  workingday  ...  year  month  day  hour\n",
              "0     2011-01-01 00:00:00       1        0           0  ...  2011      1    1     0\n",
              "1     2011-01-01 01:00:00       1        0           0  ...  2011      1    1     1\n",
              "2     2011-01-01 02:00:00       1        0           0  ...  2011      1    1     2\n",
              "3     2011-01-01 03:00:00       1        0           0  ...  2011      1    1     3\n",
              "4     2011-01-01 04:00:00       1        0           0  ...  2011      1    1     4\n",
              "...                   ...     ...      ...         ...  ...   ...    ...  ...   ...\n",
              "10881 2012-12-19 19:00:00       4        0           1  ...  2012     12   19    19\n",
              "10882 2012-12-19 20:00:00       4        0           1  ...  2012     12   19    20\n",
              "10883 2012-12-19 21:00:00       4        0           1  ...  2012     12   19    21\n",
              "10884 2012-12-19 22:00:00       4        0           1  ...  2012     12   19    22\n",
              "10885 2012-12-19 23:00:00       4        0           1  ...  2012     12   19    23\n",
              "\n",
              "[10886 rows x 16 columns]"
            ]
          },
          "metadata": {},
          "execution_count": 8
        }
      ]
    },
    {
      "cell_type": "code",
      "metadata": {
        "id": "3M0O-KmVkOoz"
      },
      "source": [
        "# datetime 컬럼 삭제\n",
        "# casual + registered = count 이므로 casual 과 registered 가 따로 필요하지 않아 삭제.\n",
        "drop_columns = ['datetime', 'casual', 'registered']\n",
        "df.drop(drop_columns, axis=1, inplace=True)"
      ],
      "execution_count": 9,
      "outputs": []
    },
    {
      "cell_type": "code",
      "metadata": {
        "id": "uMxsScCekp8V"
      },
      "source": [
        "# 사이킷런은 RMSLE(Root Mean Square Log Error)를 제공하지 않아 만들겠음.\n",
        "from sklearn.metrics import mean_squared_error, mean_absolute_error\n",
        "\n",
        "# log 값 변환 시 NaN 등의 이슈로 log() 가 아닌 log1p()를 이용해 RMSLE 계산\n",
        "# log1p() 는 1 + log() 값으로 log 변환값에 1을 더함.\n",
        "def rmsle(y, pred) :\n",
        "    log_y = np.log1p(y)\n",
        "    log_pred = np.log1p(pred)\n",
        "    squared_error = (log_y - log_pred) ** 2\n",
        "    rmsle = np.sqrt(np.mean(squared_error))\n",
        "    return rmsle\n",
        "\n",
        "# 사이킷런의 mean_square_error()를 이용해 RMSE 계산\n",
        "def rmse(y, pred) :\n",
        "    return np.sqrt(mean_squared_error(y, pred))\n",
        "\n",
        "# MSE, RMSE, RMSLE를 모두 계산\n",
        "def evaluate_regr(y, pred) :\n",
        "    rmsle_val = rmsle(y, pred)\n",
        "    rmse_val = rmse(y, pred)\n",
        "\n",
        "    # MAE는 사이킷런의 mean_absolute_error()로 계산\n",
        "    mae_val = mean_absolute_error(y, pred)\n",
        "    print('RMSLE:{:.3f},  RMSE:{:.3f}, MAE:{:.3f}'.format(rmsle_val, rmse_val, mae_val))\n"
      ],
      "execution_count": 23,
      "outputs": []
    },
    {
      "cell_type": "markdown",
      "metadata": {
        "id": "84OTj-A2l9B_"
      },
      "source": [
        "위의 rmsle() 함수 만들 때 주의사항이 있음.  \n",
        "rmsle를 구할 때 numpy 의 log() 함수를 이용하거나 사이킷런의 mean_squared_log_error()를 이용할 수도 있지만  \n",
        "데이터 값의 크기에 따라 오버플로/언더플로 오류가 발생하기 쉬움.  \n",
        "예를 들어 rmsle()를 다음과 같이 정의했을 때 오류가 발생할 수 있음."
      ]
    },
    {
      "cell_type": "code",
      "metadata": {
        "id": "pPOD-g5wmS4q"
      },
      "source": [
        "# 다음과 같은 rmsle 구현은 오버/언더플로우 오류가 발생하기 쉬움\n",
        "def rmsle_error(y, pred) :\n",
        "    msle = mean_squared_log_error(y, pred)\n",
        "    rmsle = np.sqrt(mse)\n",
        "    return rmsle"
      ],
      "execution_count": 16,
      "outputs": []
    },
    {
      "cell_type": "markdown",
      "metadata": {
        "id": "ST9d_oPlm6-Q"
      },
      "source": [
        "#### 로그 변환, 피처 인코딩과 모델 학습 / 예측 / 평가\n",
        "\n",
        "- 결과 값이 정규 분포로 되어 있는지 확인\n",
        "- 카테고리형 회귀 모델의 경우 원-핫 인코딩으로 피처를 인코딩"
      ]
    },
    {
      "cell_type": "code",
      "metadata": {
        "colab": {
          "base_uri": "https://localhost:8080/"
        },
        "id": "6xUwXlWAnJyp",
        "outputId": "a35442d0-f87d-4934-b886-134186df1f0c"
      },
      "source": [
        "from sklearn.model_selection import train_test_split, GridSearchCV\n",
        "from sklearn.linear_model import LinearRegression, Ridge, Lasso\n",
        "\n",
        "y_target = df['count']\n",
        "x_features = df.drop(['count'], axis=1)\n",
        "\n",
        "x_train, x_test, y_train, y_test = train_test_split(x_features, y_target, test_size=0.3, random_state=0)\n",
        "\n",
        "lr_reg = LinearRegression()\n",
        "lr_reg.fit(x_train, y_train)\n",
        "pred = lr_reg.predict(x_test)\n",
        "\n",
        "evaluate_regr(y_test, pred)"
      ],
      "execution_count": 24,
      "outputs": [
        {
          "output_type": "stream",
          "name": "stdout",
          "text": [
            "RMSLE:1.165,  RMSE:140.900, MAE:105.924\n"
          ]
        },
        {
          "output_type": "stream",
          "name": "stderr",
          "text": [
            "/usr/local/lib/python3.7/dist-packages/ipykernel_launcher.py:8: RuntimeWarning: invalid value encountered in log1p\n",
            "  \n"
          ]
        }
      ]
    },
    {
      "cell_type": "markdown",
      "metadata": {
        "id": "kb4joXDwojHw"
      },
      "source": [
        "실제값과 예측값이 어느정도 차이가 나는지 오류 값이 가장 큰 순으로 5개만 확인"
      ]
    },
    {
      "cell_type": "code",
      "metadata": {
        "colab": {
          "base_uri": "https://localhost:8080/"
        },
        "id": "qoV6nhA3ooVy",
        "outputId": "7ac813fc-b834-46a3-ed3e-a2af2568a8ba"
      },
      "source": [
        "def get_top_error_data(y_test, pred, n_tops=5) :\n",
        "    # DF 컬럼으로 실제 대여 횟수(count)와 예측 값을 서로 비교할 수 있도록 생성\n",
        "    result_df = pd.DataFrame(y_test.values, columns=['real_count'])\n",
        "    result_df['predicted_count'] = np.round(pred)\n",
        "    result_df['diff'] = np.abs(result_df['real_count'] - result_df['predicted_count'])\n",
        "\n",
        "    # 예측값과 실제값이 가장 큰 데이터 순으로 출력\n",
        "    print(result_df.sort_values('diff', ascending=False)[:n_tops])\n",
        "\n",
        "get_top_error_data(y_test, pred, n_tops=5)"
      ],
      "execution_count": 26,
      "outputs": [
        {
          "output_type": "stream",
          "name": "stdout",
          "text": [
            "      real_count  predicted_count   diff\n",
            "1618         890            322.0  568.0\n",
            "3151         798            241.0  557.0\n",
            "966          884            327.0  557.0\n",
            "412          745            194.0  551.0\n",
            "2817         856            310.0  546.0\n"
          ]
        }
      ]
    },
    {
      "cell_type": "markdown",
      "metadata": {
        "id": "TGe71OQxpY9r"
      },
      "source": [
        "가장 큰 상위 5개 오류 값이 546 ~ 568로 예측 오류가 꽤 큼.  \n",
        "회귀에서 이렇게 오류 발생 시 가장 먼저 살펴볼 것은 Target 값의 분포가 왜곡됀 형태를 이루고 있는지 확인.  \n",
        "pandas의 hist() 를 이용해 count 값이 정규 분포를 이루고 있는지 확인\n"
      ]
    },
    {
      "cell_type": "code",
      "metadata": {
        "colab": {
          "base_uri": "https://localhost:8080/",
          "height": 283
        },
        "id": "ZuscOql9p0vv",
        "outputId": "a84f7195-88cf-4b2b-a578-a6a04f1fd326"
      },
      "source": [
        "y_target.hist()"
      ],
      "execution_count": 27,
      "outputs": [
        {
          "output_type": "execute_result",
          "data": {
            "text/plain": [
              "<matplotlib.axes._subplots.AxesSubplot at 0x7f7c053fc590>"
            ]
          },
          "metadata": {},
          "execution_count": 27
        },
        {
          "output_type": "display_data",
          "data": {
            "image/png": "[encoded data removed]",
            "text/plain": [
              "<Figure size 432x288 with 1 Axes>"
            ]
          },
          "metadata": {
            "needs_background": "light"
          }
        }
      ]
    },
    {
      "cell_type": "markdown",
      "metadata": {
        "id": "eJG6bmBPp68Q"
      },
      "source": [
        "count 컬럼 값이 정규 분포가 아닌 0 ~ 200 사이에 왜곡돼 있는 것을 알 수 있음.  \n",
        "log1p()를 이용해 정규 분포 형태로 바꾸겠음. 이렇게 변경된 Target 값을 기반으로 학습하고  \n",
        "예측한 값은 다시 **expm1()** 함수를 적용해 원래 **scale** 값으로 원상 복구하면 됨."
      ]
    },
    {
      "cell_type": "code",
      "metadata": {
        "colab": {
          "base_uri": "https://localhost:8080/",
          "height": 283
        },
        "id": "_D0sJscbqUq8",
        "outputId": "72b3bfd9-6364-4f58-9c5e-4fb3c5114e82"
      },
      "source": [
        "y_log_transform = np.log1p(y_target)\n",
        "y_log_transform.hist()\n",
        "# 정규 분포 형태는 아니지만 왜곡 정도가 믾이 향상됨."
      ],
      "execution_count": 28,
      "outputs": [
        {
          "output_type": "execute_result",
          "data": {
            "text/plain": [
              "<matplotlib.axes._subplots.AxesSubplot at 0x7f7bf917a810>"
            ]
          },
          "metadata": {},
          "execution_count": 28
        },
        {
          "output_type": "display_data",
          "data": {
            "image/png": "[encoded data removed]",
            "text/plain": [
              "<Figure size 432x288 with 1 Axes>"
            ]
          },
          "metadata": {
            "needs_background": "light"
          }
        }
      ]
    },
    {
      "cell_type": "code",
      "metadata": {
        "colab": {
          "base_uri": "https://localhost:8080/"
        },
        "id": "dgnOM1E9qggu",
        "outputId": "6319fed7-c6d8-4d12-95eb-7a8201760beb"
      },
      "source": [
        "# 타겟 컬럼인 count 값을 log1p()로 로그 변환\n",
        "y_target_log = np.log1p(y_target)\n",
        "\n",
        "# 로그 변환된 y_target_log 를 반영해 학습 / 데이터 세트 분할\n",
        "x_train, x_test, y_train, y_test = train_test_split(x_features, y_target_log, test_size=0.3, random_state=0)\n",
        "\n",
        "lr_reg = LinearRegression()\n",
        "lr_reg.fit(x_train, y_train)\n",
        "pred = lr_reg.predict(x_test)\n",
        "\n",
        "# 테스트 데이터 세트의 target 값은 로그 변환됐으므로 다시 expm1을 이용해 원래 스케일로 변환\n",
        "y_test_exp = np.expm1(y_test)\n",
        "\n",
        "# 예측값 역시 로그 변환된 타겟 기반으로 학습돼 예측됐으므로, 다시 expm1로 스케일 변환\n",
        "pred_exp = np.expm1(pred)\n",
        "\n",
        "evaluate_regr(y_test_exp, pred_exp)\n",
        "\n",
        "# 로그 스케일 전 : RMSLE:1.165,  RMSE:140.900, MAE:105.924\n",
        "# 로그 스케일 후 : RMSLE:1.017,  RMSE:162.594, MAE:109.286"
      ],
      "execution_count": 29,
      "outputs": [
        {
          "output_type": "stream",
          "name": "stdout",
          "text": [
            "RMSLE:1.017,  RMSE:162.594, MAE:109.286\n"
          ]
        }
      ]
    },
    {
      "cell_type": "markdown",
      "metadata": {
        "id": "mm7OsgRGrf5q"
      },
      "source": [
        "RMSLE 오류는 줄었지만, RMSE는 오히려 더 늘어남  \n",
        "이유를 알기 위해 각 피처의 회귀 계수 값을 시각화"
      ]
    },
    {
      "cell_type": "code",
      "metadata": {
        "colab": {
          "base_uri": "https://localhost:8080/",
          "height": 283
        },
        "id": "jVRmuDsSrzNc",
        "outputId": "2cbfe963-3a86-4fb6-fcd2-718a6b33a177"
      },
      "source": [
        "coef = pd.Series(lr_reg.coef_, index=x_features.columns)\n",
        "coef_sort = coef.sort_values(ascending=False)\n",
        "sns.barplot(x=coef_sort.values, y=coef_sort.index)"
      ],
      "execution_count": 30,
      "outputs": [
        {
          "output_type": "execute_result",
          "data": {
            "text/plain": [
              "<matplotlib.axes._subplots.AxesSubplot at 0x7f7bf8c5a550>"
            ]
          },
          "metadata": {},
          "execution_count": 30
        },
        {
          "output_type": "display_data",
          "data": {
            "image/png": "[encoded data removed]",
            "text/plain": [
              "<Figure size 432x288 with 1 Axes>"
            ]
          },
          "metadata": {
            "needs_background": "light"
          }
        }
      ]
    },
    {
      "cell_type": "markdown",
      "metadata": {
        "id": "mBLsRx9SsZTp"
      },
      "source": [
        "year 의 회귀 계수 값이 독보적으로 큼. 년도가 대여 횟수에 영향 받는다는 것은 납득하기 어려움.  \n",
        "year 피처는 연도를 뜻하므로 카테고리(category)형 피처지만, 숫자형 값으로 되어 있음.  \n",
        "더군다나 아주 큰 값인 2011, 2012로 되어 있음.  \n",
        "사이킷런은 카테고리만을 위한 데이터 타입이 없으며, 모두 숫자로 변환해야 함.  \n",
        "\n",
        "\n",
        " 이처럼 숫자형 카테고리 값을 선형 회귀에 사용할 경우 회귀 계수를 연산할 때 이 숫자형 값에   \n",
        " 크게 영향을 받는 경우가 발생할 수 있음.  \n",
        " 이러한 피처에 **원-핫 인코딩**을 적용해 변환 해야 함."
      ]
    },
    {
      "cell_type": "code",
      "metadata": {
        "id": "F0tuoqBntIhN"
      },
      "source": [
        "# year, month, day hour 등의 피처를 One-Hot Encoding\n",
        "x_features_one = pd.get_dummies(x_features, columns=['year', 'month', 'hour', 'holiday', 'workingday'\n",
        "                                                    , 'season', 'weather'])"
      ],
      "execution_count": 31,
      "outputs": []
    },
    {
      "cell_type": "code",
      "metadata": {
        "colab": {
          "base_uri": "https://localhost:8080/"
        },
        "id": "tw35iqmxtdoH",
        "outputId": "5136373b-7520-4d4d-ddd2-f19276fd7f7b"
      },
      "source": [
        "# 원핫 인코딩이 적용된 피처 데이터 세트 기반으로 학습 / 예측 데이터 분할\n",
        "x_train, x_test, y_train, y_test = train_test_split(x_features_one, y_target_log, test_size=0.3, random_state=0)\n",
        "\n",
        "# 모델과 학습/테스트 데이터 세트를 입력하면 성능 평가 수치를 변환\n",
        "def get_model_predict(model, x_train, x_test, y_train, y_test, is_expm1=False) :\n",
        "    model.fit(x_train, y_train)\n",
        "    pred = model.predict(x_test)\n",
        "    if is_expm1 :\n",
        "        y_test = np.expm1(y_test)\n",
        "        pred = np.expm1(pred)\n",
        "    \n",
        "    print('\\n### ', model.__class__.__name__, ' ###')\n",
        "    evaluate_regr(y_test, pred)\n",
        "# end of func\n",
        "\n",
        "# 모델별로 평가 수행\n",
        "lr_reg = LinearRegression()\n",
        "ridge = Ridge(alpha=10)\n",
        "lasso = Lasso(alpha=0.01)\n",
        "\n",
        "for model in [lr_reg, ridge, lasso] :\n",
        "    get_model_predict(model, x_train, x_test, y_train, y_test, is_expm1=True)"
      ],
      "execution_count": 33,
      "outputs": [
        {
          "output_type": "stream",
          "name": "stdout",
          "text": [
            "\n",
            "###  LinearRegression  ###\n",
            "RMSLE:0.589,  RMSE:97.483, MAE:63.106\n",
            "\n",
            "###  Ridge  ###\n",
            "RMSLE:0.589,  RMSE:98.407, MAE:63.648\n",
            "\n",
            "###  Lasso  ###\n",
            "RMSLE:0.634,  RMSE:113.031, MAE:72.658\n"
          ]
        }
      ]
    },
    {
      "cell_type": "code",
      "metadata": {
        "colab": {
          "base_uri": "https://localhost:8080/",
          "height": 296
        },
        "id": "jAvugjvYurem",
        "outputId": "7224312e-464a-484f-b82d-c458c59502c1"
      },
      "source": [
        "# 원핫 인코딩으로 예측 성능이 향상되었음.\n",
        "# 원핫 인코딩된 데이터 세트에서 회귀 계수가 높은 상위 피처 20개 시각화\n",
        "coef = pd.Series(lr_reg.coef_, index=x_features_one.columns)\n",
        "coef_sort = coef.sort_values(ascending=False)[:20]\n",
        "sns.barplot(x=coef_sort.values, y=coef_sort.index)\n",
        "# p.352 부터"
      ],
      "execution_count": 34,
      "outputs": [
        {
          "output_type": "execute_result",
          "data": {
            "text/plain": [
              "<matplotlib.axes._subplots.AxesSubplot at 0x7f7bf8c61fd0>"
            ]
          },
          "metadata": {},
          "execution_count": 34
        },
        {
          "output_type": "display_data",
          "data": {
            "image/png": "[encoded data removed]",
            "text/plain": [
              "<Figure size 432x288 with 1 Axes>"
            ]
          },
          "metadata": {
            "needs_background": "light"
          }
        }
      ]
    }
  ]
}