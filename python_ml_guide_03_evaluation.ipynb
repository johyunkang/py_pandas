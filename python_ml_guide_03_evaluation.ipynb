{
  "nbformat": 4,
  "nbformat_minor": 0,
  "metadata": {
    "colab": {
      "name": "python_ml_guide_03_evaluation.ipynb",
      "provenance": [],
      "collapsed_sections": [],
      "authorship_tag": "ABX9TyN/3vf4CYTMoNL3nPMfCTdJ",
      "include_colab_link": true
    },
    "kernelspec": {
      "name": "python3",
      "display_name": "Python 3"
    },
    "language_info": {
      "name": "python"
    }
  },
  "cells": [
    {
      "cell_type": "markdown",
      "metadata": {
        "id": "view-in-github",
        "colab_type": "text"
      },
      "source": [
        "<a href=\"https://colab.research.google.com/github/johyunkang/py_pandas/blob/main/python_ml_guide_03_evaluation.ipynb\" target=\"_parent\"><img src=\"https://colab.research.google.com/assets/colab-badge.svg\" alt=\"Open In Colab\"/></a>"
      ]
    },
    {
      "cell_type": "markdown",
      "metadata": {
        "id": "SXTxBth4Rper"
      },
      "source": [
        "## 01 정확도 (Accuracy)\n",
        "\n",
        "$ 정확도(accuracy) = \\dfrac {예측 결과가 동일한 데이터 건수} {전체 예측 데이터 건수}$\n",
        "\n"
      ]
    },
    {
      "cell_type": "code",
      "metadata": {
        "id": "r57JJhDXRTLJ"
      },
      "source": [
        "from sklearn.base import BaseEstimator\n",
        "\n",
        "class MyDummyClassifier(BaseEstimator):\n",
        "  # fit() 메서드는 아무것도 학습하지 않음\n",
        "  def fit(self, X, y=None):\n",
        "    pass\n",
        "\n",
        "  # predict() 메서드는 단순히 Sex 피처가 남자(1)면 0, 여자(0)면 1로 예측\n",
        "  def predict(self, X):\n",
        "    pred = np.zeros((X.shape[0], 1))\n",
        "    for i in range(X.shape[0]) :\n",
        "      if(X['Sex'].iloc[i] = 1) :\n",
        "        pred[i] = 0\n",
        "      else :\n",
        "        pred[i] = 1\n",
        "    return pred"
      ],
      "execution_count": null,
      "outputs": []
    },
    {
      "cell_type": "markdown",
      "metadata": {
        "id": "olTGrbPabWSS"
      },
      "source": [
        "#### MNIST 데이터 세트를 이용하여 값이 7인것만 True, 나머지 숫자는 모두 False로 변환 한 이진 분류 문제\n",
        "\n",
        "![mnist-binary-classfi](https://user-images.githubusercontent.com/291782/138015598-e638a983-4c43-4df0-af89-36c2c647bcb6.png)\n",
        "\n",
        "\n",
        "**정확도 평가 지표의 맹점**"
      ]
    },
    {
      "cell_type": "code",
      "metadata": {
        "colab": {
          "base_uri": "https://localhost:8080/"
        },
        "id": "1ejPxoQibmij",
        "outputId": "ee12caec-7686-48a9-ad92-4712610cf5be"
      },
      "source": [
        "from sklearn.datasets import load_digits\n",
        "from sklearn.model_selection import train_test_split\n",
        "from sklearn.base import BaseEstimator\n",
        "from sklearn.metrics import accuracy_score\n",
        "import numpy as np\n",
        "import pandas as pd\n",
        "\n",
        "class MyFakeClassifier(BaseEstimator) :\n",
        "    def fit(self, X, y) :\n",
        "        pass\n",
        "\n",
        "    # 입력값으로 들어오는 X 데이터 세트의 크기만큼 모두 0 값으로 만들어서 반환\n",
        "    def predict(self, X) :\n",
        "        return np.zeros((len(X), 1), dtype=bool)\n",
        "\n",
        "# 사이킷런의 내장 데이터 세트인 load_digits() 이용해 MNIST 데이터 로딩\n",
        "digits = load_digits()\n",
        "\n",
        "# digits 번호가 7이면 True이고 이를 astype(int)로 1로 변환\n",
        "# 7 이 아니면 False 이고 0으로 변환\n",
        "y = (digits.target == 7).astype(int)\n",
        "x_train, x_test, y_train, y_test = train_test_split(digits.data, y, random_state = 11)\n",
        "\n",
        "# 불균형한 레이블 데이터 세트 확인\n",
        "print('레이블 테스트 세트 크기:', y_test.shape)\n",
        "print('테스트 세트 레이블 0과 1의 분포')\n",
        "print(pd.Series(y_test).value_counts())\n",
        "\n",
        "# Dummy Classifier로 학습 / 예측 / 정확도 평가\n",
        "fake_clf = MyFakeClassifier()\n",
        "fake_clf.fit(x_train, y_train)\n",
        "fake_pred = fake_clf.predict(x_test)\n",
        "print('\\n 모든 예측을 0으로 하여도 정확도는:{0:.3f}'.format(accuracy_score(y_test, fake_pred)))\n",
        "\n"
      ],
      "execution_count": 9,
      "outputs": [
        {
          "output_type": "stream",
          "name": "stdout",
          "text": [
            "레이블 테스트 세트 크기: (450,)\n",
            "테스트 세트 레이블 0과 1의 분포\n",
            "0    405\n",
            "1     45\n",
            "dtype: int64\n",
            "\n",
            " 모든 예측을 0으로 하여도 정확도는:0.900\n"
          ]
        }
      ]
    },
    {
      "cell_type": "markdown",
      "metadata": {
        "id": "wRqnUua3ex-J"
      },
      "source": [
        "## 02 오차행렬 (Confusion Matrix)"
      ]
    }
  ]
}