{
  "nbformat": 4,
  "nbformat_minor": 0,
  "metadata": {
    "colab": {
      "name": "python_ml_guide_03_evaluation.ipynb",
      "provenance": [],
      "collapsed_sections": [],
      "mount_file_id": "1EJ8QzNWClvH-E2RXAQ0gzxLs-nblIKQH",
      "authorship_tag": "ABX9TyP8sEVYoQnv277WgRMQiQzH",
      "include_colab_link": true
    },
    "kernelspec": {
      "name": "python3",
      "display_name": "Python 3"
    },
    "language_info": {
      "name": "python"
    }
  },
  "cells": [
    {
      "cell_type": "markdown",
      "metadata": {
        "id": "view-in-github",
        "colab_type": "text"
      },
      "source": [
        "<a href=\"https://colab.research.google.com/github/johyunkang/py_pandas/blob/main/python_ml_guide_03_evaluation.ipynb\" target=\"_parent\"><img src=\"https://colab.research.google.com/assets/colab-badge.svg\" alt=\"Open In Colab\"/></a>"
      ]
    },
    {
      "cell_type": "markdown",
      "metadata": {
        "id": "SXTxBth4Rper"
      },
      "source": [
        "## 01 정확도 (Accuracy)\n",
        "\n",
        "$ 정확도(accuracy) = \\dfrac {예측 결과가 동일한 데이터 건수} {전체 예측 데이터 건수}$\n",
        "\n"
      ]
    },
    {
      "cell_type": "code",
      "metadata": {
        "id": "r57JJhDXRTLJ",
        "colab": {
          "base_uri": "https://localhost:8080/",
          "height": 136
        },
        "outputId": "2a5aebc7-3a37-46f2-d53f-5477cbb28928"
      },
      "source": [
        "from sklearn.base import BaseEstimator\n",
        "import numpy as np\n",
        "\n",
        "\n",
        "class MyDummyClassifier(BaseEstimator):\n",
        "  # fit() 메서드는 아무것도 학습하지 않음\n",
        "  def fit(self, X, y=None):\n",
        "    pass\n",
        "\n",
        "  # predict() 메서드는 단순히 Sex 피처가 남자(1)면 0, 여자(0)면 1로 예측\n",
        "  def predict(self, X):\n",
        "    pred = np.zeros((X.shape[0], 1))\n",
        "    for i in range(X.shape[0]) :\n",
        "      if(X['Sex'].iloc[i] = 1) :\n",
        "        pred[i] = 0\n",
        "      else :\n",
        "        pred[i] = 1\n",
        "    return pred"
      ],
      "execution_count": 12,
      "outputs": [
        {
          "output_type": "error",
          "ename": "SyntaxError",
          "evalue": "ignored",
          "traceback": [
            "\u001b[0;36m  File \u001b[0;32m\"<ipython-input-12-2c78bcf9c8eb>\"\u001b[0;36m, line \u001b[0;32m14\u001b[0m\n\u001b[0;31m    if(X['Sex'].iloc[i] = 1) :\u001b[0m\n\u001b[0m                        ^\u001b[0m\n\u001b[0;31mSyntaxError\u001b[0m\u001b[0;31m:\u001b[0m invalid syntax\n"
          ]
        }
      ]
    },
    {
      "cell_type": "markdown",
      "metadata": {
        "id": "olTGrbPabWSS"
      },
      "source": [
        "#### MNIST 데이터 세트를 이용하여 값이 7인것만 True, 나머지 숫자는 모두 False로 변환 한 이진 분류 문제\n",
        "\n",
        "![mnist-binary-classfi](https://user-images.githubusercontent.com/291782/138015598-e638a983-4c43-4df0-af89-36c2c647bcb6.png)\n",
        "\n",
        "\n",
        "**정확도 평가 지표의 맹점**"
      ]
    },
    {
      "cell_type": "code",
      "metadata": {
        "colab": {
          "base_uri": "https://localhost:8080/"
        },
        "id": "1ejPxoQibmij",
        "outputId": "24157c85-4c0f-48b6-ae03-5c3b7b4b87b6"
      },
      "source": [
        "from sklearn.datasets import load_digits\n",
        "from sklearn.model_selection import train_test_split\n",
        "from sklearn.base import BaseEstimator\n",
        "from sklearn.metrics import accuracy_score\n",
        "import numpy as np\n",
        "import pandas as pd\n",
        "\n",
        "class MyFakeClassifier(BaseEstimator) :\n",
        "    def fit(self, X, y) :\n",
        "        pass\n",
        "\n",
        "    # 입력값으로 들어오는 X 데이터 세트의 크기만큼 모두 0 값으로 만들어서 반환\n",
        "    def predict(self, X) :\n",
        "        return np.zeros((len(X), 1), dtype=bool)\n",
        "\n",
        "# 사이킷런의 내장 데이터 세트인 load_digits() 이용해 MNIST 데이터 로딩\n",
        "digits = load_digits()\n",
        "\n",
        "# digits 번호가 7이면 True이고 이를 astype(int)로 1로 변환\n",
        "# 7 이 아니면 False 이고 0으로 변환\n",
        "y = (digits.target == 7).astype(int)\n",
        "x_train, x_test, y_train, y_test = train_test_split(digits.data, y, random_state = 11)\n",
        "\n",
        "# 불균형한 레이블 데이터 세트 확인\n",
        "print('레이블 테스트 세트 크기:', y_test.shape)\n",
        "print('테스트 세트 레이블 0과 1의 분포')\n",
        "print(pd.Series(y_test).value_counts())\n",
        "\n",
        "# Dummy Classifier로 학습 / 예측 / 정확도 평가\n",
        "fake_clf = MyFakeClassifier()\n",
        "fake_clf.fit(x_train, y_train)\n",
        "fake_pred = fake_clf.predict(x_test)\n",
        "print('\\n 모든 예측을 0으로 하여도 정확도는:{0:.3f}'.format(accuracy_score(y_test, fake_pred)))\n",
        "\n"
      ],
      "execution_count": 13,
      "outputs": [
        {
          "output_type": "stream",
          "name": "stdout",
          "text": [
            "레이블 테스트 세트 크기: (450,)\n",
            "테스트 세트 레이블 0과 1의 분포\n",
            "0    405\n",
            "1     45\n",
            "dtype: int64\n",
            "\n",
            " 모든 예측을 0으로 하여도 정확도는:0.900\n"
          ]
        }
      ]
    },
    {
      "cell_type": "markdown",
      "metadata": {
        "id": "wRqnUua3ex-J"
      },
      "source": [
        "## 02 오차행렬 (Confusion Matrix)\n",
        "\n",
        "![confusion-matrix-02](https://user-images.githubusercontent.com/291782/138031897-d991171d-369f-4662-900f-1cffacb38d9c.png)\n"
      ]
    },
    {
      "cell_type": "code",
      "metadata": {
        "colab": {
          "base_uri": "https://localhost:8080/"
        },
        "id": "gUvhVSBDHV7b",
        "outputId": "ca32e43a-4511-41cc-f7fc-6b294878ffb7"
      },
      "source": [
        "from sklearn.metrics import confusion_matrix\n",
        "\n",
        "confusion_matrix(y_test, fake_pred)"
      ],
      "execution_count": 14,
      "outputs": [
        {
          "output_type": "execute_result",
          "data": {
            "text/plain": [
              "array([[405,   0],\n",
              "       [ 45,   0]])"
            ]
          },
          "metadata": {},
          "execution_count": 14
        }
      ]
    },
    {
      "cell_type": "markdown",
      "metadata": {
        "id": "bYpV41CHHo3C"
      },
      "source": [
        "위의 표시된 confusion_matrix() 값이 위 이미지와 동일한 위치이다.\n",
        "- TN : array[0,0]으로 405\n",
        "- FP : array[0,1] 으로 0\n",
        "- FN : array[1,0] 으로 45\n",
        "- TP : array[1,1] 으로 0"
      ]
    },
    {
      "cell_type": "markdown",
      "metadata": {
        "id": "WtCxYLK4J69P"
      },
      "source": [
        "정밀도 (Precision) = TP / (TP + FP)\n",
        "\n",
        "재현율 (Recall) = TP / (TP + FN) = 민감도(Sensitivity) = TPR (True Positive Rate)\n",
        "\n",
        "재현율이 중요 지표인 경우는 실제 Positive 양성 데이터를 Negative로 잘못 판단하게 되면 업무상 큰 영향이 발생하는 경우\n",
        "- 예) 암판단 모델 (암:Positive, 암X:Negative) : 암인데 암이 아닌것으로 판단하면 생명을 앗아감 \n",
        "- 암이 아닌것을 암으로 판단한 경우는 다시 한 번 재검사 하는 수준의 비용만 발생\n",
        "\n",
        "\n",
        "정밀도가 중요한 지표인 경우 (실제 Negative 음성인 데이터 예측을, Positive 양성으로 잘못 판단하게 되면 업무상 큰 영향)\n",
        "- 예) 스팸메일 : 실제 Positive인 스팸 메일을 Negative인 일반 메일로 분류하더라도 사용자가 불편을 느끼는 정도지만,\n",
        "- 실제 Negative 인 일반 메일을 Positive인 스팸 메일로 분류할 경우 메일을 받지 못해 업무에 차질이 생김\n",
        "\n"
      ]
    },
    {
      "cell_type": "code",
      "metadata": {
        "colab": {
          "base_uri": "https://localhost:8080/"
        },
        "id": "OxCrijrAcr7v",
        "outputId": "60595455-2e73-4b75-c0ac-ce6e3de83f17"
      },
      "source": [
        "from sklearn.metrics import accuracy_score, precision_score, recall_score, confusion_matrix\n",
        "# from sklearn.preprocessing import LabelEncoder\n",
        "from sklearn.preprocessing import *\n",
        "\n",
        "def get_clf_eval(y_test, pred) :\n",
        "    confusion = confusion_matrix(y_test, pred)\n",
        "    accuracy = accuracy_score(y_test, pred)\n",
        "    precision = precision_score(y_test, pred)\n",
        "    recall = recall_score(y_test, pred)\n",
        "    print('오차 행렬')\n",
        "    print(confusion)\n",
        "    print('정확도(accuracy):{0:.4f}, 정밀도(precision):{1:.4f}, 재현율(recall):{2:.4f}'.format(accuracy, precision, recall))\n",
        "\n",
        "\n",
        "# null 처리 함수\n",
        "def fillna(df):\n",
        "  df['Age'].fillna(df['Age'].mean(), inplace=True)\n",
        "  df['Cabin'].fillna('N', inplace=True)\n",
        "  df['Embarked'].fillna('N', inplace=True)\n",
        "  df['Fare'].fillna(0, inplace=True)\n",
        " \n",
        "  return df\n",
        "\n",
        "\n",
        "# 머신러닝 알고리즘에 불필요한 속성 제거\n",
        "def drop_features(df):\n",
        "  df.drop(['PassengerId', 'Name', 'Ticket'], axis=1, inplace=True)\n",
        "\n",
        "  return df\n",
        "\n",
        "\n",
        "# 레이블 인코딩 수행\n",
        "def format_features(df):\n",
        "  df['Cabin'] = df['Cabin'].str[:1] # 앞자리 대문자 1자리만 잘라내기\n",
        "  features = ['Cabin', 'Sex', 'Embarked']\n",
        "  for feature in features:\n",
        "    le = LabelEncoder()\n",
        "    le = le.fit(df[feature])\n",
        "    df[feature] = le.transform(df[feature])\n",
        "\n",
        "  return df\n",
        "\n",
        "\n",
        "# 앞에서 설정한  데이터 전처리 함수 호출\n",
        "def transform_features(df):\n",
        "  df = fillna(df)\n",
        "  df = drop_features(df)\n",
        "  df = format_features(df)\n",
        "  return df\n",
        "\n",
        "import pandas as pd\n",
        "from sklearn.model_selection import train_test_split\n",
        "from sklearn.linear_model import LogisticRegression\n",
        "\n",
        "# 원본 데이터를 재로딩, 데이터 가공, 학습 데이터 / 테스트 데이터 분할\n",
        "df = pd.read_csv('/content/drive/MyDrive/Colab Notebooks/data/titanic/train.csv')\n",
        "y_df = df['Survived']\n",
        "x_df = df.drop('Survived', axis = 1)\n",
        "x_df = transform_features(x_df)\n",
        "print(x_df)\n",
        "\n",
        "\n",
        "x_train, x_test, y_train, y_test = train_test_split(x_df, y_df, test_size = 0.2, random_state = 11)\n",
        "\n",
        "lr = LogisticRegression()\n",
        "\n",
        "lr.fit(x_train, y_train)\n",
        "pred = lr.predict(x_test)\n",
        "\n",
        "print('\\n\\n## 오차행렬, 정확도, 정밀도, 재현율 등 출력 ##\\n')\n",
        "get_clf_eval(y_test, pred)\n"
      ],
      "execution_count": 15,
      "outputs": [
        {
          "output_type": "stream",
          "name": "stdout",
          "text": [
            "     Pclass  Sex        Age  SibSp  Parch     Fare  Cabin  Embarked\n",
            "0         3    1  22.000000      1      0   7.2500      7         3\n",
            "1         1    0  38.000000      1      0  71.2833      2         0\n",
            "2         3    0  26.000000      0      0   7.9250      7         3\n",
            "3         1    0  35.000000      1      0  53.1000      2         3\n",
            "4         3    1  35.000000      0      0   8.0500      7         3\n",
            "..      ...  ...        ...    ...    ...      ...    ...       ...\n",
            "886       2    1  27.000000      0      0  13.0000      7         3\n",
            "887       1    0  19.000000      0      0  30.0000      1         3\n",
            "888       3    0  29.699118      1      2  23.4500      7         3\n",
            "889       1    1  26.000000      0      0  30.0000      2         0\n",
            "890       3    1  32.000000      0      0   7.7500      7         2\n",
            "\n",
            "[891 rows x 8 columns]\n",
            "\n",
            "\n",
            "## 오차행렬, 정확도, 정밀도, 재현율 등 출력 ##\n",
            "\n",
            "오차 행렬\n",
            "[[104  14]\n",
            " [ 13  48]]\n",
            "정확도(accuracy):0.8492, 정밀도(precision):0.7742, 재현율(recall):0.7869\n"
          ]
        },
        {
          "output_type": "stream",
          "name": "stderr",
          "text": [
            "/usr/local/lib/python3.7/dist-packages/sklearn/linear_model/_logistic.py:940: ConvergenceWarning: lbfgs failed to converge (status=1):\n",
            "STOP: TOTAL NO. of ITERATIONS REACHED LIMIT.\n",
            "\n",
            "Increase the number of iterations (max_iter) or scale the data as shown in:\n",
            "    https://scikit-learn.org/stable/modules/preprocessing.html\n",
            "Please also refer to the documentation for alternative solver options:\n",
            "    https://scikit-learn.org/stable/modules/linear_model.html#logistic-regression\n",
            "  extra_warning_msg=_LOGISTIC_SOLVER_CONVERGENCE_MSG)\n"
          ]
        }
      ]
    },
    {
      "cell_type": "markdown",
      "metadata": {
        "id": "YLepmzGWimp7"
      },
      "source": [
        "#### 정밀도와 재현율 트레이드 오프(trade-off)\n",
        "\n",
        "일반적으로 이진 분류에서는 임곗값(예측확률)을 0.5, 즉 50%로 정하고 기준값 보다 크면 Positive, 작으면 Negative로 결정함\n",
        "\n",
        "**predict_proba()** : 예측 확률 변환 메서드\n",
        "- 입력 파라미터 : predict() 메서드와 동일하게 보통 테스트 피처 데이터 세트를 입력\n",
        "- 반환 값\n",
        " - 개별 클래스와 예측확률을 ndarray m x n (m:입력 값의 레코드 수, n: 클래스 값 유형) 형태로 반환\n",
        " - 입력 테스트 데이터 세트의 표본수가 100개이고 예측 클래스 값 유형이 2개(이진분류)라면 반환 값은 100 x 2 ndarray 임\n",
        " - 각 열은 개별 클래스의 예측 확률임. 이진 분류에서 첫 번째 컬럼은 0 Negative 확률, 두번째 컬럼은 1 Positive 확률임"
      ]
    },
    {
      "cell_type": "code",
      "metadata": {
        "colab": {
          "base_uri": "https://localhost:8080/"
        },
        "id": "Cua9ntwdmDvW",
        "outputId": "fe3a79ce-4ce9-4f5c-a69f-f70e09f62b46"
      },
      "source": [
        "pred_proba = lr.predict_proba(x_test)\n",
        "pred = lr.predict(x_test)\n",
        "print('pred() 결과:', pred.shape)\n",
        "print('pred array에서 앞 3개만 추출:\\n', pred[:3])\n",
        "print('\\n')\n",
        "print('pred_proba() 결과:', pred_proba.shape)\n",
        "print('pred_proba array에서 앞 3개만 추출:\\n', pred_proba[:3])\n",
        "\n",
        "print('\\n')\n",
        "# 예측 확률 array와 예측 결괏값 array를 병합(concatenate)해 예측 확률과 결괏값을 한눈에 확인\n",
        "pred_proba_result = np.concatenate([pred_proba, pred.reshape(-1, 1)], axis = 1)\n",
        "print('두 개의 class 중에서 더 큰 확률을 클래스 값으로 예측 \\n', pred_proba_result[:3])"
      ],
      "execution_count": 16,
      "outputs": [
        {
          "output_type": "stream",
          "name": "stdout",
          "text": [
            "pred() 결과: (179,)\n",
            "pred array에서 앞 3개만 추출:\n",
            " [1 0 0]\n",
            "\n",
            "\n",
            "pred_proba() 결과: (179, 2)\n",
            "pred_proba array에서 앞 3개만 추출:\n",
            " [[0.46191519 0.53808481]\n",
            " [0.878675   0.121325  ]\n",
            " [0.87716185 0.12283815]]\n",
            "\n",
            "\n",
            "두 개의 class 중에서 더 큰 확률을 클래스 값으로 예측 \n",
            " [[0.46191519 0.53808481 1.        ]\n",
            " [0.878675   0.121325   0.        ]\n",
            " [0.87716185 0.12283815 0.        ]]\n"
          ]
        }
      ]
    },
    {
      "cell_type": "markdown",
      "metadata": {
        "id": "Wo9t4xBYn49x"
      },
      "source": [
        "#### Binarizer 클래스 사용법"
      ]
    },
    {
      "cell_type": "code",
      "metadata": {
        "colab": {
          "base_uri": "https://localhost:8080/"
        },
        "id": "r4Jq-FOLn_PL",
        "outputId": "43180471-9742-4185-8a63-56467192a8a8"
      },
      "source": [
        "from sklearn.preprocessing import Binarizer\n",
        "\n",
        "X = [[1, -1, 2],\n",
        "     [2, 0, 0],\n",
        "     [0, 1.1, 1.2]]\n",
        "\n",
        "# X의 개별 원소들이 threshold 값보다 같거나 작으면 0을, 크면 1을 반환\n",
        "binarizer = Binarizer(threshold = 1.1)\n",
        "print(binarizer.fit_transform(X))"
      ],
      "execution_count": 17,
      "outputs": [
        {
          "output_type": "stream",
          "name": "stdout",
          "text": [
            "[[0. 0. 1.]\n",
            " [1. 0. 0.]\n",
            " [0. 0. 1.]]\n"
          ]
        }
      ]
    },
    {
      "cell_type": "code",
      "metadata": {
        "colab": {
          "base_uri": "https://localhost:8080/"
        },
        "id": "cnslm8Ck251q",
        "outputId": "d6080912-5bb9-4e0d-effa-ab0e8e289b29"
      },
      "source": [
        "from sklearn.preprocessing import Binarizer\n",
        "\n",
        "# Binarizer의 threshold 설정 값. 분류 결정 임곗값임\n",
        "custom_threshold = 0.5\n",
        "\n",
        "# predict_proba() 반환값의 두 번째 컬럼, 즉 Positve 클래스 컬럼 하나만 추출해 Binarizer를 적용\n",
        "pred_proba_1 = pred_proba[:, 1].reshape(-1, 1)\n",
        "\n",
        "binarizer = Binarizer(threshold=custom_threshold).fit(pred_proba_1)\n",
        "custom_predict = binarizer.transform(pred_proba_1)\n",
        "\n",
        "get_clf_eval(y_test, custom_predict)"
      ],
      "execution_count": 18,
      "outputs": [
        {
          "output_type": "stream",
          "name": "stdout",
          "text": [
            "오차 행렬\n",
            "[[104  14]\n",
            " [ 13  48]]\n",
            "정확도(accuracy):0.8492, 정밀도(precision):0.7742, 재현율(recall):0.7869\n"
          ]
        }
      ]
    },
    {
      "cell_type": "markdown",
      "metadata": {
        "id": "iY-Rx8iN5UUE"
      },
      "source": [
        "#### 임곗값을 0.4에서 부터 0.6까지 0.05씩 증가시키며 평가 지표를 조사"
      ]
    },
    {
      "cell_type": "code",
      "metadata": {
        "colab": {
          "base_uri": "https://localhost:8080/"
        },
        "id": "vpplgkKE5bqH",
        "outputId": "974c0b67-ee74-443f-faa8-3c8ac579734a"
      },
      "source": [
        "from sklearn.metrics import accuracy_score, precision_score, recall_score, confusion_matrix\n",
        "# from sklearn.preprocessing import LabelEncoder\n",
        "from sklearn.preprocessing import *\n",
        "\n",
        "# 테스트를 위해 수행할 모든 임곗값을 리스트 객체로 저장\n",
        "thresholds = [0.4, 0.45, 0.50, 0.55, 0.60]\n",
        "\n",
        "def get_eval_by_threshold(y_test, pred_proba_c1, thresholds) :\n",
        "    # thresholds list 객체 내의 값을 차례로 iteration하면서 Evaluation 수행\n",
        "    for custom_threshold in thresholds :\n",
        "        print('\\n ######################')\n",
        "        binarizer = Binarizer(threshold = custom_threshold).fit(pred_proba_c1)\n",
        "        custom_predcit = binarizer.transform(pred_proba_c1)\n",
        "        print('임곗값:', custom_threshold)\n",
        "        confusion = confusion_matrix(y_test, custom_predcit)\n",
        "        accuracy = accuracy_score(y_test, custom_predcit)\n",
        "        precision = precision_score(y_test, custom_predcit)\n",
        "        recall = recall_score(y_test, custom_predcit)\n",
        "        print('오차 행렬')\n",
        "        print(confusion)\n",
        "        print('정확도(accuracy):{0:.4f}, 정밀도(precision):{1:.4f}, 재현율(recall):{2:.4f}'.format(accuracy, precision, recall))\n",
        "\n",
        "get_eval_by_threshold(y_test, pred_proba[:, 1].reshape(-1, 1), thresholds)"
      ],
      "execution_count": 19,
      "outputs": [
        {
          "output_type": "stream",
          "name": "stdout",
          "text": [
            "\n",
            " ######################\n",
            "임곗값: 0.4\n",
            "오차 행렬\n",
            "[[98 20]\n",
            " [10 51]]\n",
            "정확도(accuracy):0.8324, 정밀도(precision):0.7183, 재현율(recall):0.8361\n",
            "\n",
            " ######################\n",
            "임곗값: 0.45\n",
            "오차 행렬\n",
            "[[103  15]\n",
            " [ 12  49]]\n",
            "정확도(accuracy):0.8492, 정밀도(precision):0.7656, 재현율(recall):0.8033\n",
            "\n",
            " ######################\n",
            "임곗값: 0.5\n",
            "오차 행렬\n",
            "[[104  14]\n",
            " [ 13  48]]\n",
            "정확도(accuracy):0.8492, 정밀도(precision):0.7742, 재현율(recall):0.7869\n",
            "\n",
            " ######################\n",
            "임곗값: 0.55\n",
            "오차 행렬\n",
            "[[109   9]\n",
            " [ 15  46]]\n",
            "정확도(accuracy):0.8659, 정밀도(precision):0.8364, 재현율(recall):0.7541\n",
            "\n",
            " ######################\n",
            "임곗값: 0.6\n",
            "오차 행렬\n",
            "[[112   6]\n",
            " [ 16  45]]\n",
            "정확도(accuracy):0.8771, 정밀도(precision):0.8824, 재현율(recall):0.7377\n"
          ]
        }
      ]
    },
    {
      "cell_type": "markdown",
      "metadata": {
        "id": "lZr2rymM7o4k"
      },
      "source": [
        "#### precision_recall_curve() \n",
        "- 입력 파라미터\n",
        " - y_true : 실제 클래스값 배열( 배열크기 = [데이터 건수])\n",
        " - probas_pred : Positive 컬럼의 예측 확률 배열( 배열크기 = [데이터 건수])\n",
        "- 반환 값\n",
        " - 정밀도 : 임곗값별 정밀도 값을 배열로 반화\n",
        " - 재현율 : 임곗값별 재현율 값을 배열로 반환"
      ]
    },
    {
      "cell_type": "code",
      "metadata": {
        "colab": {
          "base_uri": "https://localhost:8080/"
        },
        "id": "6Lea6z1P8ovh",
        "outputId": "ecbabf1d-f315-490c-a853-9b5eda9f4c3d"
      },
      "source": [
        "from sklearn.metrics import precision_recall_curve\n",
        "from sklearn.linear_model import LogisticRegression\n",
        "\n",
        "\n",
        "lr = LogisticRegression()\n",
        "lr.fit(x_train, y_train)\n",
        "\n",
        "# 레이블 값이 1일 때의 예측 확률을 추출\n",
        "pred_proba_class1 = lr.predict_proba(x_test)[:, 1]\n",
        "\n",
        "# 실제값 데이터 세트와 레이블 값ㅇ이 1일 때의 예측 확률을 precision_recall_curvve 인자로 입력\n",
        "precisions, recalls, thresholds = precision_recall_curve(y_test, pred_proba_class1)\n",
        "print('반환된 분류 결정 임곗값 배열의 shape:', thresholds.shape)\n",
        "\n",
        "\n",
        "# 반환된 임곗값 배열 로우가 143건이므로 샘플로 10건만 추출하되, 임곗값을 15 step으로 추출\n",
        "thr_index = np.arange(0, thresholds.shape[0], 15)\n",
        "print('샘플 추출을 위한 임곗값 배열의 index 10 개:', thr_index)\n",
        "print('샘플용 10개의 임곗값:', np.round(thresholds[thr_index], 2))\n",
        "\n",
        "# 15 step 단위로 추출된 임계값에 따른 정밀도와 재현율 값\n",
        "print('\\n ')\n",
        "print('precisions length:', len(precisions))\n",
        "print('샘플 임곗값별 정밀도 :', np.round(precisions[thr_index], 3))\n",
        "print('샘플 임곗값별 재현율 :', np.round(recalls[thr_index], 3))\n",
        "# 정밀도 값이 높아질수록 재현율 값은 떨어짐"
      ],
      "execution_count": 20,
      "outputs": [
        {
          "output_type": "stream",
          "name": "stdout",
          "text": [
            "반환된 분류 결정 임곗값 배열의 shape: (143,)\n",
            "샘플 추출을 위한 임곗값 배열의 index 10 개: [  0  15  30  45  60  75  90 105 120 135]\n",
            "샘플용 10개의 임곗값: [0.1  0.12 0.14 0.19 0.28 0.4  0.56 0.67 0.82 0.95]\n",
            "\n",
            " \n",
            "precisions length: 144\n",
            "샘플 임곗값별 정밀도 : [0.389 0.44  0.466 0.539 0.647 0.729 0.836 0.949 0.958 1.   ]\n",
            "샘플 임곗값별 재현율 : [1.    0.967 0.902 0.902 0.902 0.836 0.754 0.607 0.377 0.148]\n"
          ]
        },
        {
          "output_type": "stream",
          "name": "stderr",
          "text": [
            "/usr/local/lib/python3.7/dist-packages/sklearn/linear_model/_logistic.py:940: ConvergenceWarning: lbfgs failed to converge (status=1):\n",
            "STOP: TOTAL NO. of ITERATIONS REACHED LIMIT.\n",
            "\n",
            "Increase the number of iterations (max_iter) or scale the data as shown in:\n",
            "    https://scikit-learn.org/stable/modules/preprocessing.html\n",
            "Please also refer to the documentation for alternative solver options:\n",
            "    https://scikit-learn.org/stable/modules/linear_model.html#logistic-regression\n",
            "  extra_warning_msg=_LOGISTIC_SOLVER_CONVERGENCE_MSG)\n"
          ]
        }
      ]
    },
    {
      "cell_type": "code",
      "metadata": {
        "colab": {
          "base_uri": "https://localhost:8080/",
          "height": 388
        },
        "id": "vmoIGWdC_jyX",
        "outputId": "567db2fe-60ba-437a-d82e-f9c17c900200"
      },
      "source": [
        "# 정밀도와 재현율의 상관관계 형태를 시각화\n",
        "import matplotlib.pyplot as plt\n",
        "import matplotlib.ticker as ticker\n",
        "%matplotlib inline\n",
        "\n",
        "def precision_recall_curve_plot(y_test, pred_proba_c1) :\n",
        "    # threshold ndarray와 이 threshold에 따른 정밀도, 재현율 ndarray 추출.\n",
        "    precisions, recalls, thresholds = precision_recall_curve(y_test, pred_proba_c1)\n",
        "\n",
        "    # x 축을 threshold 값으로, y 축은 정밀도, 재현율 값으로 각각 plot 수행. 정밀도는 점선 표시\n",
        "    plt.figure(figsize=(8,6))\n",
        "    threshold_boundary = thresholds.shape[0]\n",
        "    plt.plot(thresholds, precisions[0:threshold_boundary], linestyle='--', label='precision')\n",
        "    plt.plot(thresholds, recalls[0:threshold_boundary], label='recall')\n",
        "    \n",
        "    # threshold 값 x 축의 scale을 0.1 단위로 변경\n",
        "    start, end = plt.xlim()\n",
        "    plt.xticks(np.round(np.arange(start, end, 0.1), 2))\n",
        "\n",
        "    # x 축, y 축 label 과 legen, 그리고 grid 설정\n",
        "    plt.xlabel('Threshold value')\n",
        "    plt.ylabel('Precision and Recall value')\n",
        "    plt.legend()\n",
        "    plt.grid()\n",
        "    plt.show()\n",
        "\n",
        "\n",
        "precision_recall_curve_plot(y_test, lr.predict_proba(x_test)[:, 1])\n"
      ],
      "execution_count": 21,
      "outputs": [
        {
          "output_type": "display_data",
          "data": {
            "image/png": "[encoded data removed]",
            "text/plain": [
              "<Figure size 576x432 with 1 Axes>"
            ]
          },
          "metadata": {
            "needs_background": "light"
          }
        }
      ]
    },
    {
      "cell_type": "markdown",
      "metadata": {
        "id": "CsV0Wq8wBw0h"
      },
      "source": [
        "### 정밀도와 재현율의 맹점\n",
        "\n",
        "위 그래프에서 확인 가능하듯 임곗값을 증가시킬수록 재현율 값이 낮아지고, 정밀도 값은 높아짐.  \n",
        "위 로지스틱 회귀 기반의 타이타닉 생존자 예측 모델의 경우 임곗값이 약 0.48 지점에서 재현율과 정밀도가 비슷해지는 모습을 보임  \n",
        "  \n",
        "임곗값의 이러한 변경은 업무 환경에 맞게 두 개의 수치를 상호 보완할 수 있는 수준에서 적용돼야 함  \n",
        "  \n",
        "  다음은 정밀도 또는 재현율 평가 지표 수치 중 하나를 극단적으로 높이는 방법이지만 숫자 놀음에 불과한 방법\n",
        "\n"
      ]
    },
    {
      "cell_type": "markdown",
      "metadata": {
        "id": "uA2OqGZIT_sM"
      },
      "source": [
        "## F1 Score\n",
        "\n",
        "F1 스코어는 정밀도(Precision)와 재현율(Recall)이 어느 한 쪽으로 치우치지 않는 수치를 나타낼 때 상대적으로 높은 수치를 가짐\n",
        "\n",
        "$F1 = \\dfrac{2}{\\dfrac{1}{recall} + \\dfrac{1}{precision}} =  2 * \\dfrac{precision * recall}{precision + recall}$"
      ]
    },
    {
      "cell_type": "code",
      "metadata": {
        "colab": {
          "base_uri": "https://localhost:8080/"
        },
        "id": "P74BUzJvVdqC",
        "outputId": "58690dca-b3c6-43c4-ca6a-58c78c92b83a"
      },
      "source": [
        "from sklearn.metrics import f1_score\n",
        "\n",
        "f1 = f1_score(y_test, pred)\n",
        "print('F1 스코어:{0:.4f}'.format(f1))\n",
        "\n",
        "def get_clf_eval(y_test, pred) :\n",
        "    confusion = confusion_matrix(y_test, pred)\n",
        "    accuracy = accuracy_score(y_test, pred)\n",
        "    precision = precision_score(y_test, pred)\n",
        "    recall = recall_score(y_test, pred)\n",
        "\n",
        "    # F1 score 추가\n",
        "    f1 = f1_score(y_test, pred)\n",
        "\n",
        "    print('\\n \\n ################# ')\n",
        "    print('오차행렬')\n",
        "    print(confusion)\n",
        "    print('\\n 정확도:{0:.4f}, 정밀도:{1:.4f}, 재현율:{2:.4f}, F1: {3:.4f}'.format(accuracy, precision, recall, f1))\n",
        "\n",
        "\n",
        "def get_eval_by_threshold1(y_test, pred_proba_c1, thresholds) :\n",
        "    # thresholds list 객체 내의 값을 차례로 iteration하면서 Evaluation 수행\n",
        "    for custom_threshold in thresholds :\n",
        "        print('\\n ######################')\n",
        "        binarizer = Binarizer(threshold = custom_threshold).fit(pred_proba_c1)\n",
        "        custom_predcit = binarizer.transform(pred_proba_c1)\n",
        "        print('임곗값:', custom_threshold)\n",
        "        confusion = confusion_matrix(y_test, custom_predcit)\n",
        "        accuracy = accuracy_score(y_test, custom_predcit)\n",
        "        precision = precision_score(y_test, custom_predcit)\n",
        "        recall = recall_score(y_test, custom_predcit)\n",
        "        # F1 score 추가\n",
        "        f1 = f1_score(y_test, custom_predcit)\n",
        "        print('오차 행렬')\n",
        "        print(confusion)\n",
        "        print('\\n 정확도:{0:.4f}, 정밀도:{1:.4f}, 재현율:{2:.4f}, F1: {3:.4f}'.format(accuracy, precision, recall, f1))\n",
        "\n",
        "thresholds = [0.4, 0.45, 0.50, 0.55, 0.60]\n",
        "pred_proba = lr.predict_proba(x_test)\n",
        "get_eval_by_threshold1(y_test, pred_proba[:, 1].reshape(-1, 1), thresholds)"
      ],
      "execution_count": 24,
      "outputs": [
        {
          "output_type": "stream",
          "name": "stdout",
          "text": [
            "F1 스코어:0.7805\n",
            "\n",
            " ######################\n",
            "임곗값: 0.4\n",
            "오차 행렬\n",
            "[[98 20]\n",
            " [10 51]]\n",
            "\n",
            " 정확도:0.8324, 정밀도:0.7183, 재현율:0.8361, F1: 0.7727\n",
            "\n",
            " ######################\n",
            "임곗값: 0.45\n",
            "오차 행렬\n",
            "[[103  15]\n",
            " [ 12  49]]\n",
            "\n",
            " 정확도:0.8492, 정밀도:0.7656, 재현율:0.8033, F1: 0.7840\n",
            "\n",
            " ######################\n",
            "임곗값: 0.5\n",
            "오차 행렬\n",
            "[[104  14]\n",
            " [ 13  48]]\n",
            "\n",
            " 정확도:0.8492, 정밀도:0.7742, 재현율:0.7869, F1: 0.7805\n",
            "\n",
            " ######################\n",
            "임곗값: 0.55\n",
            "오차 행렬\n",
            "[[109   9]\n",
            " [ 15  46]]\n",
            "\n",
            " 정확도:0.8659, 정밀도:0.8364, 재현율:0.7541, F1: 0.7931\n",
            "\n",
            " ######################\n",
            "임곗값: 0.6\n",
            "오차 행렬\n",
            "[[112   6]\n",
            " [ 16  45]]\n",
            "\n",
            " 정확도:0.8771, 정밀도:0.8824, 재현율:0.7377, F1: 0.8036\n"
          ]
        }
      ]
    },
    {
      "cell_type": "markdown",
      "metadata": {
        "id": "mS9kNsNpzZkm"
      },
      "source": [
        "## ROC 곡선과 AUC\n",
        "\n",
        "- AUC : Area Under Curve\n",
        "- ROC 곡선 (Receiver Operation Characteristic Curve) : 순 우리말로 수신자 판단 곡선\n",
        "- FPR (False Posive Rate)이 변할 때 TPR (True Positive Rate)이 어떻게 변하는지를 나타내는 곡선\n",
        "- FPR이 X 축, TPR 이 Y축\n",
        "- TPR = Recall =  Sensitivity = TP / (FN + TP)\n",
        "- TNR (True Negative Rate) = 특이성(Specificity) = TN / (FP + TN)\n",
        "- FPR = FP / (FP + TN) = 1 - TNR = 1 - Specificity\n",
        "\n",
        "**roc_curve() 주요 입력 파라미터와 반환 값**\n",
        "- 입력 파라미터\n",
        " - y_true : 실제 클래스 값 array (array shape = [데이터건수])\n",
        " - y_score : predict_proba()의 반환값 array에서 Positive 컬럼의 예측 확률이 보통 사용됨. array shape = [n_samples]\n",
        "- 반환 값\n",
        " - fpr : fpr 값을 array로 반환\n",
        " - tpr : tpr 값을 array로 반환\n",
        " - thresholds : thresholds 값 array\n",
        "\n"
      ]
    },
    {
      "cell_type": "code",
      "metadata": {
        "colab": {
          "base_uri": "https://localhost:8080/",
          "height": 391
        },
        "id": "CMPkDTCx1qIn",
        "outputId": "508d4996-8361-4ba9-fec3-6f6fd8c4d1bb"
      },
      "source": [
        "from sklearn.metrics import roc_curve\n",
        "\n",
        "# 레이블 값이 1일때의 예측 확률을 추출\n",
        "preo_proba_class1 = lr.predict_proba(x_test)[:, 1]\n",
        "\n",
        "fprs, tprs, thresholds = roc_curve(y_test, pred_proba_class1)\n",
        "\n",
        "# 반환된 임곗값 배열에서 샘플로 데이터를 추출하되, 임곗값을 5step으로 추출\n",
        "# thresholds[0] 은 max(예측확률) + 1로 임의 설정됨. 이를 제외하기 위해 np.arange는 1부터 시작\n",
        "thr_index = np.arange(1, thresholds.shape[0], 5)\n",
        "print('샘플 추출을 위한 임곗값 배열의 index:', thr_index)\n",
        "print(' 샘플 index로 추출한 임곗값:', np.round(thresholds[thr_index], 2))\n",
        "\n",
        "# 5 step 단위로 추출된 임곗값에 따른 FPR, TPR 값\n",
        "print('\\n')\n",
        "print('샘플 임곗값별 FPR:', np.round(fprs[thr_index], 3))\n",
        "print('샘플 임곗값별 TPR:', np.round(tprs[thr_index], 3))\n",
        "\n",
        "\n",
        "def roc_curve_plot(y_test, pred_proba_c1) :\n",
        "    # 임곗값에 따른 FPR, TPR 값을 반환 받음\n",
        "    fprs, tprs, thresholds = roc_curve(y_test, pred_proba_c1)\n",
        "\n",
        "    # ROC 곡선을 그래프로 그림\n",
        "    plt.plot(fprs, tprs, label='ROC')\n",
        "\n",
        "    # 가운데 대각선 직선을 그림\n",
        "    plt.plot([0,1], [0,1], 'k--', label='Random')\n",
        "\n",
        "    # FPR X 축의 scale을 0.1 단위로 변경, X, Y 축 명 설정 등\n",
        "    start, end = plt.xlim()\n",
        "    plt.xticks(np.round(np.arange(start, end, 0.1), 2))\n",
        "    plt.xlim(0, 1)\n",
        "    plt.ylim(0, 1)\n",
        "    plt.xlabel('FPR ( 1-Sensitivity )'); plt.ylabel('TPR ( Recall )')\n",
        "    plt.legend()\n",
        "\n",
        "roc_curve_plot(y_test, pred_proba[:, 1])"
      ],
      "execution_count": 37,
      "outputs": [
        {
          "output_type": "stream",
          "name": "stdout",
          "text": [
            "샘플 추출을 위한 임곗값 배열의 index: [ 1  6 11 16 21 26 31 36 41 46 51]\n",
            " 샘플 index로 추출한 임곗값: [0.97 0.65 0.63 0.56 0.45 0.4  0.35 0.15 0.13 0.11 0.11]\n",
            "\n",
            "\n",
            "샘플 임곗값별 FPR: [0.    0.017 0.034 0.076 0.127 0.169 0.203 0.466 0.585 0.686 0.797]\n",
            "샘플 임곗값별 TPR: [0.033 0.639 0.721 0.754 0.803 0.836 0.885 0.902 0.934 0.967 0.984]\n"
          ]
        },
        {
          "output_type": "display_data",
          "data": {
            "image/png": "[encoded data removed]",
            "text/plain": [
              "<Figure size 432x288 with 1 Axes>"
            ]
          },
          "metadata": {
            "needs_background": "light"
          }
        }
      ]
    },
    {
      "cell_type": "code",
      "metadata": {
        "id": "ju6tKpyl4dQT"
      },
      "source": [
        ""
      ],
      "execution_count": null,
      "outputs": []
    }
  ]
}