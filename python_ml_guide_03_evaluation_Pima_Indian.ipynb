{
  "nbformat": 4,
  "nbformat_minor": 0,
  "metadata": {
    "colab": {
      "name": "python_ml_guide_03_evaluation_Pima_Indian.ipynb",
      "provenance": [],
      "collapsed_sections": [],
      "mount_file_id": "1DO2iM4JVcJ83KA4HsQcvxwnPkXirAWDw",
      "authorship_tag": "ABX9TyP4iCFV/5hjEEG+hzkwbRiV",
      "include_colab_link": true
    },
    "kernelspec": {
      "name": "python3",
      "display_name": "Python 3"
    },
    "language_info": {
      "name": "python"
    }
  },
  "cells": [
    {
      "cell_type": "markdown",
      "metadata": {
        "id": "view-in-github",
        "colab_type": "text"
      },
      "source": [
        "<a href=\"https://colab.research.google.com/github/johyunkang/py_pandas/blob/main/python_ml_guide_03_evaluation_Pima_Indian.ipynb\" target=\"_parent\"><img src=\"https://colab.research.google.com/assets/colab-badge.svg\" alt=\"Open In Colab\"/></a>"
      ]
    },
    {
      "cell_type": "markdown",
      "metadata": {
        "id": "vMS93j985NdD"
      },
      "source": [
        "## 피마 인디언 당뇨병 (Pima Indian Diabetes)\n",
        "\n",
        "피마 인디언 당뇨병 데이터 세트를 이용해 당뇨병 여부를 판단하는 머신러닝 예측 모델을 수립\n",
        "\n",
        "**피처 설명**\n",
        "- Pregnancies : 임신횟수\n",
        "- Glucose : 포도당 부하 검사 수치\n",
        "- BloodPressure : 혈압 (mm Hg)\n",
        "- SkinThickness : 팔 삼두근 뒤쪽의 피하지방 측정값(mm)\n",
        "- Insulin : 혈청 인슐린(mu U/ml)\n",
        "- BMI : 체질량지수 ( 체중(kg) /(키(m))^2 )\n",
        "- DiabetesPedigreeFunction : 당뇨 내력 가중치 값\n",
        "- Age : 나이\n",
        "- Outcome : 클래스 결정 값(0 또는 1)"
      ]
    },
    {
      "cell_type": "code",
      "metadata": {
        "colab": {
          "base_uri": "https://localhost:8080/",
          "height": 564
        },
        "id": "JH4W_9NM5FQW",
        "outputId": "9c7216c0-2be8-41fc-cf99-bde260eafa42"
      },
      "source": [
        "import pandas as pd\n",
        "import numpy as np\n",
        "import matplotlib.pyplot as plt\n",
        "# %matplotlib inline\n",
        "\n",
        "from sklearn.model_selection import train_test_split\n",
        "from sklearn.metrics import accuracy_score, precision_score, recall_score, roc_auc_score\n",
        "from sklearn.metrics import f1_score, confusion_matrix, precision_recall_curve, roc_curve\n",
        "from sklearn.preprocessing import StandardScaler\n",
        "from sklearn.linear_model import LogisticRegression\n",
        "\n",
        "df = pd.read_csv('/content/drive/MyDrive/Colab Notebooks/data/pima_indians_diabetes/diabetes.csv')\n",
        "print(df['Outcome'].value_counts())\n",
        "\n",
        "print(df.info())\n",
        "df.head(5)"
      ],
      "execution_count": null,
      "outputs": [
        {
          "output_type": "stream",
          "name": "stdout",
          "text": [
            "0    500\n",
            "1    268\n",
            "Name: Outcome, dtype: int64\n",
            "<class 'pandas.core.frame.DataFrame'>\n",
            "RangeIndex: 768 entries, 0 to 767\n",
            "Data columns (total 9 columns):\n",
            " #   Column                    Non-Null Count  Dtype  \n",
            "---  ------                    --------------  -----  \n",
            " 0   Pregnancies               768 non-null    int64  \n",
            " 1   Glucose                   768 non-null    int64  \n",
            " 2   BloodPressure             768 non-null    int64  \n",
            " 3   SkinThickness             768 non-null    int64  \n",
            " 4   Insulin                   768 non-null    int64  \n",
            " 5   BMI                       768 non-null    float64\n",
            " 6   DiabetesPedigreeFunction  768 non-null    float64\n",
            " 7   Age                       768 non-null    int64  \n",
            " 8   Outcome                   768 non-null    int64  \n",
            "dtypes: float64(2), int64(7)\n",
            "memory usage: 54.1 KB\n",
            "None\n"
          ]
        },
        {
          "output_type": "execute_result",
          "data": {
            "text/html": [
              "<div>\n",
              "<style scoped>\n",
              "    .dataframe tbody tr th:only-of-type {\n",
              "        vertical-align: middle;\n",
              "    }\n",
              "\n",
              "    .dataframe tbody tr th {\n",
              "        vertical-align: top;\n",
              "    }\n",
              "\n",
              "    .dataframe thead th {\n",
              "        text-align: right;\n",
              "    }\n",
              "</style>\n",
              "<table border=\"1\" class=\"dataframe\">\n",
              "  <thead>\n",
              "    <tr style=\"text-align: right;\">\n",
              "      <th></th>\n",
              "      <th>Pregnancies</th>\n",
              "      <th>Glucose</th>\n",
              "      <th>BloodPressure</th>\n",
              "      <th>SkinThickness</th>\n",
              "      <th>Insulin</th>\n",
              "      <th>BMI</th>\n",
              "      <th>DiabetesPedigreeFunction</th>\n",
              "      <th>Age</th>\n",
              "      <th>Outcome</th>\n",
              "    </tr>\n",
              "  </thead>\n",
              "  <tbody>\n",
              "    <tr>\n",
              "      <th>0</th>\n",
              "      <td>6</td>\n",
              "      <td>148</td>\n",
              "      <td>72</td>\n",
              "      <td>35</td>\n",
              "      <td>0</td>\n",
              "      <td>33.6</td>\n",
              "      <td>0.627</td>\n",
              "      <td>50</td>\n",
              "      <td>1</td>\n",
              "    </tr>\n",
              "    <tr>\n",
              "      <th>1</th>\n",
              "      <td>1</td>\n",
              "      <td>85</td>\n",
              "      <td>66</td>\n",
              "      <td>29</td>\n",
              "      <td>0</td>\n",
              "      <td>26.6</td>\n",
              "      <td>0.351</td>\n",
              "      <td>31</td>\n",
              "      <td>0</td>\n",
              "    </tr>\n",
              "    <tr>\n",
              "      <th>2</th>\n",
              "      <td>8</td>\n",
              "      <td>183</td>\n",
              "      <td>64</td>\n",
              "      <td>0</td>\n",
              "      <td>0</td>\n",
              "      <td>23.3</td>\n",
              "      <td>0.672</td>\n",
              "      <td>32</td>\n",
              "      <td>1</td>\n",
              "    </tr>\n",
              "    <tr>\n",
              "      <th>3</th>\n",
              "      <td>1</td>\n",
              "      <td>89</td>\n",
              "      <td>66</td>\n",
              "      <td>23</td>\n",
              "      <td>94</td>\n",
              "      <td>28.1</td>\n",
              "      <td>0.167</td>\n",
              "      <td>21</td>\n",
              "      <td>0</td>\n",
              "    </tr>\n",
              "    <tr>\n",
              "      <th>4</th>\n",
              "      <td>0</td>\n",
              "      <td>137</td>\n",
              "      <td>40</td>\n",
              "      <td>35</td>\n",
              "      <td>168</td>\n",
              "      <td>43.1</td>\n",
              "      <td>2.288</td>\n",
              "      <td>33</td>\n",
              "      <td>1</td>\n",
              "    </tr>\n",
              "  </tbody>\n",
              "</table>\n",
              "</div>"
            ],
            "text/plain": [
              "   Pregnancies  Glucose  BloodPressure  ...  DiabetesPedigreeFunction  Age  Outcome\n",
              "0            6      148             72  ...                     0.627   50        1\n",
              "1            1       85             66  ...                     0.351   31        0\n",
              "2            8      183             64  ...                     0.672   32        1\n",
              "3            1       89             66  ...                     0.167   21        0\n",
              "4            0      137             40  ...                     2.288   33        1\n",
              "\n",
              "[5 rows x 9 columns]"
            ]
          },
          "metadata": {},
          "execution_count": 37
        }
      ]
    },
    {
      "cell_type": "code",
      "metadata": {
        "colab": {
          "base_uri": "https://localhost:8080/"
        },
        "id": "_DKnGsQV-fjy",
        "outputId": "0149bb85-b65f-4e2e-a2e4-4cf67f786bed"
      },
      "source": [
        "# 피처 데이터 세트 X,  레이블 데이터 세트 y를 추출\n",
        "# 맨 끝이 outcome 컬럼으로 레이블 값임. 컬럼 위치 -1을 이용해 추출\n",
        "x = df.iloc[:, : -1] # Outcome 컬럼을 제외한 나머지 데이터 세트\n",
        "y = df.iloc[:, -1] # Outcome 컬럼 세트\n",
        "\n",
        "#print(x)\n",
        "#print(y)\n",
        "\n",
        "x_train, x_test, y_train, y_test = train_test_split(x, y, test_size = 0.2, random_state = 156, stratify=y)\n",
        "\n",
        "# print(x_train); print(y_train)\n",
        "\n",
        "# 로지스틱 회귀로 학습 / 예측 및 평가 / 수행\n",
        "lr = LogisticRegression()\n",
        "lr.fit(x_train, y_train)\n",
        "print('LR accuracy:', lr.score(x_train, y_train))\n",
        "\n",
        "pred = lr.predict(x_test)\n",
        "print('LR predict:', pred)\n",
        "\n",
        "pred_proba = lr.predict_proba(x_test)[:, 1]\n",
        "print('LR predict_proba:', lr.predict_proba(x_test)[:10]) # 10 개만 출력\n"
      ],
      "execution_count": null,
      "outputs": [
        {
          "output_type": "stream",
          "name": "stdout",
          "text": [
            "LR accuracy: 0.7833876221498371\n",
            "LR predict: [0 0 0 0 0 1 1 0 0 0 1 0 0 0 0 0 1 0 0 1 0 0 0 0 0 0 1 1 0 1 0 0 0 0 0 1 0\n",
            " 1 1 1 0 0 1 0 0 0 1 0 0 0 0 1 1 0 0 0 0 0 0 0 0 1 0 1 0 0 0 1 0 1 0 0 0 0\n",
            " 1 0 0 0 0 0 0 0 1 0 0 0 1 1 0 0 0 0 1 0 0 1 0 1 0 1 1 1 0 0 0 0 0 0 0 0 1\n",
            " 0 0 0 0 0 1 0 0 1 1 0 1 1 0 0 0 0 0 0 0 0 0 0 0 0 1 1 0 0 0 1 1 0 1 0 0 0\n",
            " 1 1 0 0 0 0]\n",
            "LR predict_proba: [[0.97821547 0.02178453]\n",
            " [0.79163561 0.20836439]\n",
            " [0.84505936 0.15494064]\n",
            " [0.50582404 0.49417596]\n",
            " [0.95477065 0.04522935]\n",
            " [0.4116655  0.5883345 ]\n",
            " [0.25591776 0.74408224]\n",
            " [0.79616368 0.20383632]\n",
            " [0.84896095 0.15103905]\n",
            " [0.84440563 0.15559437]]\n"
          ]
        },
        {
          "output_type": "stream",
          "name": "stderr",
          "text": [
            "/usr/local/lib/python3.7/dist-packages/sklearn/linear_model/_logistic.py:940: ConvergenceWarning: lbfgs failed to converge (status=1):\n",
            "STOP: TOTAL NO. of ITERATIONS REACHED LIMIT.\n",
            "\n",
            "Increase the number of iterations (max_iter) or scale the data as shown in:\n",
            "    https://scikit-learn.org/stable/modules/preprocessing.html\n",
            "Please also refer to the documentation for alternative solver options:\n",
            "    https://scikit-learn.org/stable/modules/linear_model.html#logistic-regression\n",
            "  extra_warning_msg=_LOGISTIC_SOLVER_CONVERGENCE_MSG)\n"
          ]
        }
      ]
    },
    {
      "cell_type": "code",
      "metadata": {
        "colab": {
          "base_uri": "https://localhost:8080/"
        },
        "id": "SSVvgLOfUJPV",
        "outputId": "9f8e3594-b9df-4a1c-f810-2d16bf8f5c7a"
      },
      "source": [
        "def get_clf_eval(y_test, pred=None, pred_proba=None) :\n",
        "    confusion = confusion_matrix(y_test, pred)\n",
        "    accuracy = accuracy_score(y_test, pred)\n",
        "    precision = precision_score(y_test, pred)\n",
        "    recall = recall_score(y_test, pred)\n",
        "    f1 = f1_score(y_test, pred)\n",
        "    roc_auc = roc_auc_score(y_test, pred_proba)\n",
        "\n",
        "    print('\\n오차행렬')\n",
        "    print(confusion)\n",
        "    print('정확도:{0:.4f}, 정밀도:{1:.4f}, 재현율:{2:.4f},\\\n",
        "            F1:{3:.4f}, AUC:{4:.4f}'.format(accuracy, precision, recall, f1, roc_auc))\n",
        "    \n",
        "\n",
        "\n",
        "get_clf_eval(y_test, pred, pred_proba)\n"
      ],
      "execution_count": null,
      "outputs": [
        {
          "output_type": "stream",
          "name": "stdout",
          "text": [
            "\n",
            "오차행렬\n",
            "[[88 12]\n",
            " [23 31]]\n",
            "정확도:0.7727, 정밀도:0.7209, 재현율:0.5741,            F1:0.6392, AUC:0.7919\n"
          ]
        }
      ]
    },
    {
      "cell_type": "code",
      "metadata": {
        "colab": {
          "base_uri": "https://localhost:8080/",
          "height": 658
        },
        "id": "_XNJqz1iXJ5N",
        "outputId": "5b42e995-6374-44a0-d162-c9761ab3cc16"
      },
      "source": [
        "# 임계값 및 정밀도와 재현율의 변화 확인을 위해 precision_recall_curve_plot() 함수 이용\n",
        "pred_proba_c1 = lr.predict_proba(x_test)[:, 1]\n",
        "#print(pred_proba_c1)\n",
        "precision, recall, thresholds = precision_recall_curve(y_test, pred_proba_c1)\n",
        "print('Precision len:', len(precision))\n",
        "print('precision sample:\\n', precision[:10])\n",
        "print('\\n recall len:', len(recall))\n",
        "print('recall sample:\\n', recall[:10])\n",
        "print('\\n thresholds len:', len(thresholds))\n",
        "print('thresholds sample:\\n', thresholds[:10])\n",
        "\n",
        "# ROC 곡선 그리기\n",
        "# X 축을 thresholds 값, y 축은 정밀도, 재현율 값으로 각각 plot 수행\n",
        "plt.figure(figsize=(6, 6)) # 이미지 사이즈 조정\n",
        "threshold_boundary = thresholds.shape[0]\n",
        "print('threshold_boundary:', threshold_boundary)\n",
        "plt.plot(thresholds, precision[:threshold_boundary], linestyle='--', label='precision')\n",
        "plt.plot(thresholds, recall[:threshold_boundary],    linestyle='solid', label='recall')\n",
        "\n",
        "# thresholds 값 x 축의 scale을 0.1 단위로 변경\n",
        "start, end = plt.xlim() # xlim() ??\n",
        "plt.xticks(np.round(np.arange(start, end, 0.1), 2))\n",
        "\n",
        "# x 축, y 축 label 과 legen, 그리고 각 grid 설정\n",
        "plt.xlabel('Threshold value')\n",
        "plt.ylabel('Precision and Recall value')\n",
        "plt.legend()  #  그래프 상에 선 설명( -- : precision, solid: recall)\n",
        "plt.grid() \n",
        "plt.show()\n"
      ],
      "execution_count": null,
      "outputs": [
        {
          "output_type": "stream",
          "name": "stdout",
          "text": [
            "Precision len: 155\n",
            "precision sample:\n",
            " [0.35064935 0.34640523 0.34868421 0.34437086 0.34666667 0.34228188\n",
            " 0.34459459 0.34693878 0.34931507 0.35172414]\n",
            "\n",
            " recall len: 155\n",
            "recall sample:\n",
            " [1.         0.98148148 0.98148148 0.96296296 0.96296296 0.94444444\n",
            " 0.94444444 0.94444444 0.94444444 0.94444444]\n",
            "\n",
            " thresholds len: 154\n",
            "thresholds sample:\n",
            " [0.01673354 0.02178453 0.03585703 0.04204629 0.04522935 0.05199026\n",
            " 0.05475594 0.05804775 0.05811191 0.06556401]\n",
            "threshold_boundary: 154\n"
          ]
        },
        {
          "output_type": "display_data",
          "data": {
            "image/png": "[encoded data removed]",
            "text/plain": [
              "<Figure size 432x432 with 1 Axes>"
            ]
          },
          "metadata": {
            "needs_background": "light"
          }
        }
      ]
    },
    {
      "cell_type": "markdown",
      "metadata": {
        "id": "reLtsZuPgWir"
      },
      "source": [
        "![pima-indian-precision-recall-curve](https://user-images.githubusercontent.com/291782/138658917-6f8f029b-e99d-49fa-ae4e-dd2dfc0e9a10.png)"
      ]
    },
    {
      "cell_type": "code",
      "metadata": {
        "colab": {
          "base_uri": "https://localhost:8080/",
          "height": 535
        },
        "id": "tSuvF0H7gFeM",
        "outputId": "d80fb327-c26e-41ab-8aac-756ced822267"
      },
      "source": [
        "# 위 precision recall 그래프를 봐도 정밀도 와 재현율이 임계값 0.42 정도에서 균형을 맞춤\n",
        "# 하지만 두 지표 모두 0.7이 안되는 수치로 보임 (0.65 정도)\n",
        "# 성능을 높여보자!\n",
        "\n",
        "print(df.describe())\n",
        "\n",
        "# describe() 값을 살펴보면 min() 값이 0 으로 되어 있는 피처가 많다.\n",
        "# 예를들어 Glucose 는 포도당 수치인데 0 값은 말이 안됨\n",
        "plt.hist(df['Glucose'], bins=10)\n",
        "\n"
      ],
      "execution_count": null,
      "outputs": [
        {
          "output_type": "stream",
          "name": "stdout",
          "text": [
            "       Pregnancies     Glucose  ...         Age     Outcome\n",
            "count   768.000000  768.000000  ...  768.000000  768.000000\n",
            "mean      3.845052  120.894531  ...   33.240885    0.348958\n",
            "std       3.369578   31.972618  ...   11.760232    0.476951\n",
            "min       0.000000    0.000000  ...   21.000000    0.000000\n",
            "25%       1.000000   99.000000  ...   24.000000    0.000000\n",
            "50%       3.000000  117.000000  ...   29.000000    0.000000\n",
            "75%       6.000000  140.250000  ...   41.000000    1.000000\n",
            "max      17.000000  199.000000  ...   81.000000    1.000000\n",
            "\n",
            "[8 rows x 9 columns]\n"
          ]
        },
        {
          "output_type": "execute_result",
          "data": {
            "text/plain": [
              "(array([  5.,   0.,   4.,  32., 156., 211., 163.,  95.,  56.,  46.]),\n",
              " array([  0. ,  19.9,  39.8,  59.7,  79.6,  99.5, 119.4, 139.3, 159.2,\n",
              "        179.1, 199. ]),\n",
              " <a list of 10 Patch objects>)"
            ]
          },
          "metadata": {},
          "execution_count": 74
        },
        {
          "output_type": "display_data",
          "data": {
            "image/png": "[encoded data removed]",
            "text/plain": [
              "<Figure size 432x288 with 1 Axes>"
            ]
          },
          "metadata": {
            "needs_background": "light"
          }
        }
      ]
    },
    {
      "cell_type": "code",
      "metadata": {
        "colab": {
          "base_uri": "https://localhost:8080/"
        },
        "id": "pWMj0XNkikZ7",
        "outputId": "f9f800d4-7e52-4f05-9b33-c09e81bae01c"
      },
      "source": [
        "# min() 값이 0으로 있는 피처에 대해 0값의 건수 및 전체 데이터 건수 대비 및 퍼센트의 비율 확인\n",
        "# 0 값을 검사할 피처 리스트\n",
        "zero_features = ['Glucose', 'BloodPressure', 'SkinThickness', 'Insulin', 'BMI']\n",
        "\n",
        "# 전체 데이터 건수\n",
        "total_count = df.Glucose.count()\n",
        "\n",
        "# 피처별로 반복하면서 데이터 값이 0인 데이터 건수를 추출하고, 퍼센트 계산\n",
        "for feature in zero_features :\n",
        "    zero_count = df[df[feature] == 0][feature].count()\n",
        "    print('{0} 0 건수는 {1}, 퍼센트는 {2:.2f}%'.format(feature, zero_count, 100*zero_count/total_count))"
      ],
      "execution_count": null,
      "outputs": [
        {
          "output_type": "stream",
          "name": "stdout",
          "text": [
            "Glucose 0 건수는 5, 퍼센트는 0.65%\n",
            "BloodPressure 0 건수는 35, 퍼센트는 4.56%\n",
            "SkinThickness 0 건수는 227, 퍼센트는 29.56%\n",
            "Insulin 0 건수는 374, 퍼센트는 48.70%\n",
            "BMI 0 건수는 11, 퍼센트는 1.43%\n"
          ]
        }
      ]
    },
    {
      "cell_type": "code",
      "metadata": {
        "colab": {
          "base_uri": "https://localhost:8080/",
          "height": 419
        },
        "id": "MESXxJ2AnQWm",
        "outputId": "6ea42a1f-6e10-4160-a101-4627ade18f1d"
      },
      "source": [
        "# zero_feature 리스트 내부에 저장된 개별 피처들에 대해서 0 값을 평균으로 대체\n",
        "mean_zero_features = df[zero_features].mean()\n",
        "df[zero_features] = df[zero_features].replace(0, mean_zero_features)\n",
        "df"
      ],
      "execution_count": null,
      "outputs": [
        {
          "output_type": "execute_result",
          "data": {
            "text/html": [
              "<div>\n",
              "<style scoped>\n",
              "    .dataframe tbody tr th:only-of-type {\n",
              "        vertical-align: middle;\n",
              "    }\n",
              "\n",
              "    .dataframe tbody tr th {\n",
              "        vertical-align: top;\n",
              "    }\n",
              "\n",
              "    .dataframe thead th {\n",
              "        text-align: right;\n",
              "    }\n",
              "</style>\n",
              "<table border=\"1\" class=\"dataframe\">\n",
              "  <thead>\n",
              "    <tr style=\"text-align: right;\">\n",
              "      <th></th>\n",
              "      <th>Pregnancies</th>\n",
              "      <th>Glucose</th>\n",
              "      <th>BloodPressure</th>\n",
              "      <th>SkinThickness</th>\n",
              "      <th>Insulin</th>\n",
              "      <th>BMI</th>\n",
              "      <th>DiabetesPedigreeFunction</th>\n",
              "      <th>Age</th>\n",
              "      <th>Outcome</th>\n",
              "    </tr>\n",
              "  </thead>\n",
              "  <tbody>\n",
              "    <tr>\n",
              "      <th>0</th>\n",
              "      <td>6</td>\n",
              "      <td>148.0</td>\n",
              "      <td>72.0</td>\n",
              "      <td>35.000000</td>\n",
              "      <td>79.799479</td>\n",
              "      <td>33.6</td>\n",
              "      <td>0.627</td>\n",
              "      <td>50</td>\n",
              "      <td>1</td>\n",
              "    </tr>\n",
              "    <tr>\n",
              "      <th>1</th>\n",
              "      <td>1</td>\n",
              "      <td>85.0</td>\n",
              "      <td>66.0</td>\n",
              "      <td>29.000000</td>\n",
              "      <td>79.799479</td>\n",
              "      <td>26.6</td>\n",
              "      <td>0.351</td>\n",
              "      <td>31</td>\n",
              "      <td>0</td>\n",
              "    </tr>\n",
              "    <tr>\n",
              "      <th>2</th>\n",
              "      <td>8</td>\n",
              "      <td>183.0</td>\n",
              "      <td>64.0</td>\n",
              "      <td>20.536458</td>\n",
              "      <td>79.799479</td>\n",
              "      <td>23.3</td>\n",
              "      <td>0.672</td>\n",
              "      <td>32</td>\n",
              "      <td>1</td>\n",
              "    </tr>\n",
              "    <tr>\n",
              "      <th>3</th>\n",
              "      <td>1</td>\n",
              "      <td>89.0</td>\n",
              "      <td>66.0</td>\n",
              "      <td>23.000000</td>\n",
              "      <td>94.000000</td>\n",
              "      <td>28.1</td>\n",
              "      <td>0.167</td>\n",
              "      <td>21</td>\n",
              "      <td>0</td>\n",
              "    </tr>\n",
              "    <tr>\n",
              "      <th>4</th>\n",
              "      <td>0</td>\n",
              "      <td>137.0</td>\n",
              "      <td>40.0</td>\n",
              "      <td>35.000000</td>\n",
              "      <td>168.000000</td>\n",
              "      <td>43.1</td>\n",
              "      <td>2.288</td>\n",
              "      <td>33</td>\n",
              "      <td>1</td>\n",
              "    </tr>\n",
              "    <tr>\n",
              "      <th>...</th>\n",
              "      <td>...</td>\n",
              "      <td>...</td>\n",
              "      <td>...</td>\n",
              "      <td>...</td>\n",
              "      <td>...</td>\n",
              "      <td>...</td>\n",
              "      <td>...</td>\n",
              "      <td>...</td>\n",
              "      <td>...</td>\n",
              "    </tr>\n",
              "    <tr>\n",
              "      <th>763</th>\n",
              "      <td>10</td>\n",
              "      <td>101.0</td>\n",
              "      <td>76.0</td>\n",
              "      <td>48.000000</td>\n",
              "      <td>180.000000</td>\n",
              "      <td>32.9</td>\n",
              "      <td>0.171</td>\n",
              "      <td>63</td>\n",
              "      <td>0</td>\n",
              "    </tr>\n",
              "    <tr>\n",
              "      <th>764</th>\n",
              "      <td>2</td>\n",
              "      <td>122.0</td>\n",
              "      <td>70.0</td>\n",
              "      <td>27.000000</td>\n",
              "      <td>79.799479</td>\n",
              "      <td>36.8</td>\n",
              "      <td>0.340</td>\n",
              "      <td>27</td>\n",
              "      <td>0</td>\n",
              "    </tr>\n",
              "    <tr>\n",
              "      <th>765</th>\n",
              "      <td>5</td>\n",
              "      <td>121.0</td>\n",
              "      <td>72.0</td>\n",
              "      <td>23.000000</td>\n",
              "      <td>112.000000</td>\n",
              "      <td>26.2</td>\n",
              "      <td>0.245</td>\n",
              "      <td>30</td>\n",
              "      <td>0</td>\n",
              "    </tr>\n",
              "    <tr>\n",
              "      <th>766</th>\n",
              "      <td>1</td>\n",
              "      <td>126.0</td>\n",
              "      <td>60.0</td>\n",
              "      <td>20.536458</td>\n",
              "      <td>79.799479</td>\n",
              "      <td>30.1</td>\n",
              "      <td>0.349</td>\n",
              "      <td>47</td>\n",
              "      <td>1</td>\n",
              "    </tr>\n",
              "    <tr>\n",
              "      <th>767</th>\n",
              "      <td>1</td>\n",
              "      <td>93.0</td>\n",
              "      <td>70.0</td>\n",
              "      <td>31.000000</td>\n",
              "      <td>79.799479</td>\n",
              "      <td>30.4</td>\n",
              "      <td>0.315</td>\n",
              "      <td>23</td>\n",
              "      <td>0</td>\n",
              "    </tr>\n",
              "  </tbody>\n",
              "</table>\n",
              "<p>768 rows × 9 columns</p>\n",
              "</div>"
            ],
            "text/plain": [
              "     Pregnancies  Glucose  ...  Age  Outcome\n",
              "0              6    148.0  ...   50        1\n",
              "1              1     85.0  ...   31        0\n",
              "2              8    183.0  ...   32        1\n",
              "3              1     89.0  ...   21        0\n",
              "4              0    137.0  ...   33        1\n",
              "..           ...      ...  ...  ...      ...\n",
              "763           10    101.0  ...   63        0\n",
              "764            2    122.0  ...   27        0\n",
              "765            5    121.0  ...   30        0\n",
              "766            1    126.0  ...   47        1\n",
              "767            1     93.0  ...   23        0\n",
              "\n",
              "[768 rows x 9 columns]"
            ]
          },
          "metadata": {},
          "execution_count": 76
        }
      ]
    },
    {
      "cell_type": "code",
      "metadata": {
        "colab": {
          "base_uri": "https://localhost:8080/"
        },
        "id": "VqbcPtiYn0LP",
        "outputId": "05fb7fd1-7be5-4f8b-841b-83fc4684041f"
      },
      "source": [
        "# 0 값을 평균값으로 대체한 데이터 세트에 피처 스케일링을 적용해 변환\n",
        "X = df.iloc[:, : -1]\n",
        "y = df.iloc[:, -1]\n",
        "\n",
        "# StandardScaler 클래스를 이용해 피처 데이터 세트에 일괄적으로 스케일링 적용\n",
        "sc = StandardScaler()\n",
        "x_scaled = sc.fit_transform(X)\n",
        "\n",
        "x_train, x_test, y_train, y_test = train_test_split(x_scaled, y, test_size=0.2, random_state=111, stratify=y)\n",
        "\n",
        "# 로지스틱 회귀로 학습, 예측 및 평가 수행\n",
        "lr = LogisticRegression()\n",
        "lr.fit(x_train, y_train)\n",
        "pred = lr.predict(x_test)\n",
        "pred_proba = lr.predict_proba(x_test)[:, 1]\n",
        "\n",
        "get_clf_eval(y_test, pred, pred_proba)  # 정밀도는 0.7 이상으로 개선됨. 재현율이 0.5 정도로 개션이 필요함"
      ],
      "execution_count": null,
      "outputs": [
        {
          "output_type": "stream",
          "name": "stdout",
          "text": [
            "\n",
            "오차행렬\n",
            "[[89 11]\n",
            " [27 27]]\n",
            "정확도:0.7532, 정밀도:0.7105, 재현율:0.5000,            F1:0.5870, AUC:0.7993\n"
          ]
        }
      ]
    },
    {
      "cell_type": "code",
      "metadata": {
        "id": "I3fVZVVKo6tq"
      },
      "source": [
        "# 임곗값 변화시키며 재현율 성능수치 확인\n",
        "thresholds = [0.3, 0.33, 0.36, 0.39, 0.42, 0.45, 0.48, 0.50]\n",
        "pred_proba = lr.predcit_proba(x_test)\n",
        "\n",
        "# p.181 부터\n",
        "부터\n",
        "또 181 부터"
      ],
      "execution_count": null,
      "outputs": []
    }
  ]
}