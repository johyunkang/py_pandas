{
  "nbformat": 4,
  "nbformat_minor": 0,
  "metadata": {
    "colab": {
      "name": "python_ml_guide_01.ipynb",
      "provenance": [],
      "collapsed_sections": [],
      "authorship_tag": "ABX9TyM0XdZYls6JsT6inT1qnIWb",
      "include_colab_link": true
    },
    "kernelspec": {
      "name": "python3",
      "display_name": "Python 3"
    },
    "language_info": {
      "name": "python"
    }
  },
  "cells": [
    {
      "cell_type": "markdown",
      "metadata": {
        "id": "view-in-github",
        "colab_type": "text"
      },
      "source": [
        "<a href=\"https://colab.research.google.com/github/johyunkang/py_pandas/blob/main/python_ml_guide_01.ipynb\" target=\"_parent\"><img src=\"https://colab.research.google.com/assets/colab-badge.svg\" alt=\"Open In Colab\"/></a>"
      ]
    },
    {
      "cell_type": "code",
      "metadata": {
        "colab": {
          "base_uri": "https://localhost:8080/"
        },
        "id": "4O3p1sLNLybV",
        "outputId": "f7605278-f00b-4fbe-b66e-7f411d2a8b75"
      },
      "source": [
        "import numpy as np\n",
        "\n",
        "array1 = np.array([1,2,3])\n",
        "print('array1 type:', type(array1))\n",
        "print('array1 array 형태:', array1.shape)\n",
        "\n",
        "array2 = np.array([[1,2,3], [4,5,6]])\n",
        "print('array2 type:', type(array2))\n",
        "print('array2 array 형태:', array2.shape)\n",
        "\n",
        "array3 = np.array([[1,2,3]])\n",
        "print('array3 type:', type(array3))\n",
        "print('array3 array 형태:', array3.shape)\n",
        "\n",
        "print('array1:{:0}차원, array2:{:1}차원, array3:{:2}차원'.format(array1.ndim, array2.ndim, array3.ndim))\n",
        "\n",
        "list1 = [1, 2, 3]\n",
        "print(type(list1))\n",
        "\n",
        "array1 = np.array(list1)\n",
        "print(type(array1))\n",
        "print(array1, array1.dtype)\n",
        "\n",
        "\n"
      ],
      "execution_count": 2,
      "outputs": [
        {
          "output_type": "stream",
          "name": "stdout",
          "text": [
            "array1 type: <class 'numpy.ndarray'>\n",
            "array1 array 형태: (3,)\n",
            "array2 type: <class 'numpy.ndarray'>\n",
            "array2 array 형태: (2, 3)\n",
            "array3 type: <class 'numpy.ndarray'>\n",
            "array3 array 형태: (1, 3)\n",
            "array1:1차원, array2:2차원, array3: 2차원\n",
            "<class 'list'>\n",
            "<class 'numpy.ndarray'>\n",
            "[1 2 3] int64\n"
          ]
        }
      ]
    },
    {
      "cell_type": "markdown",
      "metadata": {
        "id": "pz5eyKt1OgLH"
      },
      "source": [
        "type 변경\n"
      ]
    },
    {
      "cell_type": "code",
      "metadata": {
        "colab": {
          "base_uri": "https://localhost:8080/"
        },
        "id": "7kmeaBXqOk8w",
        "outputId": "900f0bb0-e90e-49dd-f457-950607f3d169"
      },
      "source": [
        "array_int = np.array([1,2,3])\n",
        "array_float = array_int.astype('float64')\n",
        "print(array_float, array_float.dtype)\n",
        "\n",
        "array_int1 = array_float.astype('int32')\n",
        "print(array_int1, array_int1.dtype)\n",
        "\n",
        "array_float1 = np.array([1.1, 2.1, 3.1])\n",
        "print(array_float1)\n",
        "array_int2 = array_float.astype('int32')\n",
        "print(array_int2, array_int2.dtype)"
      ],
      "execution_count": 3,
      "outputs": [
        {
          "output_type": "stream",
          "name": "stdout",
          "text": [
            "[1. 2. 3.] float64\n",
            "[1 2 3] int32\n",
            "[1.1 2.1 3.1]\n",
            "[1 2 3] int32\n"
          ]
        }
      ]
    },
    {
      "cell_type": "markdown",
      "metadata": {
        "id": "vMIjmHxsUGM9"
      },
      "source": [
        "**ndarray를 편리하게 생성하기 - arrange, zeros, ones**\n",
        "\n",
        "\n"
      ]
    },
    {
      "cell_type": "code",
      "metadata": {
        "colab": {
          "base_uri": "https://localhost:8080/"
        },
        "id": "jdiLkjPiUVOo",
        "outputId": "99c4176c-3c8a-4373-e013-c5d01f657a08"
      },
      "source": [
        "# arange() TO 값까지\n",
        "seq_array = np.arange(10)\n",
        "print(seq_array)\n",
        "\n",
        "# arange() from to\n",
        "seq_array1 = np.arange(1, 10)\n",
        "print(seq_array1)\n",
        "\n",
        "# arange() from to interval\n",
        "seq_array2 = np.arange(1,10, 2)\n",
        "print(seq_array2)\n",
        "\n",
        "print('--------------------------------------------------')\n",
        "# zeros()\n",
        "zero_array = np.zeros((3,2), dtype='int32')\n",
        "print(zero_array)\n",
        "print('zero_array type:', zero_array.dtype, 'shape:', zero_array.shape)\n",
        "\n",
        "print('--------------------------------------------------')\n",
        "# ones()\n",
        "one_array = np.ones((3,2))\n",
        "print(one_array)\n",
        "print('ones type:', one_array.dtype, 'shape:', one_array.shape)"
      ],
      "execution_count": 4,
      "outputs": [
        {
          "output_type": "stream",
          "name": "stdout",
          "text": [
            "[0 1 2 3 4 5 6 7 8 9]\n",
            "[1 2 3 4 5 6 7 8 9]\n",
            "[1 3 5 7 9]\n",
            "--------------------------------------------------\n",
            "[[0 0]\n",
            " [0 0]\n",
            " [0 0]]\n",
            "zero_array type: int32 shape: (3, 2)\n",
            "--------------------------------------------------\n",
            "[[1. 1.]\n",
            " [1. 1.]\n",
            " [1. 1.]]\n",
            "ones type: float64 shape: (3, 2)\n"
          ]
        }
      ]
    },
    {
      "cell_type": "markdown",
      "metadata": {
        "id": "Y4LgmW-DWnFr"
      },
      "source": [
        "**차원과 크기를 변경하는 reshape()**"
      ]
    },
    {
      "cell_type": "code",
      "metadata": {
        "colab": {
          "base_uri": "https://localhost:8080/"
        },
        "id": "1sb_YELXWt7d",
        "outputId": "ad020ba2-3844-4439-e993-c1f0c4afd7f5"
      },
      "source": [
        "array1 = np.arange(10)\n",
        "print('array1:\\n', array1)\n",
        "\n",
        "array2 = array1.reshape(2,5)\n",
        "print('array2:\\n', array2)\n",
        "\n",
        "array3 = array1.reshape(5,2)\n",
        "print('array3:\\n', array3)\n",
        "\n",
        "# -1 인자는 변경 가능한 숫자로 자동대입 \n",
        "# reshape(2,5) 를 입력해야 하지만 열 인자에 5를 넣었을때 가능한 행 인자는 2 이기에 -1 이 2로 자동대입 됨\n",
        "array4 = array1.reshape(-1,5)\n",
        "print('array4:\\n', array4)\n",
        "\n",
        "array5 = array1.reshape(5,-1)\n",
        "print('array5:\\n', array5)"
      ],
      "execution_count": 5,
      "outputs": [
        {
          "output_type": "stream",
          "name": "stdout",
          "text": [
            "array1:\n",
            " [0 1 2 3 4 5 6 7 8 9]\n",
            "array2:\n",
            " [[0 1 2 3 4]\n",
            " [5 6 7 8 9]]\n",
            "array3:\n",
            " [[0 1]\n",
            " [2 3]\n",
            " [4 5]\n",
            " [6 7]\n",
            " [8 9]]\n",
            "array4:\n",
            " [[0 1 2 3 4]\n",
            " [5 6 7 8 9]]\n",
            "array5:\n",
            " [[0 1]\n",
            " [2 3]\n",
            " [4 5]\n",
            " [6 7]\n",
            " [8 9]]\n"
          ]
        }
      ]
    },
    {
      "cell_type": "markdown",
      "metadata": {
        "id": "-RI1xjZxxjlm"
      },
      "source": [
        "### Indexing\n"
      ]
    },
    {
      "cell_type": "code",
      "metadata": {
        "colab": {
          "base_uri": "https://localhost:8080/"
        },
        "id": "FAA55Z2hxmT3",
        "outputId": "d83204dd-b3ec-4194-9bdb-016f6ee1c6c8"
      },
      "source": [
        "# 1부터 9까지의 1차원 ndarray 생성\n",
        "array1 = np.arange(start=1, stop=10)\n",
        "print('array1:', array1)\n",
        "\n",
        "value = array1[2]\n",
        "print('value:', value)\n",
        "print(type(value))\n",
        "\n",
        "array1[8] = 1\n",
        "array1[7] = 5\n",
        "print('array1:', array1)\n",
        "\n",
        "\n",
        "array1d = np.arange(start=1, stop=10)\n",
        "array2d = array1d.reshape(3,3)\n",
        "print(array2d)\n",
        "\n",
        "print('row=0, col=0 index 값:', array2d[0,0])\n",
        "print('row=2, col=2 index 값:', array2d[2,2])"
      ],
      "execution_count": 11,
      "outputs": [
        {
          "output_type": "stream",
          "name": "stdout",
          "text": [
            "array1: [1 2 3 4 5 6 7 8 9]\n",
            "value: 3\n",
            "<class 'numpy.int64'>\n",
            "array1: [1 2 3 4 5 6 7 5 1]\n",
            "[[1 2 3]\n",
            " [4 5 6]\n",
            " [7 8 9]]\n",
            "row=0, col=0 index 값: 1\n",
            "row=2, col=2 index 값: 9\n"
          ]
        }
      ]
    }
  ]
}