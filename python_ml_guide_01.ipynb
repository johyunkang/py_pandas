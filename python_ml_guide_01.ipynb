{
  "nbformat": 4,
  "nbformat_minor": 0,
  "metadata": {
    "colab": {
      "name": "python_ml_guide_01.ipynb",
      "provenance": [],
      "collapsed_sections": [],
      "mount_file_id": "1_IIGv8dVwaMHQF9k7BzoHUBvSaOmlE35",
      "authorship_tag": "ABX9TyOTDR3uMpNuxNzbvMW9BdEi",
      "include_colab_link": true
    },
    "kernelspec": {
      "name": "python3",
      "display_name": "Python 3"
    },
    "language_info": {
      "name": "python"
    }
  },
  "cells": [
    {
      "cell_type": "markdown",
      "metadata": {
        "id": "view-in-github",
        "colab_type": "text"
      },
      "source": [
        "<a href=\"https://colab.research.google.com/github/johyunkang/py_pandas/blob/main/python_ml_guide_01.ipynb\" target=\"_parent\"><img src=\"https://colab.research.google.com/assets/colab-badge.svg\" alt=\"Open In Colab\"/></a>"
      ]
    },
    {
      "cell_type": "code",
      "metadata": {
        "colab": {
          "base_uri": "https://localhost:8080/"
        },
        "id": "4O3p1sLNLybV",
        "outputId": "7a79ba07-3625-4cd6-c875-f27bd6a0e9b8"
      },
      "source": [
        "import numpy as np\n",
        "\n",
        "array1 = np.array([1,2,3])\n",
        "print('array1 type:', type(array1))\n",
        "print('array1 array 형태:', array1.shape)\n",
        "\n",
        "array2 = np.array([[1,2,3], [4,5,6]])\n",
        "print('array2 type:', type(array2))\n",
        "print('array2 array 형태:', array2.shape)\n",
        "\n",
        "array3 = np.array([[1,2,3]])\n",
        "print('array3 type:', type(array3))\n",
        "print('array3 array 형태:', array3.shape)\n",
        "\n",
        "print('array1:{:0}차원, array2:{:1}차원, array3:{:2}차원'.format(array1.ndim, array2.ndim, array3.ndim))\n",
        "\n",
        "list1 = [1, 2, 3]\n",
        "print(type(list1))\n",
        "\n",
        "array1 = np.array(list1)\n",
        "print(type(array1))\n",
        "print(array1, array1.dtype)\n",
        "\n",
        "\n"
      ],
      "execution_count": 1,
      "outputs": [
        {
          "output_type": "stream",
          "name": "stdout",
          "text": [
            "array1 type: <class 'numpy.ndarray'>\n",
            "array1 array 형태: (3,)\n",
            "array2 type: <class 'numpy.ndarray'>\n",
            "array2 array 형태: (2, 3)\n",
            "array3 type: <class 'numpy.ndarray'>\n",
            "array3 array 형태: (1, 3)\n",
            "array1:1차원, array2:2차원, array3: 2차원\n",
            "<class 'list'>\n",
            "<class 'numpy.ndarray'>\n",
            "[1 2 3] int64\n"
          ]
        }
      ]
    },
    {
      "cell_type": "markdown",
      "metadata": {
        "id": "pz5eyKt1OgLH"
      },
      "source": [
        "type 변경\n"
      ]
    },
    {
      "cell_type": "code",
      "metadata": {
        "colab": {
          "base_uri": "https://localhost:8080/"
        },
        "id": "7kmeaBXqOk8w",
        "outputId": "e2d4d535-8338-44a1-c0ec-bf99dd50a3e9"
      },
      "source": [
        "array_int = np.array([1,2,3])\n",
        "array_float = array_int.astype('float64')\n",
        "print(array_float, array_float.dtype)\n",
        "\n",
        "array_int1 = array_float.astype('int32')\n",
        "print(array_int1, array_int1.dtype)\n",
        "\n",
        "array_float1 = np.array([1.1, 2.1, 3.1])\n",
        "print(array_float1)\n",
        "array_int2 = array_float.astype('int32')\n",
        "print(array_int2, array_int2.dtype)"
      ],
      "execution_count": 2,
      "outputs": [
        {
          "output_type": "stream",
          "name": "stdout",
          "text": [
            "[1. 2. 3.] float64\n",
            "[1 2 3] int32\n",
            "[1.1 2.1 3.1]\n",
            "[1 2 3] int32\n"
          ]
        }
      ]
    },
    {
      "cell_type": "markdown",
      "metadata": {
        "id": "vMIjmHxsUGM9"
      },
      "source": [
        "**ndarray를 편리하게 생성하기 - arrange, zeros, ones**\n",
        "\n",
        "\n"
      ]
    },
    {
      "cell_type": "code",
      "metadata": {
        "colab": {
          "base_uri": "https://localhost:8080/"
        },
        "id": "jdiLkjPiUVOo",
        "outputId": "9572cd0f-40ef-456e-8e12-b82bb00ed699"
      },
      "source": [
        "# arange() TO 값까지\n",
        "seq_array = np.arange(10)\n",
        "print(seq_array)\n",
        "\n",
        "# arange() from to\n",
        "seq_array1 = np.arange(1, 10)\n",
        "print(seq_array1)\n",
        "\n",
        "# arange() from to interval\n",
        "seq_array2 = np.arange(1,10, 2)\n",
        "print(seq_array2)\n",
        "\n",
        "print('--------------------------------------------------')\n",
        "# zeros()\n",
        "zero_array = np.zeros((3,2), dtype='int32')\n",
        "print(zero_array)\n",
        "print('zero_array type:', zero_array.dtype, 'shape:', zero_array.shape)\n",
        "\n",
        "print('--------------------------------------------------')\n",
        "# ones()\n",
        "one_array = np.ones((3,2))\n",
        "print(one_array)\n",
        "print('ones type:', one_array.dtype, 'shape:', one_array.shape)"
      ],
      "execution_count": 3,
      "outputs": [
        {
          "output_type": "stream",
          "name": "stdout",
          "text": [
            "[0 1 2 3 4 5 6 7 8 9]\n",
            "[1 2 3 4 5 6 7 8 9]\n",
            "[1 3 5 7 9]\n",
            "--------------------------------------------------\n",
            "[[0 0]\n",
            " [0 0]\n",
            " [0 0]]\n",
            "zero_array type: int32 shape: (3, 2)\n",
            "--------------------------------------------------\n",
            "[[1. 1.]\n",
            " [1. 1.]\n",
            " [1. 1.]]\n",
            "ones type: float64 shape: (3, 2)\n"
          ]
        }
      ]
    },
    {
      "cell_type": "markdown",
      "metadata": {
        "id": "Y4LgmW-DWnFr"
      },
      "source": [
        "**차원과 크기를 변경하는 reshape()**"
      ]
    },
    {
      "cell_type": "code",
      "metadata": {
        "colab": {
          "base_uri": "https://localhost:8080/"
        },
        "id": "1sb_YELXWt7d",
        "outputId": "cca99c61-f9a0-47e4-ba0e-e23ca96c2645"
      },
      "source": [
        "array1 = np.arange(10)\n",
        "print('array1:\\n', array1)\n",
        "\n",
        "array2 = array1.reshape(2,5)\n",
        "print('array2:\\n', array2)\n",
        "\n",
        "array3 = array1.reshape(5,2)\n",
        "print('array3:\\n', array3)\n",
        "\n",
        "# -1 인자는 변경 가능한 숫자로 자동대입 \n",
        "# reshape(2,5) 를 입력해야 하지만 열 인자에 5를 넣었을때 가능한 행 인자는 2 이기에 -1 이 2로 자동대입 됨\n",
        "array4 = array1.reshape(-1,5)\n",
        "print('array4:\\n', array4)\n",
        "\n",
        "array5 = array1.reshape(5,-1)\n",
        "print('array5:\\n', array5)"
      ],
      "execution_count": 4,
      "outputs": [
        {
          "output_type": "stream",
          "name": "stdout",
          "text": [
            "array1:\n",
            " [0 1 2 3 4 5 6 7 8 9]\n",
            "array2:\n",
            " [[0 1 2 3 4]\n",
            " [5 6 7 8 9]]\n",
            "array3:\n",
            " [[0 1]\n",
            " [2 3]\n",
            " [4 5]\n",
            " [6 7]\n",
            " [8 9]]\n",
            "array4:\n",
            " [[0 1 2 3 4]\n",
            " [5 6 7 8 9]]\n",
            "array5:\n",
            " [[0 1]\n",
            " [2 3]\n",
            " [4 5]\n",
            " [6 7]\n",
            " [8 9]]\n"
          ]
        }
      ]
    },
    {
      "cell_type": "markdown",
      "metadata": {
        "id": "-RI1xjZxxjlm"
      },
      "source": [
        "### Indexing\n"
      ]
    },
    {
      "cell_type": "code",
      "metadata": {
        "colab": {
          "base_uri": "https://localhost:8080/"
        },
        "id": "FAA55Z2hxmT3",
        "outputId": "e8987981-7db7-4bfb-824a-48901c594a5d"
      },
      "source": [
        "# 1부터 9까지의 1차원 ndarray 생성\n",
        "array1 = np.arange(start=1, stop=10)\n",
        "print('array1:', array1)\n",
        "\n",
        "value = array1[2]\n",
        "print('value:', value)\n",
        "print(type(value))\n",
        "\n",
        "array1[8] = 1\n",
        "array1[7] = 5\n",
        "print('array1:', array1)\n",
        "\n",
        "\n",
        "array1d = np.arange(start=1, stop=10)\n",
        "array2d = array1d.reshape(3,3)\n",
        "print(array2d)\n",
        "\n",
        "print('row=0, col=0 index 값:', array2d[0,0])\n",
        "print('row=2, col=2 index 값:', array2d[2,2])"
      ],
      "execution_count": 5,
      "outputs": [
        {
          "output_type": "stream",
          "name": "stdout",
          "text": [
            "array1: [1 2 3 4 5 6 7 8 9]\n",
            "value: 3\n",
            "<class 'numpy.int64'>\n",
            "array1: [1 2 3 4 5 6 7 5 1]\n",
            "[[1 2 3]\n",
            " [4 5 6]\n",
            " [7 8 9]]\n",
            "row=0, col=0 index 값: 1\n",
            "row=2, col=2 index 값: 9\n"
          ]
        }
      ]
    },
    {
      "cell_type": "markdown",
      "metadata": {
        "id": "8VObza_b_BZI"
      },
      "source": [
        "## 행렬의 정렬 - sort() 와 argsort()\n",
        "\n",
        "### np.sort() 와 ndarray.sort()의 차이점\n",
        "- np.sort() : 원 행렬은 그대로 유지한 채 원 행렬의 정렬된 행렬을 반환\n",
        "- ndarray.sort() : 원 행렬 자체를 정렬한 형태로 변환하며 반환 값은 None\n"
      ]
    },
    {
      "cell_type": "code",
      "metadata": {
        "colab": {
          "base_uri": "https://localhost:8080/"
        },
        "id": "gYMxpzDu_dg1",
        "outputId": "f9e51e15-7278-4b34-9fb8-8ac50f99d2b6"
      },
      "source": [
        "org_array = np.array([3, 1, 9, 5])\n",
        "print('org array:', org_array)\n",
        "\n",
        "# np.sort()로 정렬\n",
        "np_sort =  np.sort(org_array)\n",
        "print('np_sort:', np_sort)\n",
        "print('org_array after np_sort:', org_array)\n",
        "\n",
        "# ndarray.sort()\n",
        "nd_sort = org_array.sort()\n",
        "print('org_array after ndarray.sort:', org_array)\n",
        "print('nd_sort:', nd_sort)\n",
        "\n",
        "# np.sort(), ndarray.sort() desc : [::-1] \n",
        "np_sort_desc = np.sort(org_array)[::-1]\n",
        "print('np_sort desc:', np_sort_desc)\n",
        "\n",
        "# 2d matrix sorting\n",
        "array2d = np.array([[8,1],\n",
        "                    [7, 12]])\n",
        "np_sort_2d_axis0 = np.sort(array2d, axis=0)\n",
        "print('row sorting:', np_sort_2d_axis0)\n",
        "\n",
        "np_sort_2d_axis1 = np.sort(array2d, axis=1)\n",
        "print('col sorting:', np_sort_2d_axis1)\n",
        "\n",
        "\n"
      ],
      "execution_count": 6,
      "outputs": [
        {
          "output_type": "stream",
          "name": "stdout",
          "text": [
            "org array: [3 1 9 5]\n",
            "np_sort: [1 3 5 9]\n",
            "org_array after np_sort: [3 1 9 5]\n",
            "org_array after ndarray.sort: [1 3 5 9]\n",
            "nd_sort: None\n",
            "np_sort desc: [9 5 3 1]\n",
            "row sorting: [[ 7  1]\n",
            " [ 8 12]]\n",
            "col sorting: [[ 1  8]\n",
            " [ 7 12]]\n"
          ]
        }
      ]
    },
    {
      "cell_type": "markdown",
      "metadata": {
        "id": "WB2C_kCwCaqO"
      },
      "source": [
        "### 행렬의 인덱스 값 반환 정렬 - np.argsort()\n"
      ]
    },
    {
      "cell_type": "code",
      "metadata": {
        "colab": {
          "base_uri": "https://localhost:8080/"
        },
        "id": "5HqEEGzHChbC",
        "outputId": "26f645c6-f6cd-4de7-89e7-9fac956db3a6"
      },
      "source": [
        "# 정렬된 행렬의 인덱스 값 반환 - np.argsort()\n",
        "org_array = np.array([3,1,9,5])\n",
        "sort_index = np.argsort(org_array)[::-1] # desc\n",
        "print(type(sort_index))\n",
        "print('행렬 정렬 시 원본 행렬의 인덱스:', sort_index)\n",
        "\n",
        "name_array = np.array(['john', 'mike', 'sarah', 'kate', 'samuel'])\n",
        "score_array = np.array([78, 95, 84, 98, 88])\n",
        "\n",
        "sort_indices_asc = np.argsort(score_array)\n",
        "print('성적 오름차순 정렬 시 score_array의 인덱스:', sort_indices_asc)\n",
        "print('성적 오름차순으로 name_array의 이름 출력:', name_array[sort_indices_asc])"
      ],
      "execution_count": 7,
      "outputs": [
        {
          "output_type": "stream",
          "name": "stdout",
          "text": [
            "<class 'numpy.ndarray'>\n",
            "행렬 정렬 시 원본 행렬의 인덱스: [2 3 0 1]\n",
            "성적 오름차순 정렬 시 score_array의 인덱스: [0 2 4 1 3]\n",
            "성적 오름차순으로 name_array의 이름 출력: ['john' 'sarah' 'samuel' 'mike' 'kate']\n"
          ]
        }
      ]
    },
    {
      "cell_type": "markdown",
      "metadata": {
        "id": "GrULP4MCDg62"
      },
      "source": [
        "## 선형대수 연산 - 행렬 내적과 전치 행렬 구하기\n"
      ]
    },
    {
      "cell_type": "code",
      "metadata": {
        "colab": {
          "base_uri": "https://localhost:8080/"
        },
        "id": "M8xYqDEYD2ZY",
        "outputId": "86f87e35-b4ef-46b4-8d2a-99a7400a0d10"
      },
      "source": [
        "#행렬 내적(행렬 곱)\n",
        "A = np.array([[1,2,3],\n",
        "             [4,5,6]])\n",
        "\n",
        "B = np.array([[7, 8],\n",
        "             [9, 10],\n",
        "             [11, 12]])\n",
        "\n",
        "dot_product = np.dot(A,B)\n",
        "print('행렬 내적 결과:\\n', dot_product)\n",
        "\n",
        "# 전치행렬 transpose()\n",
        "\n",
        "a = np.array([[1, 2],\n",
        "              [3, 4]])\n",
        "transpose_a = np.transpose(a)\n",
        "print('a 의 전치행렬:', transpose_a)\n",
        "\n",
        "b = np.array([[1, 2],\n",
        "              [3, 4],\n",
        "              [5, 6]])\n",
        "transpose_b = np.transpose(b)\n",
        "print('b의 전치행렬:', transpose_b)"
      ],
      "execution_count": 8,
      "outputs": [
        {
          "output_type": "stream",
          "name": "stdout",
          "text": [
            "행렬 내적 결과:\n",
            " [[ 58  64]\n",
            " [139 154]]\n",
            "a 의 전치행렬: [[1 3]\n",
            " [2 4]]\n",
            "b의 전치행렬: [[1 3 5]\n",
            " [2 4 6]]\n"
          ]
        }
      ]
    },
    {
      "cell_type": "markdown",
      "metadata": {
        "id": "z9B1H0xQHqRa"
      },
      "source": [
        "# Pandas\n",
        "\n",
        "## titanic \n"
      ]
    },
    {
      "cell_type": "code",
      "metadata": {
        "colab": {
          "base_uri": "https://localhost:8080/"
        },
        "id": "0KEwBeYkIMW5",
        "outputId": "bc2f860c-f226-41fd-b4dd-411add38bc92"
      },
      "source": [
        "# google drive 연결\n",
        "from google.colab import drive\n",
        "drive.mount('/content/drive')"
      ],
      "execution_count": 9,
      "outputs": [
        {
          "output_type": "stream",
          "name": "stdout",
          "text": [
            "Drive already mounted at /content/drive; to attempt to forcibly remount, call drive.mount(\"/content/drive\", force_remount=True).\n"
          ]
        }
      ]
    },
    {
      "cell_type": "code",
      "metadata": {
        "colab": {
          "base_uri": "https://localhost:8080/"
        },
        "id": "qnPuBG1PIcM6",
        "outputId": "460b4515-4a3b-4d9e-e5c6-1e70506ed26a"
      },
      "source": [
        "import pandas as pd\n",
        "\n",
        "train = pd.read_csv('/content/drive/MyDrive/Colab Notebooks/data/titanic/train.csv')\n",
        "train.head(10)\n",
        "\n",
        "# DF 크기 체크 : shape\n",
        "print('df 크기:', train.shape)\n",
        "\n",
        "# info\n",
        "train.info()\n",
        "\n",
        "#describe\n",
        "train.describe()\n",
        "\n",
        "# value_counts()\n",
        "value_counts = train['Pclass'].value_counts()\n",
        "print(value_counts)\n",
        "\n",
        "# Series\n",
        "titanic_pclass = train['Pclass']\n",
        "print(type(titanic_pclass))\n",
        "titanic_pclass.head(10)"
      ],
      "execution_count": 10,
      "outputs": [
        {
          "output_type": "stream",
          "name": "stdout",
          "text": [
            "df 크기: (891, 12)\n",
            "<class 'pandas.core.frame.DataFrame'>\n",
            "RangeIndex: 891 entries, 0 to 890\n",
            "Data columns (total 12 columns):\n",
            " #   Column       Non-Null Count  Dtype  \n",
            "---  ------       --------------  -----  \n",
            " 0   PassengerId  891 non-null    int64  \n",
            " 1   Survived     891 non-null    int64  \n",
            " 2   Pclass       891 non-null    int64  \n",
            " 3   Name         891 non-null    object \n",
            " 4   Sex          891 non-null    object \n",
            " 5   Age          714 non-null    float64\n",
            " 6   SibSp        891 non-null    int64  \n",
            " 7   Parch        891 non-null    int64  \n",
            " 8   Ticket       891 non-null    object \n",
            " 9   Fare         891 non-null    float64\n",
            " 10  Cabin        204 non-null    object \n",
            " 11  Embarked     889 non-null    object \n",
            "dtypes: float64(2), int64(5), object(5)\n",
            "memory usage: 83.7+ KB\n",
            "3    491\n",
            "1    216\n",
            "2    184\n",
            "Name: Pclass, dtype: int64\n",
            "<class 'pandas.core.series.Series'>\n"
          ]
        },
        {
          "output_type": "execute_result",
          "data": {
            "text/plain": [
              "0    3\n",
              "1    1\n",
              "2    3\n",
              "3    1\n",
              "4    3\n",
              "5    3\n",
              "6    1\n",
              "7    3\n",
              "8    3\n",
              "9    2\n",
              "Name: Pclass, dtype: int64"
            ]
          },
          "metadata": {},
          "execution_count": 10
        }
      ]
    },
    {
      "cell_type": "markdown",
      "metadata": {
        "id": "doeKSa3RBIOT"
      },
      "source": [
        "## DataFrame 과 리스트, 딕셔너리, 넘파이 ndarray 상호 변환"
      ]
    },
    {
      "cell_type": "code",
      "metadata": {
        "colab": {
          "base_uri": "https://localhost:8080/"
        },
        "id": "txq5Vgg7A_ya",
        "outputId": "69a8327f-a0c4-4d3a-fa57-7d855f356e97"
      },
      "source": [
        "import numpy as np\n",
        "import pandas as pd\n",
        "\n",
        "\n",
        "col_name1=['col1']\n",
        "list1 = [1,2,3]\n",
        "array1 = np.array(list1)\n",
        "print('array1 shape:', array1.shape)\n",
        "\n",
        "# 리스트 이용 DF 생성\n",
        "df_list1 = pd.DataFrame(list1, columns=col_name1)\n",
        "print('1차원 리스트로 만든 DF:\\n', df_list1)\n",
        "\n",
        "# numpy ndarray 를 이용해 만든 DF\n",
        "df_array1 = pd.DataFrame(array1, columns=col_name1)\n",
        "print('1차원 ndarray로 만든 DF:\\n', df_array1)\n",
        "\n",
        "# 2행 3열 DF\n",
        "# 3개의 컬럼명이 필요\n",
        "colname2 = ['col1', 'col2', 'col3']\n",
        "list2 = np.random.randn(6).reshape(2,3)\n",
        "\n",
        "array2 = np.array(list2)\n",
        "print('array2 shape:', array2.shape)\n",
        "\n",
        "df_list2 = pd.DataFrame(list2, columns=colname2)\n",
        "print('2차원 리스트로 만든 DF:\\n', df_list2)\n",
        "\n",
        "df_array2 = pd.DataFrame(array2, columns=colname2)\n",
        "print('2차원 ndarray로 만든 DF:\\n', df_array2)\n",
        "\n",
        "# 딕셔너리를 활용한 DF 생성\n",
        "# key는 문자열 컬럼명으로 매핑, value는 리스트 형(또는 ndarray) 컬럼 데이터로 매핑\n",
        "dict = {'col1':[1,11], 'col2':[2, 22], 'col3':[3,33]}\n",
        "df_dict = pd.DataFrame(dict)\n",
        "print('딕셔너리로 만든 DF:\\n', df_dict)"
      ],
      "execution_count": 11,
      "outputs": [
        {
          "output_type": "stream",
          "name": "stdout",
          "text": [
            "array1 shape: (3,)\n",
            "1차원 리스트로 만든 DF:\n",
            "    col1\n",
            "0     1\n",
            "1     2\n",
            "2     3\n",
            "1차원 ndarray로 만든 DF:\n",
            "    col1\n",
            "0     1\n",
            "1     2\n",
            "2     3\n",
            "array2 shape: (2, 3)\n",
            "2차원 리스트로 만든 DF:\n",
            "        col1      col2      col3\n",
            "0 -0.018759  1.250985 -0.896735\n",
            "1  1.047975  0.445989 -1.427814\n",
            "2차원 ndarray로 만든 DF:\n",
            "        col1      col2      col3\n",
            "0 -0.018759  1.250985 -0.896735\n",
            "1  1.047975  0.445989 -1.427814\n",
            "딕셔너리로 만든 DF:\n",
            "    col1  col2  col3\n",
            "0     1     2     3\n",
            "1    11    22    33\n"
          ]
        }
      ]
    },
    {
      "cell_type": "markdown",
      "metadata": {
        "id": "JVatatm4EoiE"
      },
      "source": [
        "## DF를 넘파이 ndarray, 리스트, 딕셔너리로 변환하기"
      ]
    },
    {
      "cell_type": "code",
      "metadata": {
        "colab": {
          "base_uri": "https://localhost:8080/"
        },
        "id": "trKzKb0EEvKY",
        "outputId": "a0d09a9a-7c5a-4d91-fd9f-f008757560e1"
      },
      "source": [
        "# DF를 ndarray로 변환\n",
        "array3 = df_dict.values\n",
        "print('df_dict.values 타입:', type(array3), 'df_dict.values shape:', array3.shape)\n",
        "print(array3)\n",
        "\n",
        "# DF를 리스트로 변환\n",
        "list3 = df_dict.values.tolist()\n",
        "print('df_dict.values.tolist() 타입:', type(list3))\n",
        "print(list3)\n",
        "\n",
        "# DF를 딕셔너리로 변환\n",
        "dict3 = df_dict.to_dict('list')\n",
        "print('\\n df_dict.to_dict() 타입:', type(dict3))\n",
        "print(dict3)"
      ],
      "execution_count": 12,
      "outputs": [
        {
          "output_type": "stream",
          "name": "stdout",
          "text": [
            "df_dict.values 타입: <class 'numpy.ndarray'> df_dict.values shape: (2, 3)\n",
            "[[ 1  2  3]\n",
            " [11 22 33]]\n",
            "df_dict.values.tolist() 타입: <class 'list'>\n",
            "[[1, 2, 3], [11, 22, 33]]\n",
            "\n",
            " df_dict.to_dict() 타입: <class 'dict'>\n",
            "{'col1': [1, 11], 'col2': [2, 22], 'col3': [3, 33]}\n"
          ]
        }
      ]
    },
    {
      "cell_type": "markdown",
      "metadata": {
        "id": "dqML-ccEFzdd"
      },
      "source": [
        "## DF에 컬럼 추가 및 수정"
      ]
    },
    {
      "cell_type": "code",
      "metadata": {
        "colab": {
          "base_uri": "https://localhost:8080/",
          "height": 359
        },
        "id": "TINch4M-F5AG",
        "outputId": "e6945d95-ce11-4530-e492-1b422dc1d9c1"
      },
      "source": [
        "# Titanic DF에 'age_0' 컬럼 추가 및 0 값 할당\n",
        "train['age_0'] = 0\n",
        "train.head(10)\n",
        "\n",
        "# 기존 컬럼을 이용한 신규 컬럼 생성\n",
        "train['age_by_10'] = train['Age'] * 10\n",
        "train['family_no'] = train['SibSp'] + train['Parch']+1\n",
        "train.head(10)\n",
        "\n",
        "# 기존 컬럼에 일괄적으로 100 값 업데이트\n",
        "train['age_by_10'] = train['age_by_10'] + 100\n",
        "train.head(10)"
      ],
      "execution_count": 13,
      "outputs": [
        {
          "output_type": "execute_result",
          "data": {
            "text/html": [
              "<div>\n",
              "<style scoped>\n",
              "    .dataframe tbody tr th:only-of-type {\n",
              "        vertical-align: middle;\n",
              "    }\n",
              "\n",
              "    .dataframe tbody tr th {\n",
              "        vertical-align: top;\n",
              "    }\n",
              "\n",
              "    .dataframe thead th {\n",
              "        text-align: right;\n",
              "    }\n",
              "</style>\n",
              "<table border=\"1\" class=\"dataframe\">\n",
              "  <thead>\n",
              "    <tr style=\"text-align: right;\">\n",
              "      <th></th>\n",
              "      <th>PassengerId</th>\n",
              "      <th>Survived</th>\n",
              "      <th>Pclass</th>\n",
              "      <th>Name</th>\n",
              "      <th>Sex</th>\n",
              "      <th>Age</th>\n",
              "      <th>SibSp</th>\n",
              "      <th>Parch</th>\n",
              "      <th>Ticket</th>\n",
              "      <th>Fare</th>\n",
              "      <th>Cabin</th>\n",
              "      <th>Embarked</th>\n",
              "      <th>age_0</th>\n",
              "      <th>age_by_10</th>\n",
              "      <th>family_no</th>\n",
              "    </tr>\n",
              "  </thead>\n",
              "  <tbody>\n",
              "    <tr>\n",
              "      <th>0</th>\n",
              "      <td>1</td>\n",
              "      <td>0</td>\n",
              "      <td>3</td>\n",
              "      <td>Braund, Mr. Owen Harris</td>\n",
              "      <td>male</td>\n",
              "      <td>22.0</td>\n",
              "      <td>1</td>\n",
              "      <td>0</td>\n",
              "      <td>A/5 21171</td>\n",
              "      <td>7.2500</td>\n",
              "      <td>NaN</td>\n",
              "      <td>S</td>\n",
              "      <td>0</td>\n",
              "      <td>320.0</td>\n",
              "      <td>2</td>\n",
              "    </tr>\n",
              "    <tr>\n",
              "      <th>1</th>\n",
              "      <td>2</td>\n",
              "      <td>1</td>\n",
              "      <td>1</td>\n",
              "      <td>Cumings, Mrs. John Bradley (Florence Briggs Th...</td>\n",
              "      <td>female</td>\n",
              "      <td>38.0</td>\n",
              "      <td>1</td>\n",
              "      <td>0</td>\n",
              "      <td>PC 17599</td>\n",
              "      <td>71.2833</td>\n",
              "      <td>C85</td>\n",
              "      <td>C</td>\n",
              "      <td>0</td>\n",
              "      <td>480.0</td>\n",
              "      <td>2</td>\n",
              "    </tr>\n",
              "    <tr>\n",
              "      <th>2</th>\n",
              "      <td>3</td>\n",
              "      <td>1</td>\n",
              "      <td>3</td>\n",
              "      <td>Heikkinen, Miss. Laina</td>\n",
              "      <td>female</td>\n",
              "      <td>26.0</td>\n",
              "      <td>0</td>\n",
              "      <td>0</td>\n",
              "      <td>STON/O2. 3101282</td>\n",
              "      <td>7.9250</td>\n",
              "      <td>NaN</td>\n",
              "      <td>S</td>\n",
              "      <td>0</td>\n",
              "      <td>360.0</td>\n",
              "      <td>1</td>\n",
              "    </tr>\n",
              "    <tr>\n",
              "      <th>3</th>\n",
              "      <td>4</td>\n",
              "      <td>1</td>\n",
              "      <td>1</td>\n",
              "      <td>Futrelle, Mrs. Jacques Heath (Lily May Peel)</td>\n",
              "      <td>female</td>\n",
              "      <td>35.0</td>\n",
              "      <td>1</td>\n",
              "      <td>0</td>\n",
              "      <td>113803</td>\n",
              "      <td>53.1000</td>\n",
              "      <td>C123</td>\n",
              "      <td>S</td>\n",
              "      <td>0</td>\n",
              "      <td>450.0</td>\n",
              "      <td>2</td>\n",
              "    </tr>\n",
              "    <tr>\n",
              "      <th>4</th>\n",
              "      <td>5</td>\n",
              "      <td>0</td>\n",
              "      <td>3</td>\n",
              "      <td>Allen, Mr. William Henry</td>\n",
              "      <td>male</td>\n",
              "      <td>35.0</td>\n",
              "      <td>0</td>\n",
              "      <td>0</td>\n",
              "      <td>373450</td>\n",
              "      <td>8.0500</td>\n",
              "      <td>NaN</td>\n",
              "      <td>S</td>\n",
              "      <td>0</td>\n",
              "      <td>450.0</td>\n",
              "      <td>1</td>\n",
              "    </tr>\n",
              "    <tr>\n",
              "      <th>5</th>\n",
              "      <td>6</td>\n",
              "      <td>0</td>\n",
              "      <td>3</td>\n",
              "      <td>Moran, Mr. James</td>\n",
              "      <td>male</td>\n",
              "      <td>NaN</td>\n",
              "      <td>0</td>\n",
              "      <td>0</td>\n",
              "      <td>330877</td>\n",
              "      <td>8.4583</td>\n",
              "      <td>NaN</td>\n",
              "      <td>Q</td>\n",
              "      <td>0</td>\n",
              "      <td>NaN</td>\n",
              "      <td>1</td>\n",
              "    </tr>\n",
              "    <tr>\n",
              "      <th>6</th>\n",
              "      <td>7</td>\n",
              "      <td>0</td>\n",
              "      <td>1</td>\n",
              "      <td>McCarthy, Mr. Timothy J</td>\n",
              "      <td>male</td>\n",
              "      <td>54.0</td>\n",
              "      <td>0</td>\n",
              "      <td>0</td>\n",
              "      <td>17463</td>\n",
              "      <td>51.8625</td>\n",
              "      <td>E46</td>\n",
              "      <td>S</td>\n",
              "      <td>0</td>\n",
              "      <td>640.0</td>\n",
              "      <td>1</td>\n",
              "    </tr>\n",
              "    <tr>\n",
              "      <th>7</th>\n",
              "      <td>8</td>\n",
              "      <td>0</td>\n",
              "      <td>3</td>\n",
              "      <td>Palsson, Master. Gosta Leonard</td>\n",
              "      <td>male</td>\n",
              "      <td>2.0</td>\n",
              "      <td>3</td>\n",
              "      <td>1</td>\n",
              "      <td>349909</td>\n",
              "      <td>21.0750</td>\n",
              "      <td>NaN</td>\n",
              "      <td>S</td>\n",
              "      <td>0</td>\n",
              "      <td>120.0</td>\n",
              "      <td>5</td>\n",
              "    </tr>\n",
              "    <tr>\n",
              "      <th>8</th>\n",
              "      <td>9</td>\n",
              "      <td>1</td>\n",
              "      <td>3</td>\n",
              "      <td>Johnson, Mrs. Oscar W (Elisabeth Vilhelmina Berg)</td>\n",
              "      <td>female</td>\n",
              "      <td>27.0</td>\n",
              "      <td>0</td>\n",
              "      <td>2</td>\n",
              "      <td>347742</td>\n",
              "      <td>11.1333</td>\n",
              "      <td>NaN</td>\n",
              "      <td>S</td>\n",
              "      <td>0</td>\n",
              "      <td>370.0</td>\n",
              "      <td>3</td>\n",
              "    </tr>\n",
              "    <tr>\n",
              "      <th>9</th>\n",
              "      <td>10</td>\n",
              "      <td>1</td>\n",
              "      <td>2</td>\n",
              "      <td>Nasser, Mrs. Nicholas (Adele Achem)</td>\n",
              "      <td>female</td>\n",
              "      <td>14.0</td>\n",
              "      <td>1</td>\n",
              "      <td>0</td>\n",
              "      <td>237736</td>\n",
              "      <td>30.0708</td>\n",
              "      <td>NaN</td>\n",
              "      <td>C</td>\n",
              "      <td>0</td>\n",
              "      <td>240.0</td>\n",
              "      <td>2</td>\n",
              "    </tr>\n",
              "  </tbody>\n",
              "</table>\n",
              "</div>"
            ],
            "text/plain": [
              "   PassengerId  Survived  Pclass  ... age_0 age_by_10  family_no\n",
              "0            1         0       3  ...     0     320.0          2\n",
              "1            2         1       1  ...     0     480.0          2\n",
              "2            3         1       3  ...     0     360.0          1\n",
              "3            4         1       1  ...     0     450.0          2\n",
              "4            5         0       3  ...     0     450.0          1\n",
              "5            6         0       3  ...     0       NaN          1\n",
              "6            7         0       1  ...     0     640.0          1\n",
              "7            8         0       3  ...     0     120.0          5\n",
              "8            9         1       3  ...     0     370.0          3\n",
              "9           10         1       2  ...     0     240.0          2\n",
              "\n",
              "[10 rows x 15 columns]"
            ]
          },
          "metadata": {},
          "execution_count": 13
        }
      ]
    },
    {
      "cell_type": "markdown",
      "metadata": {
        "id": "gBLdig7BHjO1"
      },
      "source": [
        "## DF 데이터 삭제\n",
        "\n",
        "### DataFrame.drop() 설명\n",
        "```python\n",
        "DataFrame.drop(labels=None, axis=0, index=None, columns=None, level=None, inplace=False, errors='raise')\n",
        "```\n",
        "\n",
        "위 drop 파라미터 중 중요한 파라미터는 **labels, axis, inplace** 이다.\n",
        "- labels : \n",
        "- axis : 값에 따라 특정 컬럼 또는 로우(row)를 드롭. (axis=0 은 row, axis=1 은 column)\n",
        "- inplace : False 값이 default. False로 두면 자신의 DF에서는 해당 컬럼을 삭제하지 않고, 삭제된 결과 DF를 반환. True로 두면 자신의 DF에서 컬럼 삭제하고 결과 값 반환하지 않음\n",
        "   > 주의 : inplace=True 후 자기 자신에게 결과 값 반환하면 None 이 반환되어서 DF 자체의 모든 값이 사라짐"
      ]
    },
    {
      "cell_type": "code",
      "metadata": {
        "colab": {
          "base_uri": "https://localhost:8080/",
          "height": 377
        },
        "id": "ynZRY1jJIffc",
        "outputId": "5fe3be08-d70c-4474-b95b-830064ffdec0"
      },
      "source": [
        "# age_0 컬럼 삭제 (drop)\n",
        "train_drop_age0 = train.drop('age_0', axis=1)\n",
        "train_drop_age0.head(10)\n",
        "\n",
        "# 여러 컬럼을 한 번에 삭제, inplace=True 라 결과값 반환하지 않음\n",
        "train_drops = train.drop(['age_0', 'age_by_10', 'family_no'], axis=1, inplace=True)\n",
        "print('train_drops 결과값:', train_drops)\n",
        "train.head(10)\n",
        "\n"
      ],
      "execution_count": 14,
      "outputs": [
        {
          "output_type": "stream",
          "name": "stdout",
          "text": [
            "train_drops 결과값: None\n"
          ]
        },
        {
          "output_type": "execute_result",
          "data": {
            "text/html": [
              "<div>\n",
              "<style scoped>\n",
              "    .dataframe tbody tr th:only-of-type {\n",
              "        vertical-align: middle;\n",
              "    }\n",
              "\n",
              "    .dataframe tbody tr th {\n",
              "        vertical-align: top;\n",
              "    }\n",
              "\n",
              "    .dataframe thead th {\n",
              "        text-align: right;\n",
              "    }\n",
              "</style>\n",
              "<table border=\"1\" class=\"dataframe\">\n",
              "  <thead>\n",
              "    <tr style=\"text-align: right;\">\n",
              "      <th></th>\n",
              "      <th>PassengerId</th>\n",
              "      <th>Survived</th>\n",
              "      <th>Pclass</th>\n",
              "      <th>Name</th>\n",
              "      <th>Sex</th>\n",
              "      <th>Age</th>\n",
              "      <th>SibSp</th>\n",
              "      <th>Parch</th>\n",
              "      <th>Ticket</th>\n",
              "      <th>Fare</th>\n",
              "      <th>Cabin</th>\n",
              "      <th>Embarked</th>\n",
              "    </tr>\n",
              "  </thead>\n",
              "  <tbody>\n",
              "    <tr>\n",
              "      <th>0</th>\n",
              "      <td>1</td>\n",
              "      <td>0</td>\n",
              "      <td>3</td>\n",
              "      <td>Braund, Mr. Owen Harris</td>\n",
              "      <td>male</td>\n",
              "      <td>22.0</td>\n",
              "      <td>1</td>\n",
              "      <td>0</td>\n",
              "      <td>A/5 21171</td>\n",
              "      <td>7.2500</td>\n",
              "      <td>NaN</td>\n",
              "      <td>S</td>\n",
              "    </tr>\n",
              "    <tr>\n",
              "      <th>1</th>\n",
              "      <td>2</td>\n",
              "      <td>1</td>\n",
              "      <td>1</td>\n",
              "      <td>Cumings, Mrs. John Bradley (Florence Briggs Th...</td>\n",
              "      <td>female</td>\n",
              "      <td>38.0</td>\n",
              "      <td>1</td>\n",
              "      <td>0</td>\n",
              "      <td>PC 17599</td>\n",
              "      <td>71.2833</td>\n",
              "      <td>C85</td>\n",
              "      <td>C</td>\n",
              "    </tr>\n",
              "    <tr>\n",
              "      <th>2</th>\n",
              "      <td>3</td>\n",
              "      <td>1</td>\n",
              "      <td>3</td>\n",
              "      <td>Heikkinen, Miss. Laina</td>\n",
              "      <td>female</td>\n",
              "      <td>26.0</td>\n",
              "      <td>0</td>\n",
              "      <td>0</td>\n",
              "      <td>STON/O2. 3101282</td>\n",
              "      <td>7.9250</td>\n",
              "      <td>NaN</td>\n",
              "      <td>S</td>\n",
              "    </tr>\n",
              "    <tr>\n",
              "      <th>3</th>\n",
              "      <td>4</td>\n",
              "      <td>1</td>\n",
              "      <td>1</td>\n",
              "      <td>Futrelle, Mrs. Jacques Heath (Lily May Peel)</td>\n",
              "      <td>female</td>\n",
              "      <td>35.0</td>\n",
              "      <td>1</td>\n",
              "      <td>0</td>\n",
              "      <td>113803</td>\n",
              "      <td>53.1000</td>\n",
              "      <td>C123</td>\n",
              "      <td>S</td>\n",
              "    </tr>\n",
              "    <tr>\n",
              "      <th>4</th>\n",
              "      <td>5</td>\n",
              "      <td>0</td>\n",
              "      <td>3</td>\n",
              "      <td>Allen, Mr. William Henry</td>\n",
              "      <td>male</td>\n",
              "      <td>35.0</td>\n",
              "      <td>0</td>\n",
              "      <td>0</td>\n",
              "      <td>373450</td>\n",
              "      <td>8.0500</td>\n",
              "      <td>NaN</td>\n",
              "      <td>S</td>\n",
              "    </tr>\n",
              "    <tr>\n",
              "      <th>5</th>\n",
              "      <td>6</td>\n",
              "      <td>0</td>\n",
              "      <td>3</td>\n",
              "      <td>Moran, Mr. James</td>\n",
              "      <td>male</td>\n",
              "      <td>NaN</td>\n",
              "      <td>0</td>\n",
              "      <td>0</td>\n",
              "      <td>330877</td>\n",
              "      <td>8.4583</td>\n",
              "      <td>NaN</td>\n",
              "      <td>Q</td>\n",
              "    </tr>\n",
              "    <tr>\n",
              "      <th>6</th>\n",
              "      <td>7</td>\n",
              "      <td>0</td>\n",
              "      <td>1</td>\n",
              "      <td>McCarthy, Mr. Timothy J</td>\n",
              "      <td>male</td>\n",
              "      <td>54.0</td>\n",
              "      <td>0</td>\n",
              "      <td>0</td>\n",
              "      <td>17463</td>\n",
              "      <td>51.8625</td>\n",
              "      <td>E46</td>\n",
              "      <td>S</td>\n",
              "    </tr>\n",
              "    <tr>\n",
              "      <th>7</th>\n",
              "      <td>8</td>\n",
              "      <td>0</td>\n",
              "      <td>3</td>\n",
              "      <td>Palsson, Master. Gosta Leonard</td>\n",
              "      <td>male</td>\n",
              "      <td>2.0</td>\n",
              "      <td>3</td>\n",
              "      <td>1</td>\n",
              "      <td>349909</td>\n",
              "      <td>21.0750</td>\n",
              "      <td>NaN</td>\n",
              "      <td>S</td>\n",
              "    </tr>\n",
              "    <tr>\n",
              "      <th>8</th>\n",
              "      <td>9</td>\n",
              "      <td>1</td>\n",
              "      <td>3</td>\n",
              "      <td>Johnson, Mrs. Oscar W (Elisabeth Vilhelmina Berg)</td>\n",
              "      <td>female</td>\n",
              "      <td>27.0</td>\n",
              "      <td>0</td>\n",
              "      <td>2</td>\n",
              "      <td>347742</td>\n",
              "      <td>11.1333</td>\n",
              "      <td>NaN</td>\n",
              "      <td>S</td>\n",
              "    </tr>\n",
              "    <tr>\n",
              "      <th>9</th>\n",
              "      <td>10</td>\n",
              "      <td>1</td>\n",
              "      <td>2</td>\n",
              "      <td>Nasser, Mrs. Nicholas (Adele Achem)</td>\n",
              "      <td>female</td>\n",
              "      <td>14.0</td>\n",
              "      <td>1</td>\n",
              "      <td>0</td>\n",
              "      <td>237736</td>\n",
              "      <td>30.0708</td>\n",
              "      <td>NaN</td>\n",
              "      <td>C</td>\n",
              "    </tr>\n",
              "  </tbody>\n",
              "</table>\n",
              "</div>"
            ],
            "text/plain": [
              "   PassengerId  Survived  Pclass  ...     Fare Cabin  Embarked\n",
              "0            1         0       3  ...   7.2500   NaN         S\n",
              "1            2         1       1  ...  71.2833   C85         C\n",
              "2            3         1       3  ...   7.9250   NaN         S\n",
              "3            4         1       1  ...  53.1000  C123         S\n",
              "4            5         0       3  ...   8.0500   NaN         S\n",
              "5            6         0       3  ...   8.4583   NaN         Q\n",
              "6            7         0       1  ...  51.8625   E46         S\n",
              "7            8         0       3  ...  21.0750   NaN         S\n",
              "8            9         1       3  ...  11.1333   NaN         S\n",
              "9           10         1       2  ...  30.0708   NaN         C\n",
              "\n",
              "[10 rows x 12 columns]"
            ]
          },
          "metadata": {},
          "execution_count": 14
        }
      ]
    },
    {
      "cell_type": "code",
      "metadata": {
        "id": "HUOff8-iLpBm",
        "colab": {
          "base_uri": "https://localhost:8080/"
        },
        "outputId": "85af07c3-83e9-4037-e6a4-8e2a1cb2d156"
      },
      "source": [
        "# 행 삭제\n",
        "pd.set_option('display.width', 1000)\n",
        "pd.set_option('display.max_colwidth', 15)\n",
        "print('### 행 삭제 전 DF ###')\n",
        "print(train.head(3))\n",
        "\n",
        "train.drop([0,1,2], axis=0, inplace=True)\n",
        "print('#### 첫 3행 삭제 후 DF ###')\n",
        "print(train.head(3))"
      ],
      "execution_count": 15,
      "outputs": [
        {
          "output_type": "stream",
          "name": "stdout",
          "text": [
            "### 행 삭제 전 DF ###\n",
            "   PassengerId  Survived  Pclass  ...     Fare Cabin  Embarked\n",
            "0            1         0       3  ...   7.2500   NaN         S\n",
            "1            2         1       1  ...  71.2833   C85         C\n",
            "2            3         1       3  ...   7.9250   NaN         S\n",
            "\n",
            "[3 rows x 12 columns]\n",
            "#### 첫 3행 삭제 후 DF ###\n",
            "   PassengerId  Survived  Pclass  ...     Fare Cabin  Embarked\n",
            "3            4         1       1  ...  53.1000  C123         S\n",
            "4            5         0       3  ...   8.0500   NaN         S\n",
            "5            6         0       3  ...   8.4583   NaN         Q\n",
            "\n",
            "[3 rows x 12 columns]\n"
          ]
        }
      ]
    },
    {
      "cell_type": "markdown",
      "metadata": {
        "id": "FoYUvtqqQbxv"
      },
      "source": [
        "## 불린 인덱싱\n"
      ]
    },
    {
      "cell_type": "code",
      "metadata": {
        "colab": {
          "base_uri": "https://localhost:8080/",
          "height": 129
        },
        "id": "42-M7-J3QfaW",
        "outputId": "d8d0272d-8153-4d6e-fa68-91fa61cdecc2"
      },
      "source": [
        "# 60세 초과 리스트 뽑기\n",
        "train_bool = train[train['Age'] > 60]\n",
        "print(type(train_bool))\n",
        "train_bool\n",
        "\n",
        "# 60세 초과 승객 중 이름과 나이 컬럼 만 뽑기 (컬럼명을 배열 형식으로 넣어야 함)\n",
        "train_nm_age = train[train['Age']> 60][['Name', 'Age']]\n",
        "train_nm_age.head(20)\n",
        "\n",
        "# 위와 동일(이름, 나이)하게 loc[] 를 이용하는 방법\n",
        "train_nm_age2 = train.loc[train['Age'] > 60, ['Name', 'Age']]\n",
        "train_nm_age2.head(20)\n",
        "\n",
        "# 복합 조건. 나이 60 초과 & 1등급 선실 & 성별은 여성 승객 뽑기\n",
        "train_multi_cond = train[(train['Age'] > 60) \n",
        "                       & (train['Pclass'] == 1)\n",
        "                       & (train['Sex'] == 'female')\n",
        "                        ]\n",
        "train_multi_cond.head(10)\n",
        "\n",
        "# 조건을 변수에 할당 하기\n",
        "cond1 = train['Age'] > 60\n",
        "cond2 = train['Pclass'] == 1\n",
        "cond3 = train['Sex'] == 'female'\n",
        "train_multi_cond2 = train[ cond1 & cond2 & cond3]\n",
        "train_multi_cond2.head(10)"
      ],
      "execution_count": 21,
      "outputs": [
        {
          "output_type": "stream",
          "name": "stdout",
          "text": [
            "<class 'pandas.core.frame.DataFrame'>\n"
          ]
        },
        {
          "output_type": "execute_result",
          "data": {
            "text/html": [
              "<div>\n",
              "<style scoped>\n",
              "    .dataframe tbody tr th:only-of-type {\n",
              "        vertical-align: middle;\n",
              "    }\n",
              "\n",
              "    .dataframe tbody tr th {\n",
              "        vertical-align: top;\n",
              "    }\n",
              "\n",
              "    .dataframe thead th {\n",
              "        text-align: right;\n",
              "    }\n",
              "</style>\n",
              "<table border=\"1\" class=\"dataframe\">\n",
              "  <thead>\n",
              "    <tr style=\"text-align: right;\">\n",
              "      <th></th>\n",
              "      <th>PassengerId</th>\n",
              "      <th>Survived</th>\n",
              "      <th>Pclass</th>\n",
              "      <th>Name</th>\n",
              "      <th>Sex</th>\n",
              "      <th>Age</th>\n",
              "      <th>SibSp</th>\n",
              "      <th>Parch</th>\n",
              "      <th>Ticket</th>\n",
              "      <th>Fare</th>\n",
              "      <th>Cabin</th>\n",
              "      <th>Embarked</th>\n",
              "    </tr>\n",
              "  </thead>\n",
              "  <tbody>\n",
              "    <tr>\n",
              "      <th>275</th>\n",
              "      <td>276</td>\n",
              "      <td>1</td>\n",
              "      <td>1</td>\n",
              "      <td>Andrews, Mi...</td>\n",
              "      <td>female</td>\n",
              "      <td>63.0</td>\n",
              "      <td>1</td>\n",
              "      <td>0</td>\n",
              "      <td>13502</td>\n",
              "      <td>77.9583</td>\n",
              "      <td>D7</td>\n",
              "      <td>S</td>\n",
              "    </tr>\n",
              "    <tr>\n",
              "      <th>829</th>\n",
              "      <td>830</td>\n",
              "      <td>1</td>\n",
              "      <td>1</td>\n",
              "      <td>Stone, Mrs....</td>\n",
              "      <td>female</td>\n",
              "      <td>62.0</td>\n",
              "      <td>0</td>\n",
              "      <td>0</td>\n",
              "      <td>113572</td>\n",
              "      <td>80.0000</td>\n",
              "      <td>B28</td>\n",
              "      <td>NaN</td>\n",
              "    </tr>\n",
              "  </tbody>\n",
              "</table>\n",
              "</div>"
            ],
            "text/plain": [
              "     PassengerId  Survived  Pclass  ...     Fare Cabin  Embarked\n",
              "275          276         1       1  ...  77.9583    D7         S\n",
              "829          830         1       1  ...  80.0000   B28       NaN\n",
              "\n",
              "[2 rows x 12 columns]"
            ]
          },
          "metadata": {},
          "execution_count": 21
        }
      ]
    }
  ]
}