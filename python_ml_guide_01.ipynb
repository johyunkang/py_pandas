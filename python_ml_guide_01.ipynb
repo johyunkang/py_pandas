{
  "nbformat": 4,
  "nbformat_minor": 0,
  "metadata": {
    "colab": {
      "name": "python_ml_guide_01.ipynb",
      "provenance": [],
      "collapsed_sections": [],
      "mount_file_id": "1_IIGv8dVwaMHQF9k7BzoHUBvSaOmlE35",
      "authorship_tag": "ABX9TyN/pJLLExOLb/afIqfB8JlC",
      "include_colab_link": true
    },
    "kernelspec": {
      "name": "python3",
      "display_name": "Python 3"
    },
    "language_info": {
      "name": "python"
    }
  },
  "cells": [
    {
      "cell_type": "markdown",
      "metadata": {
        "id": "view-in-github",
        "colab_type": "text"
      },
      "source": [
        "<a href=\"https://colab.research.google.com/github/johyunkang/py_pandas/blob/main/python_ml_guide_01.ipynb\" target=\"_parent\"><img src=\"https://colab.research.google.com/assets/colab-badge.svg\" alt=\"Open In Colab\"/></a>"
      ]
    },
    {
      "cell_type": "code",
      "metadata": {
        "colab": {
          "base_uri": "https://localhost:8080/"
        },
        "id": "4O3p1sLNLybV",
        "outputId": "d9f8cd9d-1ff0-4bec-8203-9e8a7bd4f376"
      },
      "source": [
        "import numpy as np\n",
        "\n",
        "array1 = np.array([1,2,3])\n",
        "print('array1 type:', type(array1))\n",
        "print('array1 array 형태:', array1.shape)\n",
        "\n",
        "array2 = np.array([[1,2,3], [4,5,6]])\n",
        "print('array2 type:', type(array2))\n",
        "print('array2 array 형태:', array2.shape)\n",
        "\n",
        "array3 = np.array([[1,2,3]])\n",
        "print('array3 type:', type(array3))\n",
        "print('array3 array 형태:', array3.shape)\n",
        "\n",
        "print('array1:{:0}차원, array2:{:1}차원, array3:{:2}차원'.format(array1.ndim, array2.ndim, array3.ndim))\n",
        "\n",
        "list1 = [1, 2, 3]\n",
        "print(type(list1))\n",
        "\n",
        "array1 = np.array(list1)\n",
        "print(type(array1))\n",
        "print(array1, array1.dtype)\n",
        "\n",
        "\n"
      ],
      "execution_count": 1,
      "outputs": [
        {
          "output_type": "stream",
          "name": "stdout",
          "text": [
            "array1 type: <class 'numpy.ndarray'>\n",
            "array1 array 형태: (3,)\n",
            "array2 type: <class 'numpy.ndarray'>\n",
            "array2 array 형태: (2, 3)\n",
            "array3 type: <class 'numpy.ndarray'>\n",
            "array3 array 형태: (1, 3)\n",
            "array1:1차원, array2:2차원, array3: 2차원\n",
            "<class 'list'>\n",
            "<class 'numpy.ndarray'>\n",
            "[1 2 3] int64\n"
          ]
        }
      ]
    },
    {
      "cell_type": "markdown",
      "metadata": {
        "id": "pz5eyKt1OgLH"
      },
      "source": [
        "type 변경\n"
      ]
    },
    {
      "cell_type": "code",
      "metadata": {
        "colab": {
          "base_uri": "https://localhost:8080/"
        },
        "id": "7kmeaBXqOk8w",
        "outputId": "f337a0b9-01e3-4929-f1dc-15bc89b321ae"
      },
      "source": [
        "array_int = np.array([1,2,3])\n",
        "array_float = array_int.astype('float64')\n",
        "print(array_float, array_float.dtype)\n",
        "\n",
        "array_int1 = array_float.astype('int32')\n",
        "print(array_int1, array_int1.dtype)\n",
        "\n",
        "array_float1 = np.array([1.1, 2.1, 3.1])\n",
        "print(array_float1)\n",
        "array_int2 = array_float.astype('int32')\n",
        "print(array_int2, array_int2.dtype)"
      ],
      "execution_count": 2,
      "outputs": [
        {
          "output_type": "stream",
          "name": "stdout",
          "text": [
            "[1. 2. 3.] float64\n",
            "[1 2 3] int32\n",
            "[1.1 2.1 3.1]\n",
            "[1 2 3] int32\n"
          ]
        }
      ]
    },
    {
      "cell_type": "markdown",
      "metadata": {
        "id": "vMIjmHxsUGM9"
      },
      "source": [
        "**ndarray를 편리하게 생성하기 - arrange, zeros, ones**\n",
        "\n",
        "\n"
      ]
    },
    {
      "cell_type": "code",
      "metadata": {
        "colab": {
          "base_uri": "https://localhost:8080/"
        },
        "id": "jdiLkjPiUVOo",
        "outputId": "26c24514-5ae3-4d3c-dd11-5fb451c047da"
      },
      "source": [
        "# arange() TO 값까지\n",
        "seq_array = np.arange(10)\n",
        "print(seq_array)\n",
        "\n",
        "# arange() from to\n",
        "seq_array1 = np.arange(1, 10)\n",
        "print(seq_array1)\n",
        "\n",
        "# arange() from to interval\n",
        "seq_array2 = np.arange(1,10, 2)\n",
        "print(seq_array2)\n",
        "\n",
        "print('--------------------------------------------------')\n",
        "# zeros()\n",
        "zero_array = np.zeros((3,2), dtype='int32')\n",
        "print(zero_array)\n",
        "print('zero_array type:', zero_array.dtype, 'shape:', zero_array.shape)\n",
        "\n",
        "print('--------------------------------------------------')\n",
        "# ones()\n",
        "one_array = np.ones((3,2))\n",
        "print(one_array)\n",
        "print('ones type:', one_array.dtype, 'shape:', one_array.shape)"
      ],
      "execution_count": 3,
      "outputs": [
        {
          "output_type": "stream",
          "name": "stdout",
          "text": [
            "[0 1 2 3 4 5 6 7 8 9]\n",
            "[1 2 3 4 5 6 7 8 9]\n",
            "[1 3 5 7 9]\n",
            "--------------------------------------------------\n",
            "[[0 0]\n",
            " [0 0]\n",
            " [0 0]]\n",
            "zero_array type: int32 shape: (3, 2)\n",
            "--------------------------------------------------\n",
            "[[1. 1.]\n",
            " [1. 1.]\n",
            " [1. 1.]]\n",
            "ones type: float64 shape: (3, 2)\n"
          ]
        }
      ]
    },
    {
      "cell_type": "markdown",
      "metadata": {
        "id": "Y4LgmW-DWnFr"
      },
      "source": [
        "**차원과 크기를 변경하는 reshape()**"
      ]
    },
    {
      "cell_type": "code",
      "metadata": {
        "colab": {
          "base_uri": "https://localhost:8080/"
        },
        "id": "1sb_YELXWt7d",
        "outputId": "2c4226d1-92e5-4ae3-84f0-54ff9319fdf3"
      },
      "source": [
        "array1 = np.arange(10)\n",
        "print('array1:\\n', array1)\n",
        "\n",
        "array2 = array1.reshape(2,5)\n",
        "print('array2:\\n', array2)\n",
        "\n",
        "array3 = array1.reshape(5,2)\n",
        "print('array3:\\n', array3)\n",
        "\n",
        "# -1 인자는 변경 가능한 숫자로 자동대입 \n",
        "# reshape(2,5) 를 입력해야 하지만 열 인자에 5를 넣었을때 가능한 행 인자는 2 이기에 -1 이 2로 자동대입 됨\n",
        "array4 = array1.reshape(-1,5)\n",
        "print('array4:\\n', array4)\n",
        "\n",
        "array5 = array1.reshape(5,-1)\n",
        "print('array5:\\n', array5)"
      ],
      "execution_count": 4,
      "outputs": [
        {
          "output_type": "stream",
          "name": "stdout",
          "text": [
            "array1:\n",
            " [0 1 2 3 4 5 6 7 8 9]\n",
            "array2:\n",
            " [[0 1 2 3 4]\n",
            " [5 6 7 8 9]]\n",
            "array3:\n",
            " [[0 1]\n",
            " [2 3]\n",
            " [4 5]\n",
            " [6 7]\n",
            " [8 9]]\n",
            "array4:\n",
            " [[0 1 2 3 4]\n",
            " [5 6 7 8 9]]\n",
            "array5:\n",
            " [[0 1]\n",
            " [2 3]\n",
            " [4 5]\n",
            " [6 7]\n",
            " [8 9]]\n"
          ]
        }
      ]
    },
    {
      "cell_type": "markdown",
      "metadata": {
        "id": "-RI1xjZxxjlm"
      },
      "source": [
        "### Indexing\n"
      ]
    },
    {
      "cell_type": "code",
      "metadata": {
        "colab": {
          "base_uri": "https://localhost:8080/"
        },
        "id": "FAA55Z2hxmT3",
        "outputId": "c4c0e4f6-7203-46e5-ba35-39f811425237"
      },
      "source": [
        "# 1부터 9까지의 1차원 ndarray 생성\n",
        "array1 = np.arange(start=1, stop=10)\n",
        "print('array1:', array1)\n",
        "\n",
        "value = array1[2]\n",
        "print('value:', value)\n",
        "print(type(value))\n",
        "\n",
        "array1[8] = 1\n",
        "array1[7] = 5\n",
        "print('array1:', array1)\n",
        "\n",
        "\n",
        "array1d = np.arange(start=1, stop=10)\n",
        "array2d = array1d.reshape(3,3)\n",
        "print(array2d)\n",
        "\n",
        "print('row=0, col=0 index 값:', array2d[0,0])\n",
        "print('row=2, col=2 index 값:', array2d[2,2])"
      ],
      "execution_count": 5,
      "outputs": [
        {
          "output_type": "stream",
          "name": "stdout",
          "text": [
            "array1: [1 2 3 4 5 6 7 8 9]\n",
            "value: 3\n",
            "<class 'numpy.int64'>\n",
            "array1: [1 2 3 4 5 6 7 5 1]\n",
            "[[1 2 3]\n",
            " [4 5 6]\n",
            " [7 8 9]]\n",
            "row=0, col=0 index 값: 1\n",
            "row=2, col=2 index 값: 9\n"
          ]
        }
      ]
    },
    {
      "cell_type": "markdown",
      "metadata": {
        "id": "8VObza_b_BZI"
      },
      "source": [
        "## 행렬의 정렬 - sort() 와 argsort()\n",
        "\n",
        "### np.sort() 와 ndarray.sort()의 차이점\n",
        "- np.sort() : 원 행렬은 그대로 유지한 채 원 행렬의 정렬된 행렬을 반환\n",
        "- ndarray.sort() : 원 행렬 자체를 정렬한 형태로 변환하며 반환 값은 None\n"
      ]
    },
    {
      "cell_type": "code",
      "metadata": {
        "colab": {
          "base_uri": "https://localhost:8080/"
        },
        "id": "gYMxpzDu_dg1",
        "outputId": "074ecaf7-9452-44d7-d3d1-acba3c058596"
      },
      "source": [
        "org_array = np.array([3, 1, 9, 5])\n",
        "print('org array:', org_array)\n",
        "\n",
        "# np.sort()로 정렬\n",
        "np_sort =  np.sort(org_array)\n",
        "print('np_sort:', np_sort)\n",
        "print('org_array after np_sort:', org_array)\n",
        "\n",
        "# ndarray.sort()\n",
        "nd_sort = org_array.sort()\n",
        "print('org_array after ndarray.sort:', org_array)\n",
        "print('nd_sort:', nd_sort)\n",
        "\n",
        "# np.sort(), ndarray.sort() desc : [::-1] \n",
        "np_sort_desc = np.sort(org_array)[::-1]\n",
        "print('np_sort desc:', np_sort_desc)\n",
        "\n",
        "# 2d matrix sorting\n",
        "array2d = np.array([[8,1],\n",
        "                    [7, 12]])\n",
        "np_sort_2d_axis0 = np.sort(array2d, axis=0)\n",
        "print('row sorting:', np_sort_2d_axis0)\n",
        "\n",
        "np_sort_2d_axis1 = np.sort(array2d, axis=1)\n",
        "print('col sorting:', np_sort_2d_axis1)\n",
        "\n",
        "\n"
      ],
      "execution_count": 14,
      "outputs": [
        {
          "output_type": "stream",
          "name": "stdout",
          "text": [
            "org array: [3 1 9 5]\n",
            "np_sort: [1 3 5 9]\n",
            "org_array after np_sort: [3 1 9 5]\n",
            "org_array after ndarray.sort: [1 3 5 9]\n",
            "nd_sort: None\n",
            "np_sort desc: [9 5 3 1]\n",
            "row sorting: [[ 7  1]\n",
            " [ 8 12]]\n",
            "col sorting: [[ 1  8]\n",
            " [ 7 12]]\n",
            "<class 'numpy.ndarray'>\n",
            "행렬 정렬 시 원본 행렬의 인덱스: [2 3 0 1]\n"
          ]
        }
      ]
    },
    {
      "cell_type": "markdown",
      "metadata": {
        "id": "WB2C_kCwCaqO"
      },
      "source": [
        "### 행렬의 인덱스 값 반환 정렬 - np.argsort()\n"
      ]
    },
    {
      "cell_type": "code",
      "metadata": {
        "colab": {
          "base_uri": "https://localhost:8080/"
        },
        "id": "5HqEEGzHChbC",
        "outputId": "0b197582-b8c7-413f-c4ae-68ff71a5a586"
      },
      "source": [
        "# 정렬된 행렬의 인덱스 값 반환 - np.argsort()\n",
        "org_array = np.array([3,1,9,5])\n",
        "sort_index = np.argsort(org_array)[::-1] # desc\n",
        "print(type(sort_index))\n",
        "print('행렬 정렬 시 원본 행렬의 인덱스:', sort_index)\n",
        "\n",
        "name_array = np.array(['john', 'mike', 'sarah', 'kate', 'samuel'])\n",
        "score_array = np.array([78, 95, 84, 98, 88])\n",
        "\n",
        "sort_indices_asc = np.argsort(score_array)\n",
        "print('성적 오름차순 정렬 시 score_array의 인덱스:', sort_indices_asc)\n",
        "print('성적 오름차순으로 name_array의 이름 출력:', name_array[sort_indices_asc])"
      ],
      "execution_count": 15,
      "outputs": [
        {
          "output_type": "stream",
          "name": "stdout",
          "text": [
            "<class 'numpy.ndarray'>\n",
            "행렬 정렬 시 원본 행렬의 인덱스: [2 3 0 1]\n",
            "성적 오름차순 정렬 시 score_array의 인덱스: [0 2 4 1 3]\n",
            "성적 오름차순으로 name_array의 이름 출력: ['john' 'sarah' 'samuel' 'mike' 'kate']\n"
          ]
        }
      ]
    },
    {
      "cell_type": "markdown",
      "metadata": {
        "id": "GrULP4MCDg62"
      },
      "source": [
        "## 선형대수 연산 - 행렬 내적과 전치 행렬 구하기\n"
      ]
    },
    {
      "cell_type": "code",
      "metadata": {
        "colab": {
          "base_uri": "https://localhost:8080/"
        },
        "id": "M8xYqDEYD2ZY",
        "outputId": "efb9a16c-d996-42bd-eb36-51b83e96e82c"
      },
      "source": [
        "#행렬 내적(행렬 곱)\n",
        "A = np.array([[1,2,3],\n",
        "             [4,5,6]])\n",
        "\n",
        "B = np.array([[7, 8],\n",
        "             [9, 10],\n",
        "             [11, 12]])\n",
        "\n",
        "dot_product = np.dot(A,B)\n",
        "print('행렬 내적 결과:\\n', dot_product)\n",
        "\n",
        "# 전치행렬 transpose()\n",
        "\n",
        "a = np.array([[1, 2],\n",
        "              [3, 4]])\n",
        "transpose_a = np.transpose(a)\n",
        "print('a 의 전치행렬:', transpose_a)\n",
        "\n",
        "b = np.array([[1, 2],\n",
        "              [3, 4],\n",
        "              [5, 6]])\n",
        "transpose_b = np.transpose(b)\n",
        "print('b의 전치행렬:', transpose_b)"
      ],
      "execution_count": 20,
      "outputs": [
        {
          "output_type": "stream",
          "name": "stdout",
          "text": [
            "행렬 내적 결과:\n",
            " [[ 58  64]\n",
            " [139 154]]\n",
            "a 의 전치행렬: [[1 3]\n",
            " [2 4]]\n",
            "b의 전치행렬: [[1 3 5]\n",
            " [2 4 6]]\n"
          ]
        }
      ]
    },
    {
      "cell_type": "markdown",
      "metadata": {
        "id": "z9B1H0xQHqRa"
      },
      "source": [
        "# Pandas\n",
        "\n",
        "## titanic \n"
      ]
    },
    {
      "cell_type": "code",
      "metadata": {
        "colab": {
          "base_uri": "https://localhost:8080/"
        },
        "id": "0KEwBeYkIMW5",
        "outputId": "17b131a5-2ab3-4980-b7b0-86243213b9f7"
      },
      "source": [
        "# google drive 연결\n",
        "from google.colab import drive\n",
        "drive.mount('/content/drive')"
      ],
      "execution_count": 21,
      "outputs": [
        {
          "output_type": "stream",
          "name": "stdout",
          "text": [
            "Drive already mounted at /content/drive; to attempt to forcibly remount, call drive.mount(\"/content/drive\", force_remount=True).\n"
          ]
        }
      ]
    },
    {
      "cell_type": "code",
      "metadata": {
        "colab": {
          "base_uri": "https://localhost:8080/"
        },
        "id": "qnPuBG1PIcM6",
        "outputId": "76f540bd-dcc1-47df-f5c7-6cc6436a9c60"
      },
      "source": [
        "import pandas as pd\n",
        "\n",
        "train = pd.read_csv('/content/drive/MyDrive/Colab Notebooks/data/titanic/train.csv')\n",
        "train.head(10)\n",
        "\n",
        "# DF 크기 체크 : shape\n",
        "print('df 크기:', train.shape)\n",
        "\n",
        "# info\n",
        "train.info()\n",
        "\n",
        "#describe\n",
        "train.describe()\n",
        "\n",
        "# value_counts()\n",
        "value_counts = train['Pclass'].value_counts()\n",
        "print(value_counts)\n",
        "\n",
        "# Series\n",
        "titanic_pclass = train['Pclass']\n",
        "print(type(titanic_pclass))\n",
        "titanic_pclass.head(10)"
      ],
      "execution_count": 28,
      "outputs": [
        {
          "output_type": "stream",
          "name": "stdout",
          "text": [
            "df 크기: (891, 12)\n",
            "<class 'pandas.core.frame.DataFrame'>\n",
            "RangeIndex: 891 entries, 0 to 890\n",
            "Data columns (total 12 columns):\n",
            " #   Column       Non-Null Count  Dtype  \n",
            "---  ------       --------------  -----  \n",
            " 0   PassengerId  891 non-null    int64  \n",
            " 1   Survived     891 non-null    int64  \n",
            " 2   Pclass       891 non-null    int64  \n",
            " 3   Name         891 non-null    object \n",
            " 4   Sex          891 non-null    object \n",
            " 5   Age          714 non-null    float64\n",
            " 6   SibSp        891 non-null    int64  \n",
            " 7   Parch        891 non-null    int64  \n",
            " 8   Ticket       891 non-null    object \n",
            " 9   Fare         891 non-null    float64\n",
            " 10  Cabin        204 non-null    object \n",
            " 11  Embarked     889 non-null    object \n",
            "dtypes: float64(2), int64(5), object(5)\n",
            "memory usage: 83.7+ KB\n",
            "3    491\n",
            "1    216\n",
            "2    184\n",
            "Name: Pclass, dtype: int64\n",
            "<class 'pandas.core.series.Series'>\n"
          ]
        },
        {
          "output_type": "execute_result",
          "data": {
            "text/plain": [
              "0    3\n",
              "1    1\n",
              "2    3\n",
              "3    1\n",
              "4    3\n",
              "5    3\n",
              "6    1\n",
              "7    3\n",
              "8    3\n",
              "9    2\n",
              "Name: Pclass, dtype: int64"
            ]
          },
          "metadata": {},
          "execution_count": 28
        }
      ]
    }
  ]
}