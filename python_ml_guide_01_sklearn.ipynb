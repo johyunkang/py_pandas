{
  "nbformat": 4,
  "nbformat_minor": 0,
  "metadata": {
    "colab": {
      "name": "python_ml_guide_01_sklearn.ipynb",
      "provenance": [],
      "collapsed_sections": [],
      "mount_file_id": "1Zd0e9UQ6eFRLbZfbiqaVGDunKT44dLMK",
      "authorship_tag": "ABX9TyOtaUATkXAFT4b9T/jWg0Hy",
      "include_colab_link": true
    },
    "kernelspec": {
      "name": "python3",
      "display_name": "Python 3"
    },
    "language_info": {
      "name": "python"
    }
  },
  "cells": [
    {
      "cell_type": "markdown",
      "metadata": {
        "id": "view-in-github",
        "colab_type": "text"
      },
      "source": [
        "<a href=\"https://colab.research.google.com/github/johyunkang/py_pandas/blob/main/python_ml_guide_01_sklearn.ipynb\" target=\"_parent\"><img src=\"https://colab.research.google.com/assets/colab-badge.svg\" alt=\"Open In Colab\"/></a>"
      ]
    },
    {
      "cell_type": "markdown",
      "metadata": {
        "id": "6hEJJ08FbvqZ"
      },
      "source": [
        "## Scikit-Learn\n",
        "\n",
        "#### 사이킷런 패키지 내의 모듈명은 **sklearn** 으로 시작하는 명명규칙\n",
        "- sklearn.datasets : 사이킷런에서 자체적으로 제공하는 데이터 세트를 생성하는 모듈의 모임\n",
        "- sklearn.tree : 트리기반 ML 알고리즘을 구현한 클래스의 모임\n",
        "- sklearn.model_selection : 학습데이터와 검증 데이터, 예측 데이터로 데이터를 분리하거나 최적의 하이퍼파라미터로 평가하기 위한 다양한 모듈의 모임"
      ]
    },
    {
      "cell_type": "code",
      "metadata": {
        "colab": {
          "base_uri": "https://localhost:8080/"
        },
        "id": "pPkII5zVaXrP",
        "outputId": "62438606-538c-4856-e1ad-e0fa9c452e42"
      },
      "source": [
        "import sklearn\n",
        "import pandas as pd\n",
        "from sklearn.datasets import load_iris\n",
        "from sklearn.tree import DecisionTreeClassifier\n",
        "from sklearn.model_selection import train_test_split\n",
        "from sklearn.metrics import accuracy_score\n",
        "\n",
        "\n",
        "print('sklearn version:', sklearn.__version__)\n",
        "\n",
        "print('# 붓꽃 데이터 세트를 로딩')\n",
        "iris = load_iris()\n",
        "\n",
        "# iris.data 는 Iris 데이터 세트에서 피처(Feature)만으로 된 데이터를 numpy로 가지고 있음\n",
        "iris_data = iris.data\n",
        "\n",
        "print(' iris.target은 붓꽃 데이터 세트에서 레이블(결정 값) 데이터를 numpy로 가지고 있음')\n",
        "iris_label = iris.target\n",
        "print('iris target value:', iris_label)\n",
        "print('iris target name:', iris.target_names)\n",
        "\n",
        "print('\\n  붓꽃 데이터 세트를 자세히 보기 위해 DF 로 변환 ')\n",
        "iris_df = pd.DataFrame(data=iris_data, columns=iris.feature_names)\n",
        "iris_df['label'] = iris.target\n",
        "\n",
        "#label 0 : Setosa 품종, 1: versicolor 품종, 2: virginica 품종\n",
        "print(iris_df.head(10))\n",
        "\n",
        "\n",
        "print('\\n train 데이터와 test 데이터를 분리하기 위해 train_test_split 함수 사용')\n",
        "# train_test_split 파라미터 정보 : 1: 피처 데이터 세트, 2: Label 데이터 세트, 3: 테스트 데이터 비율, 4: 동일 난수발생을 위한 seed 값. (아무값이나  입력해도 됨)\n",
        "rd_seed = 99\n",
        "x_train, x_test, y_train, y_test = train_test_split(iris_data, iris_label, test_size=0.2, random_state=rd_seed)\n",
        "\n",
        "print('\\n DecisionTreeClassifier 객체 생성')\n",
        "dt_clf = DecisionTreeClassifier(random_state = rd_seed)\n",
        "\n",
        "print('\\n 학습수행')\n",
        "dt_clf.fit(x_train, y_train)\n",
        "\n",
        "print('\\n 학습이 완료된 DTC 객체에서 테스트 데이터 세트로 예측 수행')\n",
        "pred = dt_clf.predict(x_test)\n",
        "\n",
        "# scikit-learn은 정확도 측정을 위해 accuracy_score 함수 제공 파라미터 1: 실제 레이블 데이터 세트, 2: 예측 레이블 데이터 세트\n",
        "print('\\n 예측 정확도:{0:.4f}'.format(accuracy_score(y_test, pred)))\n"
      ],
      "execution_count": null,
      "outputs": [
        {
          "output_type": "stream",
          "name": "stdout",
          "text": [
            "sklearn version: 0.22.2.post1\n",
            "# 붓꽃 데이터 세트를 로딩\n",
            " iris.target은 붓꽃 데이터 세트에서 레이블(결정 값) 데이터를 numpy로 가지고 있음\n",
            "iris target value: [0 0 0 0 0 0 0 0 0 0 0 0 0 0 0 0 0 0 0 0 0 0 0 0 0 0 0 0 0 0 0 0 0 0 0 0 0\n",
            " 0 0 0 0 0 0 0 0 0 0 0 0 0 1 1 1 1 1 1 1 1 1 1 1 1 1 1 1 1 1 1 1 1 1 1 1 1\n",
            " 1 1 1 1 1 1 1 1 1 1 1 1 1 1 1 1 1 1 1 1 1 1 1 1 1 1 2 2 2 2 2 2 2 2 2 2 2\n",
            " 2 2 2 2 2 2 2 2 2 2 2 2 2 2 2 2 2 2 2 2 2 2 2 2 2 2 2 2 2 2 2 2 2 2 2 2 2\n",
            " 2 2]\n",
            "iris target name: ['setosa' 'versicolor' 'virginica']\n",
            "\n",
            "  붓꽃 데이터 세트를 자세히 보기 위해 DF 로 변환 \n",
            "   sepal length (cm)  sepal width (cm)  ...  petal width (cm)  label\n",
            "0             5.1                3.5    ...             0.2        0\n",
            "1             4.9                3.0    ...             0.2        0\n",
            "2             4.7                3.2    ...             0.2        0\n",
            "3             4.6                3.1    ...             0.2        0\n",
            "4             5.0                3.6    ...             0.2        0\n",
            "5             5.4                3.9    ...             0.4        0\n",
            "6             4.6                3.4    ...             0.3        0\n",
            "7             5.0                3.4    ...             0.2        0\n",
            "8             4.4                2.9    ...             0.2        0\n",
            "9             4.9                3.1    ...             0.1        0\n",
            "\n",
            "[10 rows x 5 columns]\n",
            "\n",
            " train 데이터와 test 데이터를 분리하기 위해 train_test_split 함수 사용\n",
            "\n",
            " DecisionTreeClassifier 객체 생성\n",
            "\n",
            " 학습수행\n",
            "\n",
            " 학습이 완료된 DTC 객체에서 테스트 데이터 세트로 예측 수행\n",
            "\n",
            " 예측 정확도:0.9333\n"
          ]
        }
      ]
    },
    {
      "cell_type": "markdown",
      "metadata": {
        "id": "B3sozjBSgksT"
      },
      "source": [
        "### 위의 붓꽃 데이터 세트 분류를 예측한 프로세스를 정리하면 다음과 같음\n",
        "1. 데이터 세트 분리 : 데이터를 학습 데이터와 테스트 데이터로 분리\n",
        "2. 모델 학습 : 학습 데이터를 기반으로 ML 알고리즘을 적용해 모델을 학습시킵니다.\n",
        "3. 예측 수행 : 학습된 ML 모델을 이용해 테스트 데이터의 분류(즉, 붓꽃 종류)를 예측\n",
        "4. 평가 : 이렇게 예측된 결괏값과 테스트 데이터의 실제 결괏값을 비교해 ML 모델 성능을 평가함"
      ]
    },
    {
      "cell_type": "markdown",
      "metadata": {
        "id": "vFHzGgRBhCiI"
      },
      "source": [
        "### 내장된 예제 데이터 세트\n",
        "분류나 회귀 연습용 데이터 세트\n",
        "- datasets.load_boston() : 회귀 용도이며, 미국 보스톤의 집 피처들과 가격에 대한 데이터 세트\n",
        "- datasets.load_breast_cancer() : 분류 용도이며, 위스콘신 유방암 피처들과 악성/음성 레이블 데이터 세트\n",
        "- datasets.load_diabetes() : 회귀 용도이며, 당뇨 데이터 세트\n",
        "- datasets.load_digits() : 분류 용도이며, 0에서 9까지 숫자의 이미지 픽셀 데이터 세트\n",
        "- datasets.load_iris() : 분류 용도이며, 붓꽃에 대한 피처를 가진 데이터 세트\n",
        "\n",
        "분류와 클러스터링을 위한 표본 데이터 생성기\n",
        "- datasets.make_classifications() : 분류를 위한 데이터 세트를 만듦. 특히 높은 상관도, 불필요한 속성 등의 노이즈 효과를 위한 데이터를 무작위로 생성해줌\n",
        "- datasets.make_blobs() : 클러스터링을 위한 데이터 세트를 무작위로 생성해줌. 군집 지정 개수에 따라 여러 가지 클러스터링을 위한 데이터 세트를 쉽게 만들어줌"
      ]
    },
    {
      "cell_type": "code",
      "metadata": {
        "colab": {
          "base_uri": "https://localhost:8080/"
        },
        "id": "HRofuO6xkKiV",
        "outputId": "bb3d1f44-6d57-41f1-9a0d-61c9ef6cab2c"
      },
      "source": [
        "from sklearn.datasets import load_iris\n",
        "\n",
        "iris_data = load_iris()\n",
        "print(type(iris_data))\n",
        "print('Bunch 클래스는 파이썬 딕셔너리 자료형과 유사')\n",
        "\n",
        "keys = iris_data.keys()\n",
        "print('붓꽃 데이터 세트의 키들: ', keys)"
      ],
      "execution_count": null,
      "outputs": [
        {
          "output_type": "stream",
          "name": "stdout",
          "text": [
            "<class 'sklearn.utils.Bunch'>\n",
            "Bunch 클래스는 파이썬 딕셔너리 자료형과 유사\n",
            "붓꽃 데이터 세트의 키들:  dict_keys(['data', 'target', 'target_names', 'DESCR', 'feature_names', 'filename'])\n"
          ]
        }
      ]
    },
    {
      "cell_type": "markdown",
      "metadata": {
        "id": "NuQPRW_FlBIm"
      },
      "source": [
        "### 데이터 키의 의미\n",
        "![sklearn_keys](https://user-images.githubusercontent.com/291782/137591893-a0d34994-a696-464c-9532-60ad647b1cfe.png)\n",
        "> 이미지 출처 : [파이썬 머신러닝 완벽 가이드](http://www.kyobobook.co.kr/product/detailViewKor.laf?ejkGb=KOR&mallGb=KOR&barcode=9791158391928&orderClick=LEA&Kc=) p.98 "
      ]
    },
    {
      "cell_type": "code",
      "metadata": {
        "colab": {
          "base_uri": "https://localhost:8080/"
        },
        "id": "1F2QaX0elJ4L",
        "outputId": "5f9c3ef0-395e-485c-ae06-35a318cd28f7"
      },
      "source": [
        "print('\\n feature_name 의 type:', type(iris_data.feature_names))\n",
        "print('feature_names 의 shape:', len(iris_data.feature_names))\n",
        "print('iris_data.feature_names:\\n', iris_data.feature_names)\n",
        "\n",
        "print('\\n target_name의 type:', type(iris_data.target_names))\n",
        "print('target_name의 shape:', len(iris_data.target_names))\n",
        "print('iris_data.target_names:', iris_data.target_names)\n",
        "\n",
        "print('\\n data의 type:', type(iris_data.data))\n",
        "print('data의 shape:', iris_data.data.shape)\n",
        "print('iris_data[data]:', iris_data['data'][1:10]) # data 양이 많아 10줄만 나오게 1:10\n",
        "\n",
        "print('\\n target의 type:', type(iris_data.target))\n",
        "print('target의 shape:', iris_data.target.shape)\n",
        "print('iris_data.target:', iris_data.target) # data 양이 많아 10줄만 나오게 1:10\n"
      ],
      "execution_count": null,
      "outputs": [
        {
          "output_type": "stream",
          "name": "stdout",
          "text": [
            "\n",
            " feature_name 의 type: <class 'list'>\n",
            "feature_names 의 shape: 4\n",
            "iris_data.feature_names:\n",
            " ['sepal length (cm)', 'sepal width (cm)', 'petal length (cm)', 'petal width (cm)']\n",
            "\n",
            " target_name의 type: <class 'numpy.ndarray'>\n",
            "target_name의 shape: 3\n",
            "iris_data.target_names: ['setosa' 'versicolor' 'virginica']\n",
            "\n",
            " data의 type: <class 'numpy.ndarray'>\n",
            "data의 shape: (150, 4)\n",
            "iris_data[data]: [[4.9 3.  1.4 0.2]\n",
            " [4.7 3.2 1.3 0.2]\n",
            " [4.6 3.1 1.5 0.2]\n",
            " [5.  3.6 1.4 0.2]\n",
            " [5.4 3.9 1.7 0.4]\n",
            " [4.6 3.4 1.4 0.3]\n",
            " [5.  3.4 1.5 0.2]\n",
            " [4.4 2.9 1.4 0.2]\n",
            " [4.9 3.1 1.5 0.1]]\n",
            "\n",
            " target의 type: <class 'numpy.ndarray'>\n",
            "target의 shape: (150,)\n",
            "iris_data.target: [0 0 0 0 0 0 0 0 0 0 0 0 0 0 0 0 0 0 0 0 0 0 0 0 0 0 0 0 0 0 0 0 0 0 0 0 0\n",
            " 0 0 0 0 0 0 0 0 0 0 0 0 0 1 1 1 1 1 1 1 1 1 1 1 1 1 1 1 1 1 1 1 1 1 1 1 1\n",
            " 1 1 1 1 1 1 1 1 1 1 1 1 1 1 1 1 1 1 1 1 1 1 1 1 1 1 2 2 2 2 2 2 2 2 2 2 2\n",
            " 2 2 2 2 2 2 2 2 2 2 2 2 2 2 2 2 2 2 2 2 2 2 2 2 2 2 2 2 2 2 2 2 2 2 2 2 2\n",
            " 2 2]\n"
          ]
        }
      ]
    },
    {
      "cell_type": "markdown",
      "metadata": {
        "id": "u5F8y6wOn-Zh"
      },
      "source": [
        "### Model Selection 모듈 소개\n",
        "#### 학습 / 테스트 데이터 세트 분리 - train_test_split()"
      ]
    },
    {
      "cell_type": "code",
      "metadata": {
        "colab": {
          "base_uri": "https://localhost:8080/"
        },
        "id": "3y3YkwD-oGw3",
        "outputId": "7ce8abc5-3e05-4396-e33d-d8abd9509d50"
      },
      "source": [
        "from sklearn.datasets import load_iris\n",
        "from sklearn.tree import DecisionTreeClassifier\n",
        "from sklearn.metrics import accuracy_score\n",
        "\n",
        "iris = load_iris()\n",
        "dtc = DecisionTreeClassifier()\n",
        "train_data = iris.data\n",
        "train_label = iris.target\n",
        "dtc.fit(train_data, train_label)\n",
        "\n",
        "print('\\n 학습 데이터 세트로 예측 수행')\n",
        "pred = dtc.predict(train_data)\n",
        "print('예측 정확도:', accuracy_score(train_label, pred))\n",
        "# 위 정확도 1.0 이 나오는건 train 데이터로 test를 진행했기 때문"
      ],
      "execution_count": null,
      "outputs": [
        {
          "output_type": "stream",
          "name": "stdout",
          "text": [
            "\n",
            " 학습 데이터 세트로 예측 수행\n",
            "예측 정확도: 1.0\n"
          ]
        }
      ]
    },
    {
      "cell_type": "code",
      "metadata": {
        "id": "5hIq_XpdpPzP",
        "colab": {
          "base_uri": "https://localhost:8080/"
        },
        "outputId": "eb269063-1bcf-4fe8-80db-3adf023b667a"
      },
      "source": [
        "from sklearn.tree import DecisionTreeClassifier\n",
        "from sklearn.metrics import accuracy_score\n",
        "from sklearn.datasets import load_iris\n",
        "from sklearn.model_selection import train_test_split\n",
        "\n",
        "dtc = DecisionTreeClassifier()\n",
        "iris_data = load_iris()\n",
        "\n",
        "# train data와 test data를 7:3 으로 분리\n",
        "x_train, x_test, y_train, y_test = train_test_split(iris_data.data, iris_data.target, \\\n",
        "                                                    test_size = 0.3, random_state = 121)\n",
        "\n",
        "dtc.fit(x_train, y_train)\n",
        "pred = dtc.predict(x_test)\n",
        "print('예측 정확도:{0:.5f}'.format(accuracy_score(y_test, pred)))\n"
      ],
      "execution_count": null,
      "outputs": [
        {
          "output_type": "stream",
          "name": "stdout",
          "text": [
            "예측 정확도:0.95556\n"
          ]
        }
      ]
    },
    {
      "cell_type": "markdown",
      "metadata": {
        "id": "712r6tmHxguB"
      },
      "source": [
        "### 교차검증\n",
        "#### K-Fold 교차검증"
      ]
    },
    {
      "cell_type": "code",
      "metadata": {
        "colab": {
          "base_uri": "https://localhost:8080/"
        },
        "id": "SwbFofZwxqtD",
        "outputId": "026acdbb-320e-470f-aeac-29d6a448fee6"
      },
      "source": [
        "from sklearn.tree import DecisionTreeClassifier\n",
        "from sklearn.metrics import accuracy_score\n",
        "from sklearn.model_selection import KFold\n",
        "import numpy as np\n",
        "\n",
        "iris = load_iris()\n",
        "features = iris.data\n",
        "label = iris.target\n",
        "dtc = DecisionTreeClassifier(random_state = 156)\n",
        "\n",
        "print(' 5개의 폴드 세트로 분리되는 KFold 객체와 폴드 세트별 정확도를 담을 리스트 객체 생성')\n",
        "kfold = KFold(n_splits = 5)\n",
        "cv_accuracy = []\n",
        "print('붓꽃 데이터 세트 크기:', features.shape[0])\n",
        "\n",
        "n_iter = 0\n",
        "\n",
        "# KFold 객체의 split()을 호출하면 폴드 별 학습용, 검증용 테스트의 로우 인덱스를 array로 반환\n",
        "for train_index, test_index in kfold.split(features):\n",
        "  # kfold.split()으로 반환된 인덱스를 이용해 학습용, 검증용 테스트 데이터 추출\n",
        "  x_train, x_test = features[train_index], features[test_index]\n",
        "  y_train, y_test = label[train_index], label[test_index]\n",
        "\n",
        "  # 학습 및 예측\n",
        "  dtc.fit(x_train, y_train)\n",
        "  pred = dtc.predict(x_test)\n",
        "  n_iter += 1\n",
        "\n",
        "  # 반복 시 마다 정확도 측정\n",
        "  accuracy = np.round(accuracy_score(y_test, pred), 4)\n",
        "  train_size = x_train.shape[0]\n",
        "  test_size = x_test.shape[0]\n",
        "  print('\\n {0} 교차 검증 정확도: {1}, 학습데이터 크기: {2}, 검증 데이터 크기:{3}'\n",
        "        .format(n_iter, accuracy, train_size, test_size))\n",
        "  print('#{0} 검증 세트 인덱스:{1}'.format(n_iter, test_index))\n",
        "  cv_accuracy.append(accuracy)\n",
        "\n",
        "# 개별 iteration별 정확도를 합하여 평균 저확도 계산\n",
        "print('\\n  ## 평균 검증 정확도:', np.mean(cv_accuracy))"
      ],
      "execution_count": null,
      "outputs": [
        {
          "output_type": "stream",
          "name": "stdout",
          "text": [
            " 5개의 폴드 세트로 분리되는 KFold 객체와 폴드 세트별 정확도를 담을 리스트 객체 생성\n",
            "붓꽃 데이터 세트 크기: 150\n",
            "\n",
            " 1 교차 검증 정확도: 1.0, 학습데이터 크기: 120, 검증 데이터 크기:30\n",
            "#1 검증 세트 인덱스:[ 0  1  2  3  4  5  6  7  8  9 10 11 12 13 14 15 16 17 18 19 20 21 22 23\n",
            " 24 25 26 27 28 29]\n",
            "\n",
            " 2 교차 검증 정확도: 0.9667, 학습데이터 크기: 120, 검증 데이터 크기:30\n",
            "#2 검증 세트 인덱스:[30 31 32 33 34 35 36 37 38 39 40 41 42 43 44 45 46 47 48 49 50 51 52 53\n",
            " 54 55 56 57 58 59]\n",
            "\n",
            " 3 교차 검증 정확도: 0.8667, 학습데이터 크기: 120, 검증 데이터 크기:30\n",
            "#3 검증 세트 인덱스:[60 61 62 63 64 65 66 67 68 69 70 71 72 73 74 75 76 77 78 79 80 81 82 83\n",
            " 84 85 86 87 88 89]\n",
            "\n",
            " 4 교차 검증 정확도: 0.9333, 학습데이터 크기: 120, 검증 데이터 크기:30\n",
            "#4 검증 세트 인덱스:[ 90  91  92  93  94  95  96  97  98  99 100 101 102 103 104 105 106 107\n",
            " 108 109 110 111 112 113 114 115 116 117 118 119]\n",
            "\n",
            " 5 교차 검증 정확도: 0.7333, 학습데이터 크기: 120, 검증 데이터 크기:30\n",
            "#5 검증 세트 인덱스:[120 121 122 123 124 125 126 127 128 129 130 131 132 133 134 135 136 137\n",
            " 138 139 140 141 142 143 144 145 146 147 148 149]\n",
            "\n",
            "  ## 평균 검증 정확도: 0.9\n"
          ]
        }
      ]
    },
    {
      "cell_type": "markdown",
      "metadata": {
        "id": "lmKCjcI10jBj"
      },
      "source": [
        "#### Stratified K 폴드\n"
      ]
    },
    {
      "cell_type": "code",
      "metadata": {
        "colab": {
          "base_uri": "https://localhost:8080/"
        },
        "id": "g_TPVqvk084I",
        "outputId": "699bd822-9bc7-4e8e-da22-73e554554b58"
      },
      "source": [
        "import pandas as pd\n",
        "\n",
        "iris = load_iris()\n",
        "iris_df = pd.DataFrame(data = iris.data, columns=iris.feature_names)\n",
        "iris_df['label'] = iris.target\n",
        "iris_df['label'].value_counts()\n",
        "\n",
        "kfold = KFold(n_splits = 3)\n",
        "n_iter = 0\n",
        "\n",
        "## 학습 레이블과 검증 레이블에 속하는 데이터의 분포가 일정하지 않아 올바른 예측이 되지 않는 문제의 예시\n",
        "for train_index, test_index in kfold.split(iris_df):\n",
        "  n_iter += 1\n",
        "  label_train = iris_df['label'].iloc[train_index]\n",
        "  label_test = iris_df['label'].iloc[test_index]\n",
        "  print('\\n ## 교차검증: {0}'.format(n_iter))\n",
        "  print('## 학습 레이블 데이터 분포: \\n', label_train.value_counts())\n",
        "  print('## 검증 레이블 데이터 분포: \\n', label_test.value_counts())\n",
        "  "
      ],
      "execution_count": null,
      "outputs": [
        {
          "output_type": "stream",
          "name": "stdout",
          "text": [
            "\n",
            " ## 교차검증: 1\n",
            "## 학습 레이블 데이터 분포: \n",
            " 2    50\n",
            "1    50\n",
            "Name: label, dtype: int64\n",
            "## 검증 레이블 데이터 분포: \n",
            " 0    50\n",
            "Name: label, dtype: int64\n",
            "\n",
            " ## 교차검증: 2\n",
            "## 학습 레이블 데이터 분포: \n",
            " 2    50\n",
            "0    50\n",
            "Name: label, dtype: int64\n",
            "## 검증 레이블 데이터 분포: \n",
            " 1    50\n",
            "Name: label, dtype: int64\n",
            "\n",
            " ## 교차검증: 3\n",
            "## 학습 레이블 데이터 분포: \n",
            " 1    50\n",
            "0    50\n",
            "Name: label, dtype: int64\n",
            "## 검증 레이블 데이터 분포: \n",
            " 2    50\n",
            "Name: label, dtype: int64\n"
          ]
        }
      ]
    },
    {
      "cell_type": "code",
      "metadata": {
        "colab": {
          "base_uri": "https://localhost:8080/"
        },
        "id": "sXTd3Tsa2vMf",
        "outputId": "ece305bd-a3f0-48b7-ef8c-8c4b788141d4"
      },
      "source": [
        "# 위 KFold 의 문제를 StratifiedKFold 로 해결하는 예시\n",
        "from sklearn.model_selection import StratifiedKFold\n",
        "\n",
        "skf = StratifiedKFold(n_splits = 3)\n",
        "n_iter = 0\n",
        "\n",
        "# KFold 와 다르게 StratifiedKFold 는 인자로 레이블 데이터 세트가 필수(KFold는 옵션)\n",
        "for train_index, test_index in skf.split(iris_df, iris_df['label']):\n",
        "  n_iter += 1\n",
        "  label_train = iris_df['label'].iloc[train_index]\n",
        "  label_test = iris_df['label'].iloc[test_index]\n",
        "\n",
        "  print('\\n \\n ## 교차검증:', n_iter)\n",
        "  print('\\n 학습 레이블 데이터 분포:\\n', label_train.value_counts())\n",
        "  print('\\n 검증 레이블 데이터 분포:\\n', label_test.value_counts())\n"
      ],
      "execution_count": null,
      "outputs": [
        {
          "output_type": "stream",
          "name": "stdout",
          "text": [
            "\n",
            " \n",
            " ## 교차검증: 1\n",
            "\n",
            " 학습 레이블 데이터 분포:\n",
            " 2    34\n",
            "1    33\n",
            "0    33\n",
            "Name: label, dtype: int64\n",
            "\n",
            " 검증 레이블 데이터 분포:\n",
            " 1    17\n",
            "0    17\n",
            "2    16\n",
            "Name: label, dtype: int64\n",
            "\n",
            " \n",
            " ## 교차검증: 2\n",
            "\n",
            " 학습 레이블 데이터 분포:\n",
            " 1    34\n",
            "2    33\n",
            "0    33\n",
            "Name: label, dtype: int64\n",
            "\n",
            " 검증 레이블 데이터 분포:\n",
            " 2    17\n",
            "0    17\n",
            "1    16\n",
            "Name: label, dtype: int64\n",
            "\n",
            " \n",
            " ## 교차검증: 3\n",
            "\n",
            " 학습 레이블 데이터 분포:\n",
            " 0    34\n",
            "2    33\n",
            "1    33\n",
            "Name: label, dtype: int64\n",
            "\n",
            " 검증 레이블 데이터 분포:\n",
            " 2    17\n",
            "1    17\n",
            "0    16\n",
            "Name: label, dtype: int64\n"
          ]
        }
      ]
    },
    {
      "cell_type": "code",
      "metadata": {
        "colab": {
          "base_uri": "https://localhost:8080/"
        },
        "id": "XdB6-pgz4SpR",
        "outputId": "55267df7-368d-422f-d317-f454f7c13251"
      },
      "source": [
        "# StratifiedKFold 를 이용해 데이터를 분리\n",
        "dtc = DecisionTreeClassifier(random_state = 156)\n",
        "\n",
        "skf = StratifiedKFold(n_splits = 3)\n",
        "n_iter = 0\n",
        "cv_accuracy = []\n",
        "\n",
        "# StratifiedKFold 의 split() 호출 시 반드시 레이블 데이터 세트도 입력 필요\n",
        "for train_index, test_index in skf.split(features, label):\n",
        "  #split()으로 반환된 인덱스를 이용해 학습용, 검증용 테스트 데이터 추출\n",
        "  x_train, x_test = features[train_index], features[test_index]\n",
        "  y_train, y_test = label[train_index], label[test_index]\n",
        "\n",
        "  #학습 및 예측\n",
        "  dtc.fit(x_train, y_train)\n",
        "  pred = dtc.predict(x_test)\n",
        "\n",
        "  # 반복 시마다 정확성 측정\n",
        "  n_iter += 1\n",
        "  accuracy = np.round(accuracy_score(y_test, pred), 4)\n",
        "  train_size = x_train.shape[0]\n",
        "  test_size = x_test.shape[0]\n",
        "\n",
        "  print('\\n {0} 교차검증 정확도:{1}, 학습데이터 크기:{2}, 검증데이터 크기:{3}'\n",
        "        .format(n_iter, accuracy, train_size, test_size))\n",
        "  print('# {0} 검증 세트 인덱스:{1}'.format(n_iter, test_index))\n",
        "  cv_accuracy.append(accuracy)\n",
        "\n",
        "# 교차 검증별 정확도 및 평균 정확도 계산\n",
        "print('\\n ## 교차 검증별 정확도:', np.round(cv_accuracy, 4))\n",
        "print('## 평균 검증 정확도:', np.mean(cv_accuracy))"
      ],
      "execution_count": null,
      "outputs": [
        {
          "output_type": "stream",
          "name": "stdout",
          "text": [
            "\n",
            " 1 교차검증 정확도:0.98, 학습데이터 크기:100, 검증데이터 크기:50\n",
            "# 1 검증 세트 인덱스:[  0   1   2   3   4   5   6   7   8   9  10  11  12  13  14  15  16  50\n",
            "  51  52  53  54  55  56  57  58  59  60  61  62  63  64  65  66 100 101\n",
            " 102 103 104 105 106 107 108 109 110 111 112 113 114 115]\n",
            "\n",
            " 2 교차검증 정확도:0.94, 학습데이터 크기:100, 검증데이터 크기:50\n",
            "# 2 검증 세트 인덱스:[ 17  18  19  20  21  22  23  24  25  26  27  28  29  30  31  32  33  67\n",
            "  68  69  70  71  72  73  74  75  76  77  78  79  80  81  82 116 117 118\n",
            " 119 120 121 122 123 124 125 126 127 128 129 130 131 132]\n",
            "\n",
            " 3 교차검증 정확도:0.98, 학습데이터 크기:100, 검증데이터 크기:50\n",
            "# 3 검증 세트 인덱스:[ 34  35  36  37  38  39  40  41  42  43  44  45  46  47  48  49  83  84\n",
            "  85  86  87  88  89  90  91  92  93  94  95  96  97  98  99 133 134 135\n",
            " 136 137 138 139 140 141 142 143 144 145 146 147 148 149]\n",
            "\n",
            " ## 교차 검증별 정확도: [0.98 0.94 0.98]\n",
            "## 평균 검증 정확도: 0.9666666666666667\n"
          ]
        }
      ]
    },
    {
      "cell_type": "markdown",
      "metadata": {
        "id": "ZPSUbsYE6aCO"
      },
      "source": [
        "### 교차 검증을 보다 간편하게 - cross_val_score()\n",
        "\n",
        "```python\n",
        "cross_val_score(estimator, X, y=None, scoring=None, cv=None, n_jobs=1, verbose=0\n",
        "              , fit_params=None, pre_dispatch='2*n_jobs')\n",
        "```\n",
        "위 파라미터 중 **estimator, X, y, scoring, cv**가 주요 파라미터이다\n",
        "- estimator : 사이킷런의 분류 알고리즘 클래스인 Classifier 또는 회귀 알고리즘 클래스인 Regressor를 의미함\n",
        "- X : 피처 데이터 세트\n",
        "- y : 레이블 데이터 세트\n",
        "- scoring : 예측 성능 평가 지표를 기술\n",
        "- cv : 교차 검증 폴드 수를 의미"
      ]
    },
    {
      "cell_type": "code",
      "metadata": {
        "colab": {
          "base_uri": "https://localhost:8080/"
        },
        "id": "Ws7bkO1B7mjV",
        "outputId": "3fe09a05-e03b-45cb-e287-9be62c472b65"
      },
      "source": [
        "from sklearn.tree import DecisionTreeClassifier\n",
        "from sklearn.model_selection import cross_val_score, cross_validate\n",
        "from sklearn.datasets import load_iris\n",
        "import numpy as np\n",
        "\n",
        "\n",
        "iris_data = load_iris()\n",
        "dtc = DecisionTreeClassifier(random_state = 156)\n",
        "\n",
        "data = iris_data.data\n",
        "label = iris_data.target\n",
        "\n",
        "# 성능 지표는 정확도(accuracy), 교차 검증 세트는 3개\n",
        "scores = cross_val_score(dtc, data, label, scoring='accuracy', cv=3)\n",
        "print('교차 검증별 정확도:', np.round(scores, 4))\n",
        "print('평균 검증 정확도:', np.round(np.mean(scores), 4))\n",
        "\n",
        "# cross_validate 는 직접 찾아봐라"
      ],
      "execution_count": null,
      "outputs": [
        {
          "output_type": "stream",
          "name": "stdout",
          "text": [
            "교차 검증별 정확도: [0.98 0.94 0.98]\n",
            "평균 검증 정확도: 0.9667\n"
          ]
        }
      ]
    },
    {
      "cell_type": "markdown",
      "metadata": {
        "id": "J4n6y9Dh9rmo"
      },
      "source": [
        "### GridSearchCV - 교차 검증과 최적 하이퍼 파라미터 튜닝을 한 번에\n",
        "\n",
        "GridSearchCV 클래스의 생성자에 들어가는 주요 파라미터\n",
        "- estimator : classifier, regressor, pipeline이 상요될 수 있음\n",
        "- param_grid : key + 리스트 값을 가지는 딕셔너리가 주어짐. estimator의 튜닝을 위해 파라미터명과 사용될 여러 파라미터 값을 지정함\n",
        "- scoring : 예측 성능을 측정할 평가 방법을 지정함. 보통은 사이킷런의 성능 평가 지표를 지정하는 문자열(예: 정확도의 경우 'accuracy') 로 지정하거나 별도의 성능 평가 지표 함수도 지정할 수 잇음\n",
        "- cv : 교차검증을 위해 분할되는 학습/테스트 세트의 개수\n",
        "- refit : 디폴트가 True이며 True로 생성 시 가장 최적의 하이퍼 파라미터를 찾은 뒤 입력된 estimator 객체를 해당 하이퍼 파라미터로 재학습 시킴\n"
      ]
    },
    {
      "cell_type": "code",
      "metadata": {
        "colab": {
          "base_uri": "https://localhost:8080/"
        },
        "id": "mQEwvJkg-J3z",
        "outputId": "b0f82672-ce63-45a8-f88a-d33cceef3481"
      },
      "source": [
        "from sklearn.datasets import load_iris\n",
        "from sklearn.tree import DecisionTreeClassifier\n",
        "from sklearn.model_selection import GridSearchCV, train_test_split\n",
        "from sklearn.metrics import accuracy_score\n",
        "\n",
        "\n",
        "# 데이터를 로딩하고 학습 데이터와 테스트 데이터 분리\n",
        "iris_data = load_iris()\n",
        "x_train, x_test, y_train, y_test = train_test_split(iris_data.data, iris_data.target, \n",
        "                                                    test_size = 0.2, random_state=121)\n",
        "\n",
        "dtc = DecisionTreeClassifier()\n",
        "\n",
        "# 파라미터를 딕셔너리 형태로 설정\n",
        "parameters = {'max_depth':[1,2,3], 'min_samples_split':[2,3]}\n",
        "\n",
        "import pandas as pd\n",
        "\n",
        "# param_grid의 하이퍼 파라미터를 3개의 train, test set fold 로 나누어 테스트 수행 설정\n",
        "# refit=True 가 default임. True 이면 가장 좋은 파라미터 설정으로 재학습시킴\n",
        "grid_tree = GridSearchCV(dtc, param_grid=parameters, cv=3, refit=True)\n",
        "\n",
        "\n",
        "# 붓꽃 학습 데이터로 param_grid의 하이퍼 파라미터를 순차적으로 학습/평가\n",
        "grid_tree.fit(x_train, y_train)\n",
        "\n",
        "# GridSearchCV 결과를 추출해 DF로 변환\n",
        "scores_df = pd.DataFrame(grid_tree.cv_results_)\n",
        "\n",
        "print('# pandas option 표시')\n",
        "# print(pd.describe_option())\n",
        "\n",
        "pd.set_option('display.width', 800)\n",
        "pd.set_option('display.max_row', 20)\n",
        "pd.set_option('display.max_columns', 20)\n",
        "\n",
        "print(scores_df[['params', 'mean_test_score', 'rank_test_score',\n",
        "           'split0_test_score', 'split1_test_score', 'split2_test_score']])\n",
        "# scores_df\n",
        "\n",
        "print('GridSearchCV 최적 파라미터:', grid_tree.best_params_)\n",
        "print('GridSearchCV 최고 정확도:{0:.4f}'.format(grid_tree.best_score_))\n",
        "\n",
        "# GridSearchCV 의 refit으로 이미 학습된 estimator 반환\n",
        "estimator = grid_tree.best_estimator_\n",
        "\n",
        "# GridSearchCV의 best_estimator_ 는 이미 최적 학습이 됐으므로 별도 학습이 필요 없음\n",
        "pred = estimator.predict(x_test)\n",
        "print('테스트 데이터 세트 정확도:{0:.4f}'.format(accuracy_score(y_test, pred)))"
      ],
      "execution_count": null,
      "outputs": [
        {
          "output_type": "stream",
          "name": "stdout",
          "text": [
            "# pandas option 표시\n",
            "                                     params  mean_test_score  rank_test_score  split0_test_score  split1_test_score  split2_test_score\n",
            "0  {'max_depth': 1, 'min_samples_split': 2}         0.700000                5              0.700                0.7               0.70\n",
            "1  {'max_depth': 1, 'min_samples_split': 3}         0.700000                5              0.700                0.7               0.70\n",
            "2  {'max_depth': 2, 'min_samples_split': 2}         0.958333                3              0.925                1.0               0.95\n",
            "3  {'max_depth': 2, 'min_samples_split': 3}         0.958333                3              0.925                1.0               0.95\n",
            "4  {'max_depth': 3, 'min_samples_split': 2}         0.975000                1              0.975                1.0               0.95\n",
            "5  {'max_depth': 3, 'min_samples_split': 3}         0.975000                1              0.975                1.0               0.95\n",
            "GridSearchCV 최적 파라미터: {'max_depth': 3, 'min_samples_split': 2}\n",
            "GridSearchCV 최고 정확도:0.9750\n",
            "테스트 데이터 세트 정확도:0.9667\n"
          ]
        }
      ]
    },
    {
      "cell_type": "markdown",
      "metadata": {
        "id": "kbR_eObgC1Cs"
      },
      "source": [
        "> 위 scores_df 의 컬럼별 의미\n",
        "-  **rank_test_score**가 params(하이퍼 파라미터) 별로 측정 랭킹을 나타내며 1이 가장 좋은 결과(순위)임.\n",
        "- **params** 컬럼에는 수행할 때마다 적용된 개별 하이퍼 파라미터 값을 나타냄\n",
        "- **mean_test_score** 점수는 **split0_test_score, split1_test_score, split2_test_score** 3개 컬럼의 평균 값을 의미"
      ]
    },
    {
      "cell_type": "markdown",
      "metadata": {
        "id": "13ujAWc1GwHk"
      },
      "source": [
        "### 데이터 전처리\n",
        "- 레이블 인코딩(Label encoding)\n",
        " - 카테고리 피처를 코드형 숫자값으로 변환하는 것\n",
        " - 예) TV, 냉장고, 전자레인지 > 1, 2, 3\n",
        " - 레이블 인코딩은 선형회귀와 같은 ML 알고리즘에는 적용하지 않아야 함\n",
        " - 이유는 숫자 변환값이 순서나 중요도가 없는데 이를 인식해서 가중치를 달리하기 때문\n",
        " - 트리 계열의 ML 알고리즘에만 레이블 인코딩 사용해야 함\n",
        "- 원핫 인코딩(One Hot encoding)\n",
        " - 피처 값의 유형에 따라 새로운 피처를 추가해 고유 값에 해당하는 컬럼에만 1을 표시하고 나머지 컬럼에는 0을 표시하는 방식\n",
        " - 행 형태의 피처값을 열 형태로 차원을 변환하는 방식\n",
        " - 주의사항 1 : OneHotEncoder로 변환하기 전 모든 문자열 값이 숫자형 값으로 변환돼야 함\n",
        " - 주의사항 2 : 입력값으로 2차원 데이터가 필요하다는 점"
      ]
    },
    {
      "cell_type": "markdown",
      "metadata": {
        "id": "JiJdU80vZTmg"
      },
      "source": [
        "#### 레이블 인코딩 (Label encoding)\n",
        "![label-encoding](https://user-images.githubusercontent.com/291782/137861006-40d215c8-95eb-44b2-abca-1e031f7cf211.png)\n"
      ]
    },
    {
      "cell_type": "code",
      "metadata": {
        "colab": {
          "base_uri": "https://localhost:8080/"
        },
        "id": "um9eNrHkaAEm",
        "outputId": "b3bd1e17-e30b-4666-f48e-0db9aab742fb"
      },
      "source": [
        "# Label encoding\n",
        "from sklearn.preprocessing import LabelEncoder\n",
        "\n",
        "items = ['TV', '냉장고', '전자레인지', '컴퓨터', '선풍기', '선풍기', '믹서', '믹서']\n",
        "\n",
        "# LabelEncoder를 객체로 생성한 후, fit()과 transform()으로 레이블 인코딩 수행\n",
        "encoder = LabelEncoder()\n",
        "encoder.fit(items)\n",
        "labels = encoder.transform(items)\n",
        "print('인코딩 변환전 값:', items)\n",
        "print('인코딩 변환후 값:', labels)\n",
        "\n",
        "print('인코딩 클래스:', encoder.classes_)\n",
        "\n",
        "# decoding\n",
        "print('디코딩 원본값:', encoder.inverse_transform(labels))"
      ],
      "execution_count": null,
      "outputs": [
        {
          "output_type": "stream",
          "name": "stdout",
          "text": [
            "인코딩 변환전 값: ['TV', '냉장고', '전자레인지', '컴퓨터', '선풍기', '선풍기', '믹서', '믹서']\n",
            "인코딩 변환후 값: [0 1 4 5 3 3 2 2]\n",
            "인코딩 클래스: ['TV' '냉장고' '믹서' '선풍기' '전자레인지' '컴퓨터']\n",
            "디코딩 원본값: ['TV' '냉장고' '전자레인지' '컴퓨터' '선풍기' '선풍기' '믹서' '믹서']\n"
          ]
        }
      ]
    },
    {
      "cell_type": "markdown",
      "metadata": {
        "id": "pZFuu0uUZ40S"
      },
      "source": [
        "#### 원핫 인코딩\n",
        "![one-hot-encoding](https://user-images.githubusercontent.com/291782/137861549-cd403912-0451-4849-9ba7-27005e78b190.png)"
      ]
    },
    {
      "cell_type": "code",
      "metadata": {
        "colab": {
          "base_uri": "https://localhost:8080/"
        },
        "id": "eWIhjZZnaN0w",
        "outputId": "a8ef47e9-d8ec-47bd-a25b-1a2d255f3910"
      },
      "source": [
        "# 원 핫 인코딩\n",
        "from sklearn.preprocessing import OneHotEncoder\n",
        "import numpy as np\n",
        "\n",
        "items = ['TV', '냉장고', '전자레인지', '컴퓨터', '선풍기', '선풍기', '믹서', '믹서']\n",
        "\n",
        "# 먼저 숫자 값으로 변환을 위해 LabelEncoder로 변환\n",
        "encoder = LabelEncoder()\n",
        "encoder.fit(items)\n",
        "labels = encoder.transform(items)\n",
        "print('LabelEncoding Labels:', labels)\n",
        "\n",
        "# 2차원 데이터로 변환\n",
        "labels2d = labels.reshape(-1, 1)\n",
        "print('\\n 2차원 Labels:\\n', labels2d)\n",
        "\n",
        "# 원핫 인코딩 적용\n",
        "oh_encoder = OneHotEncoder()\n",
        "oh_encoder.fit(labels2d)\n",
        "oh_labels = oh_encoder.transform(labels2d)\n",
        "\n",
        "print('\\n 원핫인코딩 데이터')\n",
        "print(oh_labels.toarray())\n",
        "\n",
        "print('\\n 원-핫 인코딩 차원')\n",
        "print(oh_labels.shape)"
      ],
      "execution_count": null,
      "outputs": [
        {
          "output_type": "stream",
          "name": "stdout",
          "text": [
            "LabelEncoding Labels: [0 1 4 5 3 3 2 2]\n",
            "\n",
            " 2차원 Labels:\n",
            " [[0]\n",
            " [1]\n",
            " [4]\n",
            " [5]\n",
            " [3]\n",
            " [3]\n",
            " [2]\n",
            " [2]]\n",
            "\n",
            " 원핫인코딩 데이터\n",
            "[[1. 0. 0. 0. 0. 0.]\n",
            " [0. 1. 0. 0. 0. 0.]\n",
            " [0. 0. 0. 0. 1. 0.]\n",
            " [0. 0. 0. 0. 0. 1.]\n",
            " [0. 0. 0. 1. 0. 0.]\n",
            " [0. 0. 0. 1. 0. 0.]\n",
            " [0. 0. 1. 0. 0. 0.]\n",
            " [0. 0. 1. 0. 0. 0.]]\n",
            "\n",
            " 원-핫 인코딩 차원\n",
            "(8, 6)\n"
          ]
        }
      ]
    },
    {
      "cell_type": "markdown",
      "metadata": {
        "id": "l4GfF6y2cr8A"
      },
      "source": [
        "위 원핫인코딩 데이터 설명 그림\n",
        "![one-hot-encoding-desc](https://user-images.githubusercontent.com/291782/137863139-5dc566ff-2139-49d5-beb1-c46bbe6cc3c8.png)"
      ]
    },
    {
      "cell_type": "markdown",
      "metadata": {
        "id": "h72A-KI3dFVH"
      },
      "source": [
        "#### 원핫 인코딩을 쉽게 지원하는 API\n",
        "**get_dummies()**\n"
      ]
    },
    {
      "cell_type": "code",
      "metadata": {
        "colab": {
          "base_uri": "https://localhost:8080/"
        },
        "id": "ApsEpQ9jdObe",
        "outputId": "d9c4a165-00be-4dcb-97bc-f269d015d2ff"
      },
      "source": [
        "import pandas as pd\n",
        "\n",
        "pd.set_option('display.width', 800)\n",
        "pd.set_option('display.max_row', 20)\n",
        "pd.set_option('display.max_columns', 20)\n",
        "\n",
        "df = pd.DataFrame({'item':['TV', '냉장고', '전자레인지', '컴퓨터', '선풍기', '선풍기', '믹서', '믹서']})\n",
        "\n",
        "print('DF')\n",
        "print(df)\n",
        "\n",
        "print(pd.get_dummies(df))"
      ],
      "execution_count": null,
      "outputs": [
        {
          "output_type": "stream",
          "name": "stdout",
          "text": [
            "DF\n",
            "    item\n",
            "0     TV\n",
            "1    냉장고\n",
            "2  전자레인지\n",
            "3    컴퓨터\n",
            "4    선풍기\n",
            "5    선풍기\n",
            "6     믹서\n",
            "7     믹서\n",
            "   item_TV  item_냉장고  item_믹서  item_선풍기  item_전자레인지  item_컴퓨터\n",
            "0        1         0        0         0           0         0\n",
            "1        0         1        0         0           0         0\n",
            "2        0         0        0         0           1         0\n",
            "3        0         0        0         0           0         1\n",
            "4        0         0        0         1           0         0\n",
            "5        0         0        0         1           0         0\n",
            "6        0         0        1         0           0         0\n",
            "7        0         0        1         0           0         0\n"
          ]
        }
      ]
    },
    {
      "cell_type": "markdown",
      "metadata": {
        "id": "icbCZGXzdw5e"
      },
      "source": [
        "### 피처 스케일링 정규화\n",
        "서로 다른 변수의 값 범위를 일정한 수준으로 맞추는 작업을 피처 스케일링(feature scaling)이라고 함.\n",
        "\n",
        "대표적인 방법\n",
        "- 표준화(Standardization)\n",
        " - 평균이 0, 분산이 1인 가우시안 정규분포를 가진 값으로 변환하는 것을 의미\n",
        " - 원본 값에서 피처의 평균을 뺀 값을 피처 x의 표준편차로 나눈 값\n",
        " - $x_iNew = \\dfrac {x_i - mean(x)} {stdev(x)}$\n",
        "- 정규화(Normalization)\n",
        " - 서로 다른 피처의 크기를 통일하기 위해 크기를 변환해 주는 개념\n",
        " - 원본 값에서 피처 x의 최솟값을 뺀 값을 피처 x의 최대값과 최솟값의 차이로 나눈 값\n",
        " - $x_iNew = \\dfrac {x_i - min(x)} {max(x) - min(x)}$\n",
        " - 사이킷런의 Normalizer 모듈과 일반적인 정규화는 약간의 차이가 있음\n",
        " - 사이킷런의 Normalizer는 선형대수에서의 정규화 개념이 적용\n",
        " - 즉, 개별 벡터를 모든 피처 벡터의 크기로 나눠줌\n",
        " - 예) 세개의 피처 x, y, z 가 있으면\n",
        " - $x_iNew = \\dfrac {x_i} {\\sqrt{x_i^2 + y_i^2 + z_i^2}}$\n",
        "\n"
      ]
    },
    {
      "cell_type": "markdown",
      "metadata": {
        "id": "dy5ZxJJ0is3V"
      },
      "source": [
        "#### StandardScaler\n",
        "표준화를 쉽게 지원하기 위한 클래스\n",
        "\n",
        "개별 피처를 평균이 0, 분산이 1 인 값으로 변환해줌"
      ]
    },
    {
      "cell_type": "code",
      "metadata": {
        "colab": {
          "base_uri": "https://localhost:8080/"
        },
        "id": "FCYjoqUxi36P",
        "outputId": "cbfc7b80-b2db-40a9-eb41-2bcb027cd172"
      },
      "source": [
        "from sklearn.datasets import load_iris\n",
        "import pandas as pd\n",
        "\n",
        "# 붓꽃 데이터 세트를 로딩하고 DataFrame으로 변환\n",
        "iris = load_iris()\n",
        "iris_data = iris.data\n",
        "iris_df = pd.DataFrame(data=iris_data, columns=iris.feature_names)\n",
        "\n",
        "print('iris_df 값\\n', iris_df.head(10))\n",
        "\n",
        "print('\\n feature 들의 평균 값')\n",
        "print(iris_df.mean())\n",
        "\n",
        "print('\\n feature 들의 분산 값')\n",
        "print(iris_df.var())"
      ],
      "execution_count": null,
      "outputs": [
        {
          "output_type": "stream",
          "name": "stdout",
          "text": [
            "iris_df 값\n",
            "    sepal length (cm)  sepal width (cm)  petal length (cm)  petal width (cm)\n",
            "0                5.1               3.5                1.4               0.2\n",
            "1                4.9               3.0                1.4               0.2\n",
            "2                4.7               3.2                1.3               0.2\n",
            "3                4.6               3.1                1.5               0.2\n",
            "4                5.0               3.6                1.4               0.2\n",
            "5                5.4               3.9                1.7               0.4\n",
            "6                4.6               3.4                1.4               0.3\n",
            "7                5.0               3.4                1.5               0.2\n",
            "8                4.4               2.9                1.4               0.2\n",
            "9                4.9               3.1                1.5               0.1\n",
            "feature 들의 평균 값\n",
            "sepal length (cm)    5.843333\n",
            "sepal width (cm)     3.057333\n",
            "petal length (cm)    3.758000\n",
            "petal width (cm)     1.199333\n",
            "dtype: float64\n",
            "\n",
            " feature 들의 분산 값\n",
            "sepal length (cm)    0.685694\n",
            "sepal width (cm)     0.189979\n",
            "petal length (cm)    3.116278\n",
            "petal width (cm)     0.581006\n",
            "dtype: float64\n"
          ]
        }
      ]
    },
    {
      "cell_type": "code",
      "metadata": {
        "colab": {
          "base_uri": "https://localhost:8080/"
        },
        "id": "tch1Wxlaji3z",
        "outputId": "ad110315-d0dc-4df4-d1c0-7a627f79467d"
      },
      "source": [
        "# StandardScaler를 이용해 각 피처를 한 번에 표준화 변환 방법\n",
        "from sklearn.preprocessing import StandardScaler\n",
        "\n",
        "# StandardScaler 객체 생성\n",
        "scaler = StandardScaler()\n",
        "\n",
        "# StandardScaler로 데이터 세트 변환. fit() 과 transform() 호출\n",
        "scaler.fit(iris_df)\n",
        "iris_scaled = scaler.transform(iris_df)\n",
        "print('iris_scaled 데이터 일부\\n', iris_scaled[0:10])\n",
        "\n",
        "# transform() 시 스케일 변환된 데이터 세트가 numpy ndarray로 반환돼 이를 DF로 변환\n",
        "iris_df_scaled = pd.DataFrame(data = iris_scaled, columns = iris.feature_names)\n",
        "print('\\n')\n",
        "print('feature 들의 평균 값')\n",
        "print(iris_df_scaled.mean())\n",
        "\n",
        "print('\\n feature 들의 분산 값')\n",
        "print(iris_df_scaled.var())"
      ],
      "execution_count": null,
      "outputs": [
        {
          "output_type": "stream",
          "name": "stdout",
          "text": [
            "iris_scaled 데이터 일부\n",
            " [[-0.90068117  1.01900435 -1.34022653 -1.3154443 ]\n",
            " [-1.14301691 -0.13197948 -1.34022653 -1.3154443 ]\n",
            " [-1.38535265  0.32841405 -1.39706395 -1.3154443 ]\n",
            " [-1.50652052  0.09821729 -1.2833891  -1.3154443 ]\n",
            " [-1.02184904  1.24920112 -1.34022653 -1.3154443 ]\n",
            " [-0.53717756  1.93979142 -1.16971425 -1.05217993]\n",
            " [-1.50652052  0.78880759 -1.34022653 -1.18381211]\n",
            " [-1.02184904  0.78880759 -1.2833891  -1.3154443 ]\n",
            " [-1.74885626 -0.36217625 -1.34022653 -1.3154443 ]\n",
            " [-1.14301691  0.09821729 -1.2833891  -1.44707648]]\n",
            "\n",
            "\n",
            "feature 들의 평균 값\n",
            "sepal length (cm)   -1.690315e-15\n",
            "sepal width (cm)    -1.842970e-15\n",
            "petal length (cm)   -1.698641e-15\n",
            "petal width (cm)    -1.409243e-15\n",
            "dtype: float64\n",
            "\n",
            " feature 들의 분산 값\n",
            "sepal length (cm)    1.006711\n",
            "sepal width (cm)     1.006711\n",
            "petal length (cm)    1.006711\n",
            "petal width (cm)     1.006711\n",
            "dtype: float64\n"
          ]
        }
      ]
    },
    {
      "cell_type": "markdown",
      "metadata": {
        "id": "j0m-mz3npJpx"
      },
      "source": [
        "#### MinMaxScaler\n",
        "데이터 값을 0과 1 사이의 범위 값으로 변환함 (음수 값이 있으면 -1에서 1 값으로 변환)\n",
        "\n",
        "데이터 분포가 가우시안 분포가 아닐 경우에는 MinMaxScaler를 적용해 볼 수 있음"
      ]
    },
    {
      "cell_type": "code",
      "metadata": {
        "colab": {
          "base_uri": "https://localhost:8080/"
        },
        "id": "R-Xkr_0Spqvu",
        "outputId": "ef0cf2f0-b876-4026-ac6c-7bf852768eb2"
      },
      "source": [
        "from sklearn.preprocessing import MinMaxScaler\n",
        "\n",
        "# MinMax 생성\n",
        "mms_scaler = MinMaxScaler()\n",
        "\n",
        "# mMS 로 데이터 세트 변환. fit() 과 transform() 호출\n",
        "mms_scaler.fit(iris_df)\n",
        "mms_iris_scaled = mms_scaler.transform(iris_df)\n",
        "print('MMS 스케일된 값 일부 type:ndarray')\n",
        "print(mms_iris_scaled[0:10])\n",
        "\n",
        "# transform() 시 스케일 변환된 데이터 세트가 numpy ndarray 로 반환 돼 이를 DF로 변환\n",
        "mms_iris_df_scaled = pd.DataFrame(data = mms_iris_scaled, columns = iris.feature_names)\n",
        "print('\\n')\n",
        "print('MMS Scaled DF')\n",
        "print(mms_iris_df_scaled.head(10))\n",
        "\n",
        "print('\\n')\n",
        "print('feature 들의 최솟값:', mms_iris_df_scaled.min())\n",
        "print('\\n')\n",
        "print('feature 들의 최댓값:', mms_iris_df_scaled.max())\n"
      ],
      "execution_count": null,
      "outputs": [
        {
          "output_type": "stream",
          "name": "stdout",
          "text": [
            "MMS 스케일된 값 일부 type:ndarray\n",
            "[[0.22222222 0.625      0.06779661 0.04166667]\n",
            " [0.16666667 0.41666667 0.06779661 0.04166667]\n",
            " [0.11111111 0.5        0.05084746 0.04166667]\n",
            " [0.08333333 0.45833333 0.08474576 0.04166667]\n",
            " [0.19444444 0.66666667 0.06779661 0.04166667]\n",
            " [0.30555556 0.79166667 0.11864407 0.125     ]\n",
            " [0.08333333 0.58333333 0.06779661 0.08333333]\n",
            " [0.19444444 0.58333333 0.08474576 0.04166667]\n",
            " [0.02777778 0.375      0.06779661 0.04166667]\n",
            " [0.16666667 0.45833333 0.08474576 0.        ]]\n",
            "\n",
            "\n",
            "MMS Scaled DF\n",
            "   sepal length (cm)  sepal width (cm)  petal length (cm)  petal width (cm)\n",
            "0           0.222222          0.625000           0.067797          0.041667\n",
            "1           0.166667          0.416667           0.067797          0.041667\n",
            "2           0.111111          0.500000           0.050847          0.041667\n",
            "3           0.083333          0.458333           0.084746          0.041667\n",
            "4           0.194444          0.666667           0.067797          0.041667\n",
            "5           0.305556          0.791667           0.118644          0.125000\n",
            "6           0.083333          0.583333           0.067797          0.083333\n",
            "7           0.194444          0.583333           0.084746          0.041667\n",
            "8           0.027778          0.375000           0.067797          0.041667\n",
            "9           0.166667          0.458333           0.084746          0.000000\n",
            "\n",
            "\n",
            "feature 들의 최솟값: sepal length (cm)    0.0\n",
            "sepal width (cm)     0.0\n",
            "petal length (cm)    0.0\n",
            "petal width (cm)     0.0\n",
            "dtype: float64\n",
            "\n",
            "\n",
            "feature 들의 최댓값: sepal length (cm)    1.0\n",
            "sepal width (cm)     1.0\n",
            "petal length (cm)    1.0\n",
            "petal width (cm)     1.0\n",
            "dtype: float64\n"
          ]
        }
      ]
    },
    {
      "cell_type": "markdown",
      "metadata": {
        "id": "onIKj8F0rkYy"
      },
      "source": [
        "#### 학습 데이터와 테스트 데이터의 스케일링 변환 시 유의점\n",
        "\n",
        "Scaler 객체를 이용해 학습 데이터 세트로 fit() 과 transform()을 적용하면\n",
        "\n",
        "테스트 **데이터 세트로는 다시 fit()을 수행하지 않고**, 학습 데이터 세트로 fit()을\n",
        "수행한 결과를 이용해 transform() 변환을 적용해야 함\n",
        "\n",
        "즉, 학습 데이터로 fit()이 적용된 스케일링 기준 정보를 그대로 테스트 데이터에 적용해야 함"
      ]
    },
    {
      "cell_type": "code",
      "metadata": {
        "colab": {
          "base_uri": "https://localhost:8080/"
        },
        "id": "kp5-TEaSsHH6",
        "outputId": "8315a177-3354-4ddb-e126-b0d26a85ae89"
      },
      "source": [
        "from sklearn.preprocessing import MinMaxScaler\n",
        "import numpy as np\n",
        "\n",
        "# 학습 데이터는 0 부터 10 까지, 테스트 데이터는 0부터 5까지 값을 가지는 데이터 세트 생성\n",
        "# Scaler 클래스의 fit(), transform()은 2차원 이상 데이터만 가능하므로 reshape(-1, 1)로 차원 변경\n",
        "train = np.arange(0,11).reshape(-1,1) # -1, 1 은 11, 1과 같음. reshape(11,1)\n",
        "test = np.arange(0, 6).reshape(-1, 1) # -1, 1 은 6, 1과 같음. reshape(6, 1)\n",
        "\n",
        "# MinMaxScaler 객체에 별도의 feature_range 파라미터 값을 지정하지 않으면 0 ~ 1 값으로 변환\n",
        "mms = MinMaxScaler()\n",
        "\n",
        "# fit()하게 되면 train 데이터의 최솟값이 0, 최댓값이 10 으로 설정\n",
        "mms.fit(train)\n",
        "\n",
        "# 1/10 scale로 train 데이터 변환함. 원본 10 => 1, 1 => 0.1 로 변환됨\n",
        "train_scaled = mms.transform(train)\n",
        "print('train scale 전\\n', np.round(train.reshape(-1), 2))\n",
        "print('\\n train scale 후\\n', np.round(train_scaled.reshape(-1), 2))\n",
        "\n",
        "# MinMaxScaler 에 test 데이터를 fit() 하게 되면 원본 데이터의 최솟값이 0, 최댓값이 5로 설정됨\n",
        "mms.fit(test)\n",
        "\n",
        "# 1/5 scale로 test 데이터 변환홤. 원본 5 => 1로 변환\n",
        "test_scaled = mms.transform(test)\n",
        "print('\\n')\n",
        "print('test scale 전\\n', np.round(test.reshape(-1), 2))\n",
        "print('\\n test scale 후\\n', np.round(test_scaled.reshape(-1), 2))\n",
        "\n",
        "# 위 출력결과를 확인하면 train 과 test 의 스케일링이 맞지 않음을 확인 가능\n",
        "# 머신러닝은 반드시 train 데이터를 기반으로 학습되기 때문에 test 데이터는 train 데이터의 스케일링 기준에 맞춰야 함\n",
        "# 다음은 train 과 test 가 동일한 scaling 이 적용된 예제\n",
        "print('\\n')\n",
        "print('#### test 데이터에 fit을 호출하지 않고 transform() 했을 때 변화')\n",
        "mms.fit(train)\n",
        "train_scaled1 = mms.transform(train)\n",
        "print('train scale 전\\n', np.round(train.reshape(-1), 2))\n",
        "print('\\n train scale 후\\n', np.round(train_scaled1.reshape(-1), 2))\n",
        "\n",
        "# test 데이터에 scale 변환을 할 때 fit()을 호출하지 않고, transform()만으로 변환해야 함!!\n",
        "test_scaled1 = mms.transform(test)\n",
        "print('\\n')\n",
        "print('test scale 전\\n', np.round(test.reshape(-1), 2))\n",
        "print('\\n test scale 후\\n', np.round(test_scaled1.reshape(-1), 2))"
      ],
      "execution_count": 1,
      "outputs": [
        {
          "output_type": "stream",
          "name": "stdout",
          "text": [
            "train scale 전\n",
            " [ 0  1  2  3  4  5  6  7  8  9 10]\n",
            "\n",
            " train scale 후\n",
            " [0.  0.1 0.2 0.3 0.4 0.5 0.6 0.7 0.8 0.9 1. ]\n",
            "\n",
            "\n",
            "test scale 전\n",
            " [0 1 2 3 4 5]\n",
            "\n",
            " test scale 후\n",
            " [0.  0.2 0.4 0.6 0.8 1. ]\n",
            "\n",
            "\n",
            "#### test 데이터에 fit을 호출하지 않고 transform() 했을 때 변화\n",
            "train scale 전\n",
            " [ 0  1  2  3  4  5  6  7  8  9 10]\n",
            "\n",
            " train scale 후\n",
            " [0.  0.1 0.2 0.3 0.4 0.5 0.6 0.7 0.8 0.9 1. ]\n",
            "\n",
            "\n",
            "test scale 전\n",
            " [0 1 2 3 4 5]\n",
            "\n",
            " test scale 후\n",
            " [0.  0.1 0.2 0.3 0.4 0.5]\n"
          ]
        }
      ]
    },
    {
      "cell_type": "markdown",
      "metadata": {
        "id": "AU5_xov6ybaF"
      },
      "source": [
        "### 타이타닉 생존자 예측\n",
        "\n",
        "컬럼 설명\n",
        "- passengerid : 탑승자 데이터 일련번호\n",
        "- survived : 0(사망),  1(생존)\n",
        "- pclass : 선실등급, 1(일등석), 2(이등석), 3\n",
        "- sex : 탑승자 성별\n",
        "- name : 이름\n",
        "- age: 나이\n",
        "- sibsp : 같이 탑승한 형제자매 또는 배우자 인원수\n",
        "- parch : 같이 탑승한 부모님 또는 어린이 인원수\n",
        "- ticket : 티켓번호\n",
        "- fare : 요금\n",
        "- cabin : 선실 번호\n",
        "- embarked : 중간 정착 항구 C (Cherbourg), Q (Queenstown), S (Southampton)\n",
        "\n"
      ]
    },
    {
      "cell_type": "code",
      "metadata": {
        "colab": {
          "base_uri": "https://localhost:8080/"
        },
        "id": "HVSy0Xe-_6op",
        "outputId": "bacc699f-2459-4b48-cc90-aba0033be433"
      },
      "source": [
        "import numpy as np\n",
        "import pandas as pd\n",
        "import matplotlib.pyplot as plt\n",
        "import seaborn as sns\n",
        "%matplotlib inline\n",
        "\n",
        "df = pd.read_csv('/content/drive/MyDrive/Colab Notebooks/data/titanic/train.csv')\n",
        "df.head()\n",
        "\n",
        "print('## 학습 데이터 정보 ##')\n",
        "print(df.info())\n",
        "\n",
        "# 결측치 데이터 처리\n",
        "# age : 평균나이로 대체\n",
        "# 나머지 컬럼의 NaN은 'N' 값으로 대체\n",
        "df['Age'].fillna(df['Age'].mean(), inplace=True)\n",
        "df['Cabin'].fillna('N', inplace=True)\n",
        "df['Embarked'].fillna('N', inplace=True)\n",
        "print('\\n')\n",
        "print('데이터 세트 null 값 개수', df.isnull().sum().sum())\n",
        "\n",
        "print('\\n')\n",
        "print('Sex 값 분포:\\n', df['Sex'].value_counts())\n",
        "print('\\n Cabin 값 분포:\\n', df['Cabin'].value_counts())\n",
        "print('\\n Embarked 값 분포:\\n', df['Embarked'].value_counts())\n"
      ],
      "execution_count": 9,
      "outputs": [
        {
          "output_type": "stream",
          "name": "stdout",
          "text": [
            "## 학습 데이터 정보 ##\n",
            "<class 'pandas.core.frame.DataFrame'>\n",
            "RangeIndex: 891 entries, 0 to 890\n",
            "Data columns (total 12 columns):\n",
            " #   Column       Non-Null Count  Dtype  \n",
            "---  ------       --------------  -----  \n",
            " 0   PassengerId  891 non-null    int64  \n",
            " 1   Survived     891 non-null    int64  \n",
            " 2   Pclass       891 non-null    int64  \n",
            " 3   Name         891 non-null    object \n",
            " 4   Sex          891 non-null    object \n",
            " 5   Age          714 non-null    float64\n",
            " 6   SibSp        891 non-null    int64  \n",
            " 7   Parch        891 non-null    int64  \n",
            " 8   Ticket       891 non-null    object \n",
            " 9   Fare         891 non-null    float64\n",
            " 10  Cabin        204 non-null    object \n",
            " 11  Embarked     889 non-null    object \n",
            "dtypes: float64(2), int64(5), object(5)\n",
            "memory usage: 83.7+ KB\n",
            "None\n",
            "\n",
            "\n",
            "데이터 세트 null 값 개수 0\n",
            "\n",
            "\n",
            "Sex 값 분포:\n",
            " male      577\n",
            "female    314\n",
            "Name: Sex, dtype: int64\n",
            "\n",
            " Cabin 값 분포:\n",
            " N              687\n",
            "B96 B98          4\n",
            "C23 C25 C27      4\n",
            "G6               4\n",
            "D                3\n",
            "              ... \n",
            "B71              1\n",
            "D48              1\n",
            "A10              1\n",
            "F38              1\n",
            "A16              1\n",
            "Name: Cabin, Length: 148, dtype: int64\n",
            "\n",
            " Embarked 값 분포:\n",
            " S    644\n",
            "C    168\n",
            "Q     77\n",
            "N      2\n",
            "Name: Embarked, dtype: int64\n"
          ]
        }
      ]
    },
    {
      "cell_type": "code",
      "metadata": {
        "colab": {
          "base_uri": "https://localhost:8080/",
          "height": 639
        },
        "id": "Ij2Xes9WE79Y",
        "outputId": "84cc58d5-4ee1-4dd6-c212-e06013e1a8e9"
      },
      "source": [
        "# 위 결과 데이터에서 cabin의 경우 C23, C25 C27 과 같은 값은 C 앞자리만 잘라내기 \n",
        "df['Cabin'] = df['Cabin'].str[0:1]\n",
        "print('Cabin 첫 글자만 잘라낸 결과')\n",
        "print(df['Cabin'].head(10))\n",
        "\n",
        "# 성별에 따른 생존자 수 비교\n",
        "print('\\n## 성별에 따른 생존자 수 비교')\n",
        "df.groupby(['Sex', 'Survived'])['Survived'].count()\n",
        "\n",
        "# 생존자 수 시각화 (barplot)\n",
        "# x축 : Sex 컬럼, y축 : Survived 컬럼\n",
        "print('\\n생존자 수 시각화')\n",
        "sns.barplot(x='Sex', y='Survived', data=df)\n",
        "\n"
      ],
      "execution_count": 15,
      "outputs": [
        {
          "output_type": "stream",
          "name": "stdout",
          "text": [
            "Cabin 첫 글자만 잘라낸 결과\n",
            "0    N\n",
            "1    C\n",
            "2    N\n",
            "3    C\n",
            "4    N\n",
            "5    N\n",
            "6    E\n",
            "7    N\n",
            "8    N\n",
            "9    N\n",
            "Name: Cabin, dtype: object\n",
            "\n",
            "## 성별에 따른 생존자 수 비교\n",
            "\n",
            "생존자 수 시각화\n",
            "AxesSubplot(0.125,0.125;0.775x0.755)\n",
            "\n",
            " 성별과 등급에 따른 시각화\n"
          ]
        },
        {
          "output_type": "execute_result",
          "data": {
            "text/plain": [
              "<matplotlib.axes._subplots.AxesSubplot at 0x7ff5e36ff350>"
            ]
          },
          "metadata": {},
          "execution_count": 15
        },
        {
          "output_type": "display_data",
          "data": {
            "image/png": "[encoded data removed]",
            "text/plain": [
              "<Figure size 432x288 with 1 Axes>"
            ]
          },
          "metadata": {
            "needs_background": "light"
          }
        }
      ]
    },
    {
      "cell_type": "code",
      "metadata": {
        "colab": {
          "base_uri": "https://localhost:8080/",
          "height": 333
        },
        "id": "K5U3QE1VGq9Y",
        "outputId": "b4fd6c28-ea72-419d-8d32-0ad9fb2060e6"
      },
      "source": [
        "print('\\n 성별과 등급에 따른 시각화')\n",
        "sns.barplot(x='Pclass', y='Survived', hue='Sex', data=df)"
      ],
      "execution_count": 16,
      "outputs": [
        {
          "output_type": "stream",
          "name": "stdout",
          "text": [
            "\n",
            " 성별과 등급에 따른 시각화\n"
          ]
        },
        {
          "output_type": "execute_result",
          "data": {
            "text/plain": [
              "<matplotlib.axes._subplots.AxesSubplot at 0x7ff5e36a1dd0>"
            ]
          },
          "metadata": {},
          "execution_count": 16
        },
        {
          "output_type": "display_data",
          "data": {
            "image/png": "[encoded data removed]",
            "text/plain": [
              "<Figure size 432x288 with 1 Axes>"
            ]
          },
          "metadata": {
            "needs_background": "light"
          }
        }
      ]
    },
    {
      "cell_type": "code",
      "metadata": {
        "colab": {
          "base_uri": "https://localhost:8080/",
          "height": 388
        },
        "id": "uVaK3Q54G8Tr",
        "outputId": "0623f9d4-ab94-453b-9e1a-59c0ace67bf4"
      },
      "source": [
        "# 입력 age 에 따라 구분 값을 반환하는 함수 설정. DF의 apply lambda 식 사용\n",
        "def get_category(age):\n",
        "  cat = ''\n",
        "  if age <= -1 : cat='unknown'\n",
        "  elif age <= 5 : cat='baby'\n",
        "  elif age <=12 : cat='child'\n",
        "  elif age <= 18 : cat='teenager'\n",
        "  elif age <= 25 : cat='student'\n",
        "  elif age <= 35 : cat='young adult'\n",
        "  elif age <= 60 : cat='adult'\n",
        "  else : cat='elderly'\n",
        "\n",
        "  return cat\n",
        "\n",
        "# 막대 그래프의 크기 figure를 더 크게 설정\n",
        "plt.figure(figsize=(10, 6))\n",
        "\n",
        "# X축의 값을 순차적으로 표시하기 위한 설정\n",
        "group_names = ['unknown', 'baby', 'child', 'teenager', 'student', 'young adult', 'adult', 'elderly']\n",
        "\n",
        "# lambda 식에 get_category() 함수를 반환값으로 지정\n",
        "df['age_cat'] = df['Age'].apply(lambda x : get_category(x))\n",
        "sns.barplot(x='age_cat', y='Survived', hue='Sex', data=df, order=group_names)\n",
        "df.drop('age_cat', axis=1, inplace=True)"
      ],
      "execution_count": 19,
      "outputs": [
        {
          "output_type": "display_data",
          "data": {
            "image/png": "[encoded data removed]",
            "text/plain": [
              "<Figure size 720x432 with 1 Axes>"
            ]
          },
          "metadata": {
            "needs_background": "light"
          }
        }
      ]
    },
    {
      "cell_type": "code",
      "metadata": {
        "colab": {
          "base_uri": "https://localhost:8080/"
        },
        "id": "KPjG9xr8Ipdm",
        "outputId": "1996c960-752d-4980-d3f0-5c59e4a54e46"
      },
      "source": [
        "# 남아있던 문자열 카테고리 피처를 숫자형 피처로 변환\n",
        "from sklearn.preprocessing import LabelEncoder\n",
        "\n",
        "def encode_features(dataDF):\n",
        "  features = ['Cabin', 'Sex', 'Embarked']\n",
        "  for feature in features:\n",
        "    le = LabelEncoder()\n",
        "    le = le.fit(dataDF[feature])\n",
        "    dataDF[feature] = le.transform(dataDF[feature])\n",
        "\n",
        "  return dataDF\n",
        "\n",
        "df = encode_features(df)\n",
        "print(df.head(10))"
      ],
      "execution_count": 20,
      "outputs": [
        {
          "output_type": "stream",
          "name": "stdout",
          "text": [
            "   PassengerId  Survived  Pclass  ...     Fare  Cabin  Embarked\n",
            "0            1         0       3  ...   7.2500      7         3\n",
            "1            2         1       1  ...  71.2833      2         0\n",
            "2            3         1       3  ...   7.9250      7         3\n",
            "3            4         1       1  ...  53.1000      2         3\n",
            "4            5         0       3  ...   8.0500      7         3\n",
            "5            6         0       3  ...   8.4583      7         2\n",
            "6            7         0       1  ...  51.8625      4         3\n",
            "7            8         0       3  ...  21.0750      7         3\n",
            "8            9         1       3  ...  11.1333      7         3\n",
            "9           10         1       2  ...  30.0708      7         0\n",
            "\n",
            "[10 rows x 12 columns]\n"
          ]
        }
      ]
    },
    {
      "cell_type": "markdown",
      "metadata": {
        "id": "a4NU9tYQJ0Zo"
      },
      "source": [
        "#### 지금까지 작성한 내용을 정리하고 함수로 설정"
      ]
    },
    {
      "cell_type": "code",
      "metadata": {
        "colab": {
          "base_uri": "https://localhost:8080/"
        },
        "id": "zb3lBHOQJ6mV",
        "outputId": "14075b4d-e8ae-49c3-c8bc-d41730e73718"
      },
      "source": [
        "import numpy as np\n",
        "import pandas as pd\n",
        "import matplotlib.pyplot as plt\n",
        "import seaborn as sns\n",
        "from sklearn.model_selection import train_test_split\n",
        "%matplotlib inline\n",
        "\n",
        "\n",
        "\n",
        "# null 처리 함수\n",
        "def fillna(df):\n",
        "  df['Age'].fillna(df['Age'].mean(), inplace=True)\n",
        "  df['Cabin'].fillna('N', inplace=True)\n",
        "  df['Embarked'].fillna('N', inplace=True)\n",
        "  df['Fare'].fillna(0, inplace=True)\n",
        " \n",
        "  return df\n",
        "\n",
        "\n",
        "# 머신러닝 알고리즘에 불필요한 속성 제거\n",
        "def drop_features(df):\n",
        "  df.drop(['PassengerId', 'Name', 'Ticket'], axis=1, inplace=True)\n",
        "\n",
        "  return df\n",
        "\n",
        "\n",
        "# 레이블 인코딩 수행\n",
        "def format_features(df):\n",
        "  df['Cabin'] = df['Cabin'].str[:1] # 앞자리 대문자 1자리만 잘라내기\n",
        "  features = ['Cabin', 'Sex', 'Embarked']\n",
        "  for feature in features:\n",
        "    le = LabelEncoder()\n",
        "    le = le.fit(df[feature])\n",
        "    df[feature] = le.transform(df[feature])\n",
        "\n",
        "  return df\n",
        "\n",
        "\n",
        "# 앞에서 설정한  데이터 전처리 함수 호출\n",
        "def transform_features(df):\n",
        "  df = fillna(df)\n",
        "  df = drop_features(df)\n",
        "  df = format_features(df)\n",
        "  return df\n",
        "\n",
        "# 원본 데이터를 로딩하고, 피처 데이터 세트와 레이블 데이터 세트 추출\n",
        "df = pd.read_csv('/content/drive/MyDrive/Colab Notebooks/data/titanic/train.csv')\n",
        "print(df.head(5))\n",
        "\n",
        "y_df = df['Survived']\n",
        "x_df = df.drop('Survived', axis=1)\n",
        "\n",
        "# 위에서 작성한 함수 이용하여 전처리 실행\n",
        "x_df = transform_features(x_df)\n",
        "\n",
        "# train_test_split() 이용하여 train (80%), test(20%) 구분\n",
        "x_train, x_test, y_train, y_test = train_test_split(x_df, y_df, test_size=0.2, random_state = 11)\n",
        "\n",
        "\n",
        "# DecisionTree, 랜덤 포레스트, 로지스틱 회귀 이용하여 확률 계산\n",
        "from sklearn.tree import DecisionTreeClassifier\n",
        "from sklearn.ensemble import RandomForestClassifier\n",
        "from sklearn.linear_model import LogisticRegression\n",
        "from sklearn.metrics import accuracy_score\n",
        "\n",
        "# 각 모형의 클래스 생성\n",
        "dt = DecisionTreeClassifier(random_state = 11)\n",
        "rf = RandomForestClassifier(random_state = 11)\n",
        "# lr = LogisticRegression(solver='lbfgs')\n",
        "lr = LogisticRegression()\n",
        "\n",
        "# DecisionTree 학습 / 예측 / 평가\n",
        "dt.fit(x_train, y_train)\n",
        "dt_pred = dt.predict(x_test)\n",
        "print('\\n ### DecisionTree 정확도:{0:.4f}'.format(accuracy_score(y_test, dt_pred)))\n",
        "\n",
        "# 랜덤 포레스트 학습 / 예측 / 평가\n",
        "rf.fit(x_train, y_train)\n",
        "rf_pred = rf.predict(x_test)\n",
        "print('\\n #### 랜덤 포레스트 정확도:{0:.4f}'.format(accuracy_score(y_test, rf_pred)))\n",
        "\n",
        "# 로직스틱 회귀 학습 / 예측 / 평가\n",
        "lr.fit(x_train, y_train)\n",
        "lr_pred = lr.predict(x_test)\n",
        "print('\\n ### 로지스틱 회귀 정확도:{0:.4f}'.format(accuracy_score(y_test, lr_pred)))\n"
      ],
      "execution_count": 28,
      "outputs": [
        {
          "output_type": "stream",
          "name": "stdout",
          "text": [
            "   PassengerId  Survived  Pclass  ...     Fare Cabin  Embarked\n",
            "0            1         0       3  ...   7.2500   NaN         S\n",
            "1            2         1       1  ...  71.2833   C85         C\n",
            "2            3         1       3  ...   7.9250   NaN         S\n",
            "3            4         1       1  ...  53.1000  C123         S\n",
            "4            5         0       3  ...   8.0500   NaN         S\n",
            "\n",
            "[5 rows x 12 columns]\n",
            "\n",
            " ### DecisionTree 정확도:0.7877\n",
            "\n",
            " #### 랜덤 포레스트 정확도:0.8547\n",
            "\n",
            " ### 로지스틱 회귀 정확도:0.8492\n"
          ]
        },
        {
          "output_type": "stream",
          "name": "stderr",
          "text": [
            "/usr/local/lib/python3.7/dist-packages/sklearn/linear_model/_logistic.py:940: ConvergenceWarning: lbfgs failed to converge (status=1):\n",
            "STOP: TOTAL NO. of ITERATIONS REACHED LIMIT.\n",
            "\n",
            "Increase the number of iterations (max_iter) or scale the data as shown in:\n",
            "    https://scikit-learn.org/stable/modules/preprocessing.html\n",
            "Please also refer to the documentation for alternative solver options:\n",
            "    https://scikit-learn.org/stable/modules/linear_model.html#logistic-regression\n",
            "  extra_warning_msg=_LOGISTIC_SOLVER_CONVERGENCE_MSG)\n"
          ]
        }
      ]
    },
    {
      "cell_type": "code",
      "metadata": {
        "colab": {
          "base_uri": "https://localhost:8080/"
        },
        "id": "OYR21jdCPT-Y",
        "outputId": "6843d5db-2e04-41e7-ff1f-f36b93adb050"
      },
      "source": [
        "# 교차 검증으로 DecisionTree 모델을 조금 더 평가\n",
        "# KFold, cross_val_score(), GridSearchCV \n",
        "\n",
        "from sklearn.model_selection import KFold\n",
        "\n",
        "def exec_kfold(clf, folds=5):\n",
        "  print('### KFold 교차 검증 ###')\n",
        "  #폴더 세트 5개인 KFold 객체 생성, 폴더 수만큼 예측결과 저장을 위한 리스트 객체 생성\n",
        "  kfold = KFold(n_splits = folds)\n",
        "  scores = []\n",
        "\n",
        "  # KFold 교차 검증 수행\n",
        "  for iter_count, (train_index, test_index) in enumerate(kfold.split(x_df)):\n",
        "    # x_df 데이터에서 교차 검증별로 학습과 검증 데이터를 가리키는 index 생성\n",
        "    x_train, x_test = x_df.values[train_index], x_df.values[test_index]\n",
        "    y_train, y_test = y_df.values[train_index], y_df.values[test_index]\n",
        "\n",
        "    # Classifier 학습, 예측, 정확도 계산\n",
        "    clf.fit(x_train, y_train)\n",
        "    pred = clf.predict(x_test)\n",
        "    accuracy = accuracy_score(y_test, pred)\n",
        "    scores.append(accuracy)\n",
        "    print('## 교차 검증 {0} 정확도 {1:.4f}'.format(iter_count, accuracy))\n",
        "  \n",
        "  # 5개 fold에서의 평균 정확도 계산\n",
        "  mean_score = np.mean(scores)\n",
        "  print('\\n ## 평균 정확도:{0:.4f}'.format(mean_score))\n",
        "\n",
        "# exec_kfold 호출\n",
        "exec_kfold(dt, folds=5)"
      ],
      "execution_count": 29,
      "outputs": [
        {
          "output_type": "stream",
          "name": "stdout",
          "text": [
            "## 교차 검증 0 정확도 0.7542\n",
            "## 교차 검증 1 정확도 0.7809\n",
            "## 교차 검증 2 정확도 0.7865\n",
            "## 교차 검증 3 정확도 0.7697\n",
            "## 교차 검증 4 정확도 0.8202\n",
            "\n",
            " ## 평균 정확도:0.7823\n"
          ]
        }
      ]
    },
    {
      "cell_type": "code",
      "metadata": {
        "colab": {
          "base_uri": "https://localhost:8080/"
        },
        "id": "oPRqIHBaRfd3",
        "outputId": "2b56fccf-1128-4ba9-b3b4-93409f06d687"
      },
      "source": [
        "# cross_val_score() API를 이용해 수행\n",
        "from sklearn.model_selection import cross_val_score\n",
        "\n",
        "scores = cross_val_score(dt, x_df, y_df, cv=5)\n",
        "print('### cross_val_score() 교차 검증 ###')\n",
        "for iter_count, accuracy in enumerate(scores):\n",
        "  print('## 교차검증 {0} 정확도 {1:.4f}'.format(iter_count, accuracy))\n",
        "\n",
        "print('평균 정확도:{0:.4f}'.format(np.mean(scores)))\n",
        "# cross_val_score() 와 KFold 평균 정확도가 다른 이유는\n",
        "# cross_val_score() 는 StratifiedKFold 를 이용하기 때문"
      ],
      "execution_count": 31,
      "outputs": [
        {
          "output_type": "stream",
          "name": "stdout",
          "text": [
            "### cross_val_score() 교차 검증 ###\n",
            "## 교차검증 0 정확도 0.7430\n",
            "## 교차검증 1 정확도 0.7753\n",
            "## 교차검증 2 정확도 0.7921\n",
            "## 교차검증 3 정확도 0.7865\n",
            "## 교차검증 4 정확도 0.8427\n",
            "평균 정확도:0.7879\n"
          ]
        }
      ]
    },
    {
      "cell_type": "code",
      "metadata": {
        "colab": {
          "base_uri": "https://localhost:8080/"
        },
        "id": "XJG7zQk3Sjhv",
        "outputId": "82fe5982-e99c-4225-f313-16a69b58b1ec"
      },
      "source": [
        "# GridSearchCV \n",
        "from sklearn.model_selection import GridSearchCV\n",
        "\n",
        "parameters = {'max_depth':[2, 3, 5, 10],\n",
        "              'min_samples_split':[2, 3, 5],\n",
        "              'min_samples_leaf':[1, 5, 8]}\n",
        "\n",
        "gscv = GridSearchCV(dt, param_grid=parameters, scoring='accuracy', cv=5)\n",
        "gscv.fit(x_train, y_train)\n",
        "\n",
        "print('GridSearchCV 최적 하이퍼 파라미터:', gscv.best_params_)\n",
        "# 최적 파라미터는 mat_depth는 3, min_samples_split은 2, min_samples_leaf는 5 로 선정\n",
        "\n",
        "print('GridSearchCV 최고 정확도:{0:.4f}'.format(gscv.best_score_))\n",
        "best_dclf = gscv.best_estimator_\n",
        "print('\\n## best_estimator_ :\\n', best_dclf)\n",
        "\n",
        "\n",
        "# GridSearchCV의 최적 하이퍼 파라미터로 학습 된 Estimator로 예측 및 평가 수행\n",
        "dpred = best_dclf.predict(x_test)\n",
        "accuracy = accuracy_score(y_test, dpred)\n",
        "print('\\n ## 테스트 세트에서 DecisionTreeClassifier 정확도:{0:.4f}'.format(accuracy))\n"
      ],
      "execution_count": 34,
      "outputs": [
        {
          "output_type": "stream",
          "name": "stdout",
          "text": [
            "GridSearchCV 최적 하이퍼 파라미터: {'max_depth': 3, 'min_samples_leaf': 5, 'min_samples_split': 2}\n",
            "GridSearchCV 최고 정확도:0.7992\n",
            "\n",
            "## best_estimator_ :\n",
            " DecisionTreeClassifier(ccp_alpha=0.0, class_weight=None, criterion='gini',\n",
            "                       max_depth=3, max_features=None, max_leaf_nodes=None,\n",
            "                       min_impurity_decrease=0.0, min_impurity_split=None,\n",
            "                       min_samples_leaf=5, min_samples_split=2,\n",
            "                       min_weight_fraction_leaf=0.0, presort='deprecated',\n",
            "                       random_state=11, splitter='best')\n",
            "\n",
            " ## 테스트 세트에서 DecisionTreeClassifier 정확도:0.8715\n"
          ]
        }
      ]
    }
  ]
}