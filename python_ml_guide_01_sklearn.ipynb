{
  "nbformat": 4,
  "nbformat_minor": 0,
  "metadata": {
    "colab": {
      "name": "python_ml_guide_01_sklearn.ipynb",
      "provenance": [],
      "collapsed_sections": [],
      "authorship_tag": "ABX9TyPeMznl4o7wQClXI1RdeB2A",
      "include_colab_link": true
    },
    "kernelspec": {
      "name": "python3",
      "display_name": "Python 3"
    },
    "language_info": {
      "name": "python"
    }
  },
  "cells": [
    {
      "cell_type": "markdown",
      "metadata": {
        "id": "view-in-github",
        "colab_type": "text"
      },
      "source": [
        "<a href=\"https://colab.research.google.com/github/johyunkang/py_pandas/blob/main/python_ml_guide_01_sklearn.ipynb\" target=\"_parent\"><img src=\"https://colab.research.google.com/assets/colab-badge.svg\" alt=\"Open In Colab\"/></a>"
      ]
    },
    {
      "cell_type": "markdown",
      "metadata": {
        "id": "6hEJJ08FbvqZ"
      },
      "source": [
        "## Scikit-Learn\n",
        "\n",
        "#### 사이킷런 패키지 내의 모듈명은 **sklearn** 으로 시작하는 명명규칙\n",
        "- sklearn.datasets : 사이킷런에서 자체적으로 제공하는 데이터 세트를 생성하는 모듈의 모임\n",
        "- sklearn.tree : 트리기반 ML 알고리즘을 구현한 클래스의 모임\n",
        "- sklearn.model_selection : 학습데이터와 검증 데이터, 예측 데이터로 데이터를 분리하거나 최적의 하이퍼파라미터로 평가하기 위한 다양한 모듈의 모임"
      ]
    },
    {
      "cell_type": "code",
      "metadata": {
        "colab": {
          "base_uri": "https://localhost:8080/"
        },
        "id": "pPkII5zVaXrP",
        "outputId": "62438606-538c-4856-e1ad-e0fa9c452e42"
      },
      "source": [
        "import sklearn\n",
        "import pandas as pd\n",
        "from sklearn.datasets import load_iris\n",
        "from sklearn.tree import DecisionTreeClassifier\n",
        "from sklearn.model_selection import train_test_split\n",
        "from sklearn.metrics import accuracy_score\n",
        "\n",
        "\n",
        "print('sklearn version:', sklearn.__version__)\n",
        "\n",
        "print('# 붓꽃 데이터 세트를 로딩')\n",
        "iris = load_iris()\n",
        "\n",
        "# iris.data 는 Iris 데이터 세트에서 피처(Feature)만으로 된 데이터를 numpy로 가지고 있음\n",
        "iris_data = iris.data\n",
        "\n",
        "print(' iris.target은 붓꽃 데이터 세트에서 레이블(결정 값) 데이터를 numpy로 가지고 있음')\n",
        "iris_label = iris.target\n",
        "print('iris target value:', iris_label)\n",
        "print('iris target name:', iris.target_names)\n",
        "\n",
        "print('\\n  붓꽃 데이터 세트를 자세히 보기 위해 DF 로 변환 ')\n",
        "iris_df = pd.DataFrame(data=iris_data, columns=iris.feature_names)\n",
        "iris_df['label'] = iris.target\n",
        "\n",
        "#label 0 : Setosa 품종, 1: versicolor 품종, 2: virginica 품종\n",
        "print(iris_df.head(10))\n",
        "\n",
        "\n",
        "print('\\n train 데이터와 test 데이터를 분리하기 위해 train_test_split 함수 사용')\n",
        "# train_test_split 파라미터 정보 : 1: 피처 데이터 세트, 2: Label 데이터 세트, 3: 테스트 데이터 비율, 4: 동일 난수발생을 위한 seed 값. (아무값이나  입력해도 됨)\n",
        "rd_seed = 99\n",
        "x_train, x_test, y_train, y_test = train_test_split(iris_data, iris_label, test_size=0.2, random_state=rd_seed)\n",
        "\n",
        "print('\\n DecisionTreeClassifier 객체 생성')\n",
        "dt_clf = DecisionTreeClassifier(random_state = rd_seed)\n",
        "\n",
        "print('\\n 학습수행')\n",
        "dt_clf.fit(x_train, y_train)\n",
        "\n",
        "print('\\n 학습이 완료된 DTC 객체에서 테스트 데이터 세트로 예측 수행')\n",
        "pred = dt_clf.predict(x_test)\n",
        "\n",
        "# scikit-learn은 정확도 측정을 위해 accuracy_score 함수 제공 파라미터 1: 실제 레이블 데이터 세트, 2: 예측 레이블 데이터 세트\n",
        "print('\\n 예측 정확도:{0:.4f}'.format(accuracy_score(y_test, pred)))\n"
      ],
      "execution_count": null,
      "outputs": [
        {
          "output_type": "stream",
          "name": "stdout",
          "text": [
            "sklearn version: 0.22.2.post1\n",
            "# 붓꽃 데이터 세트를 로딩\n",
            " iris.target은 붓꽃 데이터 세트에서 레이블(결정 값) 데이터를 numpy로 가지고 있음\n",
            "iris target value: [0 0 0 0 0 0 0 0 0 0 0 0 0 0 0 0 0 0 0 0 0 0 0 0 0 0 0 0 0 0 0 0 0 0 0 0 0\n",
            " 0 0 0 0 0 0 0 0 0 0 0 0 0 1 1 1 1 1 1 1 1 1 1 1 1 1 1 1 1 1 1 1 1 1 1 1 1\n",
            " 1 1 1 1 1 1 1 1 1 1 1 1 1 1 1 1 1 1 1 1 1 1 1 1 1 1 2 2 2 2 2 2 2 2 2 2 2\n",
            " 2 2 2 2 2 2 2 2 2 2 2 2 2 2 2 2 2 2 2 2 2 2 2 2 2 2 2 2 2 2 2 2 2 2 2 2 2\n",
            " 2 2]\n",
            "iris target name: ['setosa' 'versicolor' 'virginica']\n",
            "\n",
            "  붓꽃 데이터 세트를 자세히 보기 위해 DF 로 변환 \n",
            "   sepal length (cm)  sepal width (cm)  ...  petal width (cm)  label\n",
            "0             5.1                3.5    ...             0.2        0\n",
            "1             4.9                3.0    ...             0.2        0\n",
            "2             4.7                3.2    ...             0.2        0\n",
            "3             4.6                3.1    ...             0.2        0\n",
            "4             5.0                3.6    ...             0.2        0\n",
            "5             5.4                3.9    ...             0.4        0\n",
            "6             4.6                3.4    ...             0.3        0\n",
            "7             5.0                3.4    ...             0.2        0\n",
            "8             4.4                2.9    ...             0.2        0\n",
            "9             4.9                3.1    ...             0.1        0\n",
            "\n",
            "[10 rows x 5 columns]\n",
            "\n",
            " train 데이터와 test 데이터를 분리하기 위해 train_test_split 함수 사용\n",
            "\n",
            " DecisionTreeClassifier 객체 생성\n",
            "\n",
            " 학습수행\n",
            "\n",
            " 학습이 완료된 DTC 객체에서 테스트 데이터 세트로 예측 수행\n",
            "\n",
            " 예측 정확도:0.9333\n"
          ]
        }
      ]
    },
    {
      "cell_type": "markdown",
      "metadata": {
        "id": "B3sozjBSgksT"
      },
      "source": [
        "### 위의 붓꽃 데이터 세트 분류를 예측한 프로세스를 정리하면 다음과 같음\n",
        "1. 데이터 세트 분리 : 데이터를 학습 데이터와 테스트 데이터로 분리\n",
        "2. 모델 학습 : 학습 데이터를 기반으로 ML 알고리즘을 적용해 모델을 학습시킵니다.\n",
        "3. 예측 수행 : 학습된 ML 모델을 이용해 테스트 데이터의 분류(즉, 붓꽃 종류)를 예측\n",
        "4. 평가 : 이렇게 예측된 결괏값과 테스트 데이터의 실제 결괏값을 비교해 ML 모델 성능을 평가함"
      ]
    },
    {
      "cell_type": "markdown",
      "metadata": {
        "id": "vFHzGgRBhCiI"
      },
      "source": [
        "### 내장된 예제 데이터 세트\n",
        "분류나 회귀 연습용 데이터 세트\n",
        "- datasets.load_boston() : 회귀 용도이며, 미국 보스톤의 집 피처들과 가격에 대한 데이터 세트\n",
        "- datasets.load_breast_cancer() : 분류 용도이며, 위스콘신 유방암 피처들과 악성/음성 레이블 데이터 세트\n",
        "- datasets.load_diabetes() : 회귀 용도이며, 당뇨 데이터 세트\n",
        "- datasets.load_digits() : 분류 용도이며, 0에서 9까지 숫자의 이미지 픽셀 데이터 세트\n",
        "- datasets.load_iris() : 분류 용도이며, 붓꽃에 대한 피처를 가진 데이터 세트\n",
        "\n",
        "분류와 클러스터링을 위한 표본 데이터 생성기\n",
        "- datasets.make_classifications() : 분류를 위한 데이터 세트를 만듦. 특히 높은 상관도, 불필요한 속성 등의 노이즈 효과를 위한 데이터를 무작위로 생성해줌\n",
        "- datasets.make_blobs() : 클러스터링을 위한 데이터 세트를 무작위로 생성해줌. 군집 지정 개수에 따라 여러 가지 클러스터링을 위한 데이터 세트를 쉽게 만들어줌"
      ]
    },
    {
      "cell_type": "code",
      "metadata": {
        "colab": {
          "base_uri": "https://localhost:8080/"
        },
        "id": "HRofuO6xkKiV",
        "outputId": "bb3d1f44-6d57-41f1-9a0d-61c9ef6cab2c"
      },
      "source": [
        "from sklearn.datasets import load_iris\n",
        "\n",
        "iris_data = load_iris()\n",
        "print(type(iris_data))\n",
        "print('Bunch 클래스는 파이썬 딕셔너리 자료형과 유사')\n",
        "\n",
        "keys = iris_data.keys()\n",
        "print('붓꽃 데이터 세트의 키들: ', keys)"
      ],
      "execution_count": null,
      "outputs": [
        {
          "output_type": "stream",
          "name": "stdout",
          "text": [
            "<class 'sklearn.utils.Bunch'>\n",
            "Bunch 클래스는 파이썬 딕셔너리 자료형과 유사\n",
            "붓꽃 데이터 세트의 키들:  dict_keys(['data', 'target', 'target_names', 'DESCR', 'feature_names', 'filename'])\n"
          ]
        }
      ]
    },
    {
      "cell_type": "markdown",
      "metadata": {
        "id": "NuQPRW_FlBIm"
      },
      "source": [
        "### 데이터 키의 의미\n",
        "![sklearn_keys](https://user-images.githubusercontent.com/291782/137591893-a0d34994-a696-464c-9532-60ad647b1cfe.png)\n",
        "> 이미지 출처 : [파이썬 머신러닝 완벽 가이드](http://www.kyobobook.co.kr/product/detailViewKor.laf?ejkGb=KOR&mallGb=KOR&barcode=9791158391928&orderClick=LEA&Kc=) p.98 "
      ]
    },
    {
      "cell_type": "code",
      "metadata": {
        "colab": {
          "base_uri": "https://localhost:8080/"
        },
        "id": "1F2QaX0elJ4L",
        "outputId": "5f9c3ef0-395e-485c-ae06-35a318cd28f7"
      },
      "source": [
        "print('\\n feature_name 의 type:', type(iris_data.feature_names))\n",
        "print('feature_names 의 shape:', len(iris_data.feature_names))\n",
        "print('iris_data.feature_names:\\n', iris_data.feature_names)\n",
        "\n",
        "print('\\n target_name의 type:', type(iris_data.target_names))\n",
        "print('target_name의 shape:', len(iris_data.target_names))\n",
        "print('iris_data.target_names:', iris_data.target_names)\n",
        "\n",
        "print('\\n data의 type:', type(iris_data.data))\n",
        "print('data의 shape:', iris_data.data.shape)\n",
        "print('iris_data[data]:', iris_data['data'][1:10]) # data 양이 많아 10줄만 나오게 1:10\n",
        "\n",
        "print('\\n target의 type:', type(iris_data.target))\n",
        "print('target의 shape:', iris_data.target.shape)\n",
        "print('iris_data.target:', iris_data.target) # data 양이 많아 10줄만 나오게 1:10\n"
      ],
      "execution_count": null,
      "outputs": [
        {
          "output_type": "stream",
          "name": "stdout",
          "text": [
            "\n",
            " feature_name 의 type: <class 'list'>\n",
            "feature_names 의 shape: 4\n",
            "iris_data.feature_names:\n",
            " ['sepal length (cm)', 'sepal width (cm)', 'petal length (cm)', 'petal width (cm)']\n",
            "\n",
            " target_name의 type: <class 'numpy.ndarray'>\n",
            "target_name의 shape: 3\n",
            "iris_data.target_names: ['setosa' 'versicolor' 'virginica']\n",
            "\n",
            " data의 type: <class 'numpy.ndarray'>\n",
            "data의 shape: (150, 4)\n",
            "iris_data[data]: [[4.9 3.  1.4 0.2]\n",
            " [4.7 3.2 1.3 0.2]\n",
            " [4.6 3.1 1.5 0.2]\n",
            " [5.  3.6 1.4 0.2]\n",
            " [5.4 3.9 1.7 0.4]\n",
            " [4.6 3.4 1.4 0.3]\n",
            " [5.  3.4 1.5 0.2]\n",
            " [4.4 2.9 1.4 0.2]\n",
            " [4.9 3.1 1.5 0.1]]\n",
            "\n",
            " target의 type: <class 'numpy.ndarray'>\n",
            "target의 shape: (150,)\n",
            "iris_data.target: [0 0 0 0 0 0 0 0 0 0 0 0 0 0 0 0 0 0 0 0 0 0 0 0 0 0 0 0 0 0 0 0 0 0 0 0 0\n",
            " 0 0 0 0 0 0 0 0 0 0 0 0 0 1 1 1 1 1 1 1 1 1 1 1 1 1 1 1 1 1 1 1 1 1 1 1 1\n",
            " 1 1 1 1 1 1 1 1 1 1 1 1 1 1 1 1 1 1 1 1 1 1 1 1 1 1 2 2 2 2 2 2 2 2 2 2 2\n",
            " 2 2 2 2 2 2 2 2 2 2 2 2 2 2 2 2 2 2 2 2 2 2 2 2 2 2 2 2 2 2 2 2 2 2 2 2 2\n",
            " 2 2]\n"
          ]
        }
      ]
    },
    {
      "cell_type": "markdown",
      "metadata": {
        "id": "u5F8y6wOn-Zh"
      },
      "source": [
        "### Model Selection 모듈 소개\n",
        "#### 학습 / 테스트 데이터 세트 분리 - train_test_split()"
      ]
    },
    {
      "cell_type": "code",
      "metadata": {
        "colab": {
          "base_uri": "https://localhost:8080/"
        },
        "id": "3y3YkwD-oGw3",
        "outputId": "7ce8abc5-3e05-4396-e33d-d8abd9509d50"
      },
      "source": [
        "from sklearn.datasets import load_iris\n",
        "from sklearn.tree import DecisionTreeClassifier\n",
        "from sklearn.metrics import accuracy_score\n",
        "\n",
        "iris = load_iris()\n",
        "dtc = DecisionTreeClassifier()\n",
        "train_data = iris.data\n",
        "train_label = iris.target\n",
        "dtc.fit(train_data, train_label)\n",
        "\n",
        "print('\\n 학습 데이터 세트로 예측 수행')\n",
        "pred = dtc.predict(train_data)\n",
        "print('예측 정확도:', accuracy_score(train_label, pred))\n",
        "# 위 정확도 1.0 이 나오는건 train 데이터로 test를 진행했기 때문"
      ],
      "execution_count": null,
      "outputs": [
        {
          "output_type": "stream",
          "name": "stdout",
          "text": [
            "\n",
            " 학습 데이터 세트로 예측 수행\n",
            "예측 정확도: 1.0\n"
          ]
        }
      ]
    },
    {
      "cell_type": "code",
      "metadata": {
        "id": "5hIq_XpdpPzP",
        "colab": {
          "base_uri": "https://localhost:8080/"
        },
        "outputId": "57bbd323-ef65-4d6f-89d2-b6049fbaaeb4"
      },
      "source": [
        "from sklearn.tree import DecisionTreeClassifier\n",
        "from sklearn.metrics import accuracy_score\n",
        "from sklearn.datasets import load_iris\n",
        "from sklearn.model_selection import train_test_split\n",
        "\n",
        "dtc = DecisionTreeClassifier()\n",
        "iris_data = load_iris()\n",
        "\n",
        "# train data와 test data를 7:3 으로 분리\n",
        "x_train, x_test, y_train, y_test = train_test_split(iris_data.data, iris_data.target, \\\n",
        "                                                    test_size = 0.3, random_state = 121)\n",
        "\n",
        "dtc.fit(x_train, y_train)\n",
        "pred = dtc.predict(x_test)\n",
        "print('예측 정확도:{0:.5f}'.format(accuracy_score(y_test, pred)))\n"
      ],
      "execution_count": 3,
      "outputs": [
        {
          "output_type": "stream",
          "name": "stdout",
          "text": [
            "예측 정확도:0.95556\n"
          ]
        }
      ]
    }
  ]
}