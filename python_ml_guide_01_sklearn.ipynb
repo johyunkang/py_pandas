{
  "nbformat": 4,
  "nbformat_minor": 0,
  "metadata": {
    "colab": {
      "name": "python_ml_guide_01_sklearn.ipynb",
      "provenance": [],
      "collapsed_sections": [],
      "authorship_tag": "ABX9TyPziyIC3QRFPsVNkiAXLmV9",
      "include_colab_link": true
    },
    "kernelspec": {
      "name": "python3",
      "display_name": "Python 3"
    },
    "language_info": {
      "name": "python"
    }
  },
  "cells": [
    {
      "cell_type": "markdown",
      "metadata": {
        "id": "view-in-github",
        "colab_type": "text"
      },
      "source": [
        "<a href=\"https://colab.research.google.com/github/johyunkang/py_pandas/blob/main/python_ml_guide_01_sklearn.ipynb\" target=\"_parent\"><img src=\"https://colab.research.google.com/assets/colab-badge.svg\" alt=\"Open In Colab\"/></a>"
      ]
    },
    {
      "cell_type": "markdown",
      "metadata": {
        "id": "6hEJJ08FbvqZ"
      },
      "source": [
        "## Scikit-Learn\n",
        "\n",
        "#### 사이킷런 패키지 내의 모듈명은 **sklearn** 으로 시작하는 명명규칙\n",
        "- sklearn.datasets : 사이킷런에서 자체적으로 제공하는 데이터 세트를 생성하는 모듈의 모임\n",
        "- sklearn.tree : 트리기반 ML 알고리즘을 구현한 클래스의 모임\n",
        "- sklearn.model_selection : 학습데이터와 검증 데이터, 예측 데이터로 데이터를 분리하거나 최적의 하이퍼파라미터로 평가하기 위한 다양한 모듈의 모임"
      ]
    },
    {
      "cell_type": "code",
      "metadata": {
        "colab": {
          "base_uri": "https://localhost:8080/"
        },
        "id": "pPkII5zVaXrP",
        "outputId": "62438606-538c-4856-e1ad-e0fa9c452e42"
      },
      "source": [
        "import sklearn\n",
        "import pandas as pd\n",
        "from sklearn.datasets import load_iris\n",
        "from sklearn.tree import DecisionTreeClassifier\n",
        "from sklearn.model_selection import train_test_split\n",
        "from sklearn.metrics import accuracy_score\n",
        "\n",
        "\n",
        "print('sklearn version:', sklearn.__version__)\n",
        "\n",
        "print('# 붓꽃 데이터 세트를 로딩')\n",
        "iris = load_iris()\n",
        "\n",
        "# iris.data 는 Iris 데이터 세트에서 피처(Feature)만으로 된 데이터를 numpy로 가지고 있음\n",
        "iris_data = iris.data\n",
        "\n",
        "print(' iris.target은 붓꽃 데이터 세트에서 레이블(결정 값) 데이터를 numpy로 가지고 있음')\n",
        "iris_label = iris.target\n",
        "print('iris target value:', iris_label)\n",
        "print('iris target name:', iris.target_names)\n",
        "\n",
        "print('\\n  붓꽃 데이터 세트를 자세히 보기 위해 DF 로 변환 ')\n",
        "iris_df = pd.DataFrame(data=iris_data, columns=iris.feature_names)\n",
        "iris_df['label'] = iris.target\n",
        "\n",
        "#label 0 : Setosa 품종, 1: versicolor 품종, 2: virginica 품종\n",
        "print(iris_df.head(10))\n",
        "\n",
        "\n",
        "print('\\n train 데이터와 test 데이터를 분리하기 위해 train_test_split 함수 사용')\n",
        "# train_test_split 파라미터 정보 : 1: 피처 데이터 세트, 2: Label 데이터 세트, 3: 테스트 데이터 비율, 4: 동일 난수발생을 위한 seed 값. (아무값이나  입력해도 됨)\n",
        "rd_seed = 99\n",
        "x_train, x_test, y_train, y_test = train_test_split(iris_data, iris_label, test_size=0.2, random_state=rd_seed)\n",
        "\n",
        "print('\\n DecisionTreeClassifier 객체 생성')\n",
        "dt_clf = DecisionTreeClassifier(random_state = rd_seed)\n",
        "\n",
        "print('\\n 학습수행')\n",
        "dt_clf.fit(x_train, y_train)\n",
        "\n",
        "print('\\n 학습이 완료된 DTC 객체에서 테스트 데이터 세트로 예측 수행')\n",
        "pred = dt_clf.predict(x_test)\n",
        "\n",
        "# scikit-learn은 정확도 측정을 위해 accuracy_score 함수 제공 파라미터 1: 실제 레이블 데이터 세트, 2: 예측 레이블 데이터 세트\n",
        "print('\\n 예측 정확도:{0:.4f}'.format(accuracy_score(y_test, pred)))\n"
      ],
      "execution_count": null,
      "outputs": [
        {
          "output_type": "stream",
          "name": "stdout",
          "text": [
            "sklearn version: 0.22.2.post1\n",
            "# 붓꽃 데이터 세트를 로딩\n",
            " iris.target은 붓꽃 데이터 세트에서 레이블(결정 값) 데이터를 numpy로 가지고 있음\n",
            "iris target value: [0 0 0 0 0 0 0 0 0 0 0 0 0 0 0 0 0 0 0 0 0 0 0 0 0 0 0 0 0 0 0 0 0 0 0 0 0\n",
            " 0 0 0 0 0 0 0 0 0 0 0 0 0 1 1 1 1 1 1 1 1 1 1 1 1 1 1 1 1 1 1 1 1 1 1 1 1\n",
            " 1 1 1 1 1 1 1 1 1 1 1 1 1 1 1 1 1 1 1 1 1 1 1 1 1 1 2 2 2 2 2 2 2 2 2 2 2\n",
            " 2 2 2 2 2 2 2 2 2 2 2 2 2 2 2 2 2 2 2 2 2 2 2 2 2 2 2 2 2 2 2 2 2 2 2 2 2\n",
            " 2 2]\n",
            "iris target name: ['setosa' 'versicolor' 'virginica']\n",
            "\n",
            "  붓꽃 데이터 세트를 자세히 보기 위해 DF 로 변환 \n",
            "   sepal length (cm)  sepal width (cm)  ...  petal width (cm)  label\n",
            "0             5.1                3.5    ...             0.2        0\n",
            "1             4.9                3.0    ...             0.2        0\n",
            "2             4.7                3.2    ...             0.2        0\n",
            "3             4.6                3.1    ...             0.2        0\n",
            "4             5.0                3.6    ...             0.2        0\n",
            "5             5.4                3.9    ...             0.4        0\n",
            "6             4.6                3.4    ...             0.3        0\n",
            "7             5.0                3.4    ...             0.2        0\n",
            "8             4.4                2.9    ...             0.2        0\n",
            "9             4.9                3.1    ...             0.1        0\n",
            "\n",
            "[10 rows x 5 columns]\n",
            "\n",
            " train 데이터와 test 데이터를 분리하기 위해 train_test_split 함수 사용\n",
            "\n",
            " DecisionTreeClassifier 객체 생성\n",
            "\n",
            " 학습수행\n",
            "\n",
            " 학습이 완료된 DTC 객체에서 테스트 데이터 세트로 예측 수행\n",
            "\n",
            " 예측 정확도:0.9333\n"
          ]
        }
      ]
    },
    {
      "cell_type": "markdown",
      "metadata": {
        "id": "B3sozjBSgksT"
      },
      "source": [
        "### 위의 붓꽃 데이터 세트 분류를 예측한 프로세스를 정리하면 다음과 같음\n",
        "1. 데이터 세트 분리 : 데이터를 학습 데이터와 테스트 데이터로 분리\n",
        "2. 모델 학습 : 학습 데이터를 기반으로 ML 알고리즘을 적용해 모델을 학습시킵니다.\n",
        "3. 예측 수행 : 학습된 ML 모델을 이용해 테스트 데이터의 분류(즉, 붓꽃 종류)를 예측\n",
        "4. 평가 : 이렇게 예측된 결괏값과 테스트 데이터의 실제 결괏값을 비교해 ML 모델 성능을 평가함"
      ]
    },
    {
      "cell_type": "markdown",
      "metadata": {
        "id": "vFHzGgRBhCiI"
      },
      "source": [
        "### 내장된 예제 데이터 세트\n",
        "분류나 회귀 연습용 데이터 세트\n",
        "- datasets.load_boston() : 회귀 용도이며, 미국 보스톤의 집 피처들과 가격에 대한 데이터 세트\n",
        "- datasets.load_breast_cancer() : 분류 용도이며, 위스콘신 유방암 피처들과 악성/음성 레이블 데이터 세트\n",
        "- datasets.load_diabetes() : 회귀 용도이며, 당뇨 데이터 세트\n",
        "- datasets.load_digits() : 분류 용도이며, 0에서 9까지 숫자의 이미지 픽셀 데이터 세트\n",
        "- datasets.load_iris() : 분류 용도이며, 붓꽃에 대한 피처를 가진 데이터 세트\n",
        "\n",
        "분류와 클러스터링을 위한 표본 데이터 생성기\n",
        "- datasets.make_classifications() : 분류를 위한 데이터 세트를 만듦. 특히 높은 상관도, 불필요한 속성 등의 노이즈 효과를 위한 데이터를 무작위로 생성해줌\n",
        "- datasets.make_blobs() : 클러스터링을 위한 데이터 세트를 무작위로 생성해줌. 군집 지정 개수에 따라 여러 가지 클러스터링을 위한 데이터 세트를 쉽게 만들어줌"
      ]
    },
    {
      "cell_type": "code",
      "metadata": {
        "colab": {
          "base_uri": "https://localhost:8080/"
        },
        "id": "HRofuO6xkKiV",
        "outputId": "bb3d1f44-6d57-41f1-9a0d-61c9ef6cab2c"
      },
      "source": [
        "from sklearn.datasets import load_iris\n",
        "\n",
        "iris_data = load_iris()\n",
        "print(type(iris_data))\n",
        "print('Bunch 클래스는 파이썬 딕셔너리 자료형과 유사')\n",
        "\n",
        "keys = iris_data.keys()\n",
        "print('붓꽃 데이터 세트의 키들: ', keys)"
      ],
      "execution_count": null,
      "outputs": [
        {
          "output_type": "stream",
          "name": "stdout",
          "text": [
            "<class 'sklearn.utils.Bunch'>\n",
            "Bunch 클래스는 파이썬 딕셔너리 자료형과 유사\n",
            "붓꽃 데이터 세트의 키들:  dict_keys(['data', 'target', 'target_names', 'DESCR', 'feature_names', 'filename'])\n"
          ]
        }
      ]
    },
    {
      "cell_type": "markdown",
      "metadata": {
        "id": "NuQPRW_FlBIm"
      },
      "source": [
        "### 데이터 키의 의미\n",
        "![sklearn_keys](https://user-images.githubusercontent.com/291782/137591893-a0d34994-a696-464c-9532-60ad647b1cfe.png)\n",
        "> 이미지 출처 : [파이썬 머신러닝 완벽 가이드](http://www.kyobobook.co.kr/product/detailViewKor.laf?ejkGb=KOR&mallGb=KOR&barcode=9791158391928&orderClick=LEA&Kc=) p.98 "
      ]
    },
    {
      "cell_type": "code",
      "metadata": {
        "colab": {
          "base_uri": "https://localhost:8080/"
        },
        "id": "1F2QaX0elJ4L",
        "outputId": "5f9c3ef0-395e-485c-ae06-35a318cd28f7"
      },
      "source": [
        "print('\\n feature_name 의 type:', type(iris_data.feature_names))\n",
        "print('feature_names 의 shape:', len(iris_data.feature_names))\n",
        "print('iris_data.feature_names:\\n', iris_data.feature_names)\n",
        "\n",
        "print('\\n target_name의 type:', type(iris_data.target_names))\n",
        "print('target_name의 shape:', len(iris_data.target_names))\n",
        "print('iris_data.target_names:', iris_data.target_names)\n",
        "\n",
        "print('\\n data의 type:', type(iris_data.data))\n",
        "print('data의 shape:', iris_data.data.shape)\n",
        "print('iris_data[data]:', iris_data['data'][1:10]) # data 양이 많아 10줄만 나오게 1:10\n",
        "\n",
        "print('\\n target의 type:', type(iris_data.target))\n",
        "print('target의 shape:', iris_data.target.shape)\n",
        "print('iris_data.target:', iris_data.target) # data 양이 많아 10줄만 나오게 1:10\n"
      ],
      "execution_count": null,
      "outputs": [
        {
          "output_type": "stream",
          "name": "stdout",
          "text": [
            "\n",
            " feature_name 의 type: <class 'list'>\n",
            "feature_names 의 shape: 4\n",
            "iris_data.feature_names:\n",
            " ['sepal length (cm)', 'sepal width (cm)', 'petal length (cm)', 'petal width (cm)']\n",
            "\n",
            " target_name의 type: <class 'numpy.ndarray'>\n",
            "target_name의 shape: 3\n",
            "iris_data.target_names: ['setosa' 'versicolor' 'virginica']\n",
            "\n",
            " data의 type: <class 'numpy.ndarray'>\n",
            "data의 shape: (150, 4)\n",
            "iris_data[data]: [[4.9 3.  1.4 0.2]\n",
            " [4.7 3.2 1.3 0.2]\n",
            " [4.6 3.1 1.5 0.2]\n",
            " [5.  3.6 1.4 0.2]\n",
            " [5.4 3.9 1.7 0.4]\n",
            " [4.6 3.4 1.4 0.3]\n",
            " [5.  3.4 1.5 0.2]\n",
            " [4.4 2.9 1.4 0.2]\n",
            " [4.9 3.1 1.5 0.1]]\n",
            "\n",
            " target의 type: <class 'numpy.ndarray'>\n",
            "target의 shape: (150,)\n",
            "iris_data.target: [0 0 0 0 0 0 0 0 0 0 0 0 0 0 0 0 0 0 0 0 0 0 0 0 0 0 0 0 0 0 0 0 0 0 0 0 0\n",
            " 0 0 0 0 0 0 0 0 0 0 0 0 0 1 1 1 1 1 1 1 1 1 1 1 1 1 1 1 1 1 1 1 1 1 1 1 1\n",
            " 1 1 1 1 1 1 1 1 1 1 1 1 1 1 1 1 1 1 1 1 1 1 1 1 1 1 2 2 2 2 2 2 2 2 2 2 2\n",
            " 2 2 2 2 2 2 2 2 2 2 2 2 2 2 2 2 2 2 2 2 2 2 2 2 2 2 2 2 2 2 2 2 2 2 2 2 2\n",
            " 2 2]\n"
          ]
        }
      ]
    },
    {
      "cell_type": "markdown",
      "metadata": {
        "id": "u5F8y6wOn-Zh"
      },
      "source": [
        "### Model Selection 모듈 소개\n",
        "#### 학습 / 테스트 데이터 세트 분리 - train_test_split()"
      ]
    },
    {
      "cell_type": "code",
      "metadata": {
        "colab": {
          "base_uri": "https://localhost:8080/"
        },
        "id": "3y3YkwD-oGw3",
        "outputId": "7ce8abc5-3e05-4396-e33d-d8abd9509d50"
      },
      "source": [
        "from sklearn.datasets import load_iris\n",
        "from sklearn.tree import DecisionTreeClassifier\n",
        "from sklearn.metrics import accuracy_score\n",
        "\n",
        "iris = load_iris()\n",
        "dtc = DecisionTreeClassifier()\n",
        "train_data = iris.data\n",
        "train_label = iris.target\n",
        "dtc.fit(train_data, train_label)\n",
        "\n",
        "print('\\n 학습 데이터 세트로 예측 수행')\n",
        "pred = dtc.predict(train_data)\n",
        "print('예측 정확도:', accuracy_score(train_label, pred))\n",
        "# 위 정확도 1.0 이 나오는건 train 데이터로 test를 진행했기 때문"
      ],
      "execution_count": null,
      "outputs": [
        {
          "output_type": "stream",
          "name": "stdout",
          "text": [
            "\n",
            " 학습 데이터 세트로 예측 수행\n",
            "예측 정확도: 1.0\n"
          ]
        }
      ]
    },
    {
      "cell_type": "code",
      "metadata": {
        "id": "5hIq_XpdpPzP",
        "colab": {
          "base_uri": "https://localhost:8080/"
        },
        "outputId": "eb269063-1bcf-4fe8-80db-3adf023b667a"
      },
      "source": [
        "from sklearn.tree import DecisionTreeClassifier\n",
        "from sklearn.metrics import accuracy_score\n",
        "from sklearn.datasets import load_iris\n",
        "from sklearn.model_selection import train_test_split\n",
        "\n",
        "dtc = DecisionTreeClassifier()\n",
        "iris_data = load_iris()\n",
        "\n",
        "# train data와 test data를 7:3 으로 분리\n",
        "x_train, x_test, y_train, y_test = train_test_split(iris_data.data, iris_data.target, \\\n",
        "                                                    test_size = 0.3, random_state = 121)\n",
        "\n",
        "dtc.fit(x_train, y_train)\n",
        "pred = dtc.predict(x_test)\n",
        "print('예측 정확도:{0:.5f}'.format(accuracy_score(y_test, pred)))\n"
      ],
      "execution_count": 1,
      "outputs": [
        {
          "output_type": "stream",
          "name": "stdout",
          "text": [
            "예측 정확도:0.95556\n"
          ]
        }
      ]
    },
    {
      "cell_type": "markdown",
      "metadata": {
        "id": "712r6tmHxguB"
      },
      "source": [
        "### 교차검증\n",
        "#### K-Fold 교차검증"
      ]
    },
    {
      "cell_type": "code",
      "metadata": {
        "colab": {
          "base_uri": "https://localhost:8080/"
        },
        "id": "SwbFofZwxqtD",
        "outputId": "026acdbb-320e-470f-aeac-29d6a448fee6"
      },
      "source": [
        "from sklearn.tree import DecisionTreeClassifier\n",
        "from sklearn.metrics import accuracy_score\n",
        "from sklearn.model_selection import KFold\n",
        "import numpy as np\n",
        "\n",
        "iris = load_iris()\n",
        "features = iris.data\n",
        "label = iris.target\n",
        "dtc = DecisionTreeClassifier(random_state = 156)\n",
        "\n",
        "print(' 5개의 폴드 세트로 분리되는 KFold 객체와 폴드 세트별 정확도를 담을 리스트 객체 생성')\n",
        "kfold = KFold(n_splits = 5)\n",
        "cv_accuracy = []\n",
        "print('붓꽃 데이터 세트 크기:', features.shape[0])\n",
        "\n",
        "n_iter = 0\n",
        "\n",
        "# KFold 객체의 split()을 호출하면 폴드 별 학습용, 검증용 테스트의 로우 인덱스를 array로 반환\n",
        "for train_index, test_index in kfold.split(features):\n",
        "  # kfold.split()으로 반환된 인덱스를 이용해 학습용, 검증용 테스트 데이터 추출\n",
        "  x_train, x_test = features[train_index], features[test_index]\n",
        "  y_train, y_test = label[train_index], label[test_index]\n",
        "\n",
        "  # 학습 및 예측\n",
        "  dtc.fit(x_train, y_train)\n",
        "  pred = dtc.predict(x_test)\n",
        "  n_iter += 1\n",
        "\n",
        "  # 반복 시 마다 정확도 측정\n",
        "  accuracy = np.round(accuracy_score(y_test, pred), 4)\n",
        "  train_size = x_train.shape[0]\n",
        "  test_size = x_test.shape[0]\n",
        "  print('\\n {0} 교차 검증 정확도: {1}, 학습데이터 크기: {2}, 검증 데이터 크기:{3}'\n",
        "        .format(n_iter, accuracy, train_size, test_size))\n",
        "  print('#{0} 검증 세트 인덱스:{1}'.format(n_iter, test_index))\n",
        "  cv_accuracy.append(accuracy)\n",
        "\n",
        "# 개별 iteration별 정확도를 합하여 평균 저확도 계산\n",
        "print('\\n  ## 평균 검증 정확도:', np.mean(cv_accuracy))"
      ],
      "execution_count": 7,
      "outputs": [
        {
          "output_type": "stream",
          "name": "stdout",
          "text": [
            " 5개의 폴드 세트로 분리되는 KFold 객체와 폴드 세트별 정확도를 담을 리스트 객체 생성\n",
            "붓꽃 데이터 세트 크기: 150\n",
            "\n",
            " 1 교차 검증 정확도: 1.0, 학습데이터 크기: 120, 검증 데이터 크기:30\n",
            "#1 검증 세트 인덱스:[ 0  1  2  3  4  5  6  7  8  9 10 11 12 13 14 15 16 17 18 19 20 21 22 23\n",
            " 24 25 26 27 28 29]\n",
            "\n",
            " 2 교차 검증 정확도: 0.9667, 학습데이터 크기: 120, 검증 데이터 크기:30\n",
            "#2 검증 세트 인덱스:[30 31 32 33 34 35 36 37 38 39 40 41 42 43 44 45 46 47 48 49 50 51 52 53\n",
            " 54 55 56 57 58 59]\n",
            "\n",
            " 3 교차 검증 정확도: 0.8667, 학습데이터 크기: 120, 검증 데이터 크기:30\n",
            "#3 검증 세트 인덱스:[60 61 62 63 64 65 66 67 68 69 70 71 72 73 74 75 76 77 78 79 80 81 82 83\n",
            " 84 85 86 87 88 89]\n",
            "\n",
            " 4 교차 검증 정확도: 0.9333, 학습데이터 크기: 120, 검증 데이터 크기:30\n",
            "#4 검증 세트 인덱스:[ 90  91  92  93  94  95  96  97  98  99 100 101 102 103 104 105 106 107\n",
            " 108 109 110 111 112 113 114 115 116 117 118 119]\n",
            "\n",
            " 5 교차 검증 정확도: 0.7333, 학습데이터 크기: 120, 검증 데이터 크기:30\n",
            "#5 검증 세트 인덱스:[120 121 122 123 124 125 126 127 128 129 130 131 132 133 134 135 136 137\n",
            " 138 139 140 141 142 143 144 145 146 147 148 149]\n",
            "\n",
            "  ## 평균 검증 정확도: 0.9\n"
          ]
        }
      ]
    },
    {
      "cell_type": "markdown",
      "metadata": {
        "id": "lmKCjcI10jBj"
      },
      "source": [
        "#### Stratified K 폴드\n"
      ]
    },
    {
      "cell_type": "code",
      "metadata": {
        "colab": {
          "base_uri": "https://localhost:8080/"
        },
        "id": "g_TPVqvk084I",
        "outputId": "699bd822-9bc7-4e8e-da22-73e554554b58"
      },
      "source": [
        "import pandas as pd\n",
        "\n",
        "iris = load_iris()\n",
        "iris_df = pd.DataFrame(data = iris.data, columns=iris.feature_names)\n",
        "iris_df['label'] = iris.target\n",
        "iris_df['label'].value_counts()\n",
        "\n",
        "kfold = KFold(n_splits = 3)\n",
        "n_iter = 0\n",
        "\n",
        "## 학습 레이블과 검증 레이블에 속하는 데이터의 분포가 일정하지 않아 올바른 예측이 되지 않는 문제의 예시\n",
        "for train_index, test_index in kfold.split(iris_df):\n",
        "  n_iter += 1\n",
        "  label_train = iris_df['label'].iloc[train_index]\n",
        "  label_test = iris_df['label'].iloc[test_index]\n",
        "  print('\\n ## 교차검증: {0}'.format(n_iter))\n",
        "  print('## 학습 레이블 데이터 분포: \\n', label_train.value_counts())\n",
        "  print('## 검증 레이블 데이터 분포: \\n', label_test.value_counts())\n",
        "  "
      ],
      "execution_count": 12,
      "outputs": [
        {
          "output_type": "stream",
          "name": "stdout",
          "text": [
            "\n",
            " ## 교차검증: 1\n",
            "## 학습 레이블 데이터 분포: \n",
            " 2    50\n",
            "1    50\n",
            "Name: label, dtype: int64\n",
            "## 검증 레이블 데이터 분포: \n",
            " 0    50\n",
            "Name: label, dtype: int64\n",
            "\n",
            " ## 교차검증: 2\n",
            "## 학습 레이블 데이터 분포: \n",
            " 2    50\n",
            "0    50\n",
            "Name: label, dtype: int64\n",
            "## 검증 레이블 데이터 분포: \n",
            " 1    50\n",
            "Name: label, dtype: int64\n",
            "\n",
            " ## 교차검증: 3\n",
            "## 학습 레이블 데이터 분포: \n",
            " 1    50\n",
            "0    50\n",
            "Name: label, dtype: int64\n",
            "## 검증 레이블 데이터 분포: \n",
            " 2    50\n",
            "Name: label, dtype: int64\n"
          ]
        }
      ]
    },
    {
      "cell_type": "code",
      "metadata": {
        "colab": {
          "base_uri": "https://localhost:8080/"
        },
        "id": "sXTd3Tsa2vMf",
        "outputId": "ece305bd-a3f0-48b7-ef8c-8c4b788141d4"
      },
      "source": [
        "# 위 KFold 의 문제를 StratifiedKFold 로 해결하는 예시\n",
        "from sklearn.model_selection import StratifiedKFold\n",
        "\n",
        "skf = StratifiedKFold(n_splits = 3)\n",
        "n_iter = 0\n",
        "\n",
        "# KFold 와 다르게 StratifiedKFold 는 인자로 레이블 데이터 세트가 필수(KFold는 옵션)\n",
        "for train_index, test_index in skf.split(iris_df, iris_df['label']):\n",
        "  n_iter += 1\n",
        "  label_train = iris_df['label'].iloc[train_index]\n",
        "  label_test = iris_df['label'].iloc[test_index]\n",
        "\n",
        "  print('\\n \\n ## 교차검증:', n_iter)\n",
        "  print('\\n 학습 레이블 데이터 분포:\\n', label_train.value_counts())\n",
        "  print('\\n 검증 레이블 데이터 분포:\\n', label_test.value_counts())\n"
      ],
      "execution_count": 13,
      "outputs": [
        {
          "output_type": "stream",
          "name": "stdout",
          "text": [
            "\n",
            " \n",
            " ## 교차검증: 1\n",
            "\n",
            " 학습 레이블 데이터 분포:\n",
            " 2    34\n",
            "1    33\n",
            "0    33\n",
            "Name: label, dtype: int64\n",
            "\n",
            " 검증 레이블 데이터 분포:\n",
            " 1    17\n",
            "0    17\n",
            "2    16\n",
            "Name: label, dtype: int64\n",
            "\n",
            " \n",
            " ## 교차검증: 2\n",
            "\n",
            " 학습 레이블 데이터 분포:\n",
            " 1    34\n",
            "2    33\n",
            "0    33\n",
            "Name: label, dtype: int64\n",
            "\n",
            " 검증 레이블 데이터 분포:\n",
            " 2    17\n",
            "0    17\n",
            "1    16\n",
            "Name: label, dtype: int64\n",
            "\n",
            " \n",
            " ## 교차검증: 3\n",
            "\n",
            " 학습 레이블 데이터 분포:\n",
            " 0    34\n",
            "2    33\n",
            "1    33\n",
            "Name: label, dtype: int64\n",
            "\n",
            " 검증 레이블 데이터 분포:\n",
            " 2    17\n",
            "1    17\n",
            "0    16\n",
            "Name: label, dtype: int64\n"
          ]
        }
      ]
    },
    {
      "cell_type": "code",
      "metadata": {
        "colab": {
          "base_uri": "https://localhost:8080/"
        },
        "id": "XdB6-pgz4SpR",
        "outputId": "55267df7-368d-422f-d317-f454f7c13251"
      },
      "source": [
        "# StratifiedKFold 를 이용해 데이터를 분리\n",
        "dtc = DecisionTreeClassifier(random_state = 156)\n",
        "\n",
        "skf = StratifiedKFold(n_splits = 3)\n",
        "n_iter = 0\n",
        "cv_accuracy = []\n",
        "\n",
        "# StratifiedKFold 의 split() 호출 시 반드시 레이블 데이터 세트도 입력 필요\n",
        "for train_index, test_index in skf.split(features, label):\n",
        "  #split()으로 반환된 인덱스를 이용해 학습용, 검증용 테스트 데이터 추출\n",
        "  x_train, x_test = features[train_index], features[test_index]\n",
        "  y_train, y_test = label[train_index], label[test_index]\n",
        "\n",
        "  #학습 및 예측\n",
        "  dtc.fit(x_train, y_train)\n",
        "  pred = dtc.predict(x_test)\n",
        "\n",
        "  # 반복 시마다 정확성 측정\n",
        "  n_iter += 1\n",
        "  accuracy = np.round(accuracy_score(y_test, pred), 4)\n",
        "  train_size = x_train.shape[0]\n",
        "  test_size = x_test.shape[0]\n",
        "\n",
        "  print('\\n {0} 교차검증 정확도:{1}, 학습데이터 크기:{2}, 검증데이터 크기:{3}'\n",
        "        .format(n_iter, accuracy, train_size, test_size))\n",
        "  print('# {0} 검증 세트 인덱스:{1}'.format(n_iter, test_index))\n",
        "  cv_accuracy.append(accuracy)\n",
        "\n",
        "# 교차 검증별 정확도 및 평균 정확도 계산\n",
        "print('\\n ## 교차 검증별 정확도:', np.round(cv_accuracy, 4))\n",
        "print('## 평균 검증 정확도:', np.mean(cv_accuracy))"
      ],
      "execution_count": 15,
      "outputs": [
        {
          "output_type": "stream",
          "name": "stdout",
          "text": [
            "\n",
            " 1 교차검증 정확도:0.98, 학습데이터 크기:100, 검증데이터 크기:50\n",
            "# 1 검증 세트 인덱스:[  0   1   2   3   4   5   6   7   8   9  10  11  12  13  14  15  16  50\n",
            "  51  52  53  54  55  56  57  58  59  60  61  62  63  64  65  66 100 101\n",
            " 102 103 104 105 106 107 108 109 110 111 112 113 114 115]\n",
            "\n",
            " 2 교차검증 정확도:0.94, 학습데이터 크기:100, 검증데이터 크기:50\n",
            "# 2 검증 세트 인덱스:[ 17  18  19  20  21  22  23  24  25  26  27  28  29  30  31  32  33  67\n",
            "  68  69  70  71  72  73  74  75  76  77  78  79  80  81  82 116 117 118\n",
            " 119 120 121 122 123 124 125 126 127 128 129 130 131 132]\n",
            "\n",
            " 3 교차검증 정확도:0.98, 학습데이터 크기:100, 검증데이터 크기:50\n",
            "# 3 검증 세트 인덱스:[ 34  35  36  37  38  39  40  41  42  43  44  45  46  47  48  49  83  84\n",
            "  85  86  87  88  89  90  91  92  93  94  95  96  97  98  99 133 134 135\n",
            " 136 137 138 139 140 141 142 143 144 145 146 147 148 149]\n",
            "\n",
            " ## 교차 검증별 정확도: [0.98 0.94 0.98]\n",
            "## 평균 검증 정확도: 0.9666666666666667\n"
          ]
        }
      ]
    },
    {
      "cell_type": "markdown",
      "metadata": {
        "id": "ZPSUbsYE6aCO"
      },
      "source": [
        "### 교차 검증을 보다 간편하게 - cross_val_score()\n",
        "\n",
        "```python\n",
        "cross_val_score(estimator, X, y=None, scoring=None, cv=None, n_jobs=1, verbose=0\n",
        "              , fit_params=None, pre_dispatch='2*n_jobs')\n",
        "```\n",
        "위 파라미터 중 **estimator, X, y, scoring, cv**가 주요 파라미터이다\n",
        "- estimator : 사이킷런의 분류 알고리즘 클래스인 Classifier 또는 회귀 알고리즘 클래스인 Regressor를 의미함\n",
        "- X : 피처 데이터 세트\n",
        "- y : 레이블 데이터 세트\n",
        "- scoring : 예측 성능 평가 지표를 기술\n",
        "- cv : 교차 검증 폴드 수를 의미"
      ]
    },
    {
      "cell_type": "code",
      "metadata": {
        "colab": {
          "base_uri": "https://localhost:8080/"
        },
        "id": "Ws7bkO1B7mjV",
        "outputId": "a8ff39a6-506e-4761-c47c-145eae02900d"
      },
      "source": [
        "from sklearn.tree import DecisionTreeClassifier\n",
        "from sklearn.model_selection import cross_val_score, cross_validate\n",
        "from sklearn.datasets import load_iris\n",
        "import numpy as np\n",
        "\n",
        "\n",
        "iris_data = load_iris()\n",
        "dtc = DecisionTreeClassifier(random_state = 156)\n",
        "\n",
        "data = iris_data.data\n",
        "label = iris_data.target\n",
        "\n",
        "# 성능 지표는 정확도(accuracy), 교차 검증 세트는 3개\n",
        "scores = cross_val_score(dtc, data, label, scoring='accuracy', cv=3)\n",
        "print('교차 검증별 정확도:', np.round(scores, 4))\n",
        "print('평균 검증 정확도:', np.round(np.mean(scores), 4))\n",
        "\n",
        "# cross_validate 는 직접 찾아봐라"
      ],
      "execution_count": 18,
      "outputs": [
        {
          "output_type": "stream",
          "name": "stdout",
          "text": [
            "교차 검증별 정확도: [0.98 0.94 0.98]\n",
            "평균 검증 정확도: 0.9667\n"
          ]
        }
      ]
    },
    {
      "cell_type": "markdown",
      "metadata": {
        "id": "J4n6y9Dh9rmo"
      },
      "source": [
        "### GridSearchCV - 교차 검증과 최적 하이퍼 파라미터 튜닝을 한 번에\n",
        "\n",
        "GridSearchCV 클래스의 생성자에 들어가는 주요 파라미터\n",
        "- estimator : classifier, regressor, pipeline이 상요될 수 있음\n",
        "- param_grid : key + 리스트 값을 가지는 딕셔너리가 주어짐. estimator의 튜닝을 위해 파라미터명과 사용될 여러 파라미터 값을 지정함\n",
        "- scoring : 예측 성능을 측정할 평가 방법을 지정함. 보통은 사이킷런의 성능 평가 지표를 지정하는 문자열(예: 정확도의 경우 'accuracy') 로 지정하거나 별도의 성능 평가 지표 함수도 지정할 수 잇음\n",
        "- cv : 교차검증을 위해 분할되는 학습/테스트 세트의 개수\n",
        "- refit : 디폴트가 True이며 True로 생성 시 가장 최적의 하이퍼 파라미터를 찾은 뒤 입력된 estimator 객체를 해당 하이퍼 파라미터로 재학습 시킴\n",
        "\n",
        "p.115 부터"
      ]
    }
  ]
}