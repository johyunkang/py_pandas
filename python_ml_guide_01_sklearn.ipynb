{
  "nbformat": 4,
  "nbformat_minor": 0,
  "metadata": {
    "colab": {
      "name": "python_ml_guide_01_sklearn.ipynb",
      "provenance": [],
      "collapsed_sections": [],
      "authorship_tag": "ABX9TyNN2j+NhIQV7VNNPyYpylXs",
      "include_colab_link": true
    },
    "kernelspec": {
      "name": "python3",
      "display_name": "Python 3"
    },
    "language_info": {
      "name": "python"
    }
  },
  "cells": [
    {
      "cell_type": "markdown",
      "metadata": {
        "id": "view-in-github",
        "colab_type": "text"
      },
      "source": [
        "<a href=\"https://colab.research.google.com/github/johyunkang/py_pandas/blob/main/python_ml_guide_01_sklearn.ipynb\" target=\"_parent\"><img src=\"https://colab.research.google.com/assets/colab-badge.svg\" alt=\"Open In Colab\"/></a>"
      ]
    },
    {
      "cell_type": "markdown",
      "metadata": {
        "id": "6hEJJ08FbvqZ"
      },
      "source": [
        "## Scikit-Learn\n",
        "\n",
        "#### 사이킷런 패키지 내의 모듈명은 **sklearn** 으로 시작하는 명명규칙\n",
        "- sklearn.datasets : 사이킷런에서 자체적으로 제공하는 데이터 세트를 생성하는 모듈의 모임\n",
        "- sklearn.tree : 트리기반 ML 알고리즘을 구현한 클래스의 모임\n",
        "- sklearn.model_selection : 학습데이터와 검증 데이터, 예측 데이터로 데이터를 분리하거나 최적의 하이퍼파라미터로 평가하기 위한 다양한 모듈의 모임"
      ]
    },
    {
      "cell_type": "code",
      "metadata": {
        "colab": {
          "base_uri": "https://localhost:8080/"
        },
        "id": "pPkII5zVaXrP",
        "outputId": "62438606-538c-4856-e1ad-e0fa9c452e42"
      },
      "source": [
        "import sklearn\n",
        "import pandas as pd\n",
        "from sklearn.datasets import load_iris\n",
        "from sklearn.tree import DecisionTreeClassifier\n",
        "from sklearn.model_selection import train_test_split\n",
        "from sklearn.metrics import accuracy_score\n",
        "\n",
        "\n",
        "print('sklearn version:', sklearn.__version__)\n",
        "\n",
        "print('# 붓꽃 데이터 세트를 로딩')\n",
        "iris = load_iris()\n",
        "\n",
        "# iris.data 는 Iris 데이터 세트에서 피처(Feature)만으로 된 데이터를 numpy로 가지고 있음\n",
        "iris_data = iris.data\n",
        "\n",
        "print(' iris.target은 붓꽃 데이터 세트에서 레이블(결정 값) 데이터를 numpy로 가지고 있음')\n",
        "iris_label = iris.target\n",
        "print('iris target value:', iris_label)\n",
        "print('iris target name:', iris.target_names)\n",
        "\n",
        "print('\\n  붓꽃 데이터 세트를 자세히 보기 위해 DF 로 변환 ')\n",
        "iris_df = pd.DataFrame(data=iris_data, columns=iris.feature_names)\n",
        "iris_df['label'] = iris.target\n",
        "\n",
        "#label 0 : Setosa 품종, 1: versicolor 품종, 2: virginica 품종\n",
        "print(iris_df.head(10))\n",
        "\n",
        "\n",
        "print('\\n train 데이터와 test 데이터를 분리하기 위해 train_test_split 함수 사용')\n",
        "# train_test_split 파라미터 정보 : 1: 피처 데이터 세트, 2: Label 데이터 세트, 3: 테스트 데이터 비율, 4: 동일 난수발생을 위한 seed 값. (아무값이나  입력해도 됨)\n",
        "rd_seed = 99\n",
        "x_train, x_test, y_train, y_test = train_test_split(iris_data, iris_label, test_size=0.2, random_state=rd_seed)\n",
        "\n",
        "print('\\n DecisionTreeClassifier 객체 생성')\n",
        "dt_clf = DecisionTreeClassifier(random_state = rd_seed)\n",
        "\n",
        "print('\\n 학습수행')\n",
        "dt_clf.fit(x_train, y_train)\n",
        "\n",
        "print('\\n 학습이 완료된 DTC 객체에서 테스트 데이터 세트로 예측 수행')\n",
        "pred = dt_clf.predict(x_test)\n",
        "\n",
        "# scikit-learn은 정확도 측정을 위해 accuracy_score 함수 제공 파라미터 1: 실제 레이블 데이터 세트, 2: 예측 레이블 데이터 세트\n",
        "print('\\n 예측 정확도:{0:.4f}'.format(accuracy_score(y_test, pred)))\n"
      ],
      "execution_count": 8,
      "outputs": [
        {
          "output_type": "stream",
          "name": "stdout",
          "text": [
            "sklearn version: 0.22.2.post1\n",
            "# 붓꽃 데이터 세트를 로딩\n",
            " iris.target은 붓꽃 데이터 세트에서 레이블(결정 값) 데이터를 numpy로 가지고 있음\n",
            "iris target value: [0 0 0 0 0 0 0 0 0 0 0 0 0 0 0 0 0 0 0 0 0 0 0 0 0 0 0 0 0 0 0 0 0 0 0 0 0\n",
            " 0 0 0 0 0 0 0 0 0 0 0 0 0 1 1 1 1 1 1 1 1 1 1 1 1 1 1 1 1 1 1 1 1 1 1 1 1\n",
            " 1 1 1 1 1 1 1 1 1 1 1 1 1 1 1 1 1 1 1 1 1 1 1 1 1 1 2 2 2 2 2 2 2 2 2 2 2\n",
            " 2 2 2 2 2 2 2 2 2 2 2 2 2 2 2 2 2 2 2 2 2 2 2 2 2 2 2 2 2 2 2 2 2 2 2 2 2\n",
            " 2 2]\n",
            "iris target name: ['setosa' 'versicolor' 'virginica']\n",
            "\n",
            "  붓꽃 데이터 세트를 자세히 보기 위해 DF 로 변환 \n",
            "   sepal length (cm)  sepal width (cm)  ...  petal width (cm)  label\n",
            "0             5.1                3.5    ...             0.2        0\n",
            "1             4.9                3.0    ...             0.2        0\n",
            "2             4.7                3.2    ...             0.2        0\n",
            "3             4.6                3.1    ...             0.2        0\n",
            "4             5.0                3.6    ...             0.2        0\n",
            "5             5.4                3.9    ...             0.4        0\n",
            "6             4.6                3.4    ...             0.3        0\n",
            "7             5.0                3.4    ...             0.2        0\n",
            "8             4.4                2.9    ...             0.2        0\n",
            "9             4.9                3.1    ...             0.1        0\n",
            "\n",
            "[10 rows x 5 columns]\n",
            "\n",
            " train 데이터와 test 데이터를 분리하기 위해 train_test_split 함수 사용\n",
            "\n",
            " DecisionTreeClassifier 객체 생성\n",
            "\n",
            " 학습수행\n",
            "\n",
            " 학습이 완료된 DTC 객체에서 테스트 데이터 세트로 예측 수행\n",
            "\n",
            " 예측 정확도:0.9333\n"
          ]
        }
      ]
    },
    {
      "cell_type": "markdown",
      "metadata": {
        "id": "B3sozjBSgksT"
      },
      "source": [
        "### 위의 붓꽃 데이터 세트 분류를 예측한 프로세스를 정리하면 다음과 같음\n",
        "1. 데이터 세트 분리 : 데이터를 학습 데이터와 테스트 데이터로 분리\n",
        "2. 모델 학습 : 학습 데이터를 기반으로 ML 알고리즘을 적용해 모델을 학습시킵니다.\n",
        "3. 예측 수행 : 학습된 ML 모델을 이용해 테스트 데이터의 분류(즉, 붓꽃 종류)를 예측\n",
        "4. 평가 : 이렇게 예측된 결괏값과 테스트 데이터의 실제 결괏값을 비교해 ML 모델 성능을 평가함"
      ]
    },
    {
      "cell_type": "markdown",
      "metadata": {
        "id": "vFHzGgRBhCiI"
      },
      "source": [
        ""
      ]
    }
  ]
}